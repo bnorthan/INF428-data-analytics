{
 "cells": [
  {
   "cell_type": "code",
   "execution_count": 3,
   "metadata": {
    "collapsed": false
   },
   "outputs": [],
   "source": [
    "import control"
   ]
  },
  {
   "cell_type": "markdown",
   "metadata": {},
   "source": [
    "## header\n",
    "\n",
    "# this is my equation\n",
    "\n",
    "here it is\n",
    "\n",
    "$$c = \\sqrt{a^2 + b^2}$$"
   ]
  },
  {
   "cell_type": "code",
   "execution_count": 9,
   "metadata": {
    "collapsed": true
   },
   "outputs": [],
   "source": [
    "import matplotlib.pyplot as plt"
   ]
  },
  {
   "cell_type": "code",
   "execution_count": 15,
   "metadata": {
    "collapsed": false
   },
   "outputs": [
    {
     "data": {
      "text/plain": [
       "[<matplotlib.lines.Line2D at 0x7f45f1423250>]"
      ]
     },
     "execution_count": 15,
     "metadata": {},
     "output_type": "execute_result"
    },
    {
     "data": {
      "image/png": "[encoded data removed]",
      "text/plain": [
       "<matplotlib.figure.Figure at 0x7f45f1620a50>"
      ]
     },
     "metadata": {},
     "output_type": "display_data"
    }
   ],
   "source": [
    "%matplotlib inline\n",
    "plt.plot([1,2,3],[1,2,3])"
   ]
  },
  {
   "cell_type": "code",
   "execution_count": 13,
   "metadata": {
    "collapsed": false
   },
   "outputs": [
    {
     "name": "stdout",
     "output_type": "stream",
     "text": [
      "Help on function savefig in module matplotlib.pyplot:\n",
      "\n",
      "savefig(*args, **kwargs)\n",
      "    Save the current figure.\n",
      "    \n",
      "    Call signature::\n",
      "    \n",
      "      savefig(fname, dpi=None, facecolor='w', edgecolor='w',\n",
      "              orientation='portrait', papertype=None, format=None,\n",
      "              transparent=False, bbox_inches=None, pad_inches=0.1,\n",
      "              frameon=None)\n",
      "    \n",
      "    The output formats available depend on the backend being used.\n",
      "    \n",
      "    Arguments:\n",
      "    \n",
      "      *fname*:\n",
      "        A string containing a path to a filename, or a Python\n",
      "        file-like object, or possibly some backend-dependent object\n",
      "        such as :class:`~matplotlib.backends.backend_pdf.PdfPages`.\n",
      "    \n",
      "        If *format* is *None* and *fname* is a string, the output\n",
      "        format is deduced from the extension of the filename. If\n",
      "        the filename has no extension, the value of the rc parameter\n",
      "        ``savefig.format`` is used.\n",
      "    \n",
      "        If *fname* is not a string, remember to specify *format* to\n",
      "        ensure that the correct backend is used.\n",
      "    \n",
      "    Keyword arguments:\n",
      "    \n",
      "      *dpi*: [ *None* | ``scalar > 0`` ]\n",
      "        The resolution in dots per inch.  If *None* it will default to\n",
      "        the value ``savefig.dpi`` in the matplotlibrc file.\n",
      "    \n",
      "      *facecolor*, *edgecolor*:\n",
      "        the colors of the figure rectangle\n",
      "    \n",
      "      *orientation*: [ 'landscape' | 'portrait' ]\n",
      "        not supported on all backends; currently only on postscript output\n",
      "    \n",
      "      *papertype*:\n",
      "        One of 'letter', 'legal', 'executive', 'ledger', 'a0' through\n",
      "        'a10', 'b0' through 'b10'. Only supported for postscript\n",
      "        output.\n",
      "    \n",
      "      *format*:\n",
      "        One of the file extensions supported by the active\n",
      "        backend.  Most backends support png, pdf, ps, eps and svg.\n",
      "    \n",
      "      *transparent*:\n",
      "        If *True*, the axes patches will all be transparent; the\n",
      "        figure patch will also be transparent unless facecolor\n",
      "        and/or edgecolor are specified via kwargs.\n",
      "        This is useful, for example, for displaying\n",
      "        a plot on top of a colored background on a web page.  The\n",
      "        transparency of these patches will be restored to their\n",
      "        original values upon exit of this function.\n",
      "    \n",
      "      *frameon*:\n",
      "        If *True*, the figure patch will be colored, if *False*, the\n",
      "        figure background will be transparent.  If not provided, the\n",
      "        rcParam 'savefig.frameon' will be used.\n",
      "    \n",
      "      *bbox_inches*:\n",
      "        Bbox in inches. Only the given portion of the figure is\n",
      "        saved. If 'tight', try to figure out the tight bbox of\n",
      "        the figure.\n",
      "    \n",
      "      *pad_inches*:\n",
      "        Amount of padding around the figure when bbox_inches is\n",
      "        'tight'.\n",
      "    \n",
      "      *bbox_extra_artists*:\n",
      "        A list of extra artists that will be considered when the\n",
      "        tight bbox is calculated.\n",
      "\n"
     ]
    }
   ],
   "source": [
    "help(con)"
   ]
  },
  {
   "cell_type": "code",
   "execution_count": null,
   "metadata": {
    "collapsed": true
   },
   "outputs": [],
   "source": []
  }
 ],
 "metadata": {
  "kernelspec": {
   "display_name": "Python 2",
   "language": "python",
   "name": "python2"
  },
  "language_info": {
   "codemirror_mode": {
    "name": "ipython",
    "version": 2
   },
   "file_extension": ".py",
   "mimetype": "text/x-python",
   "name": "python",
   "nbconvert_exporter": "python",
   "pygments_lexer": "ipython2",
   "version": "2.7.11"
  }
 },
 "nbformat": 4,
 "nbformat_minor": 0
}

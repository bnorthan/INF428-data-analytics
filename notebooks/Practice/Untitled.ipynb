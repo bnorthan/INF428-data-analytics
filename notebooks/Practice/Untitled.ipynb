{
 "cells": [
  {
   "cell_type": "code",
   "execution_count": 14,
   "metadata": {
    "collapsed": false
   },
   "outputs": [
    {
     "data": {
      "text/plain": [
       "module"
      ]
     },
     "execution_count": 14,
     "metadata": {},
     "output_type": "execute_result"
    }
   ],
   "source": [
    "%matplotlib inline\n",
    "import pandas as pd\n",
    "\n",
    "type(pd)"
   ]
  },
  {
   "cell_type": "code",
   "execution_count": 15,
   "metadata": {
    "collapsed": false
   },
   "outputs": [],
   "source": [
    "mydata=pd.read_csv('../../data/basketball/stats2016.csv', sep=';')"
   ]
  },
  {
   "cell_type": "code",
   "execution_count": 16,
   "metadata": {
    "collapsed": false
   },
   "outputs": [
    {
     "data": {
      "text/plain": [
       "<matplotlib.axes._subplots.AxesSubplot at 0xde33470>"
      ]
     },
     "execution_count": 16,
     "metadata": {},
     "output_type": "execute_result"
    },
    {
     "data": {
      "image/png": "[encoded data removed]",
      "text/plain": [
       "<matplotlib.figure.Figure at 0xc8e8e80>"
      ]
     },
     "metadata": {},
     "output_type": "display_data"
    }
   ],
   "source": [
    "\n",
    "mydata.plot.scatter('Age', 'G')\n"
   ]
  },
  {
   "cell_type": "code",
   "execution_count": 9,
   "metadata": {
    "collapsed": false
   },
   "outputs": [
    {
     "name": "stdout",
     "output_type": "stream",
     "text": [
      "      Rk               Player Pos  Age   Tm   G  GS    MP   FG   FGA  ...   \\\n",
      "0      3         Steven Adams   C   22  OKC  52  52  24.9  2.8   4.8  ...    \n",
      "1      5        Alexis Ajinca   C   27  NOP  41   6  12.3  2.0   4.0  ...    \n",
      "2      6         Cole Aldrich   C   27  LAC  31   2  11.5  2.1   3.9  ...    \n",
      "3     13       Chris Andersen   C   37  MIA   7   1   5.1  0.6   1.4  ...    \n",
      "4     21         Joel Anthony   C   33  DET  13   0   4.0  0.2   0.4  ...    \n",
      "5     25            Omer Asik   C   29  NOP  46  42  17.4  1.4   2.6  ...    \n",
      "6     27           Jeff Ayres   C   28  LAC   5   0   2.8  0.4   0.4  ...    \n",
      "7     29     Cameron Bairstow   C   25  CHI  14   1   6.1  0.6   2.4  ...    \n",
      "8     32      Andrea Bargnani   C   30  BRK  46   0  13.8  2.8   6.1  ...    \n",
      "9     39          Aron Baynes   C   29  DET  53   0  14.3  2.2   4.6  ...    \n",
      "10    45      Bismack Biyombo   C   23  TOR  52  18  22.5  1.8   3.4  ...    \n",
      "11    47          Tarik Black   C   24  LAL  20   0  12.4  1.5   2.6  ...    \n",
      "12    48         DeJuan Blair   C   26  WAS  29   0   7.5  1.0   2.3  ...    \n",
      "13    52         Andrew Bogut   C   31  GSW  45  41  20.9  2.6   4.2  ...    \n",
      "14    53          Matt Bonner   C   35  SAS  20   1   5.7  0.9   1.6  ...    \n",
      "15    75         Clint Capela   C   21  HOU  53  35  20.9  3.1   5.4  ...    \n",
      "16    80  Willie Cauley-Stein   C   22  SAC  39  29  20.4  2.6   4.3  ...    \n",
      "17    82       Tyson Chandler   C   33  PHO  45  39  23.5  2.1   4.1  ...    \n",
      "18    92     DeMarcus Cousins   C   25  SAC  44  44  34.3  9.1  20.5  ...    \n",
      "19   105       Dewayne Dedmon   C   26  ORL  33   4  10.4  1.1   2.3  ...    \n",
      "20   112         Gorgui Dieng   C   26  MIN  54  11  25.5  3.5   6.5  ...    \n",
      "21   116       Andre Drummond   C   22  DET  54  54  33.7  7.1  13.8  ...    \n",
      "22   118           Tim Duncan   C   39  SAS  38  38  25.7  3.6   7.2  ...    \n",
      "23   129         Festus Ezeli   C   26  GSW  40  11  17.8  2.9   5.3  ...    \n",
      "24   132    Cristiano Felicio   C   23  CHI   7   0   2.7  0.1   0.3  ...    \n",
      "25   138        Channing Frye   C   32  ORL  44  29  17.1  1.8   4.2  ...    \n",
      "26   142           Marc Gasol   C   31  MEM  52  52  34.4  6.3  13.6  ...    \n",
      "27   143            Pau Gasol   C   35  CHI  49  49  31.9  6.8  14.1  ...    \n",
      "28   149          Rudy Gobert   C   23  UTA  32  31  33.3  3.8   6.3  ...    \n",
      "29   154        Marcin Gortat   C   31  WAS  45  45  31.2  5.7  10.6  ...    \n",
      "..   ...                  ...  ..  ...  ...  ..  ..   ...  ...   ...  ...    \n",
      "441  301       Anthony Morrow  SG   30  OKC  48   5  14.5  2.0   4.9  ...    \n",
      "442  305     Shabazz Muhammad  SG   23  MIN  54   0  20.2  3.5   7.7  ...    \n",
      "443  309            Gary Neal  SG   31  WAS  40   2  20.2  3.8   8.1  ...    \n",
      "444  323       Victor Oladipo  SG   23  ORL  48  28  31.3  5.2  12.5  ...    \n",
      "445  331      Lamar Patterson  SG   24  ATL  35   0  11.3  0.8   2.3  ...    \n",
      "446  347        Norman Powell  SG   22  TOR  24   4   6.5  0.6   2.1  ...    \n",
      "447  354          J.J. Redick  SG   31  LAC  49  49  28.3  5.4  11.5  ...    \n",
      "448  356      Josh Richardson  SG   22  MIA  23   1  11.5  0.6   2.3  ...    \n",
      "449  357        Austin Rivers  SG   23  LAC  46   5  21.6  3.2   7.3  ...    \n",
      "450  358       Andre Roberson  SG   24  OKC  45  45  21.7  2.0   4.1  ...    \n",
      "451  369         Brandon Rush  SG   30  GSW  43  23  15.4  1.8   3.9  ...    \n",
      "452  379        Iman Shumpert  SG   25  CLE  30   0  24.1  2.4   6.1  ...    \n",
      "453  380     Jonathon Simmons  SG   26  SAS  39   0  14.4  2.2   4.4  ...    \n",
      "454  385           J.R. Smith  SG   30  CLE  48  48  30.5  4.8  11.6  ...    \n",
      "455  392         Nik Stauskas  SG   22  PHI  47  26  24.0  2.6   7.0  ...    \n",
      "456  402          Jason Terry  SG   38  HOU  45   7  16.8  2.1   4.9  ...    \n",
      "457  405      Hollis Thompson  SG   24  PHI  51   2  26.9  3.2   7.9  ...    \n",
      "458  407        Klay Thompson  SG   25  GSW  50  50  32.8  7.7  16.5  ...    \n",
      "459  409      Marcus Thornton  SG   28  HOU  47   6  18.8  3.7   9.3  ...    \n",
      "460  413          Evan Turner  SG   27  BOS  55   4  27.1  4.0   8.9  ...    \n",
      "461  419        Rashad Vaughn  SG   19  MIL  46   0  11.8  0.9   2.9  ...    \n",
      "462  423        Sasha Vujacic  SG   31  NYK  38   8  12.8  1.3   4.1  ...    \n",
      "463  424          Dwyane Wade  SG   34  MIA  50  49  30.2  7.3  15.9  ...    \n",
      "464  425         Dion Waiters  SG   24  OKC  54  10  28.2  3.7   9.2  ...    \n",
      "465  430          Sonny Weems  SG   29  PHO  31   0  11.8  1.0   2.5  ...    \n",
      "466  435       Andrew Wiggins  SG   20  MIN  53  53  35.1  7.4  16.5  ...    \n",
      "467  436          C.J. Wilcox  SG   25  LAC   8   0   2.9  0.4   1.5  ...    \n",
      "468  440         Lou Williams  SG   29  LAL  52  34  29.8  4.3  10.7  ...    \n",
      "469  450          James Young  SG   20  BOS  20   0   8.1  0.5   1.6  ...    \n",
      "470  452           Nick Young  SG   30  LAL  44   0  18.8  2.4   6.9  ...    \n",
      "\n",
      "       FT%  ORB  DRB   TRB  AST  STL  BLK  TOV   PF   PTS  \n",
      "0    0.607  2.5  3.8   6.3  0.7  0.4  1.2  1.0  2.8   7.2  \n",
      "1    0.821  1.1  3.0   4.1  0.4  0.3  0.5  0.5  2.2   4.6  \n",
      "2    0.661  1.1  2.7   3.8  0.9  0.6  0.7  0.9  2.2   5.4  \n",
      "3    0.750  0.4  0.9   1.3  0.4  0.1  0.4  0.3  0.6   1.9  \n",
      "4    0.833  0.5  0.6   1.2  0.1  0.2  0.3  0.1  0.6   0.7  \n",
      "5    0.557  1.9  4.2   6.1  0.3  0.2  0.5  0.9  1.9   3.6  \n",
      "6    1.000  0.2  0.4   0.6  0.4  0.0  0.6  0.2  0.4   1.2  \n",
      "7    1.000  0.3  1.5   1.8  0.4  0.1  0.2  0.1  1.1   1.4  \n",
      "8    0.825  0.6  1.5   2.1  0.4  0.1  0.2  0.6  1.3   6.6  \n",
      "9    0.750  1.7  2.8   4.5  0.8  0.3  0.6  0.9  1.8   5.7  \n",
      "10   0.674  2.2  5.9   8.1  0.3  0.2  1.6  1.0  2.8   5.4  \n",
      "11   0.400  1.1  3.2   4.2  0.3  0.3  0.4  0.5  2.2   3.5  \n",
      "12   0.385  0.7  1.3   2.0  0.4  0.3  0.1  0.5  1.8   2.1  \n",
      "13   0.405  1.8  5.7   7.5  2.1  0.4  1.7  1.1  3.1   5.4  \n",
      "14   0.750  0.2  0.8   0.9  0.3  0.3  0.0  0.1  0.4   2.3  \n",
      "15   0.395  2.6  4.3   6.9  0.7  0.8  1.2  1.0  2.7   7.2  \n",
      "16   0.586  2.1  3.4   5.5  0.4  0.6  1.2  0.7  2.4   6.2  \n",
      "17   0.637  2.6  5.9   8.5  1.0  0.5  0.6  1.2  2.0   5.9  \n",
      "18   0.725  2.3  8.8  11.1  3.2  1.3  1.3  3.7  3.7  26.8  \n",
      "19   0.730  0.9  2.3   3.2  0.2  0.3  0.8  0.5  1.8   3.0  \n",
      "20   0.818  1.9  5.1   7.1  1.6  1.1  1.0  1.9  2.7   9.4  \n",
      "21   0.351  5.0  9.9  14.9  0.8  1.6  1.5  2.1  3.1  17.0  \n",
      "22   0.747  1.7  5.8   7.5  3.0  0.9  1.4  1.7  2.3   8.8  \n",
      "23   0.532  2.1  3.8   5.9  0.8  0.4  1.2  0.9  2.3   7.5  \n",
      "24   0.500  0.0  0.1   0.1  0.6  0.0  0.0  0.1  0.3   0.4  \n",
      "25   0.905  0.5  2.7   3.2  1.0  0.5  0.5  0.7  1.6   5.2  \n",
      "26   0.829  1.1  5.8   7.0  3.8  1.0  1.3  2.3  2.7  16.6  \n",
      "27   0.806  2.2  8.6  10.9  3.4  0.6  2.0  2.1  2.0  17.0  \n",
      "28   0.623  3.1  7.4  10.5  1.7  0.9  2.4  1.7  3.0  10.3  \n",
      "29   0.738  2.8  7.2   9.9  1.5  0.7  1.3  1.9  2.6  13.5  \n",
      "..     ...  ...  ...   ...  ...  ...  ...  ...  ...   ...  \n",
      "441  0.810  0.2  0.9   1.1  0.3  0.4  0.1  0.2  1.0   5.6  \n",
      "442  0.784  1.0  2.1   3.1  0.5  0.3  0.1  0.9  1.2   9.7  \n",
      "443  0.855  0.3  1.8   2.1  1.2  0.5  0.0  0.7  1.4   9.8  \n",
      "444  0.837  0.5  4.1   4.6  4.0  1.3  0.6  2.3  2.3  14.3  \n",
      "445  0.727  0.1  1.3   1.4  1.1  0.3  0.1  0.7  1.3   2.4  \n",
      "446  0.600  0.3  0.8   1.1  0.3  0.4  0.0  0.3  0.8   1.3  \n",
      "447  0.870  0.1  1.6   1.7  1.4  0.5  0.0  1.1  1.8  16.4  \n",
      "448  0.688  0.2  1.0   1.1  0.8  0.3  0.2  0.5  1.5   1.9  \n",
      "449  0.677  0.3  1.5   1.8  1.3  0.7  0.2  0.9  2.1   8.1  \n",
      "450  0.611  1.1  2.2   3.3  0.8  0.9  0.7  0.6  1.8   4.9  \n",
      "451  0.650  0.3  2.4   2.7  0.9  0.3  0.3  0.5  0.8   4.9  \n",
      "452  0.682  0.5  2.8   3.3  1.5  1.0  0.4  1.2  2.2   6.2  \n",
      "453  0.770  0.3  1.3   1.6  1.2  0.4  0.1  1.0  2.0   6.0  \n",
      "454  0.596  0.6  2.3   2.9  1.5  1.1  0.4  0.8  2.8  12.9  \n",
      "455  0.714  0.2  2.1   2.3  1.8  0.6  0.3  1.2  1.4   7.5  \n",
      "456  0.800  0.2  0.9   1.1  1.3  0.7  0.1  0.7  1.4   5.9  \n",
      "457  0.679  0.6  2.7   3.3  1.1  0.4  0.3  1.2  2.3   8.9  \n",
      "458  0.845  0.4  3.4   3.7  2.2  0.5  0.7  1.9  2.0  21.3  \n",
      "459  0.879  0.7  1.8   2.4  1.4  0.7  0.1  0.9  1.6  10.0  \n",
      "460  0.843  0.6  4.1   4.7  4.4  0.9  0.3  2.1  1.6   9.9  \n",
      "461  0.917  0.2  1.0   1.2  0.3  0.3  0.2  0.4  0.9   2.7  \n",
      "462  0.760  0.4  1.6   2.1  1.2  0.6  0.1  0.7  1.3   3.8  \n",
      "463  0.765  1.3  2.8   4.0  4.7  1.0  0.5  2.6  1.4  18.7  \n",
      "464  0.725  0.5  2.4   2.8  1.9  1.0  0.2  1.5  1.9   9.9  \n",
      "465  0.636  0.2  1.1   1.2  1.3  0.3  0.0  1.1  1.1   2.6  \n",
      "466  0.744  1.5  2.1   3.7  1.8  0.8  0.6  2.2  2.2  20.8  \n",
      "467    NaN  0.0  0.3   0.3  0.3  0.0  0.0  0.0  0.1   0.8  \n",
      "468  0.838  0.4  2.3   2.7  2.6  1.0  0.3  1.6  1.7  15.4  \n",
      "469  0.250  0.2  1.0   1.1  0.4  0.3  0.1  0.2  0.7   1.3  \n",
      "470  0.830  0.3  1.5   1.8  0.6  0.5  0.1  0.5  0.9   7.2  \n",
      "\n",
      "[471 rows x 30 columns]\n"
     ]
    }
   ],
   "source": [
    "print mydata"
   ]
  },
  {
   "cell_type": "code",
   "execution_count": null,
   "metadata": {
    "collapsed": true
   },
   "outputs": [],
   "source": []
  }
 ],
 "metadata": {
  "kernelspec": {
   "display_name": "Python 2",
   "language": "python",
   "name": "python2"
  },
  "language_info": {
   "codemirror_mode": {
    "name": "ipython",
    "version": 2
   },
   "file_extension": ".py",
   "mimetype": "text/x-python",
   "name": "python",
   "nbconvert_exporter": "python",
   "pygments_lexer": "ipython2",
   "version": "2.7.11"
  }
 },
 "nbformat": 4,
 "nbformat_minor": 0
}

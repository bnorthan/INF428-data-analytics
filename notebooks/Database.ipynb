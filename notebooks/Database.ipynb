{
 "cells": [
  {
   "cell_type": "code",
   "execution_count": 1,
   "metadata": {
    "collapsed": true
   },
   "outputs": [],
   "source": [
    "import sqlite3 "
   ]
  },
  {
   "cell_type": "code",
   "execution_count": 8,
   "metadata": {
    "collapsed": false
   },
   "outputs": [
    {
     "name": "stdout",
     "output_type": "stream",
     "text": [
      "Table sensors\n",
      "(u'2016-11-05', u'Utrecht', u'Red', 42.0, 15.14)\n"
     ]
    }
   ],
   "source": [
    "with sqlite3.connect(\":memory:\") as con:\n",
    "    c=con.cursor()\n",
    "    \n",
    "    c.execute('''CREATE TABLE sensors(date text, city text, code text, sensor_id real, temperature ream)''')\n",
    "    \n",
    "    for table in c.execute(\"SELECT name FROM sqlite_master WHERE type='table'\"):\n",
    "        print \"Table\", table[0]\n",
    "        \n",
    "    c.execute(\"INSERT INTO sensors VALUES ('2016-11-05','Utrecht','Red',42,15.14)\")\n",
    "    \n",
    "    c.execute(\"SELECT * FROM sensors\")\n",
    "    \n",
    "    print c.fetchone()"
   ]
  },
  {
   "cell_type": "code",
   "execution_count": 16,
   "metadata": {
    "collapsed": false
   },
   "outputs": [
    {
     "name": "stdout",
     "output_type": "stream",
     "text": [
      "(309,)\n",
      "    year  sunactivity\n",
      "0   1700            5\n",
      "1   1701           11\n",
      "2   1702           16\n",
      "3   1703           23\n",
      "4   1704           36\n",
      "5   1705           58\n",
      "6   1706           29\n",
      "7   1707           20\n",
      "8   1708           10\n",
      "9   1709            8\n",
      "10  1710            3\n",
      "11  1711            0\n",
      "12  1712            0\n",
      "13  1713            2\n",
      "14  1714           11\n",
      "15  1715           27\n",
      "16  1716           47\n",
      "17  1717           63\n",
      "18  1718           60\n",
      "19  1719           39\n",
      "20  1720           28\n",
      "21  1721           26\n",
      "22  1722           22\n",
      "23  1723           11\n",
      "24  1724           21\n",
      "25  1725           40\n",
      "26  1726           78\n",
      "27  1727          122\n",
      "28  1728          103\n",
      "29  1729           73\n",
      "30  1730           47\n",
      "31  1731           35\n"
     ]
    }
   ],
   "source": [
    "import statsmodels.api as sm\n",
    "from pandas.io.sql import read_sql\n",
    "import sqlite3\n",
    "\n",
    "with sqlite3.connect(\":memory:\") as con:\n",
    "    c=con.cursor()\n",
    "    \n",
    "    data_loader=sm.datasets.sunspots.load_pandas()\n",
    "    df=data_loader.data \n",
    "    \n",
    "    rows=[tuple(x) for x in df.values]\n",
    "    \n",
    "    con.execute(\"CREATE TABLE sunspots(year, sunactivity)\")\n",
    "    con.executemany(\"INSERT INTO sunspots(year, sunactivity) VALUES (?,?)\", rows)\n",
    "    c.execute(\"SELECT COUNT(*) FROM sunspots\") \n",
    "    print c.fetchone()\n",
    "    \n",
    "    print read_sql(\"SELECT * FROM sunspots where year < 1732\", con)\n",
    "    \n",
    "    con.execute(\"DROP TABLE sunspots\")\n",
    "    c.close()"
   ]
  },
  {
   "cell_type": "code",
   "execution_count": 17,
   "metadata": {
    "collapsed": true
   },
   "outputs": [],
   "source": [
    "from sqlalchemy.ext.declarative import declarative_base"
   ]
  },
  {
   "cell_type": "code",
   "execution_count": 18,
   "metadata": {
    "collapsed": true
   },
   "outputs": [],
   "source": [
    "Base = declarative_base()"
   ]
  },
  {
   "cell_type": "code",
   "execution_count": null,
   "metadata": {
    "collapsed": true
   },
   "outputs": [],
   "source": []
  }
 ],
 "metadata": {
  "kernelspec": {
   "display_name": "Python 2",
   "language": "python",
   "name": "python2"
  },
  "language_info": {
   "codemirror_mode": {
    "name": "ipython",
    "version": 2
   },
   "file_extension": ".py",
   "mimetype": "text/x-python",
   "name": "python",
   "nbconvert_exporter": "python",
   "pygments_lexer": "ipython2",
   "version": "2.7.10"
  }
 },
 "nbformat": 4,
 "nbformat_minor": 0
}

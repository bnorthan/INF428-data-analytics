{
 "cells": [
  {
   "cell_type": "code",
   "execution_count": 27,
   "metadata": {
    "collapsed": false
   },
   "outputs": [
    {
     "name": "stdout",
     "output_type": "stream",
     "text": [
      "<class 'pandas.core.frame.DataFrame'>\n",
      "(493, 30)\n",
      "\n",
      "Index([u'Rk', u'Player', u'Pos', u'Age', u'Tm', u'G', u'GS', u'MP', u'FG',\n",
      "       u'FGA', u'FG%', u'3P', u'3PA', u'3P.1', u'2P', u'2PA', u'2P.1', u'eFG%',\n",
      "       u'FT', u'FTA', u'FT%', u'ORB', u'DRB', u'TRB', u'AST', u'STL', u'BLK',\n",
      "       u'TOV', u'PF', u'PTS'],\n",
      "      dtype='object')\n",
      "\n",
      "  Rk         Player Pos Age   Tm   G  GS    MP   FG   FGA  ...    FT%  ORB  \\\n",
      "0  1     Quincy Acy  PF  25  SAC  30   7  11.1  1.4   2.5  ...   .760  1.3   \n",
      "1  2   Jordan Adams  SG  21  MEM   2   0   7.5  1.0   3.0  ...   .600  0.0   \n",
      "2  3   Steven Adams   C  22  OKC  52  52  24.9  2.8   4.8  ...   .607  2.5   \n",
      "3  4  Arron Afflalo  SG  30  NYK  47  47  34.1  5.5  12.3  ...   .876  0.3   \n",
      "4  5  Alexis Ajinca   C  27  NOP  41   6  12.3  2.0   4.0  ...   .821  1.1   \n",
      "\n",
      "   DRB  TRB  AST  STL  BLK  TOV   PF   PTS  \n",
      "0  1.5  2.8  0.3  0.4  0.4  0.3  1.3   3.6  \n",
      "1  1.0  1.0  1.5  1.5  0.0  1.0  1.0   3.5  \n",
      "2  3.8  6.3  0.7  0.4  1.2  1.0  2.8   7.2  \n",
      "3  3.3  3.6  1.9  0.4  0.2  1.1  2.3  14.2  \n",
      "4  3.0  4.1  0.4  0.3  0.5  0.5  2.2   4.6  \n",
      "\n",
      "[5 rows x 30 columns]\n"
     ]
    }
   ],
   "source": [
    "import pandas as pd\n",
    "\n",
    "df=pd.read_csv('../data/basketball/stats2016.csv')\n",
    "\n",
    "print type(df)\n",
    "print df.shape\n",
    "print\n",
    "print df.columns\n",
    "print\n",
    "print df.head()"
   ]
  },
  {
   "cell_type": "code",
   "execution_count": 35,
   "metadata": {
    "collapsed": false
   },
   "outputs": [
    {
     "name": "stdout",
     "output_type": "stream",
     "text": [
      "0    25\n",
      "1    21\n",
      "2    22\n",
      "3    30\n",
      "4    27\n",
      "Name: Age, dtype: object\n",
      "\n",
      "BLK\n",
      "0    0.4\n",
      "1    0.0\n",
      "2    1.2\n",
      "3    0.2\n",
      "4    0.5\n",
      "Name: BLK, dtype: object\n",
      "<class 'pandas.core.series.Series'>\n"
     ]
    }
   ],
   "source": [
    "import matplotlib.pyplot as plt\n",
    "import numpy as np\n",
    "\n",
    "%matplotlib inline\n",
    "\n",
    "x=df.Age\n",
    "y=df.BLK\n",
    "\n",
    "print x.head()\n",
    "print \n",
    "print y.max()\n",
    "print y.head()\n",
    "\n",
    "print type(x)"
   ]
  },
  {
   "cell_type": "code",
   "execution_count": null,
   "metadata": {
    "collapsed": false
   },
   "outputs": [],
   "source": []
  },
  {
   "cell_type": "code",
   "execution_count": null,
   "metadata": {
    "collapsed": true
   },
   "outputs": [],
   "source": []
  }
 ],
 "metadata": {
  "kernelspec": {
   "display_name": "Python 2",
   "language": "python",
   "name": "python2"
  },
  "language_info": {
   "codemirror_mode": {
    "name": "ipython",
    "version": 2
   },
   "file_extension": ".py",
   "mimetype": "text/x-python",
   "name": "python",
   "nbconvert_exporter": "python",
   "pygments_lexer": "ipython2",
   "version": "2.7.11"
  }
 },
 "nbformat": 4,
 "nbformat_minor": 0
}

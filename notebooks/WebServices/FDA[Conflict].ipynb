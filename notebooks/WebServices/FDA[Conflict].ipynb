{
 "cells": [
  {
   "cell_type": "code",
   "execution_count": 20,
   "metadata": {
    "collapsed": true
   },
   "outputs": [],
   "source": [
    "# first we need to import some modules\n",
    "# utility to read json format\n",
    "import json as js\n",
    "# urllib2 is a module for fetching URL (Uniform Resource Locator) data\n",
    "import urllib2 as ulib\n",
    "import pandas as pd\n",
    "import matplotlib.pyplot as plt"
   ]
  },
  {
   "cell_type": "code",
   "execution_count": 28,
   "metadata": {
    "collapsed": false,
    "scrolled": true
   },
   "outputs": [
    {
     "name": "stdout",
     "output_type": "stream",
     "text": [
      "<addinfourl at 287711304L whose fp = <socket._fileobject object at 0x00000000115212A0>>\n"
     ]
    },
    {
     "data": {
      "text/plain": [
       "{u'meta': {u'disclaimer': u'openFDA is a beta research project and not for clinical use. While we make every effort to ensure that data is accurate, you should assume all results are unvalidated.',\n",
       "  u'last_updated': u'2016-03-18',\n",
       "  u'license': u'http://open.fda.gov/license'},\n",
       " u'results': [{u'count': 12435, u'term': u'DYSPNOEA'},\n",
       "  {u'count': 12139, u'term': u'NAUSEA'},\n",
       "  {u'count': 10797, u'term': u'DIZZINESS'},\n",
       "  {u'count': 10755, u'term': u'FATIGUE'},\n",
       "  {u'count': 10676, u'term': u'MYOCARDIAL INFARCTION'},\n",
       "  {u'count': 10498, u'term': u'FLUSHING'},\n",
       "  {u'count': 9368, u'term': u'DIARRHOEA'},\n",
       "  {u'count': 9110, u'term': u'DRUG INEFFECTIVE'},\n",
       "  {u'count': 8492, u'term': u'ASTHENIA'},\n",
       "  {u'count': 8238, u'term': u'HEADACHE'},\n",
       "  {u'count': 7401, u'term': u'PAIN'},\n",
       "  {u'count': 7368, u'term': u'FALL'},\n",
       "  {u'count': 7245, u'term': u'VOMITING'},\n",
       "  {u'count': 7086, u'term': u'PRURITUS'},\n",
       "  {u'count': 7069, u'term': u'CHEST PAIN'},\n",
       "  {u'count': 6649, u'term': u'CEREBROVASCULAR ACCIDENT'},\n",
       "  {u'count': 6265, u'term': u'CARDIAC FAILURE CONGESTIVE'},\n",
       "  {u'count': 6130, u'term': u'ANAEMIA'},\n",
       "  {u'count': 6069, u'term': u'GASTROINTESTINAL HAEMORRHAGE'},\n",
       "  {u'count': 6022, u'term': u'PAIN IN EXTREMITY'},\n",
       "  {u'count': 5917, u'term': u'PNEUMONIA'},\n",
       "  {u'count': 5699, u'term': u'HYPOTENSION'},\n",
       "  {u'count': 5509, u'term': u'ARTHRALGIA'},\n",
       "  {u'count': 5505, u'term': u'MALAISE'},\n",
       "  {u'count': 5482, u'term': u'WEIGHT DECREASED'},\n",
       "  {u'count': 5384, u'term': u'HYPERTENSION'},\n",
       "  {u'count': 5290, u'term': u'BLOOD GLUCOSE INCREASED'},\n",
       "  {u'count': 5063, u'term': u'OEDEMA PERIPHERAL'},\n",
       "  {u'count': 4833, u'term': u'PYREXIA'},\n",
       "  {u'count': 4777, u'term': u'RASH'},\n",
       "  {u'count': 4667, u'term': u'BACK PAIN'},\n",
       "  {u'count': 4662, u'term': u'RENAL FAILURE ACUTE'},\n",
       "  {u'count': 4610, u'term': u'PARAESTHESIA'},\n",
       "  {u'count': 4510, u'term': u'ATRIAL FIBRILLATION'},\n",
       "  {u'count': 4485, u'term': u'COUGH'},\n",
       "  {u'count': 4386, u'term': u'CORONARY ARTERY DISEASE'},\n",
       "  {u'count': 4364, u'term': u'ANXIETY'},\n",
       "  {u'count': 4333, u'term': u'INSOMNIA'},\n",
       "  {u'count': 4320, u'term': u'MYALGIA'},\n",
       "  {u'count': 4081, u'term': u'DEATH'},\n",
       "  {u'count': 3966, u'term': u'CONSTIPATION'},\n",
       "  {u'count': 3959, u'term': u'DRUG INTERACTION'},\n",
       "  {u'count': 3943, u'term': u'ABDOMINAL PAIN'},\n",
       "  {u'count': 3921, u'term': u'DEPRESSION'},\n",
       "  {u'count': 3839, u'term': u'DEHYDRATION'},\n",
       "  {u'count': 3801, u'term': u'CONFUSIONAL STATE'},\n",
       "  {u'count': 3784, u'term': u'HAEMOGLOBIN DECREASED'},\n",
       "  {u'count': 3610, u'term': u'DECREASED APPETITE'},\n",
       "  {u'count': 3583, u'term': u'MUSCLE SPASMS'},\n",
       "  {u'count': 3558, u'term': u'FEELING ABNORMAL'},\n",
       "  {u'count': 3540, u'term': u'ERYTHEMA'},\n",
       "  {u'count': 3466, u'term': u'RENAL FAILURE'},\n",
       "  {u'count': 3422, u'term': u'ABDOMINAL PAIN UPPER'},\n",
       "  {u'count': 3328, u'term': u'FEELING HOT'},\n",
       "  {u'count': 3325, u'term': u'GAIT DISTURBANCE'},\n",
       "  {u'count': 3227, u'term': u'SYNCOPE'},\n",
       "  {u'count': 3200, u'term': u'BLOOD PRESSURE INCREASED'},\n",
       "  {u'count': 3192, u'term': u'URINARY TRACT INFECTION'},\n",
       "  {u'count': 3069, u'term': u'HYPERHIDROSIS'},\n",
       "  {u'count': 3042, u'term': u'LOSS OF CONSCIOUSNESS'},\n",
       "  {u'count': 3012, u'term': u'ACUTE MYOCARDIAL INFARCTION'},\n",
       "  {u'count': 3007, u'term': u'WEIGHT INCREASED'},\n",
       "  {u'count': 2953, u'term': u'SOMNOLENCE'},\n",
       "  {u'count': 2904, u'term': u'TREMOR'},\n",
       "  {u'count': 2876, u'term': u'OFF LABEL USE'},\n",
       "  {u'count': 2864, u'term': u'MUSCULAR WEAKNESS'},\n",
       "  {u'count': 2805, u'term': u'HYPOAESTHESIA'},\n",
       "  {u'count': 2780, u'term': u'CONTUSION'},\n",
       "  {u'count': 2717, u'term': u'CONDITION AGGRAVATED'},\n",
       "  {u'count': 2699, u'term': u'HAEMORRHAGE'},\n",
       "  {u'count': 2555, u'term': u'PALPITATIONS'},\n",
       "  {u'count': 2448, u'term': u'VISION BLURRED'},\n",
       "  {u'count': 2417, u'term': u'EPISTAXIS'},\n",
       "  {u'count': 2396, u'term': u'BLOOD CREATININE INCREASED'},\n",
       "  {u'count': 2365, u'term': u'DYSPEPSIA'},\n",
       "  {u'count': 2305, u'term': u'GASTROOESOPHAGEAL REFLUX DISEASE'},\n",
       "  {u'count': 2304, u'term': u'DRUG DOSE OMISSION'},\n",
       "  {u'count': 2291, u'term': u'ABDOMINAL DISCOMFORT'},\n",
       "  {u'count': 2285, u'term': u'CHEST DISCOMFORT'},\n",
       "  {u'count': 2265, u'term': u'THROMBOCYTOPENIA'},\n",
       "  {u'count': 2262, u'term': u'CARDIAC ARREST'},\n",
       "  {u'count': 2247, u'term': u'CARDIAC DISORDER'},\n",
       "  {u'count': 2228, u'term': u'TRANSIENT ISCHAEMIC ATTACK'},\n",
       "  {u'count': 2105, u'term': u'ANGINA PECTORIS'},\n",
       "  {u'count': 2088, u'term': u'SEPSIS'},\n",
       "  {u'count': 2086, u'term': u'CHILLS'},\n",
       "  {u'count': 2076, u'term': u'DIABETES MELLITUS'},\n",
       "  {u'count': 2075, u'term': u'PULMONARY EMBOLISM'},\n",
       "  {u'count': 2068, u'term': u'HEART RATE INCREASED'},\n",
       "  {u'count': 1991, u'term': u'CHRONIC OBSTRUCTIVE PULMONARY DISEASE'},\n",
       "  {u'count': 1976, u'term': u'CONVULSION'},\n",
       "  {u'count': 1957, u'term': u'CARDIAC FAILURE'},\n",
       "  {u'count': 1956, u'term': u'BRADYCARDIA'},\n",
       "  {u'count': 1935, u'term': u'DEEP VEIN THROMBOSIS'},\n",
       "  {u'count': 1923, u'term': u'DYSPHAGIA'},\n",
       "  {u'count': 1910, u'term': u'PLEURAL EFFUSION'},\n",
       "  {u'count': 1884, u'term': u'PLATELET COUNT DECREASED'},\n",
       "  {u'count': 1880, u'term': u'RESPIRATORY FAILURE'},\n",
       "  {u'count': 1874, u'term': u'INJECTION SITE PAIN'},\n",
       "  {u'count': 1864, u'term': u'DRUG HYPERSENSITIVITY'}]}"
      ]
     },
     "execution_count": 28,
     "metadata": {},
     "output_type": "execute_result"
    }
   ],
   "source": [
    "# form a request\n",
    "request_string='http://api.fda.gov/drug/event.json?search=patient.drug.medicinalproduct:aspirin&count=patient.reaction.reactionmeddrapt.exact'\n",
    "\n",
    "response=ulib.urlopen(request_string)\n",
    "\n",
    "print response\n",
    "\n",
    "# load as json\n",
    "fda_data=js.load(response)\n",
    "\n",
    "fda_data"
   ]
  },
  {
   "cell_type": "code",
   "execution_count": 27,
   "metadata": {
    "collapsed": false
   },
   "outputs": [
    {
     "data": {
      "text/plain": [
       "dict"
      ]
     },
     "execution_count": 27,
     "metadata": {},
     "output_type": "execute_result"
    }
   ],
   "source": [
    "type(fda_data)"
   ]
  },
  {
   "cell_type": "markdown",
   "metadata": {},
   "source": [
    "## How to look at keys in a dictionary"
   ]
  },
  {
   "cell_type": "code",
   "execution_count": 4,
   "metadata": {
    "collapsed": false
   },
   "outputs": [
    {
     "name": "stdout",
     "output_type": "stream",
     "text": [
      "meta\n",
      "results\n"
     ]
    }
   ],
   "source": [
    "for key, value in fda_data.iteritems() :\n",
    "    print key"
   ]
  },
  {
   "cell_type": "code",
   "execution_count": 29,
   "metadata": {
    "collapsed": true
   },
   "outputs": [],
   "source": [
    "results=fda_data['results']"
   ]
  },
  {
   "cell_type": "code",
   "execution_count": 30,
   "metadata": {
    "collapsed": false
   },
   "outputs": [
    {
     "data": {
      "text/plain": [
       "list"
      ]
     },
     "execution_count": 30,
     "metadata": {},
     "output_type": "execute_result"
    }
   ],
   "source": [
    "type(results)"
   ]
  },
  {
   "cell_type": "markdown",
   "metadata": {},
   "source": [
    "## Convert to Pandas"
   ]
  },
  {
   "cell_type": "code",
   "execution_count": 33,
   "metadata": {
    "collapsed": false
   },
   "outputs": [],
   "source": [
    "test=pd.DataFrame(results)"
   ]
  },
  {
   "cell_type": "code",
   "execution_count": 34,
   "metadata": {
    "collapsed": false
   },
   "outputs": [
    {
     "data": {
      "text/html": [
       "<div>\n",
       "<table border=\"1\" class=\"dataframe\">\n",
       "  <thead>\n",
       "    <tr style=\"text-align: right;\">\n",
       "      <th></th>\n",
       "      <th>count</th>\n",
       "      <th>term</th>\n",
       "    </tr>\n",
       "  </thead>\n",
       "  <tbody>\n",
       "    <tr>\n",
       "      <th>0</th>\n",
       "      <td>12435</td>\n",
       "      <td>DYSPNOEA</td>\n",
       "    </tr>\n",
       "    <tr>\n",
       "      <th>1</th>\n",
       "      <td>12139</td>\n",
       "      <td>NAUSEA</td>\n",
       "    </tr>\n",
       "    <tr>\n",
       "      <th>2</th>\n",
       "      <td>10797</td>\n",
       "      <td>DIZZINESS</td>\n",
       "    </tr>\n",
       "    <tr>\n",
       "      <th>3</th>\n",
       "      <td>10755</td>\n",
       "      <td>FATIGUE</td>\n",
       "    </tr>\n",
       "    <tr>\n",
       "      <th>4</th>\n",
       "      <td>10676</td>\n",
       "      <td>MYOCARDIAL INFARCTION</td>\n",
       "    </tr>\n",
       "  </tbody>\n",
       "</table>\n",
       "</div>"
      ],
      "text/plain": [
       "   count                   term\n",
       "0  12435               DYSPNOEA\n",
       "1  12139                 NAUSEA\n",
       "2  10797              DIZZINESS\n",
       "3  10755                FATIGUE\n",
       "4  10676  MYOCARDIAL INFARCTION"
      ]
     },
     "execution_count": 34,
     "metadata": {},
     "output_type": "execute_result"
    }
   ],
   "source": [
    "test.head()"
   ]
  },
  {
   "cell_type": "markdown",
   "metadata": {},
   "source": [
    "## define a function to retrieve drug info using Open FDA"
   ]
  },
  {
   "cell_type": "code",
   "execution_count": 37,
   "metadata": {
    "collapsed": true
   },
   "outputs": [],
   "source": [
    "# form a request\n",
    "def getDrugData(drugname):\n",
    "    request_string='http://api.fda.gov/drug/event.json?search=patient.drug.medicinalproduct:'+drugname+'&count=patient.reaction.reactionmeddrapt.exact'\n",
    "    response=ulib.urlopen(request_string)\n",
    "    \n",
    "    # load as json\n",
    "    fda_data=js.load(response)['results']\n",
    "    \n",
    "    # make it a dataframe\n",
    "    fda_data=pd.DataFrame(fda_data)\n",
    "\n",
    "    # make drug term the index and return\n",
    "    return fda_data.set_index('term')"
   ]
  },
  {
   "cell_type": "code",
   "execution_count": 46,
   "metadata": {
    "collapsed": false
   },
   "outputs": [
    {
     "data": {
      "text/plain": [
       "<matplotlib.text.Text at 0x140e9978>"
      ]
     },
     "execution_count": 46,
     "metadata": {},
     "output_type": "execute_result"
    },
    {
     "data": {
      "image/png": "[encoded data removed]",
      "text/plain": [
       "<matplotlib.figure.Figure at 0x13867390>"
      ]
     },
     "metadata": {},
     "output_type": "display_data"
    }
   ],
   "source": [
    "import matplotlib\n",
    "import matplotlib.pyplot as plt\n",
    "\n",
    "%matplotlib inline\n",
    "\n",
    "drugname1='paxil'\n",
    "drugname2='tylenol'\n",
    "\n",
    "data1=getDrugData(drugname1)\n",
    "data2=getDrugData(drugname2)\n",
    "\n",
    "fig=plt.figure(figsize=(8, 6))\n",
    "\n",
    "ax1=plt.subplot(221)\n",
    "ax2=plt.subplot(222)\n",
    "\n",
    "data1.iloc[0:5].plot.bar(ax=ax1)\n",
    "data2.iloc[0:5].plot.bar(ax=ax2)\n",
    "\n",
    "ax1.set_title(drugname1)\n",
    "ax2.set_title(drugname2)"
   ]
  },
  {
   "cell_type": "code",
   "execution_count": 26,
   "metadata": {
    "collapsed": false
   },
   "outputs": [
    {
     "data": {
      "text/plain": [
       "'0.16.2'"
      ]
     },
     "execution_count": 26,
     "metadata": {},
     "output_type": "execute_result"
    }
   ],
   "source": [
    "pd.__version__"
   ]
  },
  {
   "cell_type": "code",
   "execution_count": null,
   "metadata": {
    "collapsed": true
   },
   "outputs": [],
   "source": []
  }
 ],
 "metadata": {
  "kernelspec": {
   "display_name": "Python 2",
   "language": "python",
   "name": "python2"
  },
  "language_info": {
   "codemirror_mode": {
    "name": "ipython",
    "version": 2
   },
   "file_extension": ".py",
   "mimetype": "text/x-python",
   "name": "python",
   "nbconvert_exporter": "python",
   "pygments_lexer": "ipython2",
   "version": "2.7.11"
  }
 },
 "nbformat": 4,
 "nbformat_minor": 0
}

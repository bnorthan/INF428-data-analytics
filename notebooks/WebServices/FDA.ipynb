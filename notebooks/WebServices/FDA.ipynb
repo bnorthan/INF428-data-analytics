{
 "cells": [
  {
   "cell_type": "markdown",
   "metadata": {},
   "source": [
    "# Using the Open FDA \n",
    "\n",
    "This example shows how to use a REST API to retrieve information.  The example uses the [Open FDA](https://open.fda.gov/api/reference/) API. The goal is to retrieve adverse event information from the API, and then plot the information for different drugs. "
   ]
  },
  {
   "cell_type": "markdown",
   "metadata": {},
   "source": [
    "In the first step we import the modules that we will need.  The *json* module, allows us to read [JSON](http://www.json.org/), *urllib2* allows us to download data from a URL, *pandas* is a data analysis library, and *matplotlib.pyplot* a plotting library. "
   ]
  },
  {
   "cell_type": "code",
   "execution_count": 22,
   "metadata": {
    "collapsed": true
   },
   "outputs": [],
   "source": [
    "# utility to read json format\n",
    "import json as js\n",
    "# urllib2 is a module for fetching URL (Uniform Resource Locator) data\n",
    "import urllib2 as ulib\n",
    "import pandas as pd\n",
    "import matplotlib.pyplot as plt"
   ]
  },
  {
   "cell_type": "markdown",
   "metadata": {},
   "source": [
    "In the next step we form a request string and download the data as JSON. "
   ]
  },
  {
   "cell_type": "code",
   "execution_count": 5,
   "metadata": {
    "collapsed": false
   },
   "outputs": [
    {
     "name": "stdout",
     "output_type": "stream",
     "text": [
      "response:  <addinfourl at 139882078724536 whose fp = <socket._fileobject object at 0x7f38d59c72d0>>\n",
      "type of response:  <type 'instance'>\n"
     ]
    },
    {
     "data": {
      "text/plain": [
       "{u'meta': {u'disclaimer': u'openFDA is a beta research project and not for clinical use. While we make every effort to ensure that data is accurate, you should assume all results are unvalidated.',\n",
       "  u'last_updated': u'2016-03-25',\n",
       "  u'license': u'http://open.fda.gov/license'},\n",
       " u'results': [{u'count': 12349, u'term': u'DYSPNOEA'},\n",
       "  {u'count': 12061, u'term': u'NAUSEA'},\n",
       "  {u'count': 10734, u'term': u'DIZZINESS'},\n",
       "  {u'count': 10652, u'term': u'FATIGUE'},\n",
       "  {u'count': 10491, u'term': u'FLUSHING'},\n",
       "  {u'count': 9311, u'term': u'DIARRHOEA'},\n",
       "  {u'count': 9058, u'term': u'DRUG INEFFECTIVE'},\n",
       "  {u'count': 8473, u'term': u'MYOCARDIAL INFARCTION'},\n",
       "  {u'count': 8412, u'term': u'ASTHENIA'},\n",
       "  {u'count': 8189, u'term': u'HEADACHE'},\n",
       "  {u'count': 7313, u'term': u'FALL'},\n",
       "  {u'count': 7279, u'term': u'PAIN'},\n",
       "  {u'count': 7194, u'term': u'VOMITING'},\n",
       "  {u'count': 7071, u'term': u'PRURITUS'},\n",
       "  {u'count': 6896, u'term': u'CHEST PAIN'},\n",
       "  {u'count': 6069, u'term': u'ANAEMIA'},\n",
       "  {u'count': 5987, u'term': u'PAIN IN EXTREMITY'},\n",
       "  {u'count': 5876, u'term': u'PNEUMONIA'},\n",
       "  {u'count': 5780, u'term': u'CEREBROVASCULAR ACCIDENT'},\n",
       "  {u'count': 5775, u'term': u'GASTROINTESTINAL HAEMORRHAGE'},\n",
       "  {u'count': 5727, u'term': u'CARDIAC FAILURE CONGESTIVE'},\n",
       "  {u'count': 5667, u'term': u'HYPOTENSION'},\n",
       "  {u'count': 5467, u'term': u'ARTHRALGIA'},\n",
       "  {u'count': 5439, u'term': u'WEIGHT DECREASED'},\n",
       "  {u'count': 5436, u'term': u'MALAISE'},\n",
       "  {u'count': 5293, u'term': u'HYPERTENSION'},\n",
       "  {u'count': 5272, u'term': u'BLOOD GLUCOSE INCREASED'},\n",
       "  {u'count': 5032, u'term': u'OEDEMA PERIPHERAL'},\n",
       "  {u'count': 4803, u'term': u'PYREXIA'},\n",
       "  {u'count': 4756, u'term': u'RASH'},\n",
       "  {u'count': 4691, u'term': u'RENAL FAILURE ACUTE'},\n",
       "  {u'count': 4621, u'term': u'BACK PAIN'},\n",
       "  {u'count': 4599, u'term': u'PARAESTHESIA'},\n",
       "  {u'count': 4448, u'term': u'COUGH'},\n",
       "  {u'count': 4432, u'term': u'ATRIAL FIBRILLATION'},\n",
       "  {u'count': 4331, u'term': u'ANXIETY'},\n",
       "  {u'count': 4305, u'term': u'MYALGIA'},\n",
       "  {u'count': 4297, u'term': u'INSOMNIA'},\n",
       "  {u'count': 3952, u'term': u'DRUG INTERACTION'},\n",
       "  {u'count': 3932, u'term': u'CONSTIPATION'},\n",
       "  {u'count': 3921, u'term': u'DEATH'},\n",
       "  {u'count': 3921, u'term': u'ABDOMINAL PAIN'},\n",
       "  {u'count': 3889, u'term': u'DEPRESSION'},\n",
       "  {u'count': 3827, u'term': u'DEHYDRATION'},\n",
       "  {u'count': 3783, u'term': u'CONFUSIONAL STATE'},\n",
       "  {u'count': 3769, u'term': u'HAEMOGLOBIN DECREASED'},\n",
       "  {u'count': 3623, u'term': u'CORONARY ARTERY DISEASE'},\n",
       "  {u'count': 3581, u'term': u'DECREASED APPETITE'},\n",
       "  {u'count': 3561, u'term': u'MUSCLE SPASMS'},\n",
       "  {u'count': 3530, u'term': u'ERYTHEMA'},\n",
       "  {u'count': 3520, u'term': u'FEELING ABNORMAL'},\n",
       "  {u'count': 3453, u'term': u'RENAL FAILURE'},\n",
       "  {u'count': 3398, u'term': u'ABDOMINAL PAIN UPPER'},\n",
       "  {u'count': 3323, u'term': u'FEELING HOT'},\n",
       "  {u'count': 3290, u'term': u'GAIT DISTURBANCE'},\n",
       "  {u'count': 3211, u'term': u'SYNCOPE'},\n",
       "  {u'count': 3181, u'term': u'URINARY TRACT INFECTION'},\n",
       "  {u'count': 3177, u'term': u'BLOOD PRESSURE INCREASED'},\n",
       "  {u'count': 3047, u'term': u'HYPERHIDROSIS'},\n",
       "  {u'count': 3027, u'term': u'LOSS OF CONSCIOUSNESS'},\n",
       "  {u'count': 2977, u'term': u'WEIGHT INCREASED'},\n",
       "  {u'count': 2932, u'term': u'SOMNOLENCE'},\n",
       "  {u'count': 2889, u'term': u'TREMOR'},\n",
       "  {u'count': 2843, u'term': u'MUSCULAR WEAKNESS'},\n",
       "  {u'count': 2808, u'term': u'OFF LABEL USE'},\n",
       "  {u'count': 2784, u'term': u'HYPOAESTHESIA'},\n",
       "  {u'count': 2758, u'term': u'CONTUSION'},\n",
       "  {u'count': 2706, u'term': u'CONDITION AGGRAVATED'},\n",
       "  {u'count': 2597, u'term': u'HAEMORRHAGE'},\n",
       "  {u'count': 2542, u'term': u'PALPITATIONS'},\n",
       "  {u'count': 2436, u'term': u'VISION BLURRED'},\n",
       "  {u'count': 2391, u'term': u'EPISTAXIS'},\n",
       "  {u'count': 2384, u'term': u'BLOOD CREATININE INCREASED'},\n",
       "  {u'count': 2342, u'term': u'DYSPEPSIA'},\n",
       "  {u'count': 2314, u'term': u'ACUTE MYOCARDIAL INFARCTION'},\n",
       "  {u'count': 2266, u'term': u'GASTROOESOPHAGEAL REFLUX DISEASE'},\n",
       "  {u'count': 2260, u'term': u'ABDOMINAL DISCOMFORT'},\n",
       "  {u'count': 2257, u'term': u'CHEST DISCOMFORT'},\n",
       "  {u'count': 2255, u'term': u'THROMBOCYTOPENIA'},\n",
       "  {u'count': 2249, u'term': u'DRUG DOSE OMISSION'},\n",
       "  {u'count': 2222, u'term': u'CARDIAC DISORDER'},\n",
       "  {u'count': 2211, u'term': u'CARDIAC ARREST'},\n",
       "  {u'count': 2144, u'term': u'TRANSIENT ISCHAEMIC ATTACK'},\n",
       "  {u'count': 2078, u'term': u'CHILLS'},\n",
       "  {u'count': 2077, u'term': u'SEPSIS'},\n",
       "  {u'count': 2062, u'term': u'PULMONARY EMBOLISM'},\n",
       "  {u'count': 2059, u'term': u'DIABETES MELLITUS'},\n",
       "  {u'count': 2057, u'term': u'HEART RATE INCREASED'},\n",
       "  {u'count': 2008, u'term': u'ANGINA PECTORIS'},\n",
       "  {u'count': 1989, u'term': u'CONVULSION'},\n",
       "  {u'count': 1974, u'term': u'CHRONIC OBSTRUCTIVE PULMONARY DISEASE'},\n",
       "  {u'count': 1936, u'term': u'BRADYCARDIA'},\n",
       "  {u'count': 1932, u'term': u'CARDIAC FAILURE'},\n",
       "  {u'count': 1925, u'term': u'DEEP VEIN THROMBOSIS'},\n",
       "  {u'count': 1908, u'term': u'DYSPHAGIA'},\n",
       "  {u'count': 1891, u'term': u'PLEURAL EFFUSION'},\n",
       "  {u'count': 1876, u'term': u'PLATELET COUNT DECREASED'},\n",
       "  {u'count': 1867, u'term': u'RESPIRATORY FAILURE'},\n",
       "  {u'count': 1867, u'term': u'INJECTION SITE PAIN'},\n",
       "  {u'count': 1847, u'term': u'RHABDOMYOLYSIS'}]}"
      ]
     },
     "execution_count": 5,
     "metadata": {},
     "output_type": "execute_result"
    }
   ],
   "source": [
    "# form a request\n",
    "request_string='https://api.fda.gov/drug/event.json?search=patient.drug.medicinalproduct:aspirin&count=patient.reaction.reactionmeddrapt.exact'\n",
    "\n",
    "import ssl\n",
    "\n",
    "# to get around https error as described here \n",
    "# http://stackoverflow.com/questions/27835619/ssl-certificate-verify-failed-error\n",
    "# This restores the same behavior as before.\n",
    "context = ssl._create_unverified_context()\n",
    "response=ulib.urlopen(request_string,context=context)\n",
    "\n",
    "print \"response: \",response\n",
    "print \"type of response: \",type(response)\n",
    "\n",
    "# load as json\n",
    "fda_data=js.load(response)\n",
    "\n",
    "fda_data"
   ]
  },
  {
   "cell_type": "markdown",
   "metadata": {},
   "source": [
    "Here we take a look at the *type* of the *fda_data* variable"
   ]
  },
  {
   "cell_type": "code",
   "execution_count": 6,
   "metadata": {
    "collapsed": false
   },
   "outputs": [
    {
     "data": {
      "text/plain": [
       "dict"
      ]
     },
     "execution_count": 6,
     "metadata": {},
     "output_type": "execute_result"
    }
   ],
   "source": [
    "type(fda_data)"
   ]
  },
  {
   "cell_type": "markdown",
   "metadata": {},
   "source": [
    "The *type* is a *dict*.  To retrieve information from a *dict* we need to know which keys are in the dict.  The below code prints out the keys of the *dict*."
   ]
  },
  {
   "cell_type": "code",
   "execution_count": 8,
   "metadata": {
    "collapsed": false
   },
   "outputs": [
    {
     "name": "stdout",
     "output_type": "stream",
     "text": [
      "meta\n",
      "results\n"
     ]
    }
   ],
   "source": [
    "for key, value in fda_data.iteritems() :\n",
    "    print key"
   ]
  },
  {
   "cell_type": "markdown",
   "metadata": {},
   "source": [
    "Get the *results* from the dictionary."
   ]
  },
  {
   "cell_type": "code",
   "execution_count": 13,
   "metadata": {
    "collapsed": true
   },
   "outputs": [],
   "source": [
    "results=fda_data['results']"
   ]
  },
  {
   "cell_type": "markdown",
   "metadata": {},
   "source": [
    "Take a look at the *type* of the results. It is a list.  Print out the first 5 entries in the list. "
   ]
  },
  {
   "cell_type": "code",
   "execution_count": 14,
   "metadata": {
    "collapsed": false
   },
   "outputs": [
    {
     "name": "stdout",
     "output_type": "stream",
     "text": [
      "{u'count': 12349, u'term': u'DYSPNOEA'}\n",
      "{u'count': 12061, u'term': u'NAUSEA'}\n",
      "{u'count': 10734, u'term': u'DIZZINESS'}\n",
      "{u'count': 10652, u'term': u'FATIGUE'}\n",
      "{u'count': 10491, u'term': u'FLUSHING'}\n"
     ]
    }
   ],
   "source": [
    "type(results)\n",
    "\n",
    "for i in range(0,5):\n",
    "    print results[i]"
   ]
  },
  {
   "cell_type": "markdown",
   "metadata": {},
   "source": [
    "It is convenient to have the data as a *Pandas* *DataFrame*.  Run a test to see if we can convert the list to a data frame. "
   ]
  },
  {
   "cell_type": "code",
   "execution_count": 15,
   "metadata": {
    "collapsed": false
   },
   "outputs": [
    {
     "data": {
      "text/html": [
       "<div>\n",
       "<table border=\"1\" class=\"dataframe\">\n",
       "  <thead>\n",
       "    <tr style=\"text-align: right;\">\n",
       "      <th></th>\n",
       "      <th>count</th>\n",
       "      <th>term</th>\n",
       "    </tr>\n",
       "  </thead>\n",
       "  <tbody>\n",
       "    <tr>\n",
       "      <th>0</th>\n",
       "      <td>12349</td>\n",
       "      <td>DYSPNOEA</td>\n",
       "    </tr>\n",
       "    <tr>\n",
       "      <th>1</th>\n",
       "      <td>12061</td>\n",
       "      <td>NAUSEA</td>\n",
       "    </tr>\n",
       "    <tr>\n",
       "      <th>2</th>\n",
       "      <td>10734</td>\n",
       "      <td>DIZZINESS</td>\n",
       "    </tr>\n",
       "    <tr>\n",
       "      <th>3</th>\n",
       "      <td>10652</td>\n",
       "      <td>FATIGUE</td>\n",
       "    </tr>\n",
       "    <tr>\n",
       "      <th>4</th>\n",
       "      <td>10491</td>\n",
       "      <td>FLUSHING</td>\n",
       "    </tr>\n",
       "  </tbody>\n",
       "</table>\n",
       "</div>"
      ],
      "text/plain": [
       "   count       term\n",
       "0  12349   DYSPNOEA\n",
       "1  12061     NAUSEA\n",
       "2  10734  DIZZINESS\n",
       "3  10652    FATIGUE\n",
       "4  10491   FLUSHING"
      ]
     },
     "execution_count": 15,
     "metadata": {},
     "output_type": "execute_result"
    }
   ],
   "source": [
    "test=pd.DataFrame(results)\n",
    "test.head()"
   ]
  },
  {
   "cell_type": "markdown",
   "metadata": {},
   "source": [
    "Now we can combine the above steps into a function.  This will make it easier to retrieve data for different drug names over and over again. "
   ]
  },
  {
   "cell_type": "code",
   "execution_count": 18,
   "metadata": {
    "collapsed": false
   },
   "outputs": [],
   "source": [
    "# form a request\n",
    "def getDrugData(drugname):\n",
    "    request_string='https://api.fda.gov/drug/event.json?search=patient.drug.medicinalproduct:'+drugname+'&count=patient.reaction.reactionmeddrapt.exact'\n",
    "    response=ulib.urlopen(request_string, context=context)\n",
    "    \n",
    "    # load as json\n",
    "    fda_data=js.load(response)['results']\n",
    "    \n",
    "    # make it a dataframe\n",
    "    fda_data=pd.DataFrame(fda_data)\n",
    "\n",
    "    # make drug term the index and return\n",
    "    return fda_data.set_index('term')\n",
    "\n"
   ]
  },
  {
   "cell_type": "markdown",
   "metadata": {},
   "source": [
    "Now we can use our function, defined above, to retrieve adverse event information for two different drugs and plot the result.  "
   ]
  },
  {
   "cell_type": "code",
   "execution_count": 21,
   "metadata": {
    "collapsed": false
   },
   "outputs": [
    {
     "data": {
      "text/plain": [
       "<matplotlib.text.Text at 0x7f38d54dda90>"
      ]
     },
     "execution_count": 21,
     "metadata": {},
     "output_type": "execute_result"
    },
    {
     "data": {
      "image/png": "[encoded data removed]",
      "text/plain": [
       "<matplotlib.figure.Figure at 0x7f38d55d52d0>"
      ]
     },
     "metadata": {},
     "output_type": "display_data"
    }
   ],
   "source": [
    "import matplotlib\n",
    "import matplotlib.pyplot as plt\n",
    "\n",
    "%matplotlib inline\n",
    "drugname1='tylenol'\n",
    "drugname2='aspirin'\n",
    "\n",
    "data1=getDrugData(drugname1)\n",
    "data2=getDrugData(drugname2)\n",
    "\n",
    "fig=plt.figure(figsize=(8, 6))\n",
    "\n",
    "ax1=plt.subplot(121)\n",
    "ax2=plt.subplot(122)\n",
    "\n",
    "data1.iloc[0:5].plot.bar(ax=ax1)\n",
    "data2.iloc[0:5].plot.bar(ax=ax2)\n",
    "\n",
    "ax1.set_title(\"Aspirin\")\n",
    "ax2.set_title(\"Paxil\")"
   ]
  },
  {
   "cell_type": "code",
   "execution_count": null,
   "metadata": {
    "collapsed": true
   },
   "outputs": [],
   "source": []
  }
 ],
 "metadata": {
  "kernelspec": {
   "display_name": "Python 2",
   "language": "python",
   "name": "python2"
  },
  "language_info": {
   "codemirror_mode": {
    "name": "ipython",
    "version": 2
   },
   "file_extension": ".py",
   "mimetype": "text/x-python",
   "name": "python",
   "nbconvert_exporter": "python",
   "pygments_lexer": "ipython2",
   "version": "2.7.11"
  }
 },
 "nbformat": 4,
 "nbformat_minor": 0
}

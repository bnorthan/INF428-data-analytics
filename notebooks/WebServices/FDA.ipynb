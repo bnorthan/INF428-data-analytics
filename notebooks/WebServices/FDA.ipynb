{
 "cells": [
  {
   "cell_type": "code",
   "execution_count": 1,
   "metadata": {
    "collapsed": true
   },
   "outputs": [],
   "source": [
    "# first we need to import some modules\n",
    "# utility to read json format\n",
    "import json as js\n",
    "# urllib2 is a module for fetching URL (Uniform Resource Locator) data\n",
    "import urllib2 as ulib\n",
    "import pandas as pd\n",
    "import matplotlib.pyplot as plt"
   ]
  },
  {
   "cell_type": "code",
   "execution_count": 4,
   "metadata": {
    "collapsed": false
   },
   "outputs": [
    {
     "name": "stdout",
     "output_type": "stream",
     "text": [
      "<addinfourl at 140501046456616 whose fp = <socket._fileobject object at 0x7fc8f301c1d0>>\n"
     ]
    },
    {
     "data": {
      "text/plain": [
       "{u'meta': {u'disclaimer': u'openFDA is a beta research project and not for clinical use. While we make every effort to ensure that data is accurate, you should assume all results are unvalidated.',\n",
       "  u'last_updated': u'2016-03-25',\n",
       "  u'license': u'http://open.fda.gov/license'},\n",
       " u'results': [{u'count': 12349, u'term': u'DYSPNOEA'},\n",
       "  {u'count': 12061, u'term': u'NAUSEA'},\n",
       "  {u'count': 10734, u'term': u'DIZZINESS'},\n",
       "  {u'count': 10652, u'term': u'FATIGUE'},\n",
       "  {u'count': 10491, u'term': u'FLUSHING'},\n",
       "  {u'count': 9311, u'term': u'DIARRHOEA'},\n",
       "  {u'count': 9058, u'term': u'DRUG INEFFECTIVE'},\n",
       "  {u'count': 8473, u'term': u'MYOCARDIAL INFARCTION'},\n",
       "  {u'count': 8412, u'term': u'ASTHENIA'},\n",
       "  {u'count': 8189, u'term': u'HEADACHE'},\n",
       "  {u'count': 7313, u'term': u'FALL'},\n",
       "  {u'count': 7279, u'term': u'PAIN'},\n",
       "  {u'count': 7194, u'term': u'VOMITING'},\n",
       "  {u'count': 7071, u'term': u'PRURITUS'},\n",
       "  {u'count': 6896, u'term': u'CHEST PAIN'},\n",
       "  {u'count': 6069, u'term': u'ANAEMIA'},\n",
       "  {u'count': 5987, u'term': u'PAIN IN EXTREMITY'},\n",
       "  {u'count': 5876, u'term': u'PNEUMONIA'},\n",
       "  {u'count': 5780, u'term': u'CEREBROVASCULAR ACCIDENT'},\n",
       "  {u'count': 5775, u'term': u'GASTROINTESTINAL HAEMORRHAGE'},\n",
       "  {u'count': 5727, u'term': u'CARDIAC FAILURE CONGESTIVE'},\n",
       "  {u'count': 5667, u'term': u'HYPOTENSION'},\n",
       "  {u'count': 5467, u'term': u'ARTHRALGIA'},\n",
       "  {u'count': 5439, u'term': u'WEIGHT DECREASED'},\n",
       "  {u'count': 5436, u'term': u'MALAISE'},\n",
       "  {u'count': 5293, u'term': u'HYPERTENSION'},\n",
       "  {u'count': 5272, u'term': u'BLOOD GLUCOSE INCREASED'},\n",
       "  {u'count': 5032, u'term': u'OEDEMA PERIPHERAL'},\n",
       "  {u'count': 4803, u'term': u'PYREXIA'},\n",
       "  {u'count': 4756, u'term': u'RASH'},\n",
       "  {u'count': 4691, u'term': u'RENAL FAILURE ACUTE'},\n",
       "  {u'count': 4621, u'term': u'BACK PAIN'},\n",
       "  {u'count': 4599, u'term': u'PARAESTHESIA'},\n",
       "  {u'count': 4448, u'term': u'COUGH'},\n",
       "  {u'count': 4432, u'term': u'ATRIAL FIBRILLATION'},\n",
       "  {u'count': 4331, u'term': u'ANXIETY'},\n",
       "  {u'count': 4305, u'term': u'MYALGIA'},\n",
       "  {u'count': 4297, u'term': u'INSOMNIA'},\n",
       "  {u'count': 3952, u'term': u'DRUG INTERACTION'},\n",
       "  {u'count': 3932, u'term': u'CONSTIPATION'},\n",
       "  {u'count': 3921, u'term': u'DEATH'},\n",
       "  {u'count': 3921, u'term': u'ABDOMINAL PAIN'},\n",
       "  {u'count': 3889, u'term': u'DEPRESSION'},\n",
       "  {u'count': 3827, u'term': u'DEHYDRATION'},\n",
       "  {u'count': 3783, u'term': u'CONFUSIONAL STATE'},\n",
       "  {u'count': 3769, u'term': u'HAEMOGLOBIN DECREASED'},\n",
       "  {u'count': 3623, u'term': u'CORONARY ARTERY DISEASE'},\n",
       "  {u'count': 3581, u'term': u'DECREASED APPETITE'},\n",
       "  {u'count': 3561, u'term': u'MUSCLE SPASMS'},\n",
       "  {u'count': 3530, u'term': u'ERYTHEMA'},\n",
       "  {u'count': 3520, u'term': u'FEELING ABNORMAL'},\n",
       "  {u'count': 3453, u'term': u'RENAL FAILURE'},\n",
       "  {u'count': 3398, u'term': u'ABDOMINAL PAIN UPPER'},\n",
       "  {u'count': 3323, u'term': u'FEELING HOT'},\n",
       "  {u'count': 3290, u'term': u'GAIT DISTURBANCE'},\n",
       "  {u'count': 3211, u'term': u'SYNCOPE'},\n",
       "  {u'count': 3181, u'term': u'URINARY TRACT INFECTION'},\n",
       "  {u'count': 3177, u'term': u'BLOOD PRESSURE INCREASED'},\n",
       "  {u'count': 3047, u'term': u'HYPERHIDROSIS'},\n",
       "  {u'count': 3027, u'term': u'LOSS OF CONSCIOUSNESS'},\n",
       "  {u'count': 2977, u'term': u'WEIGHT INCREASED'},\n",
       "  {u'count': 2932, u'term': u'SOMNOLENCE'},\n",
       "  {u'count': 2889, u'term': u'TREMOR'},\n",
       "  {u'count': 2843, u'term': u'MUSCULAR WEAKNESS'},\n",
       "  {u'count': 2808, u'term': u'OFF LABEL USE'},\n",
       "  {u'count': 2784, u'term': u'HYPOAESTHESIA'},\n",
       "  {u'count': 2758, u'term': u'CONTUSION'},\n",
       "  {u'count': 2706, u'term': u'CONDITION AGGRAVATED'},\n",
       "  {u'count': 2597, u'term': u'HAEMORRHAGE'},\n",
       "  {u'count': 2542, u'term': u'PALPITATIONS'},\n",
       "  {u'count': 2436, u'term': u'VISION BLURRED'},\n",
       "  {u'count': 2391, u'term': u'EPISTAXIS'},\n",
       "  {u'count': 2384, u'term': u'BLOOD CREATININE INCREASED'},\n",
       "  {u'count': 2342, u'term': u'DYSPEPSIA'},\n",
       "  {u'count': 2314, u'term': u'ACUTE MYOCARDIAL INFARCTION'},\n",
       "  {u'count': 2266, u'term': u'GASTROOESOPHAGEAL REFLUX DISEASE'},\n",
       "  {u'count': 2260, u'term': u'ABDOMINAL DISCOMFORT'},\n",
       "  {u'count': 2257, u'term': u'CHEST DISCOMFORT'},\n",
       "  {u'count': 2255, u'term': u'THROMBOCYTOPENIA'},\n",
       "  {u'count': 2249, u'term': u'DRUG DOSE OMISSION'},\n",
       "  {u'count': 2222, u'term': u'CARDIAC DISORDER'},\n",
       "  {u'count': 2211, u'term': u'CARDIAC ARREST'},\n",
       "  {u'count': 2144, u'term': u'TRANSIENT ISCHAEMIC ATTACK'},\n",
       "  {u'count': 2078, u'term': u'CHILLS'},\n",
       "  {u'count': 2077, u'term': u'SEPSIS'},\n",
       "  {u'count': 2062, u'term': u'PULMONARY EMBOLISM'},\n",
       "  {u'count': 2059, u'term': u'DIABETES MELLITUS'},\n",
       "  {u'count': 2057, u'term': u'HEART RATE INCREASED'},\n",
       "  {u'count': 2008, u'term': u'ANGINA PECTORIS'},\n",
       "  {u'count': 1989, u'term': u'CONVULSION'},\n",
       "  {u'count': 1974, u'term': u'CHRONIC OBSTRUCTIVE PULMONARY DISEASE'},\n",
       "  {u'count': 1936, u'term': u'BRADYCARDIA'},\n",
       "  {u'count': 1932, u'term': u'CARDIAC FAILURE'},\n",
       "  {u'count': 1925, u'term': u'DEEP VEIN THROMBOSIS'},\n",
       "  {u'count': 1908, u'term': u'DYSPHAGIA'},\n",
       "  {u'count': 1891, u'term': u'PLEURAL EFFUSION'},\n",
       "  {u'count': 1876, u'term': u'PLATELET COUNT DECREASED'},\n",
       "  {u'count': 1867, u'term': u'RESPIRATORY FAILURE'},\n",
       "  {u'count': 1867, u'term': u'INJECTION SITE PAIN'},\n",
       "  {u'count': 1847, u'term': u'RHABDOMYOLYSIS'}]}"
      ]
     },
     "execution_count": 4,
     "metadata": {},
     "output_type": "execute_result"
    }
   ],
   "source": [
    "# form a request\n",
    "request_string='https://api.fda.gov/drug/event.json?search=patient.drug.medicinalproduct:aspirin&count=patient.reaction.reactionmeddrapt.exact'\n",
    "\n",
    "import ssl\n",
    "\n",
    "# to get around https error as described here \n",
    "# http://stackoverflow.com/questions/27835619/ssl-certificate-verify-failed-error\n",
    "# This restores the same behavior as before.\n",
    "context = ssl._create_unverified_context()\n",
    "response=ulib.urlopen(request_string,context=context)\n",
    "\n",
    "print response\n",
    "\n",
    "# load as json\n",
    "fda_data=js.load(response)\n",
    "\n",
    "fda_data"
   ]
  },
  {
   "cell_type": "code",
   "execution_count": 5,
   "metadata": {
    "collapsed": false
   },
   "outputs": [
    {
     "data": {
      "text/plain": [
       "dict"
      ]
     },
     "execution_count": 5,
     "metadata": {},
     "output_type": "execute_result"
    }
   ],
   "source": [
    "type(fda_data)"
   ]
  },
  {
   "cell_type": "code",
   "execution_count": 6,
   "metadata": {
    "collapsed": false
   },
   "outputs": [
    {
     "name": "stdout",
     "output_type": "stream",
     "text": [
      "meta\n",
      "results\n"
     ]
    }
   ],
   "source": [
    "for key, value in fda_data.iteritems() :\n",
    "    print key"
   ]
  },
  {
   "cell_type": "code",
   "execution_count": 7,
   "metadata": {
    "collapsed": true
   },
   "outputs": [],
   "source": [
    "results=fda_data['results']"
   ]
  },
  {
   "cell_type": "code",
   "execution_count": 8,
   "metadata": {
    "collapsed": false
   },
   "outputs": [
    {
     "data": {
      "text/plain": [
       "list"
      ]
     },
     "execution_count": 8,
     "metadata": {},
     "output_type": "execute_result"
    }
   ],
   "source": [
    "type(results)"
   ]
  },
  {
   "cell_type": "code",
   "execution_count": 9,
   "metadata": {
    "collapsed": false
   },
   "outputs": [],
   "source": [
    "test=pd.DataFrame(results)"
   ]
  },
  {
   "cell_type": "code",
   "execution_count": 10,
   "metadata": {
    "collapsed": false
   },
   "outputs": [
    {
     "data": {
      "text/html": [
       "<div>\n",
       "<table border=\"1\" class=\"dataframe\">\n",
       "  <thead>\n",
       "    <tr style=\"text-align: right;\">\n",
       "      <th></th>\n",
       "      <th>count</th>\n",
       "      <th>term</th>\n",
       "    </tr>\n",
       "  </thead>\n",
       "  <tbody>\n",
       "    <tr>\n",
       "      <th>0</th>\n",
       "      <td>12349</td>\n",
       "      <td>DYSPNOEA</td>\n",
       "    </tr>\n",
       "    <tr>\n",
       "      <th>1</th>\n",
       "      <td>12061</td>\n",
       "      <td>NAUSEA</td>\n",
       "    </tr>\n",
       "    <tr>\n",
       "      <th>2</th>\n",
       "      <td>10734</td>\n",
       "      <td>DIZZINESS</td>\n",
       "    </tr>\n",
       "    <tr>\n",
       "      <th>3</th>\n",
       "      <td>10652</td>\n",
       "      <td>FATIGUE</td>\n",
       "    </tr>\n",
       "    <tr>\n",
       "      <th>4</th>\n",
       "      <td>10491</td>\n",
       "      <td>FLUSHING</td>\n",
       "    </tr>\n",
       "  </tbody>\n",
       "</table>\n",
       "</div>"
      ],
      "text/plain": [
       "   count       term\n",
       "0  12349   DYSPNOEA\n",
       "1  12061     NAUSEA\n",
       "2  10734  DIZZINESS\n",
       "3  10652    FATIGUE\n",
       "4  10491   FLUSHING"
      ]
     },
     "execution_count": 10,
     "metadata": {},
     "output_type": "execute_result"
    }
   ],
   "source": [
    "test.head()"
   ]
  },
  {
   "cell_type": "code",
   "execution_count": 13,
   "metadata": {
    "collapsed": false
   },
   "outputs": [
    {
     "data": {
      "text/plain": [
       "<matplotlib.text.Text at 0x7fc8f2fb6390>"
      ]
     },
     "execution_count": 13,
     "metadata": {},
     "output_type": "execute_result"
    },
    {
     "data": {
      "image/png": "[encoded data removed]",
      "text/plain": [
       "<matplotlib.figure.Figure at 0x7fc8f2f192d0>"
      ]
     },
     "metadata": {},
     "output_type": "display_data"
    }
   ],
   "source": [
    "import matplotlib\n",
    "import matplotlib.pyplot as plt\n",
    "\n",
    "%matplotlib inline\n",
    "drug1='paxil'\n",
    "drugname2='paxil'\n",
    "\n",
    "# form a request\n",
    "def getDrugData(drugname):\n",
    "    request_string='https://api.fda.gov/drug/event.json?search=patient.drug.medicinalproduct:'+drugname+'&count=patient.reaction.reactionmeddrapt.exact'\n",
    "    response=ulib.urlopen(request_string, context=context)\n",
    "    \n",
    "    # load as json\n",
    "    fda_data=js.load(response)['results']\n",
    "    \n",
    "    # make it a dataframe\n",
    "    fda_data=pd.DataFrame(fda_data)\n",
    "\n",
    "    # make drug term the index and return\n",
    "    return fda_data.set_index('term')\n",
    "\n",
    "data1=getDrugData('paxil')\n",
    "data2=getDrugData('aspirn')\n",
    "\n",
    "fig=plt.figure(figsize=(8, 6))\n",
    "\n",
    "ax1=plt.subplot(121)\n",
    "ax2=plt.subplot(122)\n",
    "\n",
    "data1.iloc[0:5].plot.bar(ax=ax1)\n",
    "data2.iloc[0:5].plot.bar(ax=ax2)\n",
    "\n",
    "ax1.set_title(\"Aspirin\")\n",
    "ax2.set_title(\"Paxil\")"
   ]
  },
  {
   "cell_type": "code",
   "execution_count": null,
   "metadata": {
    "collapsed": true
   },
   "outputs": [],
   "source": []
  }
 ],
 "metadata": {
  "kernelspec": {
   "display_name": "Python 2",
   "language": "python",
   "name": "python2"
  },
  "language_info": {
   "codemirror_mode": {
    "name": "ipython",
    "version": 2
   },
   "file_extension": ".py",
   "mimetype": "text/x-python",
   "name": "python",
   "nbconvert_exporter": "python",
   "pygments_lexer": "ipython2",
   "version": "2.7.11"
  }
 },
 "nbformat": 4,
 "nbformat_minor": 0
}

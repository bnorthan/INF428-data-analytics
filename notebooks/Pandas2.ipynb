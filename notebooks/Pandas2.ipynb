{
 "cells": [
  {
   "cell_type": "markdown",
   "metadata": {},
   "source": [
    "## Pandas\n",
    "\n",
    "Not these Pandas!\n",
    "![alt text](giant-panda-1.jpg \"Not this Panda\")\n"
   ]
  },
  {
   "cell_type": "markdown",
   "metadata": {},
   "source": [
    "Import pandas and open a .csv"
   ]
  },
  {
   "cell_type": "code",
   "execution_count": 3,
   "metadata": {
    "collapsed": true
   },
   "outputs": [],
   "source": [
    "import pandas as pd\n",
    "df=pd.read_csv(\"WHO_first9cols.csv\")"
   ]
  },
  {
   "cell_type": "markdown",
   "metadata": {},
   "source": [
    "What do we have?"
   ]
  },
  {
   "cell_type": "code",
   "execution_count": 2,
   "metadata": {
    "collapsed": false
   },
   "outputs": [
    {
     "data": {
      "text/plain": [
       "pandas.core.frame.DataFrame"
      ]
     },
     "execution_count": 2,
     "metadata": {},
     "output_type": "execute_result"
    }
   ],
   "source": [
    "type(df)"
   ]
  },
  {
   "cell_type": "markdown",
   "metadata": {},
   "source": [
    "Let's look at the first 5 rows"
   ]
  },
  {
   "cell_type": "code",
   "execution_count": 9,
   "metadata": {
    "collapsed": false
   },
   "outputs": [
    {
     "name": "stdout",
     "output_type": "stream",
     "text": [
      "       Country  CountryID  Continent  Adolescent fertility rate (%)  \\\n",
      "0  Afghanistan          1          1                            151   \n",
      "1      Albania          2          2                             27   \n",
      "2      Algeria          3          3                              6   \n",
      "3      Andorra          4          2                            NaN   \n",
      "4       Angola          5          3                            146   \n",
      "\n",
      "   Adult literacy rate (%)  \\\n",
      "0                     28.0   \n",
      "1                     98.7   \n",
      "2                     69.9   \n",
      "3                      NaN   \n",
      "4                     67.4   \n",
      "\n",
      "   Gross national income per capita (PPP international $)  \\\n",
      "0                                                NaN        \n",
      "1                                               6000        \n",
      "2                                               5940        \n",
      "3                                                NaN        \n",
      "4                                               3890        \n",
      "\n",
      "   Net primary school enrolment ratio female (%)  \\\n",
      "0                                            NaN   \n",
      "1                                             93   \n",
      "2                                             94   \n",
      "3                                             83   \n",
      "4                                             49   \n",
      "\n",
      "   Net primary school enrolment ratio male (%)  \\\n",
      "0                                          NaN   \n",
      "1                                           94   \n",
      "2                                           96   \n",
      "3                                           83   \n",
      "4                                           51   \n",
      "\n",
      "   Population (in thousands) total  \n",
      "0                            26088  \n",
      "1                             3172  \n",
      "2                            33351  \n",
      "3                               74  \n",
      "4                            16557  \n"
     ]
    }
   ],
   "source": [
    "print df.head()"
   ]
  },
  {
   "cell_type": "code",
   "execution_count": 10,
   "metadata": {
    "collapsed": false
   },
   "outputs": [
    {
     "name": "stdout",
     "output_type": "stream",
     "text": [
      "Shape (202, 9)\n",
      "\n",
      "Length 202\n"
     ]
    }
   ],
   "source": [
    "#print \"Dataframe\",df.head()\n",
    "print \"Shape\",df.shape\n",
    "print\n",
    "print \"Length\", len(df)"
   ]
  },
  {
   "cell_type": "markdown",
   "metadata": {},
   "source": [
    "The column headers are important because we can use them to get a column of data"
   ]
  },
  {
   "cell_type": "code",
   "execution_count": 11,
   "metadata": {
    "collapsed": false
   },
   "outputs": [
    {
     "name": "stdout",
     "output_type": "stream",
     "text": [
      "Column Headers Index([u'Country', u'CountryID', u'Continent',\n",
      "       u'Adolescent fertility rate (%)', u'Adult literacy rate (%)',\n",
      "       u'Gross national income per capita (PPP international $)',\n",
      "       u'Net primary school enrolment ratio female (%)',\n",
      "       u'Net primary school enrolment ratio male (%)',\n",
      "       u'Population (in thousands) total'],\n",
      "      dtype='object')\n"
     ]
    }
   ],
   "source": [
    "print \"Column Headers\",df.columns"
   ]
  },
  {
   "cell_type": "markdown",
   "metadata": {},
   "source": [
    "We can use the column name to get that column of data as a Data Series"
   ]
  },
  {
   "cell_type": "code",
   "execution_count": 17,
   "metadata": {
    "collapsed": false
   },
   "outputs": [
    {
     "name": "stdout",
     "output_type": "stream",
     "text": [
      "<class 'pandas.core.series.Series'>\n",
      "<class 'pandas.core.series.Series'>\n",
      "Country\n"
     ]
    }
   ],
   "source": [
    "country_col=df.Country\n",
    "country_col2=df[\"Country\"]\n",
    "\n",
    "print type(country_col)\n",
    "print type(country_col2)\n",
    "print country_col.name"
   ]
  },
  {
   "cell_type": "markdown",
   "metadata": {},
   "source": [
    "The index is used to reference rows.  It is often a number but could be something else (like a date)."
   ]
  },
  {
   "cell_type": "code",
   "execution_count": 8,
   "metadata": {
    "collapsed": false
   },
   "outputs": [
    {
     "name": "stdout",
     "output_type": "stream",
     "text": [
      "Int64Index([  0,   1,   2,   3,   4,   5,   6,   7,   8,   9, \n",
      "            ...\n",
      "            192, 193, 194, 195, 196, 197, 198, 199, 200, 201],\n",
      "           dtype='int64', length=202)\n"
     ]
    }
   ],
   "source": [
    "print df.index"
   ]
  },
  {
   "cell_type": "markdown",
   "metadata": {},
   "source": [
    "We can do math and stats on a dataframe... the cool thing is that it returns a DataSeries containing stats for each column "
   ]
  },
  {
   "cell_type": "code",
   "execution_count": 20,
   "metadata": {
    "collapsed": false
   },
   "outputs": [
    {
     "name": "stdout",
     "output_type": "stream",
     "text": [
      "<class 'pandas.core.series.Series'>\n",
      "CountryID                                                   101.500000\n",
      "Continent                                                     3.579208\n",
      "Adolescent fertility rate (%)                                59.457627\n",
      "Adult literacy rate (%)                                      78.871756\n",
      "Gross national income per capita (PPP international $)    11250.112360\n",
      "Net primary school enrolment ratio female (%)                84.033520\n",
      "Net primary school enrolment ratio male (%)                  85.698324\n",
      "Population (in thousands) total                           34099.640212\n",
      "dtype: float64\n"
     ]
    }
   ],
   "source": [
    "means=df.mean()\n",
    "print type(means)\n",
    "print means"
   ]
  },
  {
   "cell_type": "markdown",
   "metadata": {},
   "source": [
    "Let's import a library called Quandl - this is our first example of using an API (Applicatio Programming Interface) to retrieve data "
   ]
  },
  {
   "cell_type": "code",
   "execution_count": 27,
   "metadata": {
    "collapsed": false
   },
   "outputs": [],
   "source": [
    "import Quandl"
   ]
  },
  {
   "cell_type": "markdown",
   "metadata": {},
   "source": [
    "get the sunspots dataset"
   ]
  },
  {
   "cell_type": "code",
   "execution_count": 28,
   "metadata": {
    "collapsed": true
   },
   "outputs": [],
   "source": [
    "sunspots=Quandl.get(\"SIDC/SUNSPOTS_A\")"
   ]
  },
  {
   "cell_type": "code",
   "execution_count": 24,
   "metadata": {
    "collapsed": false
   },
   "outputs": [
    {
     "data": {
      "text/plain": [
       "pandas.core.frame.DataFrame"
      ]
     },
     "execution_count": 24,
     "metadata": {},
     "output_type": "execute_result"
    }
   ],
   "source": [
    "type(sunspots)"
   ]
  },
  {
   "cell_type": "markdown",
   "metadata": {},
   "source": [
    "Let's explore the data a bit by finding the shape and column names (when we get data from an API we often have no idea regarding shape and types)"
   ]
  },
  {
   "cell_type": "code",
   "execution_count": 31,
   "metadata": {
    "collapsed": false
   },
   "outputs": [
    {
     "name": "stdout",
     "output_type": "stream",
     "text": [
      "(315, 4)\n",
      "Index([u'Yearly Mean Total Sunspot Number', u'Yearly Mean Standard Deviation',\n",
      "       u'Number of Observations', u'Definitive/Provisional Indicator'],\n",
      "      dtype='object')\n"
     ]
    }
   ],
   "source": [
    "print sunspots.shape\n",
    "print sunspots.columns"
   ]
  },
  {
   "cell_type": "markdown",
   "metadata": {},
   "source": [
    "Let's print the index to see how rows are labeled"
   ]
  },
  {
   "cell_type": "code",
   "execution_count": 34,
   "metadata": {
    "collapsed": false
   },
   "outputs": [
    {
     "name": "stdout",
     "output_type": "stream",
     "text": [
      "DatetimeIndex(['1700-12-31', '1701-12-31', '1702-12-31', '1703-12-31',\n",
      "               '1704-12-31', '1705-12-31', '1706-12-31', '1707-12-31',\n",
      "               '1708-12-31', '1709-12-31', \n",
      "               ...\n",
      "               '2005-12-31', '2006-12-31', '2007-12-31', '2008-12-31',\n",
      "               '2009-12-31', '2010-12-31', '2011-12-31', '2012-12-31',\n",
      "               '2013-12-31', '2014-12-31'],\n",
      "              dtype='datetime64[ns]', name=u'Date', length=315, freq=None, tz=None)\n"
     ]
    }
   ],
   "source": [
    "print sunspots.index"
   ]
  },
  {
   "cell_type": "markdown",
   "metadata": {},
   "source": [
    "Another very common first step is to print the head (first few rows) and tail (last few rows) of the data..."
   ]
  },
  {
   "cell_type": "code",
   "execution_count": 32,
   "metadata": {
    "collapsed": false
   },
   "outputs": [
    {
     "name": "stdout",
     "output_type": "stream",
     "text": [
      "                     Yearly Mean Total Sunspot Number  \\\n",
      "Date                                                    \n",
      "1700-12-31 00:00:00                               8.3   \n",
      "1701-12-31 00:00:00                              18.3   \n",
      "\n",
      "                     Yearly Mean Standard Deviation  Number of Observations  \\\n",
      "Date                                                                          \n",
      "1700-12-31 00:00:00                             NaN                     NaN   \n",
      "1701-12-31 00:00:00                             NaN                     NaN   \n",
      "\n",
      "                     Definitive/Provisional Indicator  \n",
      "Date                                                   \n",
      "1700-12-31 00:00:00                                 1  \n",
      "1701-12-31 00:00:00                                 1  \n",
      "\n",
      "            Yearly Mean Total Sunspot Number  Yearly Mean Standard Deviation  \\\n",
      "Date                                                                           \n",
      "2013-12-31                              94.0                             6.9   \n",
      "2014-12-31                             113.3                             8.0   \n",
      "\n",
      "            Number of Observations  Definitive/Provisional Indicator  \n",
      "Date                                                                  \n",
      "2013-12-31                    5347                                 1  \n",
      "2014-12-31                    5273                                 1  \n"
     ]
    }
   ],
   "source": [
    "print sunspots.head(2)\n",
    "print\n",
    "print sunspots.tail(2)"
   ]
  },
  {
   "cell_type": "markdown",
   "metadata": {},
   "source": [
    "How about some basic stats"
   ]
  },
  {
   "cell_type": "code",
   "execution_count": 35,
   "metadata": {
    "collapsed": false
   },
   "outputs": [
    {
     "name": "stdout",
     "output_type": "stream",
     "text": [
      "Yearly Mean Total Sunspot Number    315\n",
      "Yearly Mean Standard Deviation      197\n",
      "Number of Observations              197\n",
      "Definitive/Provisional Indicator    315\n",
      "dtype: int64\n"
     ]
    }
   ],
   "source": [
    "print sunspots.count()"
   ]
  },
  {
   "cell_type": "code",
   "execution_count": 36,
   "metadata": {
    "collapsed": false
   },
   "outputs": [
    {
     "name": "stdout",
     "output_type": "stream",
     "text": [
      "Yearly Mean Total Sunspot Number      79.534286\n",
      "Yearly Mean Standard Deviation         8.038579\n",
      "Number of Observations              1386.928934\n",
      "Definitive/Provisional Indicator       1.000000\n",
      "dtype: float64\n"
     ]
    }
   ],
   "source": [
    "print sunspots.mean()"
   ]
  },
  {
   "cell_type": "code",
   "execution_count": 37,
   "metadata": {
    "collapsed": false
   },
   "outputs": [
    {
     "name": "stdout",
     "output_type": "stream",
     "text": [
      "Yearly Mean Total Sunspot Number     269.3\n",
      "Yearly Mean Standard Deviation        19.1\n",
      "Number of Observations              8524.0\n",
      "Definitive/Provisional Indicator       1.0\n",
      "dtype: float64\n"
     ]
    }
   ],
   "source": [
    "print sunspots.max()"
   ]
  },
  {
   "cell_type": "code",
   "execution_count": 39,
   "metadata": {
    "collapsed": false
   },
   "outputs": [
    {
     "data": {
      "text/plain": [
       "<matplotlib.axes._subplots.AxesSubplot at 0x7fcb719b1150>"
      ]
     },
     "execution_count": 39,
     "metadata": {},
     "output_type": "execute_result"
    },
    {
     "data": {
      "image/png": "[encoded data removed]",
      "text/plain": [
       "<matplotlib.figure.Figure at 0x7fcb719c5d90>"
      ]
     },
     "metadata": {},
     "output_type": "display_data"
    }
   ],
   "source": [
    "%matplotlib inline\n",
    "sunspots[\"Yearly Mean Total Sunspot Number\"].plot()"
   ]
  },
  {
   "cell_type": "code",
   "execution_count": null,
   "metadata": {
    "collapsed": true
   },
   "outputs": [],
   "source": []
  }
 ],
 "metadata": {
  "kernelspec": {
   "display_name": "Python 2",
   "language": "python",
   "name": "python2"
  },
  "language_info": {
   "codemirror_mode": {
    "name": "ipython",
    "version": 2
   },
   "file_extension": ".py",
   "mimetype": "text/x-python",
   "name": "python",
   "nbconvert_exporter": "python",
   "pygments_lexer": "ipython2",
   "version": "2.7.10"
  }
 },
 "nbformat": 4,
 "nbformat_minor": 0
}

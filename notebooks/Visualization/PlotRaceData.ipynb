{
 "metadata": {
  "name": "",
  "signature": "sha256:6e03068934a5d2f02cfad64c639bc117fdc6a113e5a161e4e5d640af6fe29e17"
 },
 "nbformat": 3,
 "nbformat_minor": 0,
 "worksheets": [
  {
   "cells": [
    {
     "cell_type": "code",
     "collapsed": false,
     "input": [
      "import pandas as panda\n",
      "import matplotlib.pyplot as plt\n",
      "\n",
      "%matplotlib inline"
     ],
     "language": "python",
     "metadata": {},
     "outputs": [],
     "prompt_number": 1
    },
    {
     "cell_type": "code",
     "collapsed": false,
     "input": [
      "race=panda.read_csv('../data/race_geo.csv', sep='|');\n",
      "race.head()"
     ],
     "language": "python",
     "metadata": {},
     "outputs": [
      {
       "html": [
        "<div style=\"max-height:1000px;max-width:1500px;overflow:auto;\">\n",
        "<table border=\"1\" class=\"dataframe\">\n",
        "  <thead>\n",
        "    <tr style=\"text-align: right;\">\n",
        "      <th></th>\n",
        "      <th>place</th>\n",
        "      <th>name</th>\n",
        "      <th>age</th>\n",
        "      <th>gender</th>\n",
        "      <th>city</th>\n",
        "      <th>state</th>\n",
        "      <th>time</th>\n",
        "      <th>pace</th>\n",
        "      <th>time seconds</th>\n",
        "      <th>pace seconds</th>\n",
        "      <th>latitude</th>\n",
        "      <th>longitude</th>\n",
        "    </tr>\n",
        "  </thead>\n",
        "  <tbody>\n",
        "    <tr>\n",
        "      <th>0</th>\n",
        "      <td> 1</td>\n",
        "      <td> Thomas O'Grady</td>\n",
        "      <td> 29</td>\n",
        "      <td> M</td>\n",
        "      <td>      Latham</td>\n",
        "      <td> NY</td>\n",
        "      <td>   55:50</td>\n",
        "      <td> 5:35</td>\n",
        "      <td> 3350</td>\n",
        "      <td> 335</td>\n",
        "      <td> 42.747022</td>\n",
        "      <td>-73.759009</td>\n",
        "    </tr>\n",
        "    <tr>\n",
        "      <th>1</th>\n",
        "      <td> 2</td>\n",
        "      <td>    Josh Merlis</td>\n",
        "      <td> 33</td>\n",
        "      <td> M</td>\n",
        "      <td>      Albany</td>\n",
        "      <td> NY</td>\n",
        "      <td>   56:19</td>\n",
        "      <td> 5:38</td>\n",
        "      <td> 3379</td>\n",
        "      <td> 338</td>\n",
        "      <td> 42.652579</td>\n",
        "      <td>-73.756232</td>\n",
        "    </tr>\n",
        "    <tr>\n",
        "      <th>2</th>\n",
        "      <td> 3</td>\n",
        "      <td>      Mike Roda</td>\n",
        "      <td> 39</td>\n",
        "      <td> M</td>\n",
        "      <td>      Albany</td>\n",
        "      <td> NY</td>\n",
        "      <td>   56:58</td>\n",
        "      <td> 5:42</td>\n",
        "      <td> 3418</td>\n",
        "      <td> 342</td>\n",
        "      <td> 42.652579</td>\n",
        "      <td>-73.756232</td>\n",
        "    </tr>\n",
        "    <tr>\n",
        "      <th>3</th>\n",
        "      <td> 4</td>\n",
        "      <td>   Robert Irwin</td>\n",
        "      <td> 42</td>\n",
        "      <td> M</td>\n",
        "      <td> Guilderland</td>\n",
        "      <td> NY</td>\n",
        "      <td>   59:14</td>\n",
        "      <td> 5:56</td>\n",
        "      <td> 3554</td>\n",
        "      <td> 356</td>\n",
        "      <td> 42.704357</td>\n",
        "      <td>-73.911643</td>\n",
        "    </tr>\n",
        "    <tr>\n",
        "      <th>4</th>\n",
        "      <td> 5</td>\n",
        "      <td> Kyle McCormack</td>\n",
        "      <td> 20</td>\n",
        "      <td> M</td>\n",
        "      <td>      Albany</td>\n",
        "      <td> NY</td>\n",
        "      <td> 1:02:20</td>\n",
        "      <td> 6:14</td>\n",
        "      <td> 3740</td>\n",
        "      <td> 374</td>\n",
        "      <td> 42.652579</td>\n",
        "      <td>-73.756232</td>\n",
        "    </tr>\n",
        "  </tbody>\n",
        "</table>\n",
        "</div>"
       ],
       "metadata": {},
       "output_type": "pyout",
       "prompt_number": 2,
       "text": [
        "   place            name  age gender         city state     time  pace  \\\n",
        "0      1  Thomas O'Grady   29      M       Latham    NY    55:50  5:35   \n",
        "1      2     Josh Merlis   33      M       Albany    NY    56:19  5:38   \n",
        "2      3       Mike Roda   39      M       Albany    NY    56:58  5:42   \n",
        "3      4    Robert Irwin   42      M  Guilderland    NY    59:14  5:56   \n",
        "4      5  Kyle McCormack   20      M       Albany    NY  1:02:20  6:14   \n",
        "\n",
        "   time seconds  pace seconds   latitude  longitude  \n",
        "0          3350           335  42.747022 -73.759009  \n",
        "1          3379           338  42.652579 -73.756232  \n",
        "2          3418           342  42.652579 -73.756232  \n",
        "3          3554           356  42.704357 -73.911643  \n",
        "4          3740           374  42.652579 -73.756232  "
       ]
      }
     ],
     "prompt_number": 2
    },
    {
     "cell_type": "code",
     "collapsed": false,
     "input": [
      "plt.scatter(race['age'], race['time seconds'])"
     ],
     "language": "python",
     "metadata": {},
     "outputs": [
      {
       "metadata": {},
       "output_type": "pyout",
       "prompt_number": 3,
       "text": [
        "<matplotlib.collections.PathCollection at 0xe0b9e10>"
       ]
      },
      {
       "metadata": {},
       "output_type": "display_data",
       "png": "[encoded data removed]",
       "text": [
        "<matplotlib.figure.Figure at 0xdebddd8>"
       ]
      }
     ],
     "prompt_number": 3
    },
    {
     "cell_type": "code",
     "collapsed": false,
     "input": [
      "\n",
      "males=race[race['gender']=='M']\n",
      "females=race[race['gender']=='F']\n",
      "\n",
      "plt.scatter(males['age'],males['time seconds'], color='blue', alpha=0.4)\n",
      "plt.scatter(females['age'], females['time seconds'], color='red', alpha=0.4)"
     ],
     "language": "python",
     "metadata": {},
     "outputs": [
      {
       "metadata": {},
       "output_type": "pyout",
       "prompt_number": 4,
       "text": [
        "<matplotlib.collections.PathCollection at 0xec58a90>"
       ]
      },
      {
       "metadata": {},
       "output_type": "display_data",
       "png": "[encoded data removed]",
       "text": [
        "<matplotlib.figure.Figure at 0xdff4d68>"
       ]
      }
     ],
     "prompt_number": 4
    },
    {
     "cell_type": "code",
     "collapsed": false,
     "input": [],
     "language": "python",
     "metadata": {},
     "outputs": []
    }
   ],
   "metadata": {}
  }
 ]
}
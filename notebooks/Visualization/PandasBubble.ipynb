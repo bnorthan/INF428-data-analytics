{
 "cells": [
  {
   "cell_type": "code",
   "execution_count": 7,
   "metadata": {
    "collapsed": false
   },
   "outputs": [
    {
     "data": {
      "text/html": [
       "<div>\n",
       "<table border=\"1\" class=\"dataframe\">\n",
       "  <thead>\n",
       "    <tr style=\"text-align: right;\">\n",
       "      <th></th>\n",
       "      <th>place</th>\n",
       "      <th>name</th>\n",
       "      <th>age</th>\n",
       "      <th>gender</th>\n",
       "      <th>city</th>\n",
       "      <th>state</th>\n",
       "      <th>time</th>\n",
       "      <th>pace</th>\n",
       "      <th>time seconds</th>\n",
       "      <th>pace seconds</th>\n",
       "      <th>latitude</th>\n",
       "      <th>longitude</th>\n",
       "    </tr>\n",
       "  </thead>\n",
       "  <tbody>\n",
       "    <tr>\n",
       "      <th>0</th>\n",
       "      <td>1</td>\n",
       "      <td>Thomas O'Grady</td>\n",
       "      <td>29</td>\n",
       "      <td>M</td>\n",
       "      <td>Latham</td>\n",
       "      <td>NY</td>\n",
       "      <td>55:50</td>\n",
       "      <td>5:35</td>\n",
       "      <td>3350</td>\n",
       "      <td>335</td>\n",
       "      <td>42.747022</td>\n",
       "      <td>-73.759009</td>\n",
       "    </tr>\n",
       "    <tr>\n",
       "      <th>1</th>\n",
       "      <td>2</td>\n",
       "      <td>Josh Merlis</td>\n",
       "      <td>33</td>\n",
       "      <td>M</td>\n",
       "      <td>Albany</td>\n",
       "      <td>NY</td>\n",
       "      <td>56:19</td>\n",
       "      <td>5:38</td>\n",
       "      <td>3379</td>\n",
       "      <td>338</td>\n",
       "      <td>42.652579</td>\n",
       "      <td>-73.756232</td>\n",
       "    </tr>\n",
       "    <tr>\n",
       "      <th>2</th>\n",
       "      <td>3</td>\n",
       "      <td>Mike Roda</td>\n",
       "      <td>39</td>\n",
       "      <td>M</td>\n",
       "      <td>Albany</td>\n",
       "      <td>NY</td>\n",
       "      <td>56:58</td>\n",
       "      <td>5:42</td>\n",
       "      <td>3418</td>\n",
       "      <td>342</td>\n",
       "      <td>42.652579</td>\n",
       "      <td>-73.756232</td>\n",
       "    </tr>\n",
       "    <tr>\n",
       "      <th>3</th>\n",
       "      <td>4</td>\n",
       "      <td>Robert Irwin</td>\n",
       "      <td>42</td>\n",
       "      <td>M</td>\n",
       "      <td>Guilderland</td>\n",
       "      <td>NY</td>\n",
       "      <td>59:14</td>\n",
       "      <td>5:56</td>\n",
       "      <td>3554</td>\n",
       "      <td>356</td>\n",
       "      <td>42.704357</td>\n",
       "      <td>-73.911643</td>\n",
       "    </tr>\n",
       "    <tr>\n",
       "      <th>4</th>\n",
       "      <td>5</td>\n",
       "      <td>Kyle McCormack</td>\n",
       "      <td>20</td>\n",
       "      <td>M</td>\n",
       "      <td>Albany</td>\n",
       "      <td>NY</td>\n",
       "      <td>1:02:20</td>\n",
       "      <td>6:14</td>\n",
       "      <td>3740</td>\n",
       "      <td>374</td>\n",
       "      <td>42.652579</td>\n",
       "      <td>-73.756232</td>\n",
       "    </tr>\n",
       "  </tbody>\n",
       "</table>\n",
       "</div>"
      ],
      "text/plain": [
       "   place            name  age gender         city state     time  pace  \\\n",
       "0      1  Thomas O'Grady   29      M       Latham    NY    55:50  5:35   \n",
       "1      2     Josh Merlis   33      M       Albany    NY    56:19  5:38   \n",
       "2      3       Mike Roda   39      M       Albany    NY    56:58  5:42   \n",
       "3      4    Robert Irwin   42      M  Guilderland    NY    59:14  5:56   \n",
       "4      5  Kyle McCormack   20      M       Albany    NY  1:02:20  6:14   \n",
       "\n",
       "   time seconds  pace seconds   latitude  longitude  \n",
       "0          3350           335  42.747022 -73.759009  \n",
       "1          3379           338  42.652579 -73.756232  \n",
       "2          3418           342  42.652579 -73.756232  \n",
       "3          3554           356  42.704357 -73.911643  \n",
       "4          3740           374  42.652579 -73.756232  "
      ]
     },
     "execution_count": 7,
     "metadata": {},
     "output_type": "execute_result"
    }
   ],
   "source": [
    "import pandas as pd\n",
    "\n",
    "runners=pd.read_csv('../../data/running/race_geo.csv', sep='|')\n",
    "runners.head()"
   ]
  },
  {
   "cell_type": "code",
   "execution_count": 16,
   "metadata": {
    "collapsed": false
   },
   "outputs": [
    {
     "data": {
      "text/plain": [
       "<matplotlib.axes._subplots.AxesSubplot at 0x10665cc0>"
      ]
     },
     "execution_count": 16,
     "metadata": {},
     "output_type": "execute_result"
    },
    {
     "data": {
      "image/png": "[encoded data removed]",
      "text/plain": [
       "<matplotlib.figure.Figure at 0x10607240>"
      ]
     },
     "metadata": {},
     "output_type": "display_data"
    }
   ],
   "source": [
    "\n",
    "#runners.plot(kind='scatter', x='a', y='b', s=df['c']*200);\n",
    "runners.plot.scatter('latitude', 'pace seconds', s=runners['age']*5)"
   ]
  },
  {
   "cell_type": "code",
   "execution_count": null,
   "metadata": {
    "collapsed": true
   },
   "outputs": [],
   "source": []
  }
 ],
 "metadata": {
  "kernelspec": {
   "display_name": "Python 2",
   "language": "python",
   "name": "python2"
  },
  "language_info": {
   "codemirror_mode": {
    "name": "ipython",
    "version": 2
   },
   "file_extension": ".py",
   "mimetype": "text/x-python",
   "name": "python",
   "nbconvert_exporter": "python",
   "pygments_lexer": "ipython2",
   "version": "2.7.11"
  }
 },
 "nbformat": 4,
 "nbformat_minor": 0
}

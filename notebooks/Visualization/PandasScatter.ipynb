{
 "cells": [
  {
   "cell_type": "code",
   "execution_count": 1,
   "metadata": {
    "collapsed": false
   },
   "outputs": [
    {
     "name": "stdout",
     "output_type": "stream",
     "text": [
      "<class 'pandas.core.frame.DataFrame'>\n",
      "(471, 30)\n",
      "\n",
      "Index([u'Rk', u'Player', u'Pos', u'Age', u'Tm', u'G', u'GS', u'MP', u'FG',\n",
      "       u'FGA', u'FG%', u'3P', u'3PA', u'3P.1', u'2P', u'2PA', u'2P.1', u'eFG%',\n",
      "       u'FT', u'FTA', u'FT%', u'ORB', u'DRB', u'TRB', u'AST', u'STL', u'BLK',\n",
      "       u'TOV', u'PF', u'PTS'],\n",
      "      dtype='object')\n",
      "\n",
      "   Rk          Player Pos  Age   Tm   G  GS    MP   FG  FGA ...     FT%  ORB  \\\n",
      "0   3    Steven Adams   C   22  OKC  52  52  24.9  2.8  4.8 ...   0.607  2.5   \n",
      "1   5   Alexis Ajinca   C   27  NOP  41   6  12.3  2.0  4.0 ...   0.821  1.1   \n",
      "2   6    Cole Aldrich   C   27  LAC  31   2  11.5  2.1  3.9 ...   0.661  1.1   \n",
      "3  13  Chris Andersen   C   37  MIA   7   1   5.1  0.6  1.4 ...   0.750  0.4   \n",
      "4  21    Joel Anthony   C   33  DET  13   0   4.0  0.2  0.4 ...   0.833  0.5   \n",
      "\n",
      "   DRB  TRB  AST  STL  BLK  TOV   PF  PTS  \n",
      "0  3.8  6.3  0.7  0.4  1.2  1.0  2.8  7.2  \n",
      "1  3.0  4.1  0.4  0.3  0.5  0.5  2.2  4.6  \n",
      "2  2.7  3.8  0.9  0.6  0.7  0.9  2.2  5.4  \n",
      "3  0.9  1.3  0.4  0.1  0.4  0.3  0.6  1.9  \n",
      "4  0.6  1.2  0.1  0.2  0.3  0.1  0.6  0.7  \n",
      "\n",
      "[5 rows x 30 columns]\n"
     ]
    }
   ],
   "source": [
    "import pandas as pd\n",
    "\n",
    "basketball_stats=pd.read_csv('../../data/basketball/stats2016.csv', sep=';')\n",
    "\n",
    "print type(basketball_stats)\n",
    "print basketball_stats.shape\n",
    "print\n",
    "print basketball_stats.columns\n",
    "print\n",
    "print basketball_stats.head()\n",
    "#help(pd.read_csv)"
   ]
  },
  {
   "cell_type": "code",
   "execution_count": 6,
   "metadata": {
    "collapsed": false
   },
   "outputs": [],
   "source": [
    "%matplotlib inline\n",
    "plot=basketball_stats.plot.scatter('Age','TRB')\n",
    "plot.set_title('Age vs Rebounds')\n",
    "\n",
    "plt.show()"
   ]
  },
  {
   "cell_type": "code",
   "execution_count": null,
   "metadata": {
    "collapsed": true
   },
   "outputs": [],
   "source": []
  }
 ],
 "metadata": {
  "kernelspec": {
   "display_name": "Python 2",
   "language": "python",
   "name": "python2"
  },
  "language_info": {
   "codemirror_mode": {
    "name": "ipython",
    "version": 2
   },
   "file_extension": ".py",
   "mimetype": "text/x-python",
   "name": "python",
   "nbconvert_exporter": "python",
   "pygments_lexer": "ipython2",
   "version": "2.7.11"
  }
 },
 "nbformat": 4,
 "nbformat_minor": 0
}

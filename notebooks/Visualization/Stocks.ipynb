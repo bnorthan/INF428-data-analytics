{
 "cells": [
  {
   "cell_type": "code",
   "execution_count": 1,
   "metadata": {
    "collapsed": true
   },
   "outputs": [],
   "source": [
    "import pandas as pd"
   ]
  },
  {
   "cell_type": "code",
   "execution_count": 20,
   "metadata": {
    "collapsed": false
   },
   "outputs": [],
   "source": [
    "apple=pd.read_csv('../../data/economics/apple.csv')\n",
    "microsoft=pd.read_csv('../../data/economics/microsoft.csv')"
   ]
  },
  {
   "cell_type": "code",
   "execution_count": 24,
   "metadata": {
    "collapsed": false
   },
   "outputs": [
    {
     "name": "stdout",
     "output_type": "stream",
     "text": [
      "(8640, 6)\n",
      "(7312, 6)\n",
      "         Date    Open    High     Low   Close    Volume\n",
      "0  2015-02-23  130.02  133.00  129.66  133.00  67871830\n",
      "1  2015-02-20  128.62  129.50  128.05  129.50  48948419\n",
      "2  2015-02-19  128.48  129.03  128.33  128.45  37362381\n",
      "3  2015-02-18  127.62  128.78  127.45  128.72  44891737\n",
      "4  2015-02-17  127.49  128.88  126.92  127.83  63152405\n",
      "         Date   Open   High    Low  Close    Volume\n",
      "0  2015-02-23  43.70  44.19  43.65  44.15  32518754\n",
      "1  2015-02-20  43.51  43.88  43.29  43.86  29721133\n",
      "2  2015-02-19  43.18  43.53  43.05  43.50  27603420\n",
      "3  2015-02-18  43.63  43.70  43.39  43.53  27111657\n",
      "4  2015-02-17  43.97  44.00  43.19  43.58  33695749\n"
     ]
    }
   ],
   "source": [
    "print apple.shape\n",
    "print microsoft.shape\n",
    "\n",
    "print apple.head()\n",
    "print microsoft.head()"
   ]
  },
  {
   "cell_type": "code",
   "execution_count": 34,
   "metadata": {
    "collapsed": false
   },
   "outputs": [],
   "source": [
    "fboth=apple.join(microsoft, lsuffix='apple', rsuffix='microsoft')"
   ]
  },
  {
   "cell_type": "code",
   "execution_count": 32,
   "metadata": {
    "collapsed": false
   },
   "outputs": [
    {
     "name": "stdout",
     "output_type": "stream",
     "text": [
      "    Dateapple  Openapple  Highapple  Lowapple  Closeapple  Volumeapple  \\\n",
      "0  2015-02-23     130.02     133.00    129.66      133.00     67871830   \n",
      "1  2015-02-20     128.62     129.50    128.05      129.50     48948419   \n",
      "2  2015-02-19     128.48     129.03    128.33      128.45     37362381   \n",
      "3  2015-02-18     127.62     128.78    127.45      128.72     44891737   \n",
      "4  2015-02-17     127.49     128.88    126.92      127.83     63152405   \n",
      "\n",
      "  Datemicrosoft  Openmicrosoft  Highmicrosoft  Lowmicrosoft  Closemicrosoft  \\\n",
      "0           NaN            NaN            NaN           NaN             NaN   \n",
      "1           NaN            NaN            NaN           NaN             NaN   \n",
      "2           NaN            NaN            NaN           NaN             NaN   \n",
      "3           NaN            NaN            NaN           NaN             NaN   \n",
      "4           NaN            NaN            NaN           NaN             NaN   \n",
      "\n",
      "   Volumemicrosoft  \n",
      "0              NaN  \n",
      "1              NaN  \n",
      "2              NaN  \n",
      "3              NaN  \n",
      "4              NaN  \n"
     ]
    },
    {
     "data": {
      "image/png": "[encoded data removed]",
      "text/plain": [
       "<matplotlib.figure.Figure at 0x122b94a8>"
      ]
     },
     "metadata": {},
     "output_type": "display_data"
    }
   ],
   "source": [
    "%matplotlib inline\n",
    "fboth.plot.line(y=['Closemicrosoft', 'Closeapple'])\n",
    "\n",
    "\n",
    "print fboth.head()"
   ]
  },
  {
   "cell_type": "code",
   "execution_count": 17,
   "metadata": {
    "collapsed": false
   },
   "outputs": [
    {
     "name": "stdout",
     "output_type": "stream",
     "text": [
      "    Dateapple  Openapple  Highapple  Lowapple  Closeapple  Volumeapple  \\\n",
      "0  2015-02-23     130.02     133.00    129.66      133.00     67871830   \n",
      "1  2015-02-20     128.62     129.50    128.05      129.50     48948419   \n",
      "2  2015-02-19     128.48     129.03    128.33      128.45     37362381   \n",
      "3  2015-02-18     127.62     128.78    127.45      128.72     44891737   \n",
      "4  2015-02-17     127.49     128.88    126.92      127.83     63152405   \n",
      "\n",
      "  Datemicrosoft  Openmicrosoft  Highmicrosoft  Lowmicrosoft  Closemicrosoft  \\\n",
      "0           NaN            NaN            NaN           NaN             NaN   \n",
      "1           NaN            NaN            NaN           NaN             NaN   \n",
      "2           NaN            NaN            NaN           NaN             NaN   \n",
      "3           NaN            NaN            NaN           NaN             NaN   \n",
      "4           NaN            NaN            NaN           NaN             NaN   \n",
      "\n",
      "   Volumemicrosoft  \n",
      "0              NaN  \n",
      "1              NaN  \n",
      "2              NaN  \n",
      "3              NaN  \n",
      "4              NaN  \n"
     ]
    }
   ],
   "source": [
    "print fboth.head()"
   ]
  },
  {
   "cell_type": "code",
   "execution_count": null,
   "metadata": {
    "collapsed": true
   },
   "outputs": [],
   "source": []
  }
 ],
 "metadata": {
  "kernelspec": {
   "display_name": "Python 2",
   "language": "python",
   "name": "python2"
  },
  "language_info": {
   "codemirror_mode": {
    "name": "ipython",
    "version": 2
   },
   "file_extension": ".py",
   "mimetype": "text/x-python",
   "name": "python",
   "nbconvert_exporter": "python",
   "pygments_lexer": "ipython2",
   "version": "2.7.11"
  }
 },
 "nbformat": 4,
 "nbformat_minor": 0
}

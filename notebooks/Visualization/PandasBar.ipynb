{
 "cells": [
  {
   "cell_type": "code",
   "execution_count": 3,
   "metadata": {
    "collapsed": false
   },
   "outputs": [
    {
     "data": {
      "text/plain": [
       "(471, 30)"
      ]
     },
     "execution_count": 3,
     "metadata": {},
     "output_type": "execute_result"
    }
   ],
   "source": [
    "import pandas as pd\n",
    "\n",
    "basketball_stats=pd.read_csv('../../data/basketball/stats2016.csv', sep=';')\n",
    "basketball_stats.head()\n",
    "basketball_stats.shape"
   ]
  },
  {
   "cell_type": "markdown",
   "metadata": {},
   "source": [
    "In this step we sort by MP and then only take the top 100 in minutes played.  We do this to avoid looking at a lot of players who didn't get much playing time.  "
   ]
  },
  {
   "cell_type": "code",
   "execution_count": 4,
   "metadata": {
    "collapsed": false
   },
   "outputs": [
    {
     "name": "stderr",
     "output_type": "stream",
     "text": [
      "/home/bnorthan/anaconda/lib/python2.7/site-packages/IPython/kernel/__main__.py:1: FutureWarning: sort(columns=....) is deprecated, use sort_values(by=.....)\n",
      "  if __name__ == '__main__':\n"
     ]
    }
   ],
   "source": [
    "basketball_stats=basketball_stats.sort('MP', ascending=False)\n",
    "basketball_stats=basketball_stats[0:100]"
   ]
  },
  {
   "cell_type": "markdown",
   "metadata": {},
   "source": [
    "Now we use our group by function to get players grouped by position. "
   ]
  },
  {
   "cell_type": "code",
   "execution_count": 5,
   "metadata": {
    "collapsed": false
   },
   "outputs": [
    {
     "data": {
      "text/html": [
       "<div>\n",
       "<table border=\"1\" class=\"dataframe\">\n",
       "  <thead>\n",
       "    <tr style=\"text-align: right;\">\n",
       "      <th></th>\n",
       "      <th>Rk</th>\n",
       "      <th>Age</th>\n",
       "      <th>G</th>\n",
       "      <th>GS</th>\n",
       "      <th>MP</th>\n",
       "      <th>FG</th>\n",
       "      <th>FGA</th>\n",
       "      <th>FG%</th>\n",
       "      <th>3P</th>\n",
       "      <th>3PA</th>\n",
       "      <th>...</th>\n",
       "      <th>FT%</th>\n",
       "      <th>ORB</th>\n",
       "      <th>DRB</th>\n",
       "      <th>TRB</th>\n",
       "      <th>AST</th>\n",
       "      <th>STL</th>\n",
       "      <th>BLK</th>\n",
       "      <th>TOV</th>\n",
       "      <th>PF</th>\n",
       "      <th>PTS</th>\n",
       "    </tr>\n",
       "    <tr>\n",
       "      <th>Pos</th>\n",
       "      <th></th>\n",
       "      <th></th>\n",
       "      <th></th>\n",
       "      <th></th>\n",
       "      <th></th>\n",
       "      <th></th>\n",
       "      <th></th>\n",
       "      <th></th>\n",
       "      <th></th>\n",
       "      <th></th>\n",
       "      <th></th>\n",
       "      <th></th>\n",
       "      <th></th>\n",
       "      <th></th>\n",
       "      <th></th>\n",
       "      <th></th>\n",
       "      <th></th>\n",
       "      <th></th>\n",
       "      <th></th>\n",
       "      <th></th>\n",
       "      <th></th>\n",
       "    </tr>\n",
       "  </thead>\n",
       "  <tbody>\n",
       "    <tr>\n",
       "      <th>C</th>\n",
       "      <td>230.000000</td>\n",
       "      <td>26.733333</td>\n",
       "      <td>48.800000</td>\n",
       "      <td>48.200000</td>\n",
       "      <td>32.186667</td>\n",
       "      <td>6.353333</td>\n",
       "      <td>12.413333</td>\n",
       "      <td>0.526667</td>\n",
       "      <td>0.186667</td>\n",
       "      <td>0.573333</td>\n",
       "      <td>...</td>\n",
       "      <td>0.691067</td>\n",
       "      <td>2.893333</td>\n",
       "      <td>7.246667</td>\n",
       "      <td>10.146667</td>\n",
       "      <td>2.106667</td>\n",
       "      <td>0.860000</td>\n",
       "      <td>1.480000</td>\n",
       "      <td>2.060000</td>\n",
       "      <td>2.720000</td>\n",
       "      <td>16.086667</td>\n",
       "    </tr>\n",
       "    <tr>\n",
       "      <th>PF</th>\n",
       "      <td>186.000000</td>\n",
       "      <td>26.733333</td>\n",
       "      <td>48.400000</td>\n",
       "      <td>45.000000</td>\n",
       "      <td>32.613333</td>\n",
       "      <td>6.446667</td>\n",
       "      <td>13.540000</td>\n",
       "      <td>0.477867</td>\n",
       "      <td>0.993333</td>\n",
       "      <td>2.706667</td>\n",
       "      <td>...</td>\n",
       "      <td>0.759400</td>\n",
       "      <td>1.866667</td>\n",
       "      <td>6.260000</td>\n",
       "      <td>8.133333</td>\n",
       "      <td>2.540000</td>\n",
       "      <td>1.066667</td>\n",
       "      <td>1.013333</td>\n",
       "      <td>1.966667</td>\n",
       "      <td>2.386667</td>\n",
       "      <td>17.120000</td>\n",
       "    </tr>\n",
       "    <tr>\n",
       "      <th>PG</th>\n",
       "      <td>275.608696</td>\n",
       "      <td>26.347826</td>\n",
       "      <td>44.217391</td>\n",
       "      <td>43.304348</td>\n",
       "      <td>32.791304</td>\n",
       "      <td>6.186957</td>\n",
       "      <td>14.386957</td>\n",
       "      <td>0.427174</td>\n",
       "      <td>1.473913</td>\n",
       "      <td>4.104348</td>\n",
       "      <td>...</td>\n",
       "      <td>0.797739</td>\n",
       "      <td>0.734783</td>\n",
       "      <td>3.521739</td>\n",
       "      <td>4.243478</td>\n",
       "      <td>6.830435</td>\n",
       "      <td>1.504348</td>\n",
       "      <td>0.326087</td>\n",
       "      <td>2.843478</td>\n",
       "      <td>2.213043</td>\n",
       "      <td>17.208696</td>\n",
       "    </tr>\n",
       "    <tr>\n",
       "      <th>SF</th>\n",
       "      <td>145.954545</td>\n",
       "      <td>27.181818</td>\n",
       "      <td>46.363636</td>\n",
       "      <td>44.045455</td>\n",
       "      <td>32.622727</td>\n",
       "      <td>5.518182</td>\n",
       "      <td>12.277273</td>\n",
       "      <td>0.447318</td>\n",
       "      <td>1.463636</td>\n",
       "      <td>4.072727</td>\n",
       "      <td>...</td>\n",
       "      <td>0.777409</td>\n",
       "      <td>1.086364</td>\n",
       "      <td>4.540909</td>\n",
       "      <td>5.622727</td>\n",
       "      <td>2.600000</td>\n",
       "      <td>1.145455</td>\n",
       "      <td>0.445455</td>\n",
       "      <td>1.731818</td>\n",
       "      <td>2.168182</td>\n",
       "      <td>15.422727</td>\n",
       "    </tr>\n",
       "    <tr>\n",
       "      <th>SG</th>\n",
       "      <td>204.840000</td>\n",
       "      <td>26.120000</td>\n",
       "      <td>48.720000</td>\n",
       "      <td>46.520000</td>\n",
       "      <td>33.484000</td>\n",
       "      <td>5.972000</td>\n",
       "      <td>13.672000</td>\n",
       "      <td>0.435160</td>\n",
       "      <td>1.700000</td>\n",
       "      <td>4.708000</td>\n",
       "      <td>...</td>\n",
       "      <td>0.810440</td>\n",
       "      <td>0.668000</td>\n",
       "      <td>3.092000</td>\n",
       "      <td>3.748000</td>\n",
       "      <td>3.344000</td>\n",
       "      <td>1.116000</td>\n",
       "      <td>0.380000</td>\n",
       "      <td>2.072000</td>\n",
       "      <td>2.212000</td>\n",
       "      <td>16.672000</td>\n",
       "    </tr>\n",
       "  </tbody>\n",
       "</table>\n",
       "<p>5 rows × 27 columns</p>\n",
       "</div>"
      ],
      "text/plain": [
       "             Rk        Age          G         GS         MP        FG  \\\n",
       "Pos                                                                     \n",
       "C    230.000000  26.733333  48.800000  48.200000  32.186667  6.353333   \n",
       "PF   186.000000  26.733333  48.400000  45.000000  32.613333  6.446667   \n",
       "PG   275.608696  26.347826  44.217391  43.304348  32.791304  6.186957   \n",
       "SF   145.954545  27.181818  46.363636  44.045455  32.622727  5.518182   \n",
       "SG   204.840000  26.120000  48.720000  46.520000  33.484000  5.972000   \n",
       "\n",
       "           FGA       FG%        3P       3PA    ...           FT%       ORB  \\\n",
       "Pos                                             ...                           \n",
       "C    12.413333  0.526667  0.186667  0.573333    ...      0.691067  2.893333   \n",
       "PF   13.540000  0.477867  0.993333  2.706667    ...      0.759400  1.866667   \n",
       "PG   14.386957  0.427174  1.473913  4.104348    ...      0.797739  0.734783   \n",
       "SF   12.277273  0.447318  1.463636  4.072727    ...      0.777409  1.086364   \n",
       "SG   13.672000  0.435160  1.700000  4.708000    ...      0.810440  0.668000   \n",
       "\n",
       "          DRB        TRB       AST       STL       BLK       TOV        PF  \\\n",
       "Pos                                                                          \n",
       "C    7.246667  10.146667  2.106667  0.860000  1.480000  2.060000  2.720000   \n",
       "PF   6.260000   8.133333  2.540000  1.066667  1.013333  1.966667  2.386667   \n",
       "PG   3.521739   4.243478  6.830435  1.504348  0.326087  2.843478  2.213043   \n",
       "SF   4.540909   5.622727  2.600000  1.145455  0.445455  1.731818  2.168182   \n",
       "SG   3.092000   3.748000  3.344000  1.116000  0.380000  2.072000  2.212000   \n",
       "\n",
       "           PTS  \n",
       "Pos             \n",
       "C    16.086667  \n",
       "PF   17.120000  \n",
       "PG   17.208696  \n",
       "SF   15.422727  \n",
       "SG   16.672000  \n",
       "\n",
       "[5 rows x 27 columns]"
      ]
     },
     "execution_count": 5,
     "metadata": {},
     "output_type": "execute_result"
    }
   ],
   "source": [
    "# group by position\n",
    "grouped_stats=basketball_stats.groupby('Pos')\n",
    "# aggregate using the mean\n",
    "grouped_stats=grouped_stats.mean()\n",
    "grouped_stats"
   ]
  },
  {
   "cell_type": "code",
   "execution_count": 10,
   "metadata": {
    "collapsed": false
   },
   "outputs": [
    {
     "data": {
      "image/png": "[encoded data removed]",
      "text/plain": [
       "<matplotlib.figure.Figure at 0x7f0e87dba190>"
      ]
     },
     "metadata": {},
     "output_type": "display_data"
    }
   ],
   "source": [
    "%matplotlib inline\n",
    "plot=grouped_stats['AST'].plot(kind='bar', figsize=(12,10))\n",
    "plot.get_figure().show()"
   ]
  },
  {
   "cell_type": "code",
   "execution_count": 9,
   "metadata": {
    "collapsed": false
   },
   "outputs": [
    {
     "data": {
      "text/plain": [
       "<matplotlib.axes._subplots.AxesSubplot at 0x7f0e87e65490>"
      ]
     },
     "execution_count": 9,
     "metadata": {},
     "output_type": "execute_result"
    },
    {
     "data": {
      "image/png": "[encoded data removed]",
      "text/plain": [
       "<matplotlib.figure.Figure at 0x7f0e87e890d0>"
      ]
     },
     "metadata": {},
     "output_type": "display_data"
    }
   ],
   "source": [
    "grouped_stats['AST'].plot(kind='pie',figsize=(12,10))"
   ]
  },
  {
   "cell_type": "code",
   "execution_count": null,
   "metadata": {
    "collapsed": true
   },
   "outputs": [],
   "source": []
  }
 ],
 "metadata": {
  "kernelspec": {
   "display_name": "Python 2",
   "language": "python",
   "name": "python2"
  },
  "language_info": {
   "codemirror_mode": {
    "name": "ipython",
    "version": 2
   },
   "file_extension": ".py",
   "mimetype": "text/x-python",
   "name": "python",
   "nbconvert_exporter": "python",
   "pygments_lexer": "ipython2",
   "version": "2.7.11"
  }
 },
 "nbformat": 4,
 "nbformat_minor": 0
}

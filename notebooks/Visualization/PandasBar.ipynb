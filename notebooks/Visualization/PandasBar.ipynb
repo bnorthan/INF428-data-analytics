{
 "cells": [
  {
   "cell_type": "markdown",
   "metadata": {},
   "source": [
    "# Sorting, Grouping and Plotting with Pandas"
   ]
  },
  {
   "cell_type": "markdown",
   "metadata": {},
   "source": [
    "First import the pandas library"
   ]
  },
  {
   "cell_type": "code",
   "execution_count": 2,
   "metadata": {
    "collapsed": false
   },
   "outputs": [],
   "source": [
    "import pandas as pd"
   ]
  },
  {
   "cell_type": "markdown",
   "metadata": {},
   "source": [
    "Now load the data and print out the size (shape), the names of the columns and the first few rows (head)."
   ]
  },
  {
   "cell_type": "code",
   "execution_count": 3,
   "metadata": {
    "collapsed": false
   },
   "outputs": [
    {
     "name": "stdout",
     "output_type": "stream",
     "text": [
      "(471, 30)\n",
      "\n",
      "Index([u'Rk', u'Player', u'Pos', u'Age', u'Tm', u'G', u'GS', u'MP', u'FG',\n",
      "       u'FGA', u'FG%', u'3P', u'3PA', u'3P.1', u'2P', u'2PA', u'2P.1', u'eFG%',\n",
      "       u'FT', u'FTA', u'FT%', u'ORB', u'DRB', u'TRB', u'AST', u'STL', u'BLK',\n",
      "       u'TOV', u'PF', u'PTS'],\n",
      "      dtype='object')\n",
      "\n"
     ]
    },
    {
     "data": {
      "text/html": [
       "<div>\n",
       "<table border=\"1\" class=\"dataframe\">\n",
       "  <thead>\n",
       "    <tr style=\"text-align: right;\">\n",
       "      <th></th>\n",
       "      <th>Rk</th>\n",
       "      <th>Player</th>\n",
       "      <th>Pos</th>\n",
       "      <th>Age</th>\n",
       "      <th>Tm</th>\n",
       "      <th>G</th>\n",
       "      <th>GS</th>\n",
       "      <th>MP</th>\n",
       "      <th>FG</th>\n",
       "      <th>FGA</th>\n",
       "      <th>...</th>\n",
       "      <th>FT%</th>\n",
       "      <th>ORB</th>\n",
       "      <th>DRB</th>\n",
       "      <th>TRB</th>\n",
       "      <th>AST</th>\n",
       "      <th>STL</th>\n",
       "      <th>BLK</th>\n",
       "      <th>TOV</th>\n",
       "      <th>PF</th>\n",
       "      <th>PTS</th>\n",
       "    </tr>\n",
       "  </thead>\n",
       "  <tbody>\n",
       "    <tr>\n",
       "      <th>0</th>\n",
       "      <td>3</td>\n",
       "      <td>Steven Adams</td>\n",
       "      <td>C</td>\n",
       "      <td>22</td>\n",
       "      <td>OKC</td>\n",
       "      <td>52</td>\n",
       "      <td>52</td>\n",
       "      <td>24.9</td>\n",
       "      <td>2.8</td>\n",
       "      <td>4.8</td>\n",
       "      <td>...</td>\n",
       "      <td>0.607</td>\n",
       "      <td>2.5</td>\n",
       "      <td>3.8</td>\n",
       "      <td>6.3</td>\n",
       "      <td>0.7</td>\n",
       "      <td>0.4</td>\n",
       "      <td>1.2</td>\n",
       "      <td>1.0</td>\n",
       "      <td>2.8</td>\n",
       "      <td>7.2</td>\n",
       "    </tr>\n",
       "    <tr>\n",
       "      <th>1</th>\n",
       "      <td>5</td>\n",
       "      <td>Alexis Ajinca</td>\n",
       "      <td>C</td>\n",
       "      <td>27</td>\n",
       "      <td>NOP</td>\n",
       "      <td>41</td>\n",
       "      <td>6</td>\n",
       "      <td>12.3</td>\n",
       "      <td>2.0</td>\n",
       "      <td>4.0</td>\n",
       "      <td>...</td>\n",
       "      <td>0.821</td>\n",
       "      <td>1.1</td>\n",
       "      <td>3.0</td>\n",
       "      <td>4.1</td>\n",
       "      <td>0.4</td>\n",
       "      <td>0.3</td>\n",
       "      <td>0.5</td>\n",
       "      <td>0.5</td>\n",
       "      <td>2.2</td>\n",
       "      <td>4.6</td>\n",
       "    </tr>\n",
       "    <tr>\n",
       "      <th>2</th>\n",
       "      <td>6</td>\n",
       "      <td>Cole Aldrich</td>\n",
       "      <td>C</td>\n",
       "      <td>27</td>\n",
       "      <td>LAC</td>\n",
       "      <td>31</td>\n",
       "      <td>2</td>\n",
       "      <td>11.5</td>\n",
       "      <td>2.1</td>\n",
       "      <td>3.9</td>\n",
       "      <td>...</td>\n",
       "      <td>0.661</td>\n",
       "      <td>1.1</td>\n",
       "      <td>2.7</td>\n",
       "      <td>3.8</td>\n",
       "      <td>0.9</td>\n",
       "      <td>0.6</td>\n",
       "      <td>0.7</td>\n",
       "      <td>0.9</td>\n",
       "      <td>2.2</td>\n",
       "      <td>5.4</td>\n",
       "    </tr>\n",
       "    <tr>\n",
       "      <th>3</th>\n",
       "      <td>13</td>\n",
       "      <td>Chris Andersen</td>\n",
       "      <td>C</td>\n",
       "      <td>37</td>\n",
       "      <td>MIA</td>\n",
       "      <td>7</td>\n",
       "      <td>1</td>\n",
       "      <td>5.1</td>\n",
       "      <td>0.6</td>\n",
       "      <td>1.4</td>\n",
       "      <td>...</td>\n",
       "      <td>0.750</td>\n",
       "      <td>0.4</td>\n",
       "      <td>0.9</td>\n",
       "      <td>1.3</td>\n",
       "      <td>0.4</td>\n",
       "      <td>0.1</td>\n",
       "      <td>0.4</td>\n",
       "      <td>0.3</td>\n",
       "      <td>0.6</td>\n",
       "      <td>1.9</td>\n",
       "    </tr>\n",
       "    <tr>\n",
       "      <th>4</th>\n",
       "      <td>21</td>\n",
       "      <td>Joel Anthony</td>\n",
       "      <td>C</td>\n",
       "      <td>33</td>\n",
       "      <td>DET</td>\n",
       "      <td>13</td>\n",
       "      <td>0</td>\n",
       "      <td>4.0</td>\n",
       "      <td>0.2</td>\n",
       "      <td>0.4</td>\n",
       "      <td>...</td>\n",
       "      <td>0.833</td>\n",
       "      <td>0.5</td>\n",
       "      <td>0.6</td>\n",
       "      <td>1.2</td>\n",
       "      <td>0.1</td>\n",
       "      <td>0.2</td>\n",
       "      <td>0.3</td>\n",
       "      <td>0.1</td>\n",
       "      <td>0.6</td>\n",
       "      <td>0.7</td>\n",
       "    </tr>\n",
       "  </tbody>\n",
       "</table>\n",
       "<p>5 rows × 30 columns</p>\n",
       "</div>"
      ],
      "text/plain": [
       "   Rk          Player Pos  Age   Tm   G  GS    MP   FG  FGA ...     FT%  ORB  \\\n",
       "0   3    Steven Adams   C   22  OKC  52  52  24.9  2.8  4.8 ...   0.607  2.5   \n",
       "1   5   Alexis Ajinca   C   27  NOP  41   6  12.3  2.0  4.0 ...   0.821  1.1   \n",
       "2   6    Cole Aldrich   C   27  LAC  31   2  11.5  2.1  3.9 ...   0.661  1.1   \n",
       "3  13  Chris Andersen   C   37  MIA   7   1   5.1  0.6  1.4 ...   0.750  0.4   \n",
       "4  21    Joel Anthony   C   33  DET  13   0   4.0  0.2  0.4 ...   0.833  0.5   \n",
       "\n",
       "   DRB  TRB  AST  STL  BLK  TOV   PF  PTS  \n",
       "0  3.8  6.3  0.7  0.4  1.2  1.0  2.8  7.2  \n",
       "1  3.0  4.1  0.4  0.3  0.5  0.5  2.2  4.6  \n",
       "2  2.7  3.8  0.9  0.6  0.7  0.9  2.2  5.4  \n",
       "3  0.9  1.3  0.4  0.1  0.4  0.3  0.6  1.9  \n",
       "4  0.6  1.2  0.1  0.2  0.3  0.1  0.6  0.7  \n",
       "\n",
       "[5 rows x 30 columns]"
      ]
     },
     "execution_count": 3,
     "metadata": {},
     "output_type": "execute_result"
    }
   ],
   "source": [
    "basketball_stats=pd.read_csv('../../data/basketball/stats2016.csv', sep=';')\n",
    "\n",
    "print basketball_stats.shape\n",
    "print\n",
    "print basketball_stats.columns\n",
    "print\n",
    "basketball_stats.head()"
   ]
  },
  {
   "cell_type": "markdown",
   "metadata": {},
   "source": [
    "In this step we sort by MP (minutes played) and then only take the top 100 in minutes played.  We do this to avoid looking at a lot of players who didn't get much playing time.  "
   ]
  },
  {
   "cell_type": "code",
   "execution_count": 4,
   "metadata": {
    "collapsed": false
   },
   "outputs": [
    {
     "name": "stderr",
     "output_type": "stream",
     "text": [
      "/home/bnorthan/anaconda/lib/python2.7/site-packages/IPython/kernel/__main__.py:1: FutureWarning: sort(columns=....) is deprecated, use sort_values(by=.....)\n",
      "  if __name__ == '__main__':\n"
     ]
    }
   ],
   "source": [
    "basketball_stats=basketball_stats.sort('MP', ascending=False)\n",
    "basketball_stats=basketball_stats[0:100]"
   ]
  },
  {
   "cell_type": "markdown",
   "metadata": {},
   "source": [
    "Now we use our group by function to get players grouped by position. We aggregate by mean and end up with a table that contains the mean values for each position. "
   ]
  },
  {
   "cell_type": "code",
   "execution_count": 5,
   "metadata": {
    "collapsed": false
   },
   "outputs": [
    {
     "data": {
      "text/html": [
       "<div>\n",
       "<table border=\"1\" class=\"dataframe\">\n",
       "  <thead>\n",
       "    <tr style=\"text-align: right;\">\n",
       "      <th></th>\n",
       "      <th>Rk</th>\n",
       "      <th>Age</th>\n",
       "      <th>G</th>\n",
       "      <th>GS</th>\n",
       "      <th>MP</th>\n",
       "      <th>FG</th>\n",
       "      <th>FGA</th>\n",
       "      <th>FG%</th>\n",
       "      <th>3P</th>\n",
       "      <th>3PA</th>\n",
       "      <th>...</th>\n",
       "      <th>FT%</th>\n",
       "      <th>ORB</th>\n",
       "      <th>DRB</th>\n",
       "      <th>TRB</th>\n",
       "      <th>AST</th>\n",
       "      <th>STL</th>\n",
       "      <th>BLK</th>\n",
       "      <th>TOV</th>\n",
       "      <th>PF</th>\n",
       "      <th>PTS</th>\n",
       "    </tr>\n",
       "    <tr>\n",
       "      <th>Pos</th>\n",
       "      <th></th>\n",
       "      <th></th>\n",
       "      <th></th>\n",
       "      <th></th>\n",
       "      <th></th>\n",
       "      <th></th>\n",
       "      <th></th>\n",
       "      <th></th>\n",
       "      <th></th>\n",
       "      <th></th>\n",
       "      <th></th>\n",
       "      <th></th>\n",
       "      <th></th>\n",
       "      <th></th>\n",
       "      <th></th>\n",
       "      <th></th>\n",
       "      <th></th>\n",
       "      <th></th>\n",
       "      <th></th>\n",
       "      <th></th>\n",
       "      <th></th>\n",
       "    </tr>\n",
       "  </thead>\n",
       "  <tbody>\n",
       "    <tr>\n",
       "      <th>C</th>\n",
       "      <td>230.000000</td>\n",
       "      <td>26.733333</td>\n",
       "      <td>48.800000</td>\n",
       "      <td>48.200000</td>\n",
       "      <td>32.186667</td>\n",
       "      <td>6.353333</td>\n",
       "      <td>12.413333</td>\n",
       "      <td>0.526667</td>\n",
       "      <td>0.186667</td>\n",
       "      <td>0.573333</td>\n",
       "      <td>...</td>\n",
       "      <td>0.691067</td>\n",
       "      <td>2.893333</td>\n",
       "      <td>7.246667</td>\n",
       "      <td>10.146667</td>\n",
       "      <td>2.106667</td>\n",
       "      <td>0.860000</td>\n",
       "      <td>1.480000</td>\n",
       "      <td>2.060000</td>\n",
       "      <td>2.720000</td>\n",
       "      <td>16.086667</td>\n",
       "    </tr>\n",
       "    <tr>\n",
       "      <th>PF</th>\n",
       "      <td>186.000000</td>\n",
       "      <td>26.733333</td>\n",
       "      <td>48.400000</td>\n",
       "      <td>45.000000</td>\n",
       "      <td>32.613333</td>\n",
       "      <td>6.446667</td>\n",
       "      <td>13.540000</td>\n",
       "      <td>0.477867</td>\n",
       "      <td>0.993333</td>\n",
       "      <td>2.706667</td>\n",
       "      <td>...</td>\n",
       "      <td>0.759400</td>\n",
       "      <td>1.866667</td>\n",
       "      <td>6.260000</td>\n",
       "      <td>8.133333</td>\n",
       "      <td>2.540000</td>\n",
       "      <td>1.066667</td>\n",
       "      <td>1.013333</td>\n",
       "      <td>1.966667</td>\n",
       "      <td>2.386667</td>\n",
       "      <td>17.120000</td>\n",
       "    </tr>\n",
       "    <tr>\n",
       "      <th>PG</th>\n",
       "      <td>275.608696</td>\n",
       "      <td>26.347826</td>\n",
       "      <td>44.217391</td>\n",
       "      <td>43.304348</td>\n",
       "      <td>32.791304</td>\n",
       "      <td>6.186957</td>\n",
       "      <td>14.386957</td>\n",
       "      <td>0.427174</td>\n",
       "      <td>1.473913</td>\n",
       "      <td>4.104348</td>\n",
       "      <td>...</td>\n",
       "      <td>0.797739</td>\n",
       "      <td>0.734783</td>\n",
       "      <td>3.521739</td>\n",
       "      <td>4.243478</td>\n",
       "      <td>6.830435</td>\n",
       "      <td>1.504348</td>\n",
       "      <td>0.326087</td>\n",
       "      <td>2.843478</td>\n",
       "      <td>2.213043</td>\n",
       "      <td>17.208696</td>\n",
       "    </tr>\n",
       "    <tr>\n",
       "      <th>SF</th>\n",
       "      <td>145.954545</td>\n",
       "      <td>27.181818</td>\n",
       "      <td>46.363636</td>\n",
       "      <td>44.045455</td>\n",
       "      <td>32.622727</td>\n",
       "      <td>5.518182</td>\n",
       "      <td>12.277273</td>\n",
       "      <td>0.447318</td>\n",
       "      <td>1.463636</td>\n",
       "      <td>4.072727</td>\n",
       "      <td>...</td>\n",
       "      <td>0.777409</td>\n",
       "      <td>1.086364</td>\n",
       "      <td>4.540909</td>\n",
       "      <td>5.622727</td>\n",
       "      <td>2.600000</td>\n",
       "      <td>1.145455</td>\n",
       "      <td>0.445455</td>\n",
       "      <td>1.731818</td>\n",
       "      <td>2.168182</td>\n",
       "      <td>15.422727</td>\n",
       "    </tr>\n",
       "    <tr>\n",
       "      <th>SG</th>\n",
       "      <td>204.840000</td>\n",
       "      <td>26.120000</td>\n",
       "      <td>48.720000</td>\n",
       "      <td>46.520000</td>\n",
       "      <td>33.484000</td>\n",
       "      <td>5.972000</td>\n",
       "      <td>13.672000</td>\n",
       "      <td>0.435160</td>\n",
       "      <td>1.700000</td>\n",
       "      <td>4.708000</td>\n",
       "      <td>...</td>\n",
       "      <td>0.810440</td>\n",
       "      <td>0.668000</td>\n",
       "      <td>3.092000</td>\n",
       "      <td>3.748000</td>\n",
       "      <td>3.344000</td>\n",
       "      <td>1.116000</td>\n",
       "      <td>0.380000</td>\n",
       "      <td>2.072000</td>\n",
       "      <td>2.212000</td>\n",
       "      <td>16.672000</td>\n",
       "    </tr>\n",
       "  </tbody>\n",
       "</table>\n",
       "<p>5 rows × 27 columns</p>\n",
       "</div>"
      ],
      "text/plain": [
       "             Rk        Age          G         GS         MP        FG  \\\n",
       "Pos                                                                     \n",
       "C    230.000000  26.733333  48.800000  48.200000  32.186667  6.353333   \n",
       "PF   186.000000  26.733333  48.400000  45.000000  32.613333  6.446667   \n",
       "PG   275.608696  26.347826  44.217391  43.304348  32.791304  6.186957   \n",
       "SF   145.954545  27.181818  46.363636  44.045455  32.622727  5.518182   \n",
       "SG   204.840000  26.120000  48.720000  46.520000  33.484000  5.972000   \n",
       "\n",
       "           FGA       FG%        3P       3PA    ...           FT%       ORB  \\\n",
       "Pos                                             ...                           \n",
       "C    12.413333  0.526667  0.186667  0.573333    ...      0.691067  2.893333   \n",
       "PF   13.540000  0.477867  0.993333  2.706667    ...      0.759400  1.866667   \n",
       "PG   14.386957  0.427174  1.473913  4.104348    ...      0.797739  0.734783   \n",
       "SF   12.277273  0.447318  1.463636  4.072727    ...      0.777409  1.086364   \n",
       "SG   13.672000  0.435160  1.700000  4.708000    ...      0.810440  0.668000   \n",
       "\n",
       "          DRB        TRB       AST       STL       BLK       TOV        PF  \\\n",
       "Pos                                                                          \n",
       "C    7.246667  10.146667  2.106667  0.860000  1.480000  2.060000  2.720000   \n",
       "PF   6.260000   8.133333  2.540000  1.066667  1.013333  1.966667  2.386667   \n",
       "PG   3.521739   4.243478  6.830435  1.504348  0.326087  2.843478  2.213043   \n",
       "SF   4.540909   5.622727  2.600000  1.145455  0.445455  1.731818  2.168182   \n",
       "SG   3.092000   3.748000  3.344000  1.116000  0.380000  2.072000  2.212000   \n",
       "\n",
       "           PTS  \n",
       "Pos             \n",
       "C    16.086667  \n",
       "PF   17.120000  \n",
       "PG   17.208696  \n",
       "SF   15.422727  \n",
       "SG   16.672000  \n",
       "\n",
       "[5 rows x 27 columns]"
      ]
     },
     "execution_count": 5,
     "metadata": {},
     "output_type": "execute_result"
    }
   ],
   "source": [
    "# group by position\n",
    "grouped_stats=basketball_stats.groupby('Pos')\n",
    "# aggregate using the mean\n",
    "grouped_stats=grouped_stats.mean()\n",
    "grouped_stats"
   ]
  },
  {
   "cell_type": "markdown",
   "metadata": {},
   "source": [
    "Now we can plot directly from the Pandas DataFrame, by calling *plot.bar*"
   ]
  },
  {
   "cell_type": "code",
   "execution_count": 6,
   "metadata": {
    "collapsed": false
   },
   "outputs": [
    {
     "name": "stderr",
     "output_type": "stream",
     "text": [
      "/home/bnorthan/anaconda/lib/python2.7/site-packages/matplotlib/figure.py:387: UserWarning: matplotlib is currently using a non-GUI backend, so cannot show the figure\n",
      "  \"matplotlib is currently using a non-GUI backend, \"\n"
     ]
    },
    {
     "data": {
      "image/png": "[encoded data removed]",
      "text/plain": [
       "<matplotlib.figure.Figure at 0x7f5ab94539d0>"
      ]
     },
     "metadata": {},
     "output_type": "display_data"
    }
   ],
   "source": [
    "%matplotlib inline\n",
    "plot=grouped_stats['DRB'].plot.bar(figsize=(12,10))\n",
    "plot.get_figure().show()"
   ]
  },
  {
   "cell_type": "markdown",
   "metadata": {},
   "source": [
    "We can also do a pie chart."
   ]
  },
  {
   "cell_type": "code",
   "execution_count": 9,
   "metadata": {
    "collapsed": false
   },
   "outputs": [
    {
     "data": {
      "text/plain": [
       "<matplotlib.axes._subplots.AxesSubplot at 0x7f08e974b0d0>"
      ]
     },
     "execution_count": 9,
     "metadata": {},
     "output_type": "execute_result"
    },
    {
     "data": {
      "image/png": "[encoded data removed]",
      "text/plain": [
       "<matplotlib.figure.Figure at 0x7f08e9640ad0>"
      ]
     },
     "metadata": {},
     "output_type": "display_data"
    }
   ],
   "source": [
    "grouped_stats['AST'].plot(kind='pie',figsize=(12,10))"
   ]
  },
  {
   "cell_type": "markdown",
   "metadata": {},
   "source": [
    "Here we show how to place two plots on the same figure.  The top plot show the average number of rebounds for each position, and the bottom plot the average number of assists for each position.  This is a great sanity test.  The Center should have the most rebounds, and the point guard the most assists.  "
   ]
  },
  {
   "cell_type": "code",
   "execution_count": 23,
   "metadata": {
    "collapsed": false
   },
   "outputs": [
    {
     "data": {
      "text/plain": [
       "<matplotlib.text.Text at 0x7f08e92fad50>"
      ]
     },
     "execution_count": 23,
     "metadata": {},
     "output_type": "execute_result"
    },
    {
     "data": {
      "image/png": "[encoded data removed]",
      "text/plain": [
       "<matplotlib.figure.Figure at 0x7f08e88c8110>"
      ]
     },
     "metadata": {},
     "output_type": "display_data"
    }
   ],
   "source": [
    "import matplotlib.pyplot as plt\n",
    "\n",
    "fig, axs = plt.subplots(nrows=2, figsize=(10, 8))\n",
    "\n",
    "plot=grouped_stats['DRB'].plot.barh(ax=axs[0])\n",
    "plot=grouped_stats['AST'].plot.barh(ax=axs[1])\n",
    "\n",
    "axs[0].set_xlabel('Rebounds')\n",
    "axs[1].set_xlabel('Assists')"
   ]
  },
  {
   "cell_type": "code",
   "execution_count": null,
   "metadata": {
    "collapsed": true
   },
   "outputs": [],
   "source": []
  }
 ],
 "metadata": {
  "kernelspec": {
   "display_name": "Python 2",
   "language": "python",
   "name": "python2"
  },
  "language_info": {
   "codemirror_mode": {
    "name": "ipython",
    "version": 2
   },
   "file_extension": ".py",
   "mimetype": "text/x-python",
   "name": "python",
   "nbconvert_exporter": "python",
   "pygments_lexer": "ipython2",
   "version": "2.7.11"
  }
 },
 "nbformat": 4,
 "nbformat_minor": 0
}

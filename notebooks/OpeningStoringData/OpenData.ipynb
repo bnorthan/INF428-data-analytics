{
 "cells": [
  {
   "cell_type": "markdown",
   "metadata": {},
   "source": [
    "# This is a title\n",
    "\n",
    "## this is a title (level 2)\n",
    "Here we import 'os', a module that provides utilities to interact with the operating system, then call a function called getcwd(), which gets the 'current working directory'\n",
    "\n",
    "[This is suppose to be a link](https://github.com/adam-p/markdown-here/wiki/Markdown-Cheatsheet#headers)"
   ]
  },
  {
   "cell_type": "code",
   "execution_count": 1,
   "metadata": {
    "collapsed": false
   },
   "outputs": [
    {
     "name": "stdout",
     "output_type": "stream",
     "text": [
      "C:\\Users\\bnorthan\\Google Drive\\UAlbany INF Instructors\\INF 428 Analysis, Visualize & Prediction in Analytics\\2016 Q1 Spring\\notebooks\\OpeningStoringData\n"
     ]
    }
   ],
   "source": [
    "import os\n",
    "print os.getcwd()"
   ]
  },
  {
   "cell_type": "markdown",
   "metadata": {},
   "source": [
    "Here we import 'pandas', a data analysis toolkit, then use pandas to open up a .csv file"
   ]
  },
  {
   "cell_type": "code",
   "execution_count": 2,
   "metadata": {
    "collapsed": false
   },
   "outputs": [],
   "source": [
    "import pandas as pd\n",
    "\n",
    "test=pd.read_csv('../../data/baseball/mlb_standings.csv')"
   ]
  },
  {
   "cell_type": "code",
   "execution_count": 3,
   "metadata": {
    "collapsed": false
   },
   "outputs": [
    {
     "name": "stdout",
     "output_type": "stream",
     "text": [
      "<class 'pandas.core.frame.DataFrame'>\n",
      "        team   wins   losses \n",
      "0  Blue Jays     93        69\n",
      "1    Yankees     87        75\n",
      "2    Orioles     81        81\n",
      "3       Rays     80        82\n",
      "4    Red Sox     78        84\n"
     ]
    }
   ],
   "source": [
    "print type(test)\n",
    "print(test)"
   ]
  },
  {
   "cell_type": "code",
   "execution_count": null,
   "metadata": {
    "collapsed": true
   },
   "outputs": [],
   "source": []
  }
 ],
 "metadata": {
  "kernelspec": {
   "display_name": "Python 2",
   "language": "python",
   "name": "python2"
  },
  "language_info": {
   "codemirror_mode": {
    "name": "ipython",
    "version": 2
   },
   "file_extension": ".py",
   "mimetype": "text/x-python",
   "name": "python",
   "nbconvert_exporter": "python",
   "pygments_lexer": "ipython2",
   "version": "2.7.11"
  }
 },
 "nbformat": 4,
 "nbformat_minor": 0
}

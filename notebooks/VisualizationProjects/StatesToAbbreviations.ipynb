{
 "cells": [
  {
   "cell_type": "code",
   "execution_count": 1,
   "metadata": {
    "collapsed": true
   },
   "outputs": [],
   "source": [
    "import pandas as pd"
   ]
  },
  {
   "cell_type": "code",
   "execution_count": 2,
   "metadata": {
    "collapsed": true
   },
   "outputs": [],
   "source": [
    "testStates=['NEW YORK', 'NEW JERSEY', 'NEVADA']\n",
    "testCities=['ALBANY', 'EDISON TOWNSHIP', 'NORTH LAS VEGAS']\n",
    "testData=[100,200,104]"
   ]
  },
  {
   "cell_type": "code",
   "execution_count": 4,
   "metadata": {
    "collapsed": false
   },
   "outputs": [],
   "source": [
    "test_df=pd.DataFrame({'State':testStates, 'City':testCities,'Data':testData})"
   ]
  },
  {
   "cell_type": "code",
   "execution_count": 30,
   "metadata": {
    "collapsed": false
   },
   "outputs": [],
   "source": [
    "abbreviations=pd.read_csv('../../data/Joel Kurian/states.csv')\n",
    "zips=pd.read_csv('../../data/Joel Kurian/zipcode.csv')\n",
    "crimes=pd.read_csv('../../data/Joel Kurian/crimes4.csv', sep=';')"
   ]
  },
  {
   "cell_type": "code",
   "execution_count": 31,
   "metadata": {
    "collapsed": false
   },
   "outputs": [
    {
     "name": "stdout",
     "output_type": "stream",
     "text": [
      "(51, 2)\n",
      "        State Abbreviation\n",
      "0     Alabama           AL\n",
      "1      Alaska           AK\n",
      "2     Arizona           AZ\n",
      "3    Arkansas           AR\n",
      "4  California           CA\n"
     ]
    }
   ],
   "source": [
    "print abbreviations.shape\n",
    "print abbreviations.head()"
   ]
  },
  {
   "cell_type": "code",
   "execution_count": 32,
   "metadata": {
    "collapsed": false
   },
   "outputs": [
    {
     "name": "stdout",
     "output_type": "stream",
     "text": [
      "   zip        city state   latitude  longitude  timezone  dst\n",
      "0  210  Portsmouth    NH  43.005895 -71.013202        -5    1\n",
      "1  211  Portsmouth    NH  43.005895 -71.013202        -5    1\n",
      "2  212  Portsmouth    NH  43.005895 -71.013202        -5    1\n",
      "3  213  Portsmouth    NH  43.005895 -71.013202        -5    1\n",
      "4  214  Portsmouth    NH  43.005895 -71.013202        -5    1\n",
      "\n",
      "      State       City  Year  Population  Crime  Murder  Rape  Robbery  \\\n",
      "0   MONTANA   BILLINGS  2014      110245    195       2    41       28   \n",
      "1   MONTANA   BILLINGS  2015      110245    233       2    30       40   \n",
      "2  NEBRASKA    LINCOLN  2014      271208    445       4    76       99   \n",
      "3  NEBRASKA    LINCOLN  2015      271208    471       0    83      104   \n",
      "4    NEVADA  HENDERSON  2014      274121    198       1    33       69   \n",
      "\n",
      "   Aggravatedassault  Propertycrime  Burglary  Larcenyandtheft  \\\n",
      "0                124           2345       326             1758   \n",
      "1                161           2369       295             1662   \n",
      "2                266           4212       628             3442   \n",
      "3                284           4226       625             3432   \n",
      "4                 95           2725       692             1788   \n",
      "\n",
      "   Motorvehicletheft  Arson  \n",
      "0                261      3  \n",
      "1                412      6  \n",
      "2                142     33  \n",
      "3                169     38  \n",
      "4                245     11  \n"
     ]
    }
   ],
   "source": [
    "print zips.head()\n",
    "print\n",
    "print crimes.head()"
   ]
  },
  {
   "cell_type": "code",
   "execution_count": 38,
   "metadata": {
    "collapsed": false
   },
   "outputs": [
    {
     "name": "stdout",
     "output_type": "stream",
     "text": [
      "        State Abbreviation\n",
      "0     ALABAMA           AL\n",
      "1      ALASKA           AK\n",
      "2     ARIZONA           AZ\n",
      "3    ARKANSAS           AR\n",
      "4  CALIFORNIA           CA\n"
     ]
    }
   ],
   "source": [
    "abbreviations.State=abbreviations.State.str.upper()\n",
    "print abbreviations.head()\n",
    "abbreviations.to_csv('../../data/Joel Kurian/states2.csv')"
   ]
  },
  {
   "cell_type": "code",
   "execution_count": 39,
   "metadata": {
    "collapsed": false
   },
   "outputs": [],
   "source": [
    "zips.city=zips.city.str.upper()\n",
    "zips.to_csv('../../data/Joel Kurian/zipcode2.csv')"
   ]
  },
  {
   "cell_type": "code",
   "execution_count": null,
   "metadata": {
    "collapsed": true
   },
   "outputs": [],
   "source": []
  }
 ],
 "metadata": {
  "kernelspec": {
   "display_name": "Python 2",
   "language": "python",
   "name": "python2"
  },
  "language_info": {
   "codemirror_mode": {
    "name": "ipython",
    "version": 2
   },
   "file_extension": ".py",
   "mimetype": "text/x-python",
   "name": "python",
   "nbconvert_exporter": "python",
   "pygments_lexer": "ipython2",
   "version": "2.7.11"
  }
 },
 "nbformat": 4,
 "nbformat_minor": 0
}

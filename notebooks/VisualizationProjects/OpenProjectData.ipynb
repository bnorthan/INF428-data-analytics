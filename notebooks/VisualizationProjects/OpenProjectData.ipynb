{
 "cells": [
  {
   "cell_type": "code",
   "execution_count": 1,
   "metadata": {
    "collapsed": true
   },
   "outputs": [],
   "source": [
    "import pandas as pd"
   ]
  },
  {
   "cell_type": "code",
   "execution_count": 2,
   "metadata": {
    "collapsed": false
   },
   "outputs": [],
   "source": [
    "data1=pd.read_csv('../../data/Isabella Bloss/inf428 project data.csv')"
   ]
  },
  {
   "cell_type": "code",
   "execution_count": 3,
   "metadata": {
    "collapsed": false
   },
   "outputs": [
    {
     "name": "stdout",
     "output_type": "stream",
     "text": [
      "(105, 44)\n",
      "Index([u'JURISDICTION NAME', u'COUNT PARTICIPANTS', u'COUNT FEMALE',\n",
      "       u'PERCENT FEMALE', u'COUNT MALE', u'PERCENT MALE',\n",
      "       u'COUNT GENDER TOTAL', u'PERCENT GENDER TOTAL',\n",
      "       u'COUNT PACIFIC ISLANDER', u'PERCENT PACIFIC ISLANDER',\n",
      "       u'COUNT HISPANIC LATINO', u'PERCENT HISPANIC LATINO',\n",
      "       u'COUNT AMERICAN INDIAN', u'PERCENT AMERICAN INDIAN',\n",
      "       u'COUNT ASIAN NON HISPANIC', u'PERCENT ASIAN NON HISPANIC',\n",
      "       u'COUNT WHITE NON HISPANIC', u'PERCENT WHITE NON HISPANIC',\n",
      "       u'COUNT BLACK NON HISPANIC', u'PERCENT BLACK NON HISPANIC',\n",
      "       u'COUNT OTHER ETHNICITY', u'PERCENT OTHER ETHNICITY',\n",
      "       u'COUNT ETHNICITY UNKNOWN', u'PERCENT ETHNICITY UNKNOWN',\n",
      "       u'COUNT ETHNICITY TOTAL', u'PERCENT ETHNICITY TOTAL',\n",
      "       u'COUNT PERMANENT RESIDENT ALIEN', u'PERCENT PERMANENT RESIDENT ALIEN',\n",
      "       u'COUNT US CITIZEN', u'PERCENT US CITIZEN',\n",
      "       u'COUNT OTHER CITIZEN STATUS', u'PERCENT OTHER CITIZEN STATUS',\n",
      "       u'COUNT CITIZEN STATUS UNKNOWN', u'PERCENT CITIZEN STATUS UNKNOWN',\n",
      "       u'COUNT CITIZEN STATUS TOTAL', u'PERCENT CITIZEN STATUS TOTAL',\n",
      "       u'COUNT RECEIVES PUBLIC ASSISTANCE',\n",
      "       u'PERCENT RECEIVES PUBLIC ASSISTANCE',\n",
      "       u'COUNT NRECEIVES PUBLIC ASSISTANCE',\n",
      "       u'PERCENT NRECEIVES PUBLIC ASSISTANCE',\n",
      "       u'COUNT PUBLIC ASSISTANCE UNKNOWN',\n",
      "       u'PERCENT PUBLIC ASSISTANCE UNKNOWN', u'COUNT PUBLIC ASSISTANCE TOTAL',\n",
      "       u'PERCENT PUBLIC ASSISTANCE TOTAL'],\n",
      "      dtype='object')\n"
     ]
    }
   ],
   "source": [
    "print data1.shape\n",
    "\n",
    "print data1.columns"
   ]
  },
  {
   "cell_type": "code",
   "execution_count": 4,
   "metadata": {
    "collapsed": false
   },
   "outputs": [],
   "source": [
    "crimes=pd.read_csv('../../data/Joel Kurian/crimes.csv')\n",
    "crimes.to_csv('../../data/Joel Kurian/crimes2.csv', sep=';')"
   ]
  },
  {
   "cell_type": "code",
   "execution_count": 5,
   "metadata": {
    "collapsed": false
   },
   "outputs": [
    {
     "name": "stdout",
     "output_type": "stream",
     "text": [
      "(62, 14)\n"
     ]
    }
   ],
   "source": [
    "print crimes.shape"
   ]
  },
  {
   "cell_type": "code",
   "execution_count": 6,
   "metadata": {
    "collapsed": false
   },
   "outputs": [
    {
     "name": "stdout",
     "output_type": "stream",
     "text": [
      "             State                 City  Year  Population  Violent\\ncrime  \\\n",
      "0          MONTANA             BILLINGS  2014      110245             195   \n",
      "1          MONTANA             BILLINGS  2015      110245             233   \n",
      "2         NEBRASKA              LINCOLN  2014      271208             445   \n",
      "3         NEBRASKA              LINCOLN  2015      271208             471   \n",
      "4           NEVADA            HENDERSON  2014      274121             198   \n",
      "5           NEVADA            HENDERSON  2015      274121             229   \n",
      "6           NEVADA      NORTH LAS VEGAS  2014      229436             877   \n",
      "7           NEVADA      NORTH LAS VEGAS  2015      229436             995   \n",
      "8           NEVADA                 RENO  2014      235055             530   \n",
      "9           NEVADA                 RENO  2015      235055             618   \n",
      "10   NEW HAMPSHIRE           MANCHESTER  2014      110571             342   \n",
      "11   NEW HAMPSHIRE           MANCHESTER  2015      110571             320   \n",
      "12      NEW JERSEY      EDISON TOWNSHIP  2014      101965              46   \n",
      "13      NEW JERSEY      EDISON TOWNSHIP  2015      101965              46   \n",
      "14      NEW JERSEY            ELIZABETH  2014      128345             504   \n",
      "15      NEW JERSEY            ELIZABETH  2015      128345             484   \n",
      "16      NEW JERSEY          JERSEY CITY  2014      260005             621   \n",
      "17      NEW JERSEY          JERSEY CITY  2015      260005             636   \n",
      "18      NEW JERSEY               NEWARK  2014      279110            1355   \n",
      "19      NEW JERSEY               NEWARK  2015      279110            1401   \n",
      "20      NEW JERSEY             PATERSON  2014      146083             572   \n",
      "21      NEW JERSEY             PATERSON  2015      146083             465   \n",
      "22      NEW JERSEY  WOODBRIDGE TOWNSHIP  2014      100969              53   \n",
      "23      NEW JERSEY  WOODBRIDGE TOWNSHIP  2015      100969              46   \n",
      "24      NEW MEXICO          ALBUQUERQUE  2014      558874            2367   \n",
      "25      NEW MEXICO          ALBUQUERQUE  2015      558874            2691   \n",
      "26        NEW YORK         AMHERST TOWN  2014      118860              64   \n",
      "27        NEW YORK         AMHERST TOWN  2015      118860              56   \n",
      "28        NEW YORK              BUFFALO  2014      258419            1507   \n",
      "29        NEW YORK              BUFFALO  2015      258419            1297   \n",
      "..             ...                  ...   ...         ...             ...   \n",
      "32        NEW YORK            ROCHESTER  2014      210347             776   \n",
      "33        NEW YORK            ROCHESTER  2015      210347             853   \n",
      "34        NEW YORK             SYRACUSE  2014      144534             526   \n",
      "35        NEW YORK             SYRACUSE  2015      144534             528   \n",
      "36        NEW YORK              YONKERS  2014      200624             475   \n",
      "37        NEW YORK              YONKERS  2015      200624             447   \n",
      "38  NORTH CAROLINA                 CARY  2014      154978              55   \n",
      "39  NORTH CAROLINA                 CARY  2015      154978              31   \n",
      "40  NORTH CAROLINA               DURHAM  2014      249738             923   \n",
      "41  NORTH CAROLINA               DURHAM  2015      249738            1069   \n",
      "42  NORTH CAROLINA           GREENSBORO  2014      282203             619   \n",
      "43  NORTH CAROLINA           GREENSBORO  2015      282203             739   \n",
      "44  NORTH CAROLINA           HIGH POINT  2014      108540             236   \n",
      "45  NORTH CAROLINA           HIGH POINT  2015      108540             309   \n",
      "46  NORTH CAROLINA           WILMINGTON  2014      113418             367   \n",
      "47  NORTH CAROLINA           WILMINGTON  2015      113418             389   \n",
      "48    NORTH DAKOTA                FARGO  2014      115686             187   \n",
      "49    NORTH DAKOTA                FARGO  2015      115686             169   \n",
      "50            OHIO                AKRON  2014      197891             679   \n",
      "51            OHIO                AKRON  2015      197891             597   \n",
      "52            OHIO           CINCINNATI  2014      297671            1258   \n",
      "53            OHIO           CINCINNATI  2015      297671            1287   \n",
      "54            OHIO            CLEVELAND  2014      388655            2499   \n",
      "55            OHIO            CLEVELAND  2015      388655            2390   \n",
      "56            OHIO             COLUMBUS  2014      830811            2336   \n",
      "57            OHIO             COLUMBUS  2015      830811            2237   \n",
      "58            OHIO               DAYTON  2014      143217             619   \n",
      "59            OHIO               DAYTON  2015      143217             650   \n",
      "60            OHIO               TOLEDO  2014      281150            1390   \n",
      "61            OHIO               TOLEDO  2015      281150            1444   \n",
      "\n",
      "    Murder  Rape  Robbery  Aggravated\\nassault  Property\\ncrime  Burglary  \\\n",
      "0        2    41       28                  124             2345       326   \n",
      "1        2    30       40                  161             2369       295   \n",
      "2        4    76       99                  266             4212       628   \n",
      "3        0    83      104                  284             4226       625   \n",
      "4        1    33       69                   95             2725       692   \n",
      "5        1    51       83                   94             2677       679   \n",
      "6        4    40      223                  610             2795      1019   \n",
      "7        5    45      223                  722             2614       897   \n",
      "8        3    60      141                  326             3144       626   \n",
      "9        9    67      145                  397             3573       662   \n",
      "10       3    25      110                  204             1855       357   \n",
      "11       2    37      112                  169             2098       360   \n",
      "12       0     2       25                   19              541       146   \n",
      "13       0     1       21                   24              570       103   \n",
      "14       5    13      281                  205             1724       364   \n",
      "15       8    23      242                  211             1744       325   \n",
      "16      13    16      272                  320             1983       441   \n",
      "17       8    51      253                  324             1898       390   \n",
      "18      43    21      891                  400             3743       828   \n",
      "19      42    43      861                  455             3696       800   \n",
      "20       9     9      286                  268             1856       556   \n",
      "21       7    18      206                  234             1853       616   \n",
      "22       0     3       25                   25              932       119   \n",
      "23       0     0       22                   24              722       103   \n",
      "24      12   197      619                 1539            15064      3095   \n",
      "25      23   199      861                 1608            15853      2903   \n",
      "26       1     5       22                   36              905        71   \n",
      "27       0     7       19                   30              812        81   \n",
      "28      19    76      605                  807             5876      1435   \n",
      "29      12    87      457                  741             4904      1040   \n",
      "..     ...   ...      ...                  ...              ...       ...   \n",
      "32      19    93      286                  378             3874       826   \n",
      "33      15    65      287                  486             3575       696   \n",
      "34       6    33      164                  323             2682       665   \n",
      "35       8    34      191                  295             2361       530   \n",
      "36       2    10      152                  311              928       190   \n",
      "37       3    23      161                  260              980       194   \n",
      "38       3     5       18                   29              827       164   \n",
      "39       2     4        9                   16              919       169   \n",
      "40       9    34      299                  581             5187      1729   \n",
      "41      15    29      360                  665             5377      1670   \n",
      "42       6    28      209                  376             5016      1260   \n",
      "43      11    35      217                  476             4812      1068   \n",
      "44       3    12       64                  157             1873       510   \n",
      "45       2    18       99                  190             1683       333   \n",
      "46       5    17      112                  233             2362       645   \n",
      "47       4    29      127                  229             2441       627   \n",
      "48       3    39       30                  115             1303       210   \n",
      "49       3    21       21                  124             1528       318   \n",
      "50       8    89      176                  406             4007      1234   \n",
      "51      11    77      200                  309             3858      1111   \n",
      "52      39   114      634                  471             7663      2269   \n",
      "53      38    99      601                  549             7606      1979   \n",
      "54      26   266     1408                  799             9537      3113   \n",
      "55      37   215     1286                  852             8537      2411   \n",
      "56      49   394     1035                  858            16327      4073   \n",
      "57      37   346     1085                  769            15537      3346   \n",
      "58      17    74      267                  261             3586      1166   \n",
      "59      10    70      230                  340             3187      1095   \n",
      "60      11   113      414                  852                0      2142   \n",
      "61       5   116      431                  892             5668      1769   \n",
      "\n",
      "    Larceny and\\ntheft  Motor\\nvehicle\\ntheft  Arson  \n",
      "0                 1758                    261      3  \n",
      "1                 1662                    412      6  \n",
      "2                 3442                    142     33  \n",
      "3                 3432                    169     38  \n",
      "4                 1788                    245     11  \n",
      "5                 1731                    267      7  \n",
      "6                 1335                    441     10  \n",
      "7                 1282                    435      7  \n",
      "8                 2180                    338      7  \n",
      "9                 2460                    451      3  \n",
      "10                1415                     83     12  \n",
      "11                1639                     99     13  \n",
      "12                 346                     49      6  \n",
      "13                 427                     40      7  \n",
      "14                 960                    400      5  \n",
      "15                1038                    381      6  \n",
      "16                1266                    276     20  \n",
      "17                1237                    271     35  \n",
      "18                1824                   1091     21  \n",
      "19                1621                   1275      9  \n",
      "20                 958                    342      8  \n",
      "21                 905                    332      4  \n",
      "22                 770                     43      3  \n",
      "23                 570                     49      1  \n",
      "24               10248                   1721     46  \n",
      "25               10755                   2195     46  \n",
      "26                 815                     19      2  \n",
      "27                 708                     23      6  \n",
      "28                3941                    500      0  \n",
      "29                3379                    485     70  \n",
      "..                 ...                    ...    ...  \n",
      "32                2746                    302     50  \n",
      "33                2502                    377     44  \n",
      "34                1890                    127     24  \n",
      "35                1690                    141     19  \n",
      "36                 652                     86     10  \n",
      "37                 644                    142      6  \n",
      "38                 642                     21      4  \n",
      "39                 718                     32      2  \n",
      "40                3162                    296      9  \n",
      "41                3395                    312     16  \n",
      "42                3523                    233     61  \n",
      "43                3505                    239     52  \n",
      "44                1255                    108     13  \n",
      "45                1230                    120      6  \n",
      "46                1565                    152     12  \n",
      "47                1655                    159      4  \n",
      "48                1014                     79      6  \n",
      "49                1095                    115      4  \n",
      "50                2536                    237     30  \n",
      "51                2450                    297     38  \n",
      "52                4874                    520    158  \n",
      "53                5126                    501    233  \n",
      "54                4687                   1737    138  \n",
      "55                4509                   1617    126  \n",
      "56               10848                   1406      0  \n",
      "57               10678                   1513      0  \n",
      "58                2160                    260     32  \n",
      "59                1815                    277     53  \n",
      "60                   0                    425      0  \n",
      "61                3497                    402      0  \n",
      "\n",
      "[62 rows x 14 columns]\n"
     ]
    }
   ],
   "source": [
    "print crimes"
   ]
  },
  {
   "cell_type": "code",
   "execution_count": 7,
   "metadata": {
    "collapsed": true
   },
   "outputs": [],
   "source": [
    "football=pd.read_csv('../../data/KayciCaldwell/footballtest.csv')"
   ]
  },
  {
   "cell_type": "code",
   "execution_count": 8,
   "metadata": {
    "collapsed": false
   },
   "outputs": [
    {
     "name": "stdout",
     "output_type": "stream",
     "text": [
      "  Unnamed: 0         Unnamed: 1 Unnamed: 2 Unnamed: 3 Games Games.1 Rushing  \\\n",
      "0        No.                NaN        Age        Pos     G      GS     Att   \n",
      "1         29  LeGarrette Blount         29         rb    12       6     165   \n",
      "2         38     Brandon Bolden         25         rb    15       2      63   \n",
      "3         33         Dion Lewis         25         rb     7       6      49   \n",
      "4         12         Tom Brady*         38         QB    16      16      34   \n",
      "\n",
      "  Rushing.1 Rushing.2 Rushing.3     ...     Receiving.1 Receiving.2  \\\n",
      "0       Yds        TD       Lng     ...             Rec         Yds   \n",
      "1       703         6        38     ...               6          43   \n",
      "2       207         0        14     ...              19         180   \n",
      "3       234         2        13     ...              36         388   \n",
      "4        53         3        13     ...               1          36   \n",
      "\n",
      "  Receiving.3 Receiving.4 Receiving.5 Receiving.6 Receiving.7 Unnamed: 21  \\\n",
      "0         Y/R          TD         Lng         R/G         Y/G        YScm   \n",
      "1         7.2           1          14         0.5         3.6         746   \n",
      "2         9.5           2          63         1.3        12.0         387   \n",
      "3        10.8           2          40         5.1        55.4         622   \n",
      "4        36.0           0          36         0.1         2.3          89   \n",
      "\n",
      "  Unnamed: 22 Unnamed: 23  \n",
      "0        RRTD         Fmb  \n",
      "1           7           1  \n",
      "2           2           0  \n",
      "3           4           2  \n",
      "4           3           6  \n",
      "\n",
      "[5 rows x 24 columns]\n"
     ]
    }
   ],
   "source": [
    "print football.head()"
   ]
  },
  {
   "cell_type": "code",
   "execution_count": 9,
   "metadata": {
    "collapsed": false
   },
   "outputs": [],
   "source": [
    "import pandas as pd\n",
    "basketball=pd.read_csv(\"../../data/Daniel Chu's project/leagues_NBA_2015_totals_totals.csv\", sep=';')"
   ]
  },
  {
   "cell_type": "code",
   "execution_count": 10,
   "metadata": {
    "collapsed": false
   },
   "outputs": [
    {
     "name": "stdout",
     "output_type": "stream",
     "text": [
      "Index([u'Rk', u'Player', u'Pos', u'Age', u'Tm', u'G', u'GS', u'MP', u'FG',\n",
      "       u'FGA', u'FG%', u'3P', u'3PA', u'3P%', u'2P', u'2PA', u'2P%', u'eFG%',\n",
      "       u'FT', u'FTA', u'FT%', u'ORB', u'DRB', u'TRB', u'AST', u'STL', u'BLK',\n",
      "       u'TOV', u'PF', u'PTS'],\n",
      "      dtype='object')\n"
     ]
    }
   ],
   "source": [
    "print basketball.columns"
   ]
  },
  {
   "cell_type": "code",
   "execution_count": 11,
   "metadata": {
    "collapsed": false
   },
   "outputs": [
    {
     "name": "stdout",
     "output_type": "stream",
     "text": [
      "19\n",
      "38\n"
     ]
    },
    {
     "data": {
      "text/plain": [
       "5"
      ]
     },
     "execution_count": 11,
     "metadata": {},
     "output_type": "execute_result"
    }
   ],
   "source": [
    "import matplotlib.pyplot as plt\n",
    "import numpy as np\n",
    "\n",
    "print basketball.Age.min()\n",
    "print basketball.Age.max()\n",
    "\n",
    "\n",
    "x=np.array(basketball.Age)\n",
    "y=np.array(basketball.FGA)\n",
    "\n",
    "plt.plot(x,y)\n",
    "plt.show()\n",
    "\n",
    "5"
   ]
  },
  {
   "cell_type": "code",
   "execution_count": 12,
   "metadata": {
    "collapsed": false
   },
   "outputs": [],
   "source": [
    "import pandas as pd\n",
    "data=pd.read_csv('../../data/Isabella Bloss/joined data2.csv')\n",
    "\n",
    "index=data['COUNT PUBLIC ASSISTANCE TOTAL']>40\n",
    "data=data[index]"
   ]
  },
  {
   "cell_type": "code",
   "execution_count": 13,
   "metadata": {
    "collapsed": false
   },
   "outputs": [
    {
     "data": {
      "text/html": [
       "<div>\n",
       "<table border=\"1\" class=\"dataframe\">\n",
       "  <thead>\n",
       "    <tr style=\"text-align: right;\">\n",
       "      <th></th>\n",
       "      <th>JURISDICTION NAME</th>\n",
       "      <th>COUNT PARTICIPANTS</th>\n",
       "      <th>COUNT FEMALE</th>\n",
       "      <th>PERCENT FEMALE</th>\n",
       "      <th>COUNT MALE</th>\n",
       "      <th>PERCENT MALE</th>\n",
       "      <th>COUNT GENDER TOTAL</th>\n",
       "      <th>PERCENT GENDER TOTAL</th>\n",
       "      <th>COUNT PACIFIC ISLANDER</th>\n",
       "      <th>PERCENT PACIFIC ISLANDER</th>\n",
       "      <th>...</th>\n",
       "      <th>COUNT PUBLIC ASSISTANCE UNKNOWN</th>\n",
       "      <th>PERCENT PUBLIC ASSISTANCE UNKNOWN</th>\n",
       "      <th>COUNT PUBLIC ASSISTANCE TOTAL</th>\n",
       "      <th>PERCENT PUBLIC ASSISTANCE TOTAL</th>\n",
       "      <th>city</th>\n",
       "      <th>state</th>\n",
       "      <th>latitude</th>\n",
       "      <th>longitude</th>\n",
       "      <th>timezone</th>\n",
       "      <th>dst</th>\n",
       "    </tr>\n",
       "  </thead>\n",
       "  <tbody>\n",
       "    <tr>\n",
       "      <th>0</th>\n",
       "      <td>10001</td>\n",
       "      <td>44</td>\n",
       "      <td>22</td>\n",
       "      <td>0.50</td>\n",
       "      <td>22</td>\n",
       "      <td>0.50</td>\n",
       "      <td>44</td>\n",
       "      <td>100</td>\n",
       "      <td>0</td>\n",
       "      <td>0.00</td>\n",
       "      <td>...</td>\n",
       "      <td>0</td>\n",
       "      <td>0</td>\n",
       "      <td>44</td>\n",
       "      <td>100</td>\n",
       "      <td>New York</td>\n",
       "      <td>NY</td>\n",
       "      <td>40.750742</td>\n",
       "      <td>-73.99653</td>\n",
       "      <td>-5</td>\n",
       "      <td>1</td>\n",
       "    </tr>\n",
       "    <tr>\n",
       "      <th>22</th>\n",
       "      <td>10451</td>\n",
       "      <td>41</td>\n",
       "      <td>21</td>\n",
       "      <td>0.51</td>\n",
       "      <td>20</td>\n",
       "      <td>0.49</td>\n",
       "      <td>41</td>\n",
       "      <td>100</td>\n",
       "      <td>0</td>\n",
       "      <td>0.00</td>\n",
       "      <td>...</td>\n",
       "      <td>0</td>\n",
       "      <td>0</td>\n",
       "      <td>41</td>\n",
       "      <td>100</td>\n",
       "      <td>Bronx</td>\n",
       "      <td>NY</td>\n",
       "      <td>40.819729</td>\n",
       "      <td>-73.92230</td>\n",
       "      <td>-5</td>\n",
       "      <td>1</td>\n",
       "    </tr>\n",
       "    <tr>\n",
       "      <th>28</th>\n",
       "      <td>10458</td>\n",
       "      <td>52</td>\n",
       "      <td>25</td>\n",
       "      <td>0.48</td>\n",
       "      <td>27</td>\n",
       "      <td>0.52</td>\n",
       "      <td>52</td>\n",
       "      <td>100</td>\n",
       "      <td>0</td>\n",
       "      <td>0.00</td>\n",
       "      <td>...</td>\n",
       "      <td>0</td>\n",
       "      <td>0</td>\n",
       "      <td>52</td>\n",
       "      <td>100</td>\n",
       "      <td>Bronx</td>\n",
       "      <td>NY</td>\n",
       "      <td>40.864166</td>\n",
       "      <td>-73.88881</td>\n",
       "      <td>-5</td>\n",
       "      <td>1</td>\n",
       "    </tr>\n",
       "    <tr>\n",
       "      <th>31</th>\n",
       "      <td>10461</td>\n",
       "      <td>49</td>\n",
       "      <td>26</td>\n",
       "      <td>0.53</td>\n",
       "      <td>23</td>\n",
       "      <td>0.47</td>\n",
       "      <td>49</td>\n",
       "      <td>100</td>\n",
       "      <td>1</td>\n",
       "      <td>0.02</td>\n",
       "      <td>...</td>\n",
       "      <td>0</td>\n",
       "      <td>0</td>\n",
       "      <td>49</td>\n",
       "      <td>100</td>\n",
       "      <td>Bronx</td>\n",
       "      <td>NY</td>\n",
       "      <td>40.842917</td>\n",
       "      <td>-73.83819</td>\n",
       "      <td>-5</td>\n",
       "      <td>1</td>\n",
       "    </tr>\n",
       "    <tr>\n",
       "      <th>33</th>\n",
       "      <td>10463</td>\n",
       "      <td>59</td>\n",
       "      <td>33</td>\n",
       "      <td>0.56</td>\n",
       "      <td>26</td>\n",
       "      <td>0.44</td>\n",
       "      <td>59</td>\n",
       "      <td>100</td>\n",
       "      <td>0</td>\n",
       "      <td>0.00</td>\n",
       "      <td>...</td>\n",
       "      <td>0</td>\n",
       "      <td>0</td>\n",
       "      <td>59</td>\n",
       "      <td>100</td>\n",
       "      <td>Bronx</td>\n",
       "      <td>NY</td>\n",
       "      <td>40.881086</td>\n",
       "      <td>-73.90749</td>\n",
       "      <td>-5</td>\n",
       "      <td>1</td>\n",
       "    </tr>\n",
       "  </tbody>\n",
       "</table>\n",
       "<p>5 rows × 50 columns</p>\n",
       "</div>"
      ],
      "text/plain": [
       "    JURISDICTION NAME  COUNT PARTICIPANTS  COUNT FEMALE  PERCENT FEMALE  \\\n",
       "0               10001                  44            22            0.50   \n",
       "22              10451                  41            21            0.51   \n",
       "28              10458                  52            25            0.48   \n",
       "31              10461                  49            26            0.53   \n",
       "33              10463                  59            33            0.56   \n",
       "\n",
       "    COUNT MALE  PERCENT MALE  COUNT GENDER TOTAL  PERCENT GENDER TOTAL  \\\n",
       "0           22          0.50                  44                   100   \n",
       "22          20          0.49                  41                   100   \n",
       "28          27          0.52                  52                   100   \n",
       "31          23          0.47                  49                   100   \n",
       "33          26          0.44                  59                   100   \n",
       "\n",
       "    COUNT PACIFIC ISLANDER  PERCENT PACIFIC ISLANDER ...   \\\n",
       "0                        0                      0.00 ...    \n",
       "22                       0                      0.00 ...    \n",
       "28                       0                      0.00 ...    \n",
       "31                       1                      0.02 ...    \n",
       "33                       0                      0.00 ...    \n",
       "\n",
       "    COUNT PUBLIC ASSISTANCE UNKNOWN  PERCENT PUBLIC ASSISTANCE UNKNOWN  \\\n",
       "0                                 0                                  0   \n",
       "22                                0                                  0   \n",
       "28                                0                                  0   \n",
       "31                                0                                  0   \n",
       "33                                0                                  0   \n",
       "\n",
       "    COUNT PUBLIC ASSISTANCE TOTAL  PERCENT PUBLIC ASSISTANCE TOTAL      city  \\\n",
       "0                              44                              100  New York   \n",
       "22                             41                              100     Bronx   \n",
       "28                             52                              100     Bronx   \n",
       "31                             49                              100     Bronx   \n",
       "33                             59                              100     Bronx   \n",
       "\n",
       "    state   latitude  longitude  timezone  dst  \n",
       "0      NY  40.750742  -73.99653        -5    1  \n",
       "22     NY  40.819729  -73.92230        -5    1  \n",
       "28     NY  40.864166  -73.88881        -5    1  \n",
       "31     NY  40.842917  -73.83819        -5    1  \n",
       "33     NY  40.881086  -73.90749        -5    1  \n",
       "\n",
       "[5 rows x 50 columns]"
      ]
     },
     "execution_count": 13,
     "metadata": {},
     "output_type": "execute_result"
    }
   ],
   "source": [
    "data.columns\n",
    "data.head()"
   ]
  },
  {
   "cell_type": "code",
   "execution_count": 14,
   "metadata": {
    "collapsed": true
   },
   "outputs": [],
   "source": [
    "groupby_city=data.groupby('city').mean()"
   ]
  },
  {
   "cell_type": "code",
   "execution_count": 15,
   "metadata": {
    "collapsed": false
   },
   "outputs": [
    {
     "ename": "AttributeError",
     "evalue": "'function' object has no attribute 'bar'",
     "output_type": "error",
     "traceback": [
      "\u001b[1;31m---------------------------------------------------------------------------\u001b[0m",
      "\u001b[1;31mAttributeError\u001b[0m                            Traceback (most recent call last)",
      "\u001b[1;32m<ipython-input-15-2a65e7630f15>\u001b[0m in \u001b[0;36m<module>\u001b[1;34m()\u001b[0m\n\u001b[0;32m      1\u001b[0m \u001b[0mget_ipython\u001b[0m\u001b[1;33m(\u001b[0m\u001b[1;33m)\u001b[0m\u001b[1;33m.\u001b[0m\u001b[0mmagic\u001b[0m\u001b[1;33m(\u001b[0m\u001b[1;34mu'matplotlib inline'\u001b[0m\u001b[1;33m)\u001b[0m\u001b[1;33m\u001b[0m\u001b[0m\n\u001b[1;32m----> 2\u001b[1;33m \u001b[0mgroupby_city\u001b[0m\u001b[1;33m[\u001b[0m\u001b[1;33m[\u001b[0m\u001b[1;34m'PERCENT FEMALE'\u001b[0m\u001b[1;33m,\u001b[0m\u001b[1;34m'COUNT PACIFIC ISLANDER'\u001b[0m\u001b[1;33m]\u001b[0m\u001b[1;33m]\u001b[0m\u001b[1;33m.\u001b[0m\u001b[0mplot\u001b[0m\u001b[1;33m.\u001b[0m\u001b[0mbar\u001b[0m\u001b[1;33m(\u001b[0m\u001b[0mfigsize\u001b[0m\u001b[1;33m=\u001b[0m\u001b[1;33m(\u001b[0m\u001b[1;36m20\u001b[0m\u001b[1;33m,\u001b[0m\u001b[1;36m10\u001b[0m\u001b[1;33m)\u001b[0m\u001b[1;33m)\u001b[0m\u001b[1;33m\u001b[0m\u001b[0m\n\u001b[0m\u001b[0;32m      3\u001b[0m \u001b[1;36m5\u001b[0m\u001b[1;33m\u001b[0m\u001b[0m\n",
      "\u001b[1;31mAttributeError\u001b[0m: 'function' object has no attribute 'bar'"
     ]
    }
   ],
   "source": [
    "%matplotlib inline\n",
    "groupby_city[['PERCENT FEMALE','COUNT PACIFIC ISLANDER']].plot.bar(figsize=(20,10))\n",
    "5"
   ]
  },
  {
   "cell_type": "code",
   "execution_count": 33,
   "metadata": {
    "collapsed": true
   },
   "outputs": [],
   "source": [
    "test=pd.read_csv('../../data/Joel Kurian/crimeyear2014.csv')"
   ]
  },
  {
   "cell_type": "code",
   "execution_count": 34,
   "metadata": {
    "collapsed": false
   },
   "outputs": [
    {
     "data": {
      "text/html": [
       "<div>\n",
       "<table border=\"1\" class=\"dataframe\">\n",
       "  <thead>\n",
       "    <tr style=\"text-align: right;\">\n",
       "      <th></th>\n",
       "      <th>Violent crime rate</th>\n",
       "      <th>Murder rate</th>\n",
       "      <th>Rape rate</th>\n",
       "      <th>Robbery rate</th>\n",
       "      <th>Aggravated assault rate</th>\n",
       "      <th>Property crime rate</th>\n",
       "      <th>Burglary rate</th>\n",
       "      <th>Larceny theft rate</th>\n",
       "      <th>Motor vehicle theft rate</th>\n",
       "    </tr>\n",
       "  </thead>\n",
       "  <tbody>\n",
       "    <tr>\n",
       "      <th>0</th>\n",
       "      <td>366</td>\n",
       "      <td>5</td>\n",
       "      <td>26</td>\n",
       "      <td>102</td>\n",
       "      <td>233</td>\n",
       "      <td>2596</td>\n",
       "      <td>543</td>\n",
       "      <td>1837</td>\n",
       "      <td>216</td>\n",
       "    </tr>\n",
       "  </tbody>\n",
       "</table>\n",
       "</div>"
      ],
      "text/plain": [
       "   Violent crime rate  Murder rate  Rape rate  Robbery rate  \\\n",
       "0                 366            5         26           102   \n",
       "\n",
       "   Aggravated assault rate  Property crime rate  Burglary rate  \\\n",
       "0                      233                 2596            543   \n",
       "\n",
       "   Larceny theft rate  Motor vehicle theft rate  \n",
       "0                1837                       216  "
      ]
     },
     "execution_count": 34,
     "metadata": {},
     "output_type": "execute_result"
    }
   ],
   "source": [
    "test.head()"
   ]
  },
  {
   "cell_type": "code",
   "execution_count": 45,
   "metadata": {
    "collapsed": false
   },
   "outputs": [
    {
     "name": "stdout",
     "output_type": "stream",
     "text": [
      "<class 'pandas.core.series.Series'>\n"
     ]
    },
    {
     "data": {
      "text/plain": [
       "<matplotlib.axes._subplots.AxesSubplot at 0x1b876d68>"
      ]
     },
     "execution_count": 45,
     "metadata": {},
     "output_type": "execute_result"
    },
    {
     "data": {
      "image/png": "[encoded data removed]",
      "text/plain": [
       "<matplotlib.figure.Figure at 0x1b882b00>"
      ]
     },
     "metadata": {},
     "output_type": "display_data"
    }
   ],
   "source": [
    "# get the first of row of data\n",
    "rowdata=test.iloc[0]\n",
    "print type(rowdata)\n",
    "\n",
    "rowdata.plot.pie()"
   ]
  },
  {
   "cell_type": "code",
   "execution_count": 54,
   "metadata": {
    "collapsed": false
   },
   "outputs": [],
   "source": [
    "forpie=data[['COUNT PARTICIPANTS','COUNT FEMALE','COUNT MALE']]"
   ]
  },
  {
   "cell_type": "code",
   "execution_count": 49,
   "metadata": {
    "collapsed": false
   },
   "outputs": [
    {
     "data": {
      "text/plain": [
       "<matplotlib.axes._subplots.AxesSubplot at 0x1b7c3208>"
      ]
     },
     "execution_count": 49,
     "metadata": {},
     "output_type": "execute_result"
    },
    {
     "data": {
      "image/png": "[encoded data removed]",
      "text/plain": [
       "<matplotlib.figure.Figure at 0x1bb51f28>"
      ]
     },
     "metadata": {},
     "output_type": "display_data"
    }
   ],
   "source": [
    "coldata=data['COUNT PARTICIPANTS']\n",
    "rowdata=data.iloc[4]\n",
    "\n",
    "coldata.plot.pie()"
   ]
  },
  {
   "cell_type": "code",
   "execution_count": 50,
   "metadata": {
    "collapsed": false
   },
   "outputs": [
    {
     "ename": "ValueError",
     "evalue": "pie doesn't allow negative values",
     "output_type": "error",
     "traceback": [
      "\u001b[1;31m---------------------------------------------------------------------------\u001b[0m",
      "\u001b[1;31mValueError\u001b[0m                                Traceback (most recent call last)",
      "\u001b[1;32m<ipython-input-50-4aac7af65323>\u001b[0m in \u001b[0;36m<module>\u001b[1;34m()\u001b[0m\n\u001b[1;32m----> 1\u001b[1;33m \u001b[0mrowdata\u001b[0m\u001b[1;33m.\u001b[0m\u001b[0mplot\u001b[0m\u001b[1;33m.\u001b[0m\u001b[0mpie\u001b[0m\u001b[1;33m(\u001b[0m\u001b[1;33m)\u001b[0m\u001b[1;33m\u001b[0m\u001b[0m\n\u001b[0m",
      "\u001b[1;32mC:\\Users\\bnorthan\\Anaconda2\\lib\\site-packages\\pandas\\tools\\plotting.pyc\u001b[0m in \u001b[0;36mpie\u001b[1;34m(self, **kwds)\u001b[0m\n\u001b[0;32m   3636\u001b[0m         \u001b[0maxes\u001b[0m \u001b[1;33m:\u001b[0m \u001b[0mmatplotlib\u001b[0m\u001b[1;33m.\u001b[0m\u001b[0mAxesSubplot\u001b[0m \u001b[1;32mor\u001b[0m \u001b[0mnp\u001b[0m\u001b[1;33m.\u001b[0m\u001b[0marray\u001b[0m \u001b[0mof\u001b[0m \u001b[0mthem\u001b[0m\u001b[1;33m\u001b[0m\u001b[0m\n\u001b[0;32m   3637\u001b[0m         \"\"\"\n\u001b[1;32m-> 3638\u001b[1;33m         \u001b[1;32mreturn\u001b[0m \u001b[0mself\u001b[0m\u001b[1;33m(\u001b[0m\u001b[0mkind\u001b[0m\u001b[1;33m=\u001b[0m\u001b[1;34m'pie'\u001b[0m\u001b[1;33m,\u001b[0m \u001b[1;33m**\u001b[0m\u001b[0mkwds\u001b[0m\u001b[1;33m)\u001b[0m\u001b[1;33m\u001b[0m\u001b[0m\n\u001b[0m\u001b[0;32m   3639\u001b[0m \u001b[1;33m\u001b[0m\u001b[0m\n\u001b[0;32m   3640\u001b[0m \u001b[1;33m\u001b[0m\u001b[0m\n",
      "\u001b[1;32mC:\\Users\\bnorthan\\Anaconda2\\lib\\site-packages\\pandas\\tools\\plotting.pyc\u001b[0m in \u001b[0;36m__call__\u001b[1;34m(self, kind, ax, figsize, use_index, title, grid, legend, style, logx, logy, loglog, xticks, yticks, xlim, ylim, rot, fontsize, colormap, table, yerr, xerr, label, secondary_y, **kwds)\u001b[0m\n\u001b[0;32m   3495\u001b[0m                            \u001b[0mcolormap\u001b[0m\u001b[1;33m=\u001b[0m\u001b[0mcolormap\u001b[0m\u001b[1;33m,\u001b[0m \u001b[0mtable\u001b[0m\u001b[1;33m=\u001b[0m\u001b[0mtable\u001b[0m\u001b[1;33m,\u001b[0m \u001b[0myerr\u001b[0m\u001b[1;33m=\u001b[0m\u001b[0myerr\u001b[0m\u001b[1;33m,\u001b[0m\u001b[1;33m\u001b[0m\u001b[0m\n\u001b[0;32m   3496\u001b[0m                            \u001b[0mxerr\u001b[0m\u001b[1;33m=\u001b[0m\u001b[0mxerr\u001b[0m\u001b[1;33m,\u001b[0m \u001b[0mlabel\u001b[0m\u001b[1;33m=\u001b[0m\u001b[0mlabel\u001b[0m\u001b[1;33m,\u001b[0m \u001b[0msecondary_y\u001b[0m\u001b[1;33m=\u001b[0m\u001b[0msecondary_y\u001b[0m\u001b[1;33m,\u001b[0m\u001b[1;33m\u001b[0m\u001b[0m\n\u001b[1;32m-> 3497\u001b[1;33m                            **kwds)\n\u001b[0m\u001b[0;32m   3498\u001b[0m     \u001b[0m__call__\u001b[0m\u001b[1;33m.\u001b[0m\u001b[0m__doc__\u001b[0m \u001b[1;33m=\u001b[0m \u001b[0mplot_series\u001b[0m\u001b[1;33m.\u001b[0m\u001b[0m__doc__\u001b[0m\u001b[1;33m\u001b[0m\u001b[0m\n\u001b[0;32m   3499\u001b[0m \u001b[1;33m\u001b[0m\u001b[0m\n",
      "\u001b[1;32mC:\\Users\\bnorthan\\Anaconda2\\lib\\site-packages\\pandas\\tools\\plotting.pyc\u001b[0m in \u001b[0;36mplot_series\u001b[1;34m(data, kind, ax, figsize, use_index, title, grid, legend, style, logx, logy, loglog, xticks, yticks, xlim, ylim, rot, fontsize, colormap, table, yerr, xerr, label, secondary_y, **kwds)\u001b[0m\n\u001b[0;32m   2585\u001b[0m                  \u001b[0myerr\u001b[0m\u001b[1;33m=\u001b[0m\u001b[0myerr\u001b[0m\u001b[1;33m,\u001b[0m \u001b[0mxerr\u001b[0m\u001b[1;33m=\u001b[0m\u001b[0mxerr\u001b[0m\u001b[1;33m,\u001b[0m\u001b[1;33m\u001b[0m\u001b[0m\n\u001b[0;32m   2586\u001b[0m                  \u001b[0mlabel\u001b[0m\u001b[1;33m=\u001b[0m\u001b[0mlabel\u001b[0m\u001b[1;33m,\u001b[0m \u001b[0msecondary_y\u001b[0m\u001b[1;33m=\u001b[0m\u001b[0msecondary_y\u001b[0m\u001b[1;33m,\u001b[0m\u001b[1;33m\u001b[0m\u001b[0m\n\u001b[1;32m-> 2587\u001b[1;33m                  **kwds)\n\u001b[0m\u001b[0;32m   2588\u001b[0m \u001b[1;33m\u001b[0m\u001b[0m\n\u001b[0;32m   2589\u001b[0m \u001b[1;33m\u001b[0m\u001b[0m\n",
      "\u001b[1;32mC:\\Users\\bnorthan\\Anaconda2\\lib\\site-packages\\pandas\\tools\\plotting.pyc\u001b[0m in \u001b[0;36m_plot\u001b[1;34m(data, x, y, subplots, ax, kind, **kwds)\u001b[0m\n\u001b[0;32m   2356\u001b[0m                 \u001b[0mdata\u001b[0m \u001b[1;33m=\u001b[0m \u001b[0mdata\u001b[0m\u001b[1;33m[\u001b[0m\u001b[0my\u001b[0m\u001b[1;33m]\u001b[0m\u001b[1;33m.\u001b[0m\u001b[0mcopy\u001b[0m\u001b[1;33m(\u001b[0m\u001b[1;33m)\u001b[0m\u001b[1;33m\u001b[0m\u001b[0m\n\u001b[0;32m   2357\u001b[0m                 \u001b[0mdata\u001b[0m\u001b[1;33m.\u001b[0m\u001b[0mindex\u001b[0m\u001b[1;33m.\u001b[0m\u001b[0mname\u001b[0m \u001b[1;33m=\u001b[0m \u001b[0my\u001b[0m\u001b[1;33m\u001b[0m\u001b[0m\n\u001b[1;32m-> 2358\u001b[1;33m         \u001b[0mplot_obj\u001b[0m \u001b[1;33m=\u001b[0m \u001b[0mklass\u001b[0m\u001b[1;33m(\u001b[0m\u001b[0mdata\u001b[0m\u001b[1;33m,\u001b[0m \u001b[0msubplots\u001b[0m\u001b[1;33m=\u001b[0m\u001b[0msubplots\u001b[0m\u001b[1;33m,\u001b[0m \u001b[0max\u001b[0m\u001b[1;33m=\u001b[0m\u001b[0max\u001b[0m\u001b[1;33m,\u001b[0m \u001b[0mkind\u001b[0m\u001b[1;33m=\u001b[0m\u001b[0mkind\u001b[0m\u001b[1;33m,\u001b[0m \u001b[1;33m**\u001b[0m\u001b[0mkwds\u001b[0m\u001b[1;33m)\u001b[0m\u001b[1;33m\u001b[0m\u001b[0m\n\u001b[0m\u001b[0;32m   2359\u001b[0m     \u001b[1;32melse\u001b[0m\u001b[1;33m:\u001b[0m\u001b[1;33m\u001b[0m\u001b[0m\n\u001b[0;32m   2360\u001b[0m         \u001b[1;32mif\u001b[0m \u001b[0misinstance\u001b[0m\u001b[1;33m(\u001b[0m\u001b[0mdata\u001b[0m\u001b[1;33m,\u001b[0m \u001b[0mDataFrame\u001b[0m\u001b[1;33m)\u001b[0m\u001b[1;33m:\u001b[0m\u001b[1;33m\u001b[0m\u001b[0m\n",
      "\u001b[1;32mC:\\Users\\bnorthan\\Anaconda2\\lib\\site-packages\\pandas\\tools\\plotting.pyc\u001b[0m in \u001b[0;36m__init__\u001b[1;34m(self, data, kind, **kwargs)\u001b[0m\n\u001b[0;32m   2102\u001b[0m         \u001b[0mdata\u001b[0m \u001b[1;33m=\u001b[0m \u001b[0mdata\u001b[0m\u001b[1;33m.\u001b[0m\u001b[0mfillna\u001b[0m\u001b[1;33m(\u001b[0m\u001b[0mvalue\u001b[0m\u001b[1;33m=\u001b[0m\u001b[1;36m0\u001b[0m\u001b[1;33m)\u001b[0m\u001b[1;33m\u001b[0m\u001b[0m\n\u001b[0;32m   2103\u001b[0m         \u001b[1;32mif\u001b[0m \u001b[1;33m(\u001b[0m\u001b[0mdata\u001b[0m \u001b[1;33m<\u001b[0m \u001b[1;36m0\u001b[0m\u001b[1;33m)\u001b[0m\u001b[1;33m.\u001b[0m\u001b[0many\u001b[0m\u001b[1;33m(\u001b[0m\u001b[1;33m)\u001b[0m\u001b[1;33m.\u001b[0m\u001b[0many\u001b[0m\u001b[1;33m(\u001b[0m\u001b[1;33m)\u001b[0m\u001b[1;33m:\u001b[0m\u001b[1;33m\u001b[0m\u001b[0m\n\u001b[1;32m-> 2104\u001b[1;33m             \u001b[1;32mraise\u001b[0m \u001b[0mValueError\u001b[0m\u001b[1;33m(\u001b[0m\u001b[1;34m\"{0} doesn't allow negative values\"\u001b[0m\u001b[1;33m.\u001b[0m\u001b[0mformat\u001b[0m\u001b[1;33m(\u001b[0m\u001b[0mkind\u001b[0m\u001b[1;33m)\u001b[0m\u001b[1;33m)\u001b[0m\u001b[1;33m\u001b[0m\u001b[0m\n\u001b[0m\u001b[0;32m   2105\u001b[0m         \u001b[0mMPLPlot\u001b[0m\u001b[1;33m.\u001b[0m\u001b[0m__init__\u001b[0m\u001b[1;33m(\u001b[0m\u001b[0mself\u001b[0m\u001b[1;33m,\u001b[0m \u001b[0mdata\u001b[0m\u001b[1;33m,\u001b[0m \u001b[0mkind\u001b[0m\u001b[1;33m=\u001b[0m\u001b[0mkind\u001b[0m\u001b[1;33m,\u001b[0m \u001b[1;33m**\u001b[0m\u001b[0mkwargs\u001b[0m\u001b[1;33m)\u001b[0m\u001b[1;33m\u001b[0m\u001b[0m\n\u001b[0;32m   2106\u001b[0m \u001b[1;33m\u001b[0m\u001b[0m\n",
      "\u001b[1;31mValueError\u001b[0m: pie doesn't allow negative values"
     ]
    }
   ],
   "source": [
    "rowdata.plot.pie()"
   ]
  },
  {
   "cell_type": "code",
   "execution_count": 52,
   "metadata": {
    "collapsed": false
   },
   "outputs": [
    {
     "ename": "ValueError",
     "evalue": "pie doesn't allow negative values",
     "output_type": "error",
     "traceback": [
      "\u001b[1;31m---------------------------------------------------------------------------\u001b[0m",
      "\u001b[1;31mValueError\u001b[0m                                Traceback (most recent call last)",
      "\u001b[1;32m<ipython-input-52-c5a8ef988788>\u001b[0m in \u001b[0;36m<module>\u001b[1;34m()\u001b[0m\n\u001b[1;32m----> 1\u001b[1;33m \u001b[0mdata\u001b[0m\u001b[1;33m.\u001b[0m\u001b[0mplot\u001b[0m\u001b[1;33m.\u001b[0m\u001b[0mpie\u001b[0m\u001b[1;33m(\u001b[0m\u001b[0msubplots\u001b[0m\u001b[1;33m=\u001b[0m\u001b[0mTrue\u001b[0m\u001b[1;33m)\u001b[0m\u001b[1;33m\u001b[0m\u001b[0m\n\u001b[0m",
      "\u001b[1;32mC:\\Users\\bnorthan\\Anaconda2\\lib\\site-packages\\pandas\\tools\\plotting.pyc\u001b[0m in \u001b[0;36mpie\u001b[1;34m(self, y, **kwds)\u001b[0m\n\u001b[0;32m   3824\u001b[0m         \u001b[0maxes\u001b[0m \u001b[1;33m:\u001b[0m \u001b[0mmatplotlib\u001b[0m\u001b[1;33m.\u001b[0m\u001b[0mAxesSubplot\u001b[0m \u001b[1;32mor\u001b[0m \u001b[0mnp\u001b[0m\u001b[1;33m.\u001b[0m\u001b[0marray\u001b[0m \u001b[0mof\u001b[0m \u001b[0mthem\u001b[0m\u001b[1;33m\u001b[0m\u001b[0m\n\u001b[0;32m   3825\u001b[0m         \"\"\"\n\u001b[1;32m-> 3826\u001b[1;33m         \u001b[1;32mreturn\u001b[0m \u001b[0mself\u001b[0m\u001b[1;33m(\u001b[0m\u001b[0mkind\u001b[0m\u001b[1;33m=\u001b[0m\u001b[1;34m'pie'\u001b[0m\u001b[1;33m,\u001b[0m \u001b[0my\u001b[0m\u001b[1;33m=\u001b[0m\u001b[0my\u001b[0m\u001b[1;33m,\u001b[0m \u001b[1;33m**\u001b[0m\u001b[0mkwds\u001b[0m\u001b[1;33m)\u001b[0m\u001b[1;33m\u001b[0m\u001b[0m\n\u001b[0m\u001b[0;32m   3827\u001b[0m \u001b[1;33m\u001b[0m\u001b[0m\n\u001b[0;32m   3828\u001b[0m     \u001b[1;32mdef\u001b[0m \u001b[0mscatter\u001b[0m\u001b[1;33m(\u001b[0m\u001b[0mself\u001b[0m\u001b[1;33m,\u001b[0m \u001b[0mx\u001b[0m\u001b[1;33m,\u001b[0m \u001b[0my\u001b[0m\u001b[1;33m,\u001b[0m \u001b[0ms\u001b[0m\u001b[1;33m=\u001b[0m\u001b[0mNone\u001b[0m\u001b[1;33m,\u001b[0m \u001b[0mc\u001b[0m\u001b[1;33m=\u001b[0m\u001b[0mNone\u001b[0m\u001b[1;33m,\u001b[0m \u001b[1;33m**\u001b[0m\u001b[0mkwds\u001b[0m\u001b[1;33m)\u001b[0m\u001b[1;33m:\u001b[0m\u001b[1;33m\u001b[0m\u001b[0m\n",
      "\u001b[1;32mC:\\Users\\bnorthan\\Anaconda2\\lib\\site-packages\\pandas\\tools\\plotting.pyc\u001b[0m in \u001b[0;36m__call__\u001b[1;34m(self, x, y, kind, ax, subplots, sharex, sharey, layout, figsize, use_index, title, grid, legend, style, logx, logy, loglog, xticks, yticks, xlim, ylim, rot, fontsize, colormap, table, yerr, xerr, secondary_y, sort_columns, **kwds)\u001b[0m\n\u001b[0;32m   3669\u001b[0m                           \u001b[0mfontsize\u001b[0m\u001b[1;33m=\u001b[0m\u001b[0mfontsize\u001b[0m\u001b[1;33m,\u001b[0m \u001b[0mcolormap\u001b[0m\u001b[1;33m=\u001b[0m\u001b[0mcolormap\u001b[0m\u001b[1;33m,\u001b[0m \u001b[0mtable\u001b[0m\u001b[1;33m=\u001b[0m\u001b[0mtable\u001b[0m\u001b[1;33m,\u001b[0m\u001b[1;33m\u001b[0m\u001b[0m\n\u001b[0;32m   3670\u001b[0m                           \u001b[0myerr\u001b[0m\u001b[1;33m=\u001b[0m\u001b[0myerr\u001b[0m\u001b[1;33m,\u001b[0m \u001b[0mxerr\u001b[0m\u001b[1;33m=\u001b[0m\u001b[0mxerr\u001b[0m\u001b[1;33m,\u001b[0m \u001b[0msecondary_y\u001b[0m\u001b[1;33m=\u001b[0m\u001b[0msecondary_y\u001b[0m\u001b[1;33m,\u001b[0m\u001b[1;33m\u001b[0m\u001b[0m\n\u001b[1;32m-> 3671\u001b[1;33m                           sort_columns=sort_columns, **kwds)\n\u001b[0m\u001b[0;32m   3672\u001b[0m     \u001b[0m__call__\u001b[0m\u001b[1;33m.\u001b[0m\u001b[0m__doc__\u001b[0m \u001b[1;33m=\u001b[0m \u001b[0mplot_frame\u001b[0m\u001b[1;33m.\u001b[0m\u001b[0m__doc__\u001b[0m\u001b[1;33m\u001b[0m\u001b[0m\n\u001b[0;32m   3673\u001b[0m \u001b[1;33m\u001b[0m\u001b[0m\n",
      "\u001b[1;32mC:\\Users\\bnorthan\\Anaconda2\\lib\\site-packages\\pandas\\tools\\plotting.pyc\u001b[0m in \u001b[0;36mplot_frame\u001b[1;34m(data, x, y, kind, ax, subplots, sharex, sharey, layout, figsize, use_index, title, grid, legend, style, logx, logy, loglog, xticks, yticks, xlim, ylim, rot, fontsize, colormap, table, yerr, xerr, secondary_y, sort_columns, **kwds)\u001b[0m\n\u001b[0;32m   2554\u001b[0m                  \u001b[0myerr\u001b[0m\u001b[1;33m=\u001b[0m\u001b[0myerr\u001b[0m\u001b[1;33m,\u001b[0m \u001b[0mxerr\u001b[0m\u001b[1;33m=\u001b[0m\u001b[0mxerr\u001b[0m\u001b[1;33m,\u001b[0m\u001b[1;33m\u001b[0m\u001b[0m\n\u001b[0;32m   2555\u001b[0m                  \u001b[0msecondary_y\u001b[0m\u001b[1;33m=\u001b[0m\u001b[0msecondary_y\u001b[0m\u001b[1;33m,\u001b[0m \u001b[0msort_columns\u001b[0m\u001b[1;33m=\u001b[0m\u001b[0msort_columns\u001b[0m\u001b[1;33m,\u001b[0m\u001b[1;33m\u001b[0m\u001b[0m\n\u001b[1;32m-> 2556\u001b[1;33m                  **kwds)\n\u001b[0m\u001b[0;32m   2557\u001b[0m \u001b[1;33m\u001b[0m\u001b[0m\n\u001b[0;32m   2558\u001b[0m \u001b[1;33m\u001b[0m\u001b[0m\n",
      "\u001b[1;32mC:\\Users\\bnorthan\\Anaconda2\\lib\\site-packages\\pandas\\tools\\plotting.pyc\u001b[0m in \u001b[0;36m_plot\u001b[1;34m(data, x, y, subplots, ax, kind, **kwds)\u001b[0m\n\u001b[0;32m   2356\u001b[0m                 \u001b[0mdata\u001b[0m \u001b[1;33m=\u001b[0m \u001b[0mdata\u001b[0m\u001b[1;33m[\u001b[0m\u001b[0my\u001b[0m\u001b[1;33m]\u001b[0m\u001b[1;33m.\u001b[0m\u001b[0mcopy\u001b[0m\u001b[1;33m(\u001b[0m\u001b[1;33m)\u001b[0m\u001b[1;33m\u001b[0m\u001b[0m\n\u001b[0;32m   2357\u001b[0m                 \u001b[0mdata\u001b[0m\u001b[1;33m.\u001b[0m\u001b[0mindex\u001b[0m\u001b[1;33m.\u001b[0m\u001b[0mname\u001b[0m \u001b[1;33m=\u001b[0m \u001b[0my\u001b[0m\u001b[1;33m\u001b[0m\u001b[0m\n\u001b[1;32m-> 2358\u001b[1;33m         \u001b[0mplot_obj\u001b[0m \u001b[1;33m=\u001b[0m \u001b[0mklass\u001b[0m\u001b[1;33m(\u001b[0m\u001b[0mdata\u001b[0m\u001b[1;33m,\u001b[0m \u001b[0msubplots\u001b[0m\u001b[1;33m=\u001b[0m\u001b[0msubplots\u001b[0m\u001b[1;33m,\u001b[0m \u001b[0max\u001b[0m\u001b[1;33m=\u001b[0m\u001b[0max\u001b[0m\u001b[1;33m,\u001b[0m \u001b[0mkind\u001b[0m\u001b[1;33m=\u001b[0m\u001b[0mkind\u001b[0m\u001b[1;33m,\u001b[0m \u001b[1;33m**\u001b[0m\u001b[0mkwds\u001b[0m\u001b[1;33m)\u001b[0m\u001b[1;33m\u001b[0m\u001b[0m\n\u001b[0m\u001b[0;32m   2359\u001b[0m     \u001b[1;32melse\u001b[0m\u001b[1;33m:\u001b[0m\u001b[1;33m\u001b[0m\u001b[0m\n\u001b[0;32m   2360\u001b[0m         \u001b[1;32mif\u001b[0m \u001b[0misinstance\u001b[0m\u001b[1;33m(\u001b[0m\u001b[0mdata\u001b[0m\u001b[1;33m,\u001b[0m \u001b[0mDataFrame\u001b[0m\u001b[1;33m)\u001b[0m\u001b[1;33m:\u001b[0m\u001b[1;33m\u001b[0m\u001b[0m\n",
      "\u001b[1;32mC:\\Users\\bnorthan\\Anaconda2\\lib\\site-packages\\pandas\\tools\\plotting.pyc\u001b[0m in \u001b[0;36m__init__\u001b[1;34m(self, data, kind, **kwargs)\u001b[0m\n\u001b[0;32m   2102\u001b[0m         \u001b[0mdata\u001b[0m \u001b[1;33m=\u001b[0m \u001b[0mdata\u001b[0m\u001b[1;33m.\u001b[0m\u001b[0mfillna\u001b[0m\u001b[1;33m(\u001b[0m\u001b[0mvalue\u001b[0m\u001b[1;33m=\u001b[0m\u001b[1;36m0\u001b[0m\u001b[1;33m)\u001b[0m\u001b[1;33m\u001b[0m\u001b[0m\n\u001b[0;32m   2103\u001b[0m         \u001b[1;32mif\u001b[0m \u001b[1;33m(\u001b[0m\u001b[0mdata\u001b[0m \u001b[1;33m<\u001b[0m \u001b[1;36m0\u001b[0m\u001b[1;33m)\u001b[0m\u001b[1;33m.\u001b[0m\u001b[0many\u001b[0m\u001b[1;33m(\u001b[0m\u001b[1;33m)\u001b[0m\u001b[1;33m.\u001b[0m\u001b[0many\u001b[0m\u001b[1;33m(\u001b[0m\u001b[1;33m)\u001b[0m\u001b[1;33m:\u001b[0m\u001b[1;33m\u001b[0m\u001b[0m\n\u001b[1;32m-> 2104\u001b[1;33m             \u001b[1;32mraise\u001b[0m \u001b[0mValueError\u001b[0m\u001b[1;33m(\u001b[0m\u001b[1;34m\"{0} doesn't allow negative values\"\u001b[0m\u001b[1;33m.\u001b[0m\u001b[0mformat\u001b[0m\u001b[1;33m(\u001b[0m\u001b[0mkind\u001b[0m\u001b[1;33m)\u001b[0m\u001b[1;33m)\u001b[0m\u001b[1;33m\u001b[0m\u001b[0m\n\u001b[0m\u001b[0;32m   2105\u001b[0m         \u001b[0mMPLPlot\u001b[0m\u001b[1;33m.\u001b[0m\u001b[0m__init__\u001b[0m\u001b[1;33m(\u001b[0m\u001b[0mself\u001b[0m\u001b[1;33m,\u001b[0m \u001b[0mdata\u001b[0m\u001b[1;33m,\u001b[0m \u001b[0mkind\u001b[0m\u001b[1;33m=\u001b[0m\u001b[0mkind\u001b[0m\u001b[1;33m,\u001b[0m \u001b[1;33m**\u001b[0m\u001b[0mkwargs\u001b[0m\u001b[1;33m)\u001b[0m\u001b[1;33m\u001b[0m\u001b[0m\n\u001b[0;32m   2106\u001b[0m \u001b[1;33m\u001b[0m\u001b[0m\n",
      "\u001b[1;31mValueError\u001b[0m: pie doesn't allow negative values"
     ]
    }
   ],
   "source": [
    "data.plot.pie(subplots=True)"
   ]
  },
  {
   "cell_type": "code",
   "execution_count": 63,
   "metadata": {
    "collapsed": false
   },
   "outputs": [
    {
     "name": "stdout",
     "output_type": "stream",
     "text": [
      "(32, 3)\n"
     ]
    },
    {
     "data": {
      "text/html": [
       "<div>\n",
       "<table border=\"1\" class=\"dataframe\">\n",
       "  <thead>\n",
       "    <tr style=\"text-align: right;\">\n",
       "      <th></th>\n",
       "      <th>COUNT PARTICIPANTS</th>\n",
       "      <th>COUNT FEMALE</th>\n",
       "      <th>COUNT MALE</th>\n",
       "    </tr>\n",
       "  </thead>\n",
       "  <tbody>\n",
       "    <tr>\n",
       "      <th>0</th>\n",
       "      <td>44</td>\n",
       "      <td>22</td>\n",
       "      <td>22</td>\n",
       "    </tr>\n",
       "    <tr>\n",
       "      <th>22</th>\n",
       "      <td>41</td>\n",
       "      <td>21</td>\n",
       "      <td>20</td>\n",
       "    </tr>\n",
       "    <tr>\n",
       "      <th>28</th>\n",
       "      <td>52</td>\n",
       "      <td>25</td>\n",
       "      <td>27</td>\n",
       "    </tr>\n",
       "    <tr>\n",
       "      <th>31</th>\n",
       "      <td>49</td>\n",
       "      <td>26</td>\n",
       "      <td>23</td>\n",
       "    </tr>\n",
       "    <tr>\n",
       "      <th>33</th>\n",
       "      <td>59</td>\n",
       "      <td>33</td>\n",
       "      <td>26</td>\n",
       "    </tr>\n",
       "  </tbody>\n",
       "</table>\n",
       "</div>"
      ],
      "text/plain": [
       "    COUNT PARTICIPANTS  COUNT FEMALE  COUNT MALE\n",
       "0                   44            22          22\n",
       "22                  41            21          20\n",
       "28                  52            25          27\n",
       "31                  49            26          23\n",
       "33                  59            33          26"
      ]
     },
     "execution_count": 63,
     "metadata": {},
     "output_type": "execute_result"
    }
   ],
   "source": [
    "print forpie.shape\n",
    "forpie.head()"
   ]
  },
  {
   "cell_type": "code",
   "execution_count": 65,
   "metadata": {
    "collapsed": false
   },
   "outputs": [
    {
     "name": "stdout",
     "output_type": "stream",
     "text": [
      "COUNT PARTICIPANTS    59\n",
      "COUNT FEMALE          33\n",
      "COUNT MALE            26\n",
      "Name: 33, dtype: int64\n"
     ]
    },
    {
     "data": {
      "text/plain": [
       "<matplotlib.axes._subplots.AxesSubplot at 0x1d997a90>"
      ]
     },
     "execution_count": 65,
     "metadata": {},
     "output_type": "execute_result"
    },
    {
     "data": {
      "image/png": "[encoded data removed]",
      "text/plain": [
       "<matplotlib.figure.Figure at 0x1ac09d68>"
      ]
     },
     "metadata": {},
     "output_type": "display_data"
    }
   ],
   "source": [
    "a_row=forpie.iloc[4]\n",
    "print a_row\n",
    "a_row.plot.pie()"
   ]
  },
  {
   "cell_type": "code",
   "execution_count": 60,
   "metadata": {
    "collapsed": false
   },
   "outputs": [
    {
     "data": {
      "text/plain": [
       "<matplotlib.axes._subplots.AxesSubplot at 0x1af50c50>"
      ]
     },
     "execution_count": 60,
     "metadata": {},
     "output_type": "execute_result"
    },
    {
     "data": {
      "image/png": "[encoded data removed]",
      "text/plain": [
       "<matplotlib.figure.Figure at 0x1d04a550>"
      ]
     },
     "metadata": {},
     "output_type": "display_data"
    }
   ],
   "source": [
    "a_col=forpie['COUNT PARTICIPANTS']\n",
    "a_col.plot.pie()"
   ]
  },
  {
   "cell_type": "code",
   "execution_count": 62,
   "metadata": {
    "collapsed": false
   },
   "outputs": [
    {
     "data": {
      "text/plain": [
       "array([<matplotlib.axes._subplots.AxesSubplot object at 0x000000001AB57978>,\n",
       "       <matplotlib.axes._subplots.AxesSubplot object at 0x000000001D157400>,\n",
       "       <matplotlib.axes._subplots.AxesSubplot object at 0x000000001AF816A0>], dtype=object)"
      ]
     },
     "execution_count": 62,
     "metadata": {},
     "output_type": "execute_result"
    },
    {
     "data": {
      "image/png": "[encoded data removed]",
      "text/plain": [
       "<matplotlib.figure.Figure at 0x1af6dcf8>"
      ]
     },
     "metadata": {},
     "output_type": "display_data"
    }
   ],
   "source": [
    "forpie.plot.pie(subplots=True)"
   ]
  },
  {
   "cell_type": "code",
   "execution_count": 66,
   "metadata": {
    "collapsed": false
   },
   "outputs": [
    {
     "data": {
      "text/html": [
       "<div>\n",
       "<table border=\"1\" class=\"dataframe\">\n",
       "  <thead>\n",
       "    <tr style=\"text-align: right;\">\n",
       "      <th></th>\n",
       "      <th>COUNT PARTICIPANTS</th>\n",
       "      <th>COUNT FEMALE</th>\n",
       "      <th>COUNT MALE</th>\n",
       "    </tr>\n",
       "  </thead>\n",
       "  <tbody>\n",
       "    <tr>\n",
       "      <th>0</th>\n",
       "      <td>44</td>\n",
       "      <td>22</td>\n",
       "      <td>22</td>\n",
       "    </tr>\n",
       "    <tr>\n",
       "      <th>22</th>\n",
       "      <td>41</td>\n",
       "      <td>21</td>\n",
       "      <td>20</td>\n",
       "    </tr>\n",
       "    <tr>\n",
       "      <th>28</th>\n",
       "      <td>52</td>\n",
       "      <td>25</td>\n",
       "      <td>27</td>\n",
       "    </tr>\n",
       "    <tr>\n",
       "      <th>31</th>\n",
       "      <td>49</td>\n",
       "      <td>26</td>\n",
       "      <td>23</td>\n",
       "    </tr>\n",
       "    <tr>\n",
       "      <th>33</th>\n",
       "      <td>59</td>\n",
       "      <td>33</td>\n",
       "      <td>26</td>\n",
       "    </tr>\n",
       "  </tbody>\n",
       "</table>\n",
       "</div>"
      ],
      "text/plain": [
       "    COUNT PARTICIPANTS  COUNT FEMALE  COUNT MALE\n",
       "0                   44            22          22\n",
       "22                  41            21          20\n",
       "28                  52            25          27\n",
       "31                  49            26          23\n",
       "33                  59            33          26"
      ]
     },
     "execution_count": 66,
     "metadata": {},
     "output_type": "execute_result"
    }
   ],
   "source": [
    "forpie.head()"
   ]
  },
  {
   "cell_type": "code",
   "execution_count": 68,
   "metadata": {
    "collapsed": false
   },
   "outputs": [
    {
     "data": {
      "text/plain": [
       "COUNT PARTICIPANTS    59\n",
       "COUNT FEMALE          33\n",
       "COUNT MALE            26\n",
       "Name: 33, dtype: int64"
      ]
     },
     "execution_count": 68,
     "metadata": {},
     "output_type": "execute_result"
    }
   ],
   "source": [
    "forpie.iloc[4]"
   ]
  },
  {
   "cell_type": "code",
   "execution_count": 69,
   "metadata": {
    "collapsed": false
   },
   "outputs": [
    {
     "data": {
      "text/plain": [
       "COUNT PARTICIPANTS    59\n",
       "COUNT FEMALE          33\n",
       "COUNT MALE            26\n",
       "Name: 33, dtype: int64"
      ]
     },
     "execution_count": 69,
     "metadata": {},
     "output_type": "execute_result"
    }
   ],
   "source": [
    "forpie.loc[33]"
   ]
  },
  {
   "cell_type": "code",
   "execution_count": 72,
   "metadata": {
    "collapsed": false
   },
   "outputs": [
    {
     "data": {
      "text/plain": [
       "COUNT PARTICIPANTS    41\n",
       "COUNT FEMALE          21\n",
       "COUNT MALE            20\n",
       "Name: 22, dtype: int64"
      ]
     },
     "execution_count": 72,
     "metadata": {},
     "output_type": "execute_result"
    }
   ],
   "source": [
    "forpie.iloc[1]"
   ]
  },
  {
   "cell_type": "code",
   "execution_count": 85,
   "metadata": {
    "collapsed": false
   },
   "outputs": [],
   "source": [
    "crimes=pd.read_csv('../../data/Joel Kurian/crimeyear.csv', index_col=0)"
   ]
  },
  {
   "cell_type": "code",
   "execution_count": 86,
   "metadata": {
    "collapsed": false
   },
   "outputs": [
    {
     "data": {
      "text/html": [
       "<div>\n",
       "<table border=\"1\" class=\"dataframe\">\n",
       "  <thead>\n",
       "    <tr style=\"text-align: right;\">\n",
       "      <th></th>\n",
       "      <th>Population</th>\n",
       "      <th>Violent crime</th>\n",
       "      <th>Violent crime rate</th>\n",
       "      <th>Murder</th>\n",
       "      <th>Murder rate</th>\n",
       "      <th>Rape</th>\n",
       "      <th>Rape rate</th>\n",
       "      <th>Robbery</th>\n",
       "      <th>Robbery rate</th>\n",
       "      <th>Aggravated assault</th>\n",
       "      <th>Aggravated assault rate</th>\n",
       "      <th>Property crime</th>\n",
       "      <th>Property crime rate</th>\n",
       "      <th>Burglary</th>\n",
       "      <th>Burglary rate</th>\n",
       "      <th>Larceny theft</th>\n",
       "      <th>Larceny theft rate</th>\n",
       "      <th>Motor vehicle theft</th>\n",
       "      <th>Motor vehicle theft rate</th>\n",
       "    </tr>\n",
       "    <tr>\n",
       "      <th>Year</th>\n",
       "      <th></th>\n",
       "      <th></th>\n",
       "      <th></th>\n",
       "      <th></th>\n",
       "      <th></th>\n",
       "      <th></th>\n",
       "      <th></th>\n",
       "      <th></th>\n",
       "      <th></th>\n",
       "      <th></th>\n",
       "      <th></th>\n",
       "      <th></th>\n",
       "      <th></th>\n",
       "      <th></th>\n",
       "      <th></th>\n",
       "      <th></th>\n",
       "      <th></th>\n",
       "      <th></th>\n",
       "      <th></th>\n",
       "    </tr>\n",
       "  </thead>\n",
       "  <tbody>\n",
       "    <tr>\n",
       "      <th>1995</th>\n",
       "      <td>262803276</td>\n",
       "      <td>1798792</td>\n",
       "      <td>685</td>\n",
       "      <td>21606</td>\n",
       "      <td>8</td>\n",
       "      <td>97470</td>\n",
       "      <td>37</td>\n",
       "      <td>580509</td>\n",
       "      <td>221</td>\n",
       "      <td>1099207</td>\n",
       "      <td>418</td>\n",
       "      <td>12063935</td>\n",
       "      <td>4591</td>\n",
       "      <td>2593784</td>\n",
       "      <td>987</td>\n",
       "      <td>7997710</td>\n",
       "      <td>3043</td>\n",
       "      <td>1472441</td>\n",
       "      <td>560</td>\n",
       "    </tr>\n",
       "    <tr>\n",
       "      <th>1996</th>\n",
       "      <td>265228572</td>\n",
       "      <td>1688540</td>\n",
       "      <td>637</td>\n",
       "      <td>19645</td>\n",
       "      <td>7</td>\n",
       "      <td>96252</td>\n",
       "      <td>36</td>\n",
       "      <td>535594</td>\n",
       "      <td>202</td>\n",
       "      <td>1037049</td>\n",
       "      <td>391</td>\n",
       "      <td>11805323</td>\n",
       "      <td>4451</td>\n",
       "      <td>2506400</td>\n",
       "      <td>945</td>\n",
       "      <td>7904685</td>\n",
       "      <td>2980</td>\n",
       "      <td>1394238</td>\n",
       "      <td>526</td>\n",
       "    </tr>\n",
       "    <tr>\n",
       "      <th>1997</th>\n",
       "      <td>267783607</td>\n",
       "      <td>1636096</td>\n",
       "      <td>611</td>\n",
       "      <td>18208</td>\n",
       "      <td>7</td>\n",
       "      <td>96153</td>\n",
       "      <td>36</td>\n",
       "      <td>498534</td>\n",
       "      <td>186</td>\n",
       "      <td>1023201</td>\n",
       "      <td>382</td>\n",
       "      <td>11558475</td>\n",
       "      <td>4316</td>\n",
       "      <td>2460526</td>\n",
       "      <td>919</td>\n",
       "      <td>7743760</td>\n",
       "      <td>2892</td>\n",
       "      <td>1354189</td>\n",
       "      <td>506</td>\n",
       "    </tr>\n",
       "    <tr>\n",
       "      <th>1998</th>\n",
       "      <td>270248003</td>\n",
       "      <td>1533887</td>\n",
       "      <td>568</td>\n",
       "      <td>16974</td>\n",
       "      <td>6</td>\n",
       "      <td>93144</td>\n",
       "      <td>35</td>\n",
       "      <td>447186</td>\n",
       "      <td>166</td>\n",
       "      <td>976583</td>\n",
       "      <td>361</td>\n",
       "      <td>10951827</td>\n",
       "      <td>4053</td>\n",
       "      <td>2332735</td>\n",
       "      <td>863</td>\n",
       "      <td>7376311</td>\n",
       "      <td>2730</td>\n",
       "      <td>1242781</td>\n",
       "      <td>460</td>\n",
       "    </tr>\n",
       "    <tr>\n",
       "      <th>1999</th>\n",
       "      <td>272690813</td>\n",
       "      <td>1426044</td>\n",
       "      <td>523</td>\n",
       "      <td>15522</td>\n",
       "      <td>6</td>\n",
       "      <td>89411</td>\n",
       "      <td>33</td>\n",
       "      <td>409371</td>\n",
       "      <td>150</td>\n",
       "      <td>911740</td>\n",
       "      <td>334</td>\n",
       "      <td>10208334</td>\n",
       "      <td>3744</td>\n",
       "      <td>2100739</td>\n",
       "      <td>770</td>\n",
       "      <td>6955520</td>\n",
       "      <td>2551</td>\n",
       "      <td>1152075</td>\n",
       "      <td>423</td>\n",
       "    </tr>\n",
       "  </tbody>\n",
       "</table>\n",
       "</div>"
      ],
      "text/plain": [
       "      Population  Violent crime  Violent crime rate  Murder  Murder rate  \\\n",
       "Year                                                                       \n",
       "1995   262803276        1798792                 685   21606            8   \n",
       "1996   265228572        1688540                 637   19645            7   \n",
       "1997   267783607        1636096                 611   18208            7   \n",
       "1998   270248003        1533887                 568   16974            6   \n",
       "1999   272690813        1426044                 523   15522            6   \n",
       "\n",
       "       Rape  Rape rate  Robbery  Robbery rate  Aggravated assault  \\\n",
       "Year                                                                \n",
       "1995  97470         37   580509           221             1099207   \n",
       "1996  96252         36   535594           202             1037049   \n",
       "1997  96153         36   498534           186             1023201   \n",
       "1998  93144         35   447186           166              976583   \n",
       "1999  89411         33   409371           150              911740   \n",
       "\n",
       "      Aggravated assault rate  Property crime  Property crime rate  Burglary  \\\n",
       "Year                                                                           \n",
       "1995                      418        12063935                 4591   2593784   \n",
       "1996                      391        11805323                 4451   2506400   \n",
       "1997                      382        11558475                 4316   2460526   \n",
       "1998                      361        10951827                 4053   2332735   \n",
       "1999                      334        10208334                 3744   2100739   \n",
       "\n",
       "      Burglary rate  Larceny theft  Larceny theft rate  Motor vehicle theft  \\\n",
       "Year                                                                          \n",
       "1995            987        7997710                3043              1472441   \n",
       "1996            945        7904685                2980              1394238   \n",
       "1997            919        7743760                2892              1354189   \n",
       "1998            863        7376311                2730              1242781   \n",
       "1999            770        6955520                2551              1152075   \n",
       "\n",
       "      Motor vehicle theft rate  \n",
       "Year                            \n",
       "1995                       560  \n",
       "1996                       526  \n",
       "1997                       506  \n",
       "1998                       460  \n",
       "1999                       423  "
      ]
     },
     "execution_count": 86,
     "metadata": {},
     "output_type": "execute_result"
    }
   ],
   "source": [
    "crimes.head()"
   ]
  },
  {
   "cell_type": "code",
   "execution_count": 112,
   "metadata": {
    "collapsed": false
   },
   "outputs": [],
   "source": [
    "crimes2=crimes[['Aggravated assault rate','Robbery rate','Burglary rate']]\n",
    "crimes2=crimes2.loc[1995:1996]"
   ]
  },
  {
   "cell_type": "code",
   "execution_count": 113,
   "metadata": {
    "collapsed": false
   },
   "outputs": [
    {
     "data": {
      "text/html": [
       "<div>\n",
       "<table border=\"1\" class=\"dataframe\">\n",
       "  <thead>\n",
       "    <tr style=\"text-align: right;\">\n",
       "      <th></th>\n",
       "      <th>Aggravated assault rate</th>\n",
       "      <th>Robbery rate</th>\n",
       "      <th>Burglary rate</th>\n",
       "    </tr>\n",
       "    <tr>\n",
       "      <th>Year</th>\n",
       "      <th></th>\n",
       "      <th></th>\n",
       "      <th></th>\n",
       "    </tr>\n",
       "  </thead>\n",
       "  <tbody>\n",
       "    <tr>\n",
       "      <th>1995</th>\n",
       "      <td>418</td>\n",
       "      <td>221</td>\n",
       "      <td>987</td>\n",
       "    </tr>\n",
       "    <tr>\n",
       "      <th>1996</th>\n",
       "      <td>391</td>\n",
       "      <td>202</td>\n",
       "      <td>945</td>\n",
       "    </tr>\n",
       "  </tbody>\n",
       "</table>\n",
       "</div>"
      ],
      "text/plain": [
       "      Aggravated assault rate  Robbery rate  Burglary rate\n",
       "Year                                                      \n",
       "1995                      418           221            987\n",
       "1996                      391           202            945"
      ]
     },
     "execution_count": 113,
     "metadata": {},
     "output_type": "execute_result"
    }
   ],
   "source": [
    "crimes2"
   ]
  },
  {
   "cell_type": "code",
   "execution_count": 118,
   "metadata": {
    "collapsed": false
   },
   "outputs": [
    {
     "data": {
      "text/plain": [
       "<matplotlib.axes._subplots.AxesSubplot at 0x2b395a20>"
      ]
     },
     "execution_count": 118,
     "metadata": {},
     "output_type": "execute_result"
    },
    {
     "data": {
      "image/png": "[encoded data removed]",
      "text/plain": [
       "<matplotlib.figure.Figure at 0x2b52b5f8>"
      ]
     },
     "metadata": {},
     "output_type": "display_data"
    }
   ],
   "source": [
    "crimes2.plot.barh()\n"
   ]
  },
  {
   "cell_type": "code",
   "execution_count": 92,
   "metadata": {
    "collapsed": false
   },
   "outputs": [
    {
     "data": {
      "text/plain": [
       "<matplotlib.axes._subplots.AxesSubplot at 0x1af6ecf8>"
      ]
     },
     "execution_count": 92,
     "metadata": {},
     "output_type": "execute_result"
    },
    {
     "data": {
      "image/png": "[encoded data removed]",
      "text/plain": [
       "<matplotlib.figure.Figure at 0x1de65ef0>"
      ]
     },
     "metadata": {},
     "output_type": "display_data"
    }
   ],
   "source": [
    "crimes2.plot.bar(stacked=True)"
   ]
  },
  {
   "cell_type": "code",
   "execution_count": 93,
   "metadata": {
    "collapsed": false
   },
   "outputs": [
    {
     "data": {
      "text/html": [
       "<div>\n",
       "<table border=\"1\" class=\"dataframe\">\n",
       "  <thead>\n",
       "    <tr style=\"text-align: right;\">\n",
       "      <th></th>\n",
       "      <th>JURISDICTION NAME</th>\n",
       "      <th>COUNT PARTICIPANTS</th>\n",
       "      <th>COUNT FEMALE</th>\n",
       "      <th>PERCENT FEMALE</th>\n",
       "      <th>COUNT MALE</th>\n",
       "      <th>PERCENT MALE</th>\n",
       "      <th>COUNT GENDER TOTAL</th>\n",
       "      <th>PERCENT GENDER TOTAL</th>\n",
       "      <th>COUNT PACIFIC ISLANDER</th>\n",
       "      <th>PERCENT PACIFIC ISLANDER</th>\n",
       "      <th>...</th>\n",
       "      <th>COUNT PUBLIC ASSISTANCE UNKNOWN</th>\n",
       "      <th>PERCENT PUBLIC ASSISTANCE UNKNOWN</th>\n",
       "      <th>COUNT PUBLIC ASSISTANCE TOTAL</th>\n",
       "      <th>PERCENT PUBLIC ASSISTANCE TOTAL</th>\n",
       "      <th>city</th>\n",
       "      <th>state</th>\n",
       "      <th>latitude</th>\n",
       "      <th>longitude</th>\n",
       "      <th>timezone</th>\n",
       "      <th>dst</th>\n",
       "    </tr>\n",
       "  </thead>\n",
       "  <tbody>\n",
       "    <tr>\n",
       "      <th>0</th>\n",
       "      <td>10001</td>\n",
       "      <td>44</td>\n",
       "      <td>22</td>\n",
       "      <td>0.50</td>\n",
       "      <td>22</td>\n",
       "      <td>0.50</td>\n",
       "      <td>44</td>\n",
       "      <td>100</td>\n",
       "      <td>0</td>\n",
       "      <td>0.00</td>\n",
       "      <td>...</td>\n",
       "      <td>0</td>\n",
       "      <td>0</td>\n",
       "      <td>44</td>\n",
       "      <td>100</td>\n",
       "      <td>New York</td>\n",
       "      <td>NY</td>\n",
       "      <td>40.750742</td>\n",
       "      <td>-73.99653</td>\n",
       "      <td>-5</td>\n",
       "      <td>1</td>\n",
       "    </tr>\n",
       "    <tr>\n",
       "      <th>22</th>\n",
       "      <td>10451</td>\n",
       "      <td>41</td>\n",
       "      <td>21</td>\n",
       "      <td>0.51</td>\n",
       "      <td>20</td>\n",
       "      <td>0.49</td>\n",
       "      <td>41</td>\n",
       "      <td>100</td>\n",
       "      <td>0</td>\n",
       "      <td>0.00</td>\n",
       "      <td>...</td>\n",
       "      <td>0</td>\n",
       "      <td>0</td>\n",
       "      <td>41</td>\n",
       "      <td>100</td>\n",
       "      <td>Bronx</td>\n",
       "      <td>NY</td>\n",
       "      <td>40.819729</td>\n",
       "      <td>-73.92230</td>\n",
       "      <td>-5</td>\n",
       "      <td>1</td>\n",
       "    </tr>\n",
       "    <tr>\n",
       "      <th>28</th>\n",
       "      <td>10458</td>\n",
       "      <td>52</td>\n",
       "      <td>25</td>\n",
       "      <td>0.48</td>\n",
       "      <td>27</td>\n",
       "      <td>0.52</td>\n",
       "      <td>52</td>\n",
       "      <td>100</td>\n",
       "      <td>0</td>\n",
       "      <td>0.00</td>\n",
       "      <td>...</td>\n",
       "      <td>0</td>\n",
       "      <td>0</td>\n",
       "      <td>52</td>\n",
       "      <td>100</td>\n",
       "      <td>Bronx</td>\n",
       "      <td>NY</td>\n",
       "      <td>40.864166</td>\n",
       "      <td>-73.88881</td>\n",
       "      <td>-5</td>\n",
       "      <td>1</td>\n",
       "    </tr>\n",
       "    <tr>\n",
       "      <th>31</th>\n",
       "      <td>10461</td>\n",
       "      <td>49</td>\n",
       "      <td>26</td>\n",
       "      <td>0.53</td>\n",
       "      <td>23</td>\n",
       "      <td>0.47</td>\n",
       "      <td>49</td>\n",
       "      <td>100</td>\n",
       "      <td>1</td>\n",
       "      <td>0.02</td>\n",
       "      <td>...</td>\n",
       "      <td>0</td>\n",
       "      <td>0</td>\n",
       "      <td>49</td>\n",
       "      <td>100</td>\n",
       "      <td>Bronx</td>\n",
       "      <td>NY</td>\n",
       "      <td>40.842917</td>\n",
       "      <td>-73.83819</td>\n",
       "      <td>-5</td>\n",
       "      <td>1</td>\n",
       "    </tr>\n",
       "    <tr>\n",
       "      <th>33</th>\n",
       "      <td>10463</td>\n",
       "      <td>59</td>\n",
       "      <td>33</td>\n",
       "      <td>0.56</td>\n",
       "      <td>26</td>\n",
       "      <td>0.44</td>\n",
       "      <td>59</td>\n",
       "      <td>100</td>\n",
       "      <td>0</td>\n",
       "      <td>0.00</td>\n",
       "      <td>...</td>\n",
       "      <td>0</td>\n",
       "      <td>0</td>\n",
       "      <td>59</td>\n",
       "      <td>100</td>\n",
       "      <td>Bronx</td>\n",
       "      <td>NY</td>\n",
       "      <td>40.881086</td>\n",
       "      <td>-73.90749</td>\n",
       "      <td>-5</td>\n",
       "      <td>1</td>\n",
       "    </tr>\n",
       "  </tbody>\n",
       "</table>\n",
       "<p>5 rows × 50 columns</p>\n",
       "</div>"
      ],
      "text/plain": [
       "    JURISDICTION NAME  COUNT PARTICIPANTS  COUNT FEMALE  PERCENT FEMALE  \\\n",
       "0               10001                  44            22            0.50   \n",
       "22              10451                  41            21            0.51   \n",
       "28              10458                  52            25            0.48   \n",
       "31              10461                  49            26            0.53   \n",
       "33              10463                  59            33            0.56   \n",
       "\n",
       "    COUNT MALE  PERCENT MALE  COUNT GENDER TOTAL  PERCENT GENDER TOTAL  \\\n",
       "0           22          0.50                  44                   100   \n",
       "22          20          0.49                  41                   100   \n",
       "28          27          0.52                  52                   100   \n",
       "31          23          0.47                  49                   100   \n",
       "33          26          0.44                  59                   100   \n",
       "\n",
       "    COUNT PACIFIC ISLANDER  PERCENT PACIFIC ISLANDER ...   \\\n",
       "0                        0                      0.00 ...    \n",
       "22                       0                      0.00 ...    \n",
       "28                       0                      0.00 ...    \n",
       "31                       1                      0.02 ...    \n",
       "33                       0                      0.00 ...    \n",
       "\n",
       "    COUNT PUBLIC ASSISTANCE UNKNOWN  PERCENT PUBLIC ASSISTANCE UNKNOWN  \\\n",
       "0                                 0                                  0   \n",
       "22                                0                                  0   \n",
       "28                                0                                  0   \n",
       "31                                0                                  0   \n",
       "33                                0                                  0   \n",
       "\n",
       "    COUNT PUBLIC ASSISTANCE TOTAL  PERCENT PUBLIC ASSISTANCE TOTAL      city  \\\n",
       "0                              44                              100  New York   \n",
       "22                             41                              100     Bronx   \n",
       "28                             52                              100     Bronx   \n",
       "31                             49                              100     Bronx   \n",
       "33                             59                              100     Bronx   \n",
       "\n",
       "    state   latitude  longitude  timezone  dst  \n",
       "0      NY  40.750742  -73.99653        -5    1  \n",
       "22     NY  40.819729  -73.92230        -5    1  \n",
       "28     NY  40.864166  -73.88881        -5    1  \n",
       "31     NY  40.842917  -73.83819        -5    1  \n",
       "33     NY  40.881086  -73.90749        -5    1  \n",
       "\n",
       "[5 rows x 50 columns]"
      ]
     },
     "execution_count": 93,
     "metadata": {},
     "output_type": "execute_result"
    }
   ],
   "source": [
    "data.head()"
   ]
  },
  {
   "cell_type": "code",
   "execution_count": 100,
   "metadata": {
    "collapsed": false
   },
   "outputs": [
    {
     "data": {
      "text/html": [
       "<div>\n",
       "<table border=\"1\" class=\"dataframe\">\n",
       "  <thead>\n",
       "    <tr style=\"text-align: right;\">\n",
       "      <th></th>\n",
       "      <th>JURISDICTION NAME</th>\n",
       "      <th>COUNT PARTICIPANTS</th>\n",
       "      <th>COUNT FEMALE</th>\n",
       "      <th>PERCENT FEMALE</th>\n",
       "      <th>COUNT MALE</th>\n",
       "      <th>PERCENT MALE</th>\n",
       "      <th>COUNT GENDER TOTAL</th>\n",
       "      <th>PERCENT GENDER TOTAL</th>\n",
       "      <th>COUNT PACIFIC ISLANDER</th>\n",
       "      <th>PERCENT PACIFIC ISLANDER</th>\n",
       "      <th>...</th>\n",
       "      <th>COUNT PUBLIC ASSISTANCE UNKNOWN</th>\n",
       "      <th>PERCENT PUBLIC ASSISTANCE UNKNOWN</th>\n",
       "      <th>COUNT PUBLIC ASSISTANCE TOTAL</th>\n",
       "      <th>PERCENT PUBLIC ASSISTANCE TOTAL</th>\n",
       "      <th>city</th>\n",
       "      <th>state</th>\n",
       "      <th>latitude</th>\n",
       "      <th>longitude</th>\n",
       "      <th>timezone</th>\n",
       "      <th>dst</th>\n",
       "    </tr>\n",
       "  </thead>\n",
       "  <tbody>\n",
       "    <tr>\n",
       "      <th>0</th>\n",
       "      <td>10001</td>\n",
       "      <td>44</td>\n",
       "      <td>22</td>\n",
       "      <td>0.50</td>\n",
       "      <td>22</td>\n",
       "      <td>0.50</td>\n",
       "      <td>44</td>\n",
       "      <td>100</td>\n",
       "      <td>0</td>\n",
       "      <td>0.00</td>\n",
       "      <td>...</td>\n",
       "      <td>0</td>\n",
       "      <td>0</td>\n",
       "      <td>44</td>\n",
       "      <td>100</td>\n",
       "      <td>New York</td>\n",
       "      <td>NY</td>\n",
       "      <td>40.750742</td>\n",
       "      <td>-73.99653</td>\n",
       "      <td>-5</td>\n",
       "      <td>1</td>\n",
       "    </tr>\n",
       "    <tr>\n",
       "      <th>22</th>\n",
       "      <td>10451</td>\n",
       "      <td>41</td>\n",
       "      <td>21</td>\n",
       "      <td>0.51</td>\n",
       "      <td>20</td>\n",
       "      <td>0.49</td>\n",
       "      <td>41</td>\n",
       "      <td>100</td>\n",
       "      <td>0</td>\n",
       "      <td>0.00</td>\n",
       "      <td>...</td>\n",
       "      <td>0</td>\n",
       "      <td>0</td>\n",
       "      <td>41</td>\n",
       "      <td>100</td>\n",
       "      <td>Bronx</td>\n",
       "      <td>NY</td>\n",
       "      <td>40.819729</td>\n",
       "      <td>-73.92230</td>\n",
       "      <td>-5</td>\n",
       "      <td>1</td>\n",
       "    </tr>\n",
       "    <tr>\n",
       "      <th>28</th>\n",
       "      <td>10458</td>\n",
       "      <td>52</td>\n",
       "      <td>25</td>\n",
       "      <td>0.48</td>\n",
       "      <td>27</td>\n",
       "      <td>0.52</td>\n",
       "      <td>52</td>\n",
       "      <td>100</td>\n",
       "      <td>0</td>\n",
       "      <td>0.00</td>\n",
       "      <td>...</td>\n",
       "      <td>0</td>\n",
       "      <td>0</td>\n",
       "      <td>52</td>\n",
       "      <td>100</td>\n",
       "      <td>Bronx</td>\n",
       "      <td>NY</td>\n",
       "      <td>40.864166</td>\n",
       "      <td>-73.88881</td>\n",
       "      <td>-5</td>\n",
       "      <td>1</td>\n",
       "    </tr>\n",
       "    <tr>\n",
       "      <th>31</th>\n",
       "      <td>10461</td>\n",
       "      <td>49</td>\n",
       "      <td>26</td>\n",
       "      <td>0.53</td>\n",
       "      <td>23</td>\n",
       "      <td>0.47</td>\n",
       "      <td>49</td>\n",
       "      <td>100</td>\n",
       "      <td>1</td>\n",
       "      <td>0.02</td>\n",
       "      <td>...</td>\n",
       "      <td>0</td>\n",
       "      <td>0</td>\n",
       "      <td>49</td>\n",
       "      <td>100</td>\n",
       "      <td>Bronx</td>\n",
       "      <td>NY</td>\n",
       "      <td>40.842917</td>\n",
       "      <td>-73.83819</td>\n",
       "      <td>-5</td>\n",
       "      <td>1</td>\n",
       "    </tr>\n",
       "    <tr>\n",
       "      <th>33</th>\n",
       "      <td>10463</td>\n",
       "      <td>59</td>\n",
       "      <td>33</td>\n",
       "      <td>0.56</td>\n",
       "      <td>26</td>\n",
       "      <td>0.44</td>\n",
       "      <td>59</td>\n",
       "      <td>100</td>\n",
       "      <td>0</td>\n",
       "      <td>0.00</td>\n",
       "      <td>...</td>\n",
       "      <td>0</td>\n",
       "      <td>0</td>\n",
       "      <td>59</td>\n",
       "      <td>100</td>\n",
       "      <td>Bronx</td>\n",
       "      <td>NY</td>\n",
       "      <td>40.881086</td>\n",
       "      <td>-73.90749</td>\n",
       "      <td>-5</td>\n",
       "      <td>1</td>\n",
       "    </tr>\n",
       "  </tbody>\n",
       "</table>\n",
       "<p>5 rows × 50 columns</p>\n",
       "</div>"
      ],
      "text/plain": [
       "    JURISDICTION NAME  COUNT PARTICIPANTS  COUNT FEMALE  PERCENT FEMALE  \\\n",
       "0               10001                  44            22            0.50   \n",
       "22              10451                  41            21            0.51   \n",
       "28              10458                  52            25            0.48   \n",
       "31              10461                  49            26            0.53   \n",
       "33              10463                  59            33            0.56   \n",
       "\n",
       "    COUNT MALE  PERCENT MALE  COUNT GENDER TOTAL  PERCENT GENDER TOTAL  \\\n",
       "0           22          0.50                  44                   100   \n",
       "22          20          0.49                  41                   100   \n",
       "28          27          0.52                  52                   100   \n",
       "31          23          0.47                  49                   100   \n",
       "33          26          0.44                  59                   100   \n",
       "\n",
       "    COUNT PACIFIC ISLANDER  PERCENT PACIFIC ISLANDER ...   \\\n",
       "0                        0                      0.00 ...    \n",
       "22                       0                      0.00 ...    \n",
       "28                       0                      0.00 ...    \n",
       "31                       1                      0.02 ...    \n",
       "33                       0                      0.00 ...    \n",
       "\n",
       "    COUNT PUBLIC ASSISTANCE UNKNOWN  PERCENT PUBLIC ASSISTANCE UNKNOWN  \\\n",
       "0                                 0                                  0   \n",
       "22                                0                                  0   \n",
       "28                                0                                  0   \n",
       "31                                0                                  0   \n",
       "33                                0                                  0   \n",
       "\n",
       "    COUNT PUBLIC ASSISTANCE TOTAL  PERCENT PUBLIC ASSISTANCE TOTAL      city  \\\n",
       "0                              44                              100  New York   \n",
       "22                             41                              100     Bronx   \n",
       "28                             52                              100     Bronx   \n",
       "31                             49                              100     Bronx   \n",
       "33                             59                              100     Bronx   \n",
       "\n",
       "    state   latitude  longitude  timezone  dst  \n",
       "0      NY  40.750742  -73.99653        -5    1  \n",
       "22     NY  40.819729  -73.92230        -5    1  \n",
       "28     NY  40.864166  -73.88881        -5    1  \n",
       "31     NY  40.842917  -73.83819        -5    1  \n",
       "33     NY  40.881086  -73.90749        -5    1  \n",
       "\n",
       "[5 rows x 50 columns]"
      ]
     },
     "execution_count": 100,
     "metadata": {},
     "output_type": "execute_result"
    }
   ],
   "source": [
    "data.head()"
   ]
  },
  {
   "cell_type": "code",
   "execution_count": 101,
   "metadata": {
    "collapsed": true
   },
   "outputs": [],
   "source": [
    "data2=data.groupby('city').sum()"
   ]
  },
  {
   "cell_type": "code",
   "execution_count": 102,
   "metadata": {
    "collapsed": false
   },
   "outputs": [
    {
     "data": {
      "text/html": [
       "<div>\n",
       "<table border=\"1\" class=\"dataframe\">\n",
       "  <thead>\n",
       "    <tr style=\"text-align: right;\">\n",
       "      <th></th>\n",
       "      <th>JURISDICTION NAME</th>\n",
       "      <th>COUNT PARTICIPANTS</th>\n",
       "      <th>COUNT FEMALE</th>\n",
       "      <th>PERCENT FEMALE</th>\n",
       "      <th>COUNT MALE</th>\n",
       "      <th>PERCENT MALE</th>\n",
       "      <th>COUNT GENDER TOTAL</th>\n",
       "      <th>PERCENT GENDER TOTAL</th>\n",
       "      <th>COUNT PACIFIC ISLANDER</th>\n",
       "      <th>PERCENT PACIFIC ISLANDER</th>\n",
       "      <th>...</th>\n",
       "      <th>COUNT NRECEIVES PUBLIC ASSISTANCE</th>\n",
       "      <th>PERCENT NRECEIVES PUBLIC ASSISTANCE</th>\n",
       "      <th>COUNT PUBLIC ASSISTANCE UNKNOWN</th>\n",
       "      <th>PERCENT PUBLIC ASSISTANCE UNKNOWN</th>\n",
       "      <th>COUNT PUBLIC ASSISTANCE TOTAL</th>\n",
       "      <th>PERCENT PUBLIC ASSISTANCE TOTAL</th>\n",
       "      <th>latitude</th>\n",
       "      <th>longitude</th>\n",
       "      <th>timezone</th>\n",
       "      <th>dst</th>\n",
       "    </tr>\n",
       "    <tr>\n",
       "      <th>city</th>\n",
       "      <th></th>\n",
       "      <th></th>\n",
       "      <th></th>\n",
       "      <th></th>\n",
       "      <th></th>\n",
       "      <th></th>\n",
       "      <th></th>\n",
       "      <th></th>\n",
       "      <th></th>\n",
       "      <th></th>\n",
       "      <th></th>\n",
       "      <th></th>\n",
       "      <th></th>\n",
       "      <th></th>\n",
       "      <th></th>\n",
       "      <th></th>\n",
       "      <th></th>\n",
       "      <th></th>\n",
       "      <th></th>\n",
       "      <th></th>\n",
       "      <th></th>\n",
       "    </tr>\n",
       "  </thead>\n",
       "  <tbody>\n",
       "    <tr>\n",
       "      <th>Bronx</th>\n",
       "      <td>83705</td>\n",
       "      <td>496</td>\n",
       "      <td>279</td>\n",
       "      <td>4.42</td>\n",
       "      <td>217</td>\n",
       "      <td>3.58</td>\n",
       "      <td>496</td>\n",
       "      <td>800</td>\n",
       "      <td>2</td>\n",
       "      <td>0.04</td>\n",
       "      <td>...</td>\n",
       "      <td>334</td>\n",
       "      <td>5.32</td>\n",
       "      <td>0</td>\n",
       "      <td>0</td>\n",
       "      <td>496</td>\n",
       "      <td>800</td>\n",
       "      <td>326.939039</td>\n",
       "      <td>-591.07581</td>\n",
       "      <td>-40</td>\n",
       "      <td>8</td>\n",
       "    </tr>\n",
       "    <tr>\n",
       "      <th>Brooklyn</th>\n",
       "      <td>101037</td>\n",
       "      <td>988</td>\n",
       "      <td>709</td>\n",
       "      <td>6.01</td>\n",
       "      <td>279</td>\n",
       "      <td>2.99</td>\n",
       "      <td>988</td>\n",
       "      <td>900</td>\n",
       "      <td>0</td>\n",
       "      <td>0.00</td>\n",
       "      <td>...</td>\n",
       "      <td>702</td>\n",
       "      <td>6.74</td>\n",
       "      <td>0</td>\n",
       "      <td>0</td>\n",
       "      <td>988</td>\n",
       "      <td>900</td>\n",
       "      <td>365.539238</td>\n",
       "      <td>-665.66858</td>\n",
       "      <td>-45</td>\n",
       "      <td>9</td>\n",
       "    </tr>\n",
       "    <tr>\n",
       "      <th>Ellenville</th>\n",
       "      <td>12428</td>\n",
       "      <td>124</td>\n",
       "      <td>74</td>\n",
       "      <td>0.60</td>\n",
       "      <td>50</td>\n",
       "      <td>0.40</td>\n",
       "      <td>124</td>\n",
       "      <td>100</td>\n",
       "      <td>2</td>\n",
       "      <td>0.02</td>\n",
       "      <td>...</td>\n",
       "      <td>53</td>\n",
       "      <td>0.43</td>\n",
       "      <td>0</td>\n",
       "      <td>0</td>\n",
       "      <td>124</td>\n",
       "      <td>100</td>\n",
       "      <td>41.727588</td>\n",
       "      <td>-74.42061</td>\n",
       "      <td>-5</td>\n",
       "      <td>1</td>\n",
       "    </tr>\n",
       "    <tr>\n",
       "      <th>Ferndale</th>\n",
       "      <td>12734</td>\n",
       "      <td>252</td>\n",
       "      <td>170</td>\n",
       "      <td>0.67</td>\n",
       "      <td>82</td>\n",
       "      <td>0.33</td>\n",
       "      <td>252</td>\n",
       "      <td>100</td>\n",
       "      <td>0</td>\n",
       "      <td>0.00</td>\n",
       "      <td>...</td>\n",
       "      <td>191</td>\n",
       "      <td>0.76</td>\n",
       "      <td>0</td>\n",
       "      <td>0</td>\n",
       "      <td>252</td>\n",
       "      <td>100</td>\n",
       "      <td>41.734913</td>\n",
       "      <td>-74.75013</td>\n",
       "      <td>-5</td>\n",
       "      <td>1</td>\n",
       "    </tr>\n",
       "    <tr>\n",
       "      <th>Greenfield Park</th>\n",
       "      <td>12435</td>\n",
       "      <td>55</td>\n",
       "      <td>5</td>\n",
       "      <td>0.09</td>\n",
       "      <td>50</td>\n",
       "      <td>0.91</td>\n",
       "      <td>55</td>\n",
       "      <td>100</td>\n",
       "      <td>0</td>\n",
       "      <td>0.00</td>\n",
       "      <td>...</td>\n",
       "      <td>36</td>\n",
       "      <td>0.65</td>\n",
       "      <td>0</td>\n",
       "      <td>0</td>\n",
       "      <td>55</td>\n",
       "      <td>100</td>\n",
       "      <td>41.725808</td>\n",
       "      <td>-74.52106</td>\n",
       "      <td>-5</td>\n",
       "      <td>1</td>\n",
       "    </tr>\n",
       "  </tbody>\n",
       "</table>\n",
       "<p>5 rows × 48 columns</p>\n",
       "</div>"
      ],
      "text/plain": [
       "                 JURISDICTION NAME  COUNT PARTICIPANTS  COUNT FEMALE  \\\n",
       "city                                                                   \n",
       "Bronx                        83705                 496           279   \n",
       "Brooklyn                    101037                 988           709   \n",
       "Ellenville                   12428                 124            74   \n",
       "Ferndale                     12734                 252           170   \n",
       "Greenfield Park              12435                  55             5   \n",
       "\n",
       "                 PERCENT FEMALE  COUNT MALE  PERCENT MALE  COUNT GENDER TOTAL  \\\n",
       "city                                                                            \n",
       "Bronx                      4.42         217          3.58                 496   \n",
       "Brooklyn                   6.01         279          2.99                 988   \n",
       "Ellenville                 0.60          50          0.40                 124   \n",
       "Ferndale                   0.67          82          0.33                 252   \n",
       "Greenfield Park            0.09          50          0.91                  55   \n",
       "\n",
       "                 PERCENT GENDER TOTAL  COUNT PACIFIC ISLANDER  \\\n",
       "city                                                            \n",
       "Bronx                             800                       2   \n",
       "Brooklyn                          900                       0   \n",
       "Ellenville                        100                       2   \n",
       "Ferndale                          100                       0   \n",
       "Greenfield Park                   100                       0   \n",
       "\n",
       "                 PERCENT PACIFIC ISLANDER ...   \\\n",
       "city                                      ...    \n",
       "Bronx                                0.04 ...    \n",
       "Brooklyn                             0.00 ...    \n",
       "Ellenville                           0.02 ...    \n",
       "Ferndale                             0.00 ...    \n",
       "Greenfield Park                      0.00 ...    \n",
       "\n",
       "                 COUNT NRECEIVES PUBLIC ASSISTANCE  \\\n",
       "city                                                 \n",
       "Bronx                                          334   \n",
       "Brooklyn                                       702   \n",
       "Ellenville                                      53   \n",
       "Ferndale                                       191   \n",
       "Greenfield Park                                 36   \n",
       "\n",
       "                 PERCENT NRECEIVES PUBLIC ASSISTANCE  \\\n",
       "city                                                   \n",
       "Bronx                                           5.32   \n",
       "Brooklyn                                        6.74   \n",
       "Ellenville                                      0.43   \n",
       "Ferndale                                        0.76   \n",
       "Greenfield Park                                 0.65   \n",
       "\n",
       "                 COUNT PUBLIC ASSISTANCE UNKNOWN  \\\n",
       "city                                               \n",
       "Bronx                                          0   \n",
       "Brooklyn                                       0   \n",
       "Ellenville                                     0   \n",
       "Ferndale                                       0   \n",
       "Greenfield Park                                0   \n",
       "\n",
       "                 PERCENT PUBLIC ASSISTANCE UNKNOWN  \\\n",
       "city                                                 \n",
       "Bronx                                            0   \n",
       "Brooklyn                                         0   \n",
       "Ellenville                                       0   \n",
       "Ferndale                                         0   \n",
       "Greenfield Park                                  0   \n",
       "\n",
       "                 COUNT PUBLIC ASSISTANCE TOTAL  \\\n",
       "city                                             \n",
       "Bronx                                      496   \n",
       "Brooklyn                                   988   \n",
       "Ellenville                                 124   \n",
       "Ferndale                                   252   \n",
       "Greenfield Park                             55   \n",
       "\n",
       "                 PERCENT PUBLIC ASSISTANCE TOTAL    latitude  longitude  \\\n",
       "city                                                                      \n",
       "Bronx                                        800  326.939039 -591.07581   \n",
       "Brooklyn                                     900  365.539238 -665.66858   \n",
       "Ellenville                                   100   41.727588  -74.42061   \n",
       "Ferndale                                     100   41.734913  -74.75013   \n",
       "Greenfield Park                              100   41.725808  -74.52106   \n",
       "\n",
       "                 timezone  dst  \n",
       "city                            \n",
       "Bronx                 -40    8  \n",
       "Brooklyn              -45    9  \n",
       "Ellenville             -5    1  \n",
       "Ferndale               -5    1  \n",
       "Greenfield Park        -5    1  \n",
       "\n",
       "[5 rows x 48 columns]"
      ]
     },
     "execution_count": 102,
     "metadata": {},
     "output_type": "execute_result"
    }
   ],
   "source": [
    "data2.head()"
   ]
  },
  {
   "cell_type": "code",
   "execution_count": 103,
   "metadata": {
    "collapsed": true
   },
   "outputs": [],
   "source": [
    "data2=data2[['PERCENT FEMALE','PERCENT MALE']]"
   ]
  },
  {
   "cell_type": "code",
   "execution_count": 107,
   "metadata": {
    "collapsed": false
   },
   "outputs": [
    {
     "data": {
      "text/html": [
       "<div>\n",
       "<table border=\"1\" class=\"dataframe\">\n",
       "  <thead>\n",
       "    <tr style=\"text-align: right;\">\n",
       "      <th></th>\n",
       "      <th>PERCENT FEMALE</th>\n",
       "      <th>PERCENT MALE</th>\n",
       "    </tr>\n",
       "    <tr>\n",
       "      <th>city</th>\n",
       "      <th></th>\n",
       "      <th></th>\n",
       "    </tr>\n",
       "  </thead>\n",
       "  <tbody>\n",
       "    <tr>\n",
       "      <th>Bronx</th>\n",
       "      <td>4.42</td>\n",
       "      <td>3.58</td>\n",
       "    </tr>\n",
       "    <tr>\n",
       "      <th>Brooklyn</th>\n",
       "      <td>6.01</td>\n",
       "      <td>2.99</td>\n",
       "    </tr>\n",
       "  </tbody>\n",
       "</table>\n",
       "</div>"
      ],
      "text/plain": [
       "          PERCENT FEMALE  PERCENT MALE\n",
       "city                                  \n",
       "Bronx               4.42          3.58\n",
       "Brooklyn            6.01          2.99"
      ]
     },
     "execution_count": 107,
     "metadata": {},
     "output_type": "execute_result"
    }
   ],
   "source": [
    "data3=data2.loc[['Bronx','Brooklyn']]\n",
    "data3.head()"
   ]
  },
  {
   "cell_type": "code",
   "execution_count": 106,
   "metadata": {
    "collapsed": false
   },
   "outputs": [
    {
     "data": {
      "text/plain": [
       "<matplotlib.axes._subplots.AxesSubplot at 0x1c3c6b00>"
      ]
     },
     "execution_count": 106,
     "metadata": {},
     "output_type": "execute_result"
    },
    {
     "data": {
      "image/png": "[encoded data removed]",
      "text/plain": [
       "<matplotlib.figure.Figure at 0x1c004160>"
      ]
     },
     "metadata": {},
     "output_type": "display_data"
    }
   ],
   "source": [
    "data3.plot.bar(stacked=True)"
   ]
  },
  {
   "cell_type": "code",
   "execution_count": 110,
   "metadata": {
    "collapsed": false
   },
   "outputs": [
    {
     "data": {
      "text/plain": [
       "array([<matplotlib.axes._subplots.AxesSubplot object at 0x000000001C24F1D0>,\n",
       "       <matplotlib.axes._subplots.AxesSubplot object at 0x000000001C91EBE0>,\n",
       "       <matplotlib.axes._subplots.AxesSubplot object at 0x000000001CB3B2E8>,\n",
       "       <matplotlib.axes._subplots.AxesSubplot object at 0x000000001CC33828>,\n",
       "       <matplotlib.axes._subplots.AxesSubplot object at 0x000000001CD3E0B8>,\n",
       "       <matplotlib.axes._subplots.AxesSubplot object at 0x000000001CCA7208>,\n",
       "       <matplotlib.axes._subplots.AxesSubplot object at 0x000000001EE32710>,\n",
       "       <matplotlib.axes._subplots.AxesSubplot object at 0x000000001EF3F358>,\n",
       "       <matplotlib.axes._subplots.AxesSubplot object at 0x000000001EFE3748>,\n",
       "       <matplotlib.axes._subplots.AxesSubplot object at 0x000000001F0ED0B8>,\n",
       "       <matplotlib.axes._subplots.AxesSubplot object at 0x000000001F179C18>,\n",
       "       <matplotlib.axes._subplots.AxesSubplot object at 0x000000001F28F940>,\n",
       "       <matplotlib.axes._subplots.AxesSubplot object at 0x000000001F357128>,\n",
       "       <matplotlib.axes._subplots.AxesSubplot object at 0x000000001F43ABE0>,\n",
       "       <matplotlib.axes._subplots.AxesSubplot object at 0x000000001F558828>,\n",
       "       <matplotlib.axes._subplots.AxesSubplot object at 0x000000001F5FE400>,\n",
       "       <matplotlib.axes._subplots.AxesSubplot object at 0x000000001F6C7128>,\n",
       "       <matplotlib.axes._subplots.AxesSubplot object at 0x000000001F673400>,\n",
       "       <matplotlib.axes._subplots.AxesSubplot object at 0x000000001F8B63C8>,\n",
       "       <matplotlib.axes._subplots.AxesSubplot object at 0x000000001F93FFD0>,\n",
       "       <matplotlib.axes._subplots.AxesSubplot object at 0x000000001FA75278>,\n",
       "       <matplotlib.axes._subplots.AxesSubplot object at 0x000000001FB2EF60>,\n",
       "       <matplotlib.axes._subplots.AxesSubplot object at 0x000000001FBA8828>,\n",
       "       <matplotlib.axes._subplots.AxesSubplot object at 0x000000001FD56550>,\n",
       "       <matplotlib.axes._subplots.AxesSubplot object at 0x000000001FE52DD8>,\n",
       "       <matplotlib.axes._subplots.AxesSubplot object at 0x000000001FF03898>,\n",
       "       <matplotlib.axes._subplots.AxesSubplot object at 0x000000002000F4E0>,\n",
       "       <matplotlib.axes._subplots.AxesSubplot object at 0x00000000200E7FD0>,\n",
       "       <matplotlib.axes._subplots.AxesSubplot object at 0x00000000201AECF8>,\n",
       "       <matplotlib.axes._subplots.AxesSubplot object at 0x000000002011BD68>,\n",
       "       <matplotlib.axes._subplots.AxesSubplot object at 0x000000002037A470>,\n",
       "       <matplotlib.axes._subplots.AxesSubplot object at 0x00000000203EFCF8>,\n",
       "       <matplotlib.axes._subplots.AxesSubplot object at 0x00000000204D69E8>,\n",
       "       <matplotlib.axes._subplots.AxesSubplot object at 0x000000002059F550>,\n",
       "       <matplotlib.axes._subplots.AxesSubplot object at 0x00000000204FE978>,\n",
       "       <matplotlib.axes._subplots.AxesSubplot object at 0x00000000207A2940>,\n",
       "       <matplotlib.axes._subplots.AxesSubplot object at 0x000000002086C128>,\n",
       "       <matplotlib.axes._subplots.AxesSubplot object at 0x0000000020911630>,\n",
       "       <matplotlib.axes._subplots.AxesSubplot object at 0x0000000020A0EEB8>,\n",
       "       <matplotlib.axes._subplots.AxesSubplot object at 0x0000000020AE9D30>,\n",
       "       <matplotlib.axes._subplots.AxesSubplot object at 0x0000000020BD35F8>,\n",
       "       <matplotlib.axes._subplots.AxesSubplot object at 0x0000000020CADDA0>,\n",
       "       <matplotlib.axes._subplots.AxesSubplot object at 0x0000000020D9FC88>,\n",
       "       <matplotlib.axes._subplots.AxesSubplot object at 0x0000000020EAC470>,\n",
       "       <matplotlib.axes._subplots.AxesSubplot object at 0x0000000020F50390>,\n",
       "       <matplotlib.axes._subplots.AxesSubplot object at 0x000000002104DC18>,\n",
       "       <matplotlib.axes._subplots.AxesSubplot object at 0x0000000020F6C860>,\n",
       "       <matplotlib.axes._subplots.AxesSubplot object at 0x000000002120B2E8>], dtype=object)"
      ]
     },
     "execution_count": 110,
     "metadata": {},
     "output_type": "execute_result"
    },
    {
     "data": {
      "image/png": "[encoded data removed]",
      "text/plain": [
       "<matplotlib.figure.Figure at 0x1c25c5c0>"
      ]
     },
     "metadata": {},
     "output_type": "display_data"
    }
   ],
   "source": [
    "data.plot.bar(subplots=True)"
   ]
  },
  {
   "cell_type": "code",
   "execution_count": null,
   "metadata": {
    "collapsed": true
   },
   "outputs": [],
   "source": []
  }
 ],
 "metadata": {
  "kernelspec": {
   "display_name": "Python 2",
   "language": "python",
   "name": "python2"
  },
  "language_info": {
   "codemirror_mode": {
    "name": "ipython",
    "version": 2
   },
   "file_extension": ".py",
   "mimetype": "text/x-python",
   "name": "python",
   "nbconvert_exporter": "python",
   "pygments_lexer": "ipython2",
   "version": "2.7.11"
  }
 },
 "nbformat": 4,
 "nbformat_minor": 0
}

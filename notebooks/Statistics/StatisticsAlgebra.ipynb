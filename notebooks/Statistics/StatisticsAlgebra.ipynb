{
 "cells": [
  {
   "cell_type": "markdown",
   "metadata": {},
   "source": [
    "## Stats and Algebra\n",
    "\n",
    "Import some libraries"
   ]
  },
  {
   "cell_type": "code",
   "execution_count": 2,
   "metadata": {
    "collapsed": false
   },
   "outputs": [
    {
     "name": "stdout",
     "output_type": "stream",
     "text": [
      "NumPy version 1.10.1\n",
      "SciPy version 0.16.0\n",
      "Matplotlib version 1.5.0\n"
     ]
    }
   ],
   "source": [
    "import numpy as np \n",
    "import matplotlib as mpl \n",
    "import scipy as sp \n",
    "\n",
    "print \"NumPy version\", np.__version__\n",
    "print \"SciPy version\", sp.__version__\n",
    "print \"Matplotlib version\", mpl.__version__"
   ]
  },
  {
   "cell_type": "markdown",
   "metadata": {},
   "source": [
    "When we import we often use shortcuts (numpy->np)\n",
    "\n",
    "Use numpy to create an area..."
   ]
  },
  {
   "cell_type": "code",
   "execution_count": 3,
   "metadata": {
    "collapsed": false
   },
   "outputs": [],
   "source": [
    "myarray=np.array([1,4,5])\n",
    "\n",
    "# alternatively could just do this...\n",
    "import numpy\n",
    "myarray2=numpy.array([1,4,5])"
   ]
  },
  {
   "cell_type": "markdown",
   "metadata": {},
   "source": [
    "Try and open a .csv file with numpy"
   ]
  },
  {
   "cell_type": "code",
   "execution_count": 1,
   "metadata": {
    "collapsed": false
   },
   "outputs": [
    {
     "ename": "ValueError",
     "evalue": "could not convert string to float: Tm,",
     "output_type": "error",
     "traceback": [
      "\u001b[1;31m---------------------------------------------------------------------------\u001b[0m",
      "\u001b[1;31mValueError\u001b[0m                                Traceback (most recent call last)",
      "\u001b[1;32m<ipython-input-1-fb22c00c6f23>\u001b[0m in \u001b[0;36m<module>\u001b[1;34m()\u001b[0m\n\u001b[0;32m      2\u001b[0m \u001b[1;33m\u001b[0m\u001b[0m\n\u001b[0;32m      3\u001b[0m \u001b[0mfile_name\u001b[0m\u001b[1;33m=\u001b[0m\u001b[1;34m\"../../data/baseball/MLB2015Teams.csv\"\u001b[0m\u001b[1;33m\u001b[0m\u001b[0m\n\u001b[1;32m----> 4\u001b[1;33m \u001b[0mdata_matrix\u001b[0m\u001b[1;33m=\u001b[0m\u001b[0mnp\u001b[0m\u001b[1;33m.\u001b[0m\u001b[0mloadtxt\u001b[0m\u001b[1;33m(\u001b[0m\u001b[0mfile_name\u001b[0m\u001b[1;33m)\u001b[0m\u001b[1;33m;\u001b[0m\u001b[1;33m\u001b[0m\u001b[0m\n\u001b[0m\u001b[0;32m      5\u001b[0m \u001b[1;33m\u001b[0m\u001b[0m\n\u001b[0;32m      6\u001b[0m \u001b[1;32mprint\u001b[0m \u001b[0mdata_matrix\u001b[0m\u001b[1;33m.\u001b[0m\u001b[0mshape\u001b[0m\u001b[1;33m\u001b[0m\u001b[0m\n",
      "\u001b[1;32mC:\\Users\\KC\\Anaconda2\\lib\\site-packages\\numpy\\lib\\npyio.pyc\u001b[0m in \u001b[0;36mloadtxt\u001b[1;34m(fname, dtype, comments, delimiter, converters, skiprows, usecols, unpack, ndmin)\u001b[0m\n\u001b[0;32m    926\u001b[0m \u001b[1;33m\u001b[0m\u001b[0m\n\u001b[0;32m    927\u001b[0m             \u001b[1;31m# Convert each value according to its column and store\u001b[0m\u001b[1;33m\u001b[0m\u001b[1;33m\u001b[0m\u001b[0m\n\u001b[1;32m--> 928\u001b[1;33m             \u001b[0mitems\u001b[0m \u001b[1;33m=\u001b[0m \u001b[1;33m[\u001b[0m\u001b[0mconv\u001b[0m\u001b[1;33m(\u001b[0m\u001b[0mval\u001b[0m\u001b[1;33m)\u001b[0m \u001b[1;32mfor\u001b[0m \u001b[1;33m(\u001b[0m\u001b[0mconv\u001b[0m\u001b[1;33m,\u001b[0m \u001b[0mval\u001b[0m\u001b[1;33m)\u001b[0m \u001b[1;32min\u001b[0m \u001b[0mzip\u001b[0m\u001b[1;33m(\u001b[0m\u001b[0mconverters\u001b[0m\u001b[1;33m,\u001b[0m \u001b[0mvals\u001b[0m\u001b[1;33m)\u001b[0m\u001b[1;33m]\u001b[0m\u001b[1;33m\u001b[0m\u001b[0m\n\u001b[0m\u001b[0;32m    929\u001b[0m             \u001b[1;31m# Then pack it according to the dtype's nesting\u001b[0m\u001b[1;33m\u001b[0m\u001b[1;33m\u001b[0m\u001b[0m\n\u001b[0;32m    930\u001b[0m             \u001b[0mitems\u001b[0m \u001b[1;33m=\u001b[0m \u001b[0mpack_items\u001b[0m\u001b[1;33m(\u001b[0m\u001b[0mitems\u001b[0m\u001b[1;33m,\u001b[0m \u001b[0mpacking\u001b[0m\u001b[1;33m)\u001b[0m\u001b[1;33m\u001b[0m\u001b[0m\n",
      "\u001b[1;32mC:\\Users\\KC\\Anaconda2\\lib\\site-packages\\numpy\\lib\\npyio.pyc\u001b[0m in \u001b[0;36mfloatconv\u001b[1;34m(x)\u001b[0m\n\u001b[0;32m    657\u001b[0m         \u001b[1;32mif\u001b[0m \u001b[1;34mb'0x'\u001b[0m \u001b[1;32min\u001b[0m \u001b[0mx\u001b[0m\u001b[1;33m:\u001b[0m\u001b[1;33m\u001b[0m\u001b[0m\n\u001b[0;32m    658\u001b[0m             \u001b[1;32mreturn\u001b[0m \u001b[0mfloat\u001b[0m\u001b[1;33m.\u001b[0m\u001b[0mfromhex\u001b[0m\u001b[1;33m(\u001b[0m\u001b[0masstr\u001b[0m\u001b[1;33m(\u001b[0m\u001b[0mx\u001b[0m\u001b[1;33m)\u001b[0m\u001b[1;33m)\u001b[0m\u001b[1;33m\u001b[0m\u001b[0m\n\u001b[1;32m--> 659\u001b[1;33m         \u001b[1;32mreturn\u001b[0m \u001b[0mfloat\u001b[0m\u001b[1;33m(\u001b[0m\u001b[0mx\u001b[0m\u001b[1;33m)\u001b[0m\u001b[1;33m\u001b[0m\u001b[0m\n\u001b[0m\u001b[0;32m    660\u001b[0m \u001b[1;33m\u001b[0m\u001b[0m\n\u001b[0;32m    661\u001b[0m     \u001b[0mtyp\u001b[0m \u001b[1;33m=\u001b[0m \u001b[0mdtype\u001b[0m\u001b[1;33m.\u001b[0m\u001b[0mtype\u001b[0m\u001b[1;33m\u001b[0m\u001b[0m\n",
      "\u001b[1;31mValueError\u001b[0m: could not convert string to float: Tm,"
     ]
    }
   ],
   "source": [
    "import numpy as np \n",
    "\n",
    "file_name=\"../../data/baseball/MLB2015Teams.csv\"\n",
    "data_matrix=np.loadtxt(file_name);\n",
    "\n",
    "print data_matrix.shape"
   ]
  },
  {
   "cell_type": "markdown",
   "metadata": {},
   "source": [
    "Let's try again with numpy"
   ]
  },
  {
   "cell_type": "code",
   "execution_count": 5,
   "metadata": {
    "collapsed": false
   },
   "outputs": [],
   "source": [
    "data_matrix=np.loadtxt(file_name, delimiter=',', usecols=range(3,9), skiprows=1)"
   ]
  },
  {
   "cell_type": "code",
   "execution_count": 6,
   "metadata": {
    "collapsed": false
   },
   "outputs": [
    {
     "name": "stdout",
     "output_type": "stream",
     "text": [
      "(15L, 6L)\n"
     ]
    }
   ],
   "source": [
    "print data_matrix.shape"
   ]
  },
  {
   "cell_type": "markdown",
   "metadata": {},
   "source": [
    "Try again only loading 1 collumn"
   ]
  },
  {
   "cell_type": "code",
   "execution_count": 7,
   "metadata": {
    "collapsed": false
   },
   "outputs": [
    {
     "name": "stdout",
     "output_type": "stream",
     "text": [
      "<type 'numpy.ndarray'>\n",
      "(15L,)\n"
     ]
    }
   ],
   "source": [
    "BatAge1=np.loadtxt(file_name, delimiter=',', usecols=(2,), skiprows=1)\n",
    "print type(BatAge1)\n",
    "print BatAge1.shape"
   ]
  },
  {
   "cell_type": "markdown",
   "metadata": {},
   "source": [
    "Try again with another lib called Pandas"
   ]
  },
  {
   "cell_type": "code",
   "execution_count": 2,
   "metadata": {
    "collapsed": false
   },
   "outputs": [
    {
     "name": "stdout",
     "output_type": "stream",
     "text": [
      "<class 'pandas.core.frame.DataFrame'>\n",
      "    Tm  #Bat  BatAge  wins   R/G    G    PA    AB    R     H      ...       \\\n",
      "0  BAL    48    27.9    81  4.40  162  6007  5485  713  1370      ...        \n",
      "1  BOS    51    28.3    78  4.62  162  6237  5640  748  1495      ...        \n",
      "2  CHW    40    28.2    76  3.84  162  6070  5533  622  1381      ...        \n",
      "3  CLE    49    27.9    81  4.16  161  6109  5439  669  1395      ...        \n",
      "4  DET    47    28.3    74  4.28  161  6159  5605  689  1515      ...        \n",
      "\n",
      "   OPS+    TB  GDP  HBP  SH  SF  IBB   LOB  old_team  winning_team  \n",
      "0    96  2307  127   51  20  32   23   990     False         False  \n",
      "1    98  2338  127   46  30  42   28  1142     False         False  \n",
      "2    91  2103  125   65  30  37   22  1065     False         False  \n",
      "3    94  2179  134   39  47  50   34  1147     False         False  \n",
      "4   106  2355  152   41  23  35   36  1111     False         False  \n",
      "\n",
      "[5 rows x 32 columns]\n"
     ]
    }
   ],
   "source": [
    "import pandas as pd\n",
    "file_name=\"../../data/baseball/MLB2015Teams.csv\"\n",
    "\n",
    "########################################################################################\n",
    "data_pandas=pd.read_csv(file_name)\n",
    "#######################################################################################\n",
    "\n",
    "print type(data_pandas)\n",
    "print data_pandas.head()"
   ]
  },
  {
   "cell_type": "code",
   "execution_count": 4,
   "metadata": {
    "collapsed": false
   },
   "outputs": [
    {
     "data": {
      "text/html": [
       "<div>\n",
       "<table border=\"1\" class=\"dataframe\">\n",
       "  <thead>\n",
       "    <tr style=\"text-align: right;\">\n",
       "      <th></th>\n",
       "      <th>Tm</th>\n",
       "      <th>#Bat</th>\n",
       "      <th>BatAge</th>\n",
       "      <th>wins</th>\n",
       "      <th>R/G</th>\n",
       "      <th>G</th>\n",
       "      <th>PA</th>\n",
       "      <th>AB</th>\n",
       "      <th>R</th>\n",
       "      <th>H</th>\n",
       "      <th>...</th>\n",
       "      <th>OPS+</th>\n",
       "      <th>TB</th>\n",
       "      <th>GDP</th>\n",
       "      <th>HBP</th>\n",
       "      <th>SH</th>\n",
       "      <th>SF</th>\n",
       "      <th>IBB</th>\n",
       "      <th>LOB</th>\n",
       "      <th>old_team</th>\n",
       "      <th>winning_team</th>\n",
       "    </tr>\n",
       "  </thead>\n",
       "  <tbody>\n",
       "    <tr>\n",
       "      <th>0</th>\n",
       "      <td>BAL</td>\n",
       "      <td>48</td>\n",
       "      <td>27.9</td>\n",
       "      <td>81</td>\n",
       "      <td>4.40</td>\n",
       "      <td>162</td>\n",
       "      <td>6007</td>\n",
       "      <td>5485</td>\n",
       "      <td>713</td>\n",
       "      <td>1370</td>\n",
       "      <td>...</td>\n",
       "      <td>96</td>\n",
       "      <td>2307</td>\n",
       "      <td>127</td>\n",
       "      <td>51</td>\n",
       "      <td>20</td>\n",
       "      <td>32</td>\n",
       "      <td>23</td>\n",
       "      <td>990</td>\n",
       "      <td>False</td>\n",
       "      <td>False</td>\n",
       "    </tr>\n",
       "    <tr>\n",
       "      <th>1</th>\n",
       "      <td>BOS</td>\n",
       "      <td>51</td>\n",
       "      <td>28.3</td>\n",
       "      <td>78</td>\n",
       "      <td>4.62</td>\n",
       "      <td>162</td>\n",
       "      <td>6237</td>\n",
       "      <td>5640</td>\n",
       "      <td>748</td>\n",
       "      <td>1495</td>\n",
       "      <td>...</td>\n",
       "      <td>98</td>\n",
       "      <td>2338</td>\n",
       "      <td>127</td>\n",
       "      <td>46</td>\n",
       "      <td>30</td>\n",
       "      <td>42</td>\n",
       "      <td>28</td>\n",
       "      <td>1142</td>\n",
       "      <td>False</td>\n",
       "      <td>False</td>\n",
       "    </tr>\n",
       "    <tr>\n",
       "      <th>2</th>\n",
       "      <td>CHW</td>\n",
       "      <td>40</td>\n",
       "      <td>28.2</td>\n",
       "      <td>76</td>\n",
       "      <td>3.84</td>\n",
       "      <td>162</td>\n",
       "      <td>6070</td>\n",
       "      <td>5533</td>\n",
       "      <td>622</td>\n",
       "      <td>1381</td>\n",
       "      <td>...</td>\n",
       "      <td>91</td>\n",
       "      <td>2103</td>\n",
       "      <td>125</td>\n",
       "      <td>65</td>\n",
       "      <td>30</td>\n",
       "      <td>37</td>\n",
       "      <td>22</td>\n",
       "      <td>1065</td>\n",
       "      <td>False</td>\n",
       "      <td>False</td>\n",
       "    </tr>\n",
       "    <tr>\n",
       "      <th>3</th>\n",
       "      <td>CLE</td>\n",
       "      <td>49</td>\n",
       "      <td>27.9</td>\n",
       "      <td>81</td>\n",
       "      <td>4.16</td>\n",
       "      <td>161</td>\n",
       "      <td>6109</td>\n",
       "      <td>5439</td>\n",
       "      <td>669</td>\n",
       "      <td>1395</td>\n",
       "      <td>...</td>\n",
       "      <td>94</td>\n",
       "      <td>2179</td>\n",
       "      <td>134</td>\n",
       "      <td>39</td>\n",
       "      <td>47</td>\n",
       "      <td>50</td>\n",
       "      <td>34</td>\n",
       "      <td>1147</td>\n",
       "      <td>False</td>\n",
       "      <td>False</td>\n",
       "    </tr>\n",
       "    <tr>\n",
       "      <th>4</th>\n",
       "      <td>DET</td>\n",
       "      <td>47</td>\n",
       "      <td>28.3</td>\n",
       "      <td>74</td>\n",
       "      <td>4.28</td>\n",
       "      <td>161</td>\n",
       "      <td>6159</td>\n",
       "      <td>5605</td>\n",
       "      <td>689</td>\n",
       "      <td>1515</td>\n",
       "      <td>...</td>\n",
       "      <td>106</td>\n",
       "      <td>2355</td>\n",
       "      <td>152</td>\n",
       "      <td>41</td>\n",
       "      <td>23</td>\n",
       "      <td>35</td>\n",
       "      <td>36</td>\n",
       "      <td>1111</td>\n",
       "      <td>False</td>\n",
       "      <td>False</td>\n",
       "    </tr>\n",
       "    <tr>\n",
       "      <th>5</th>\n",
       "      <td>HOU</td>\n",
       "      <td>46</td>\n",
       "      <td>26.6</td>\n",
       "      <td>86</td>\n",
       "      <td>4.50</td>\n",
       "      <td>162</td>\n",
       "      <td>6073</td>\n",
       "      <td>5459</td>\n",
       "      <td>729</td>\n",
       "      <td>1363</td>\n",
       "      <td>...</td>\n",
       "      <td>105</td>\n",
       "      <td>2383</td>\n",
       "      <td>102</td>\n",
       "      <td>56</td>\n",
       "      <td>28</td>\n",
       "      <td>43</td>\n",
       "      <td>22</td>\n",
       "      <td>1036</td>\n",
       "      <td>False</td>\n",
       "      <td>True</td>\n",
       "    </tr>\n",
       "    <tr>\n",
       "      <th>6</th>\n",
       "      <td>KCR</td>\n",
       "      <td>46</td>\n",
       "      <td>29.2</td>\n",
       "      <td>95</td>\n",
       "      <td>4.47</td>\n",
       "      <td>162</td>\n",
       "      <td>6116</td>\n",
       "      <td>5575</td>\n",
       "      <td>724</td>\n",
       "      <td>1497</td>\n",
       "      <td>...</td>\n",
       "      <td>98</td>\n",
       "      <td>2298</td>\n",
       "      <td>133</td>\n",
       "      <td>77</td>\n",
       "      <td>34</td>\n",
       "      <td>47</td>\n",
       "      <td>28</td>\n",
       "      <td>1079</td>\n",
       "      <td>True</td>\n",
       "      <td>True</td>\n",
       "    </tr>\n",
       "    <tr>\n",
       "      <th>7</th>\n",
       "      <td>LAA</td>\n",
       "      <td>51</td>\n",
       "      <td>28.7</td>\n",
       "      <td>85</td>\n",
       "      <td>4.08</td>\n",
       "      <td>162</td>\n",
       "      <td>5990</td>\n",
       "      <td>5417</td>\n",
       "      <td>661</td>\n",
       "      <td>1331</td>\n",
       "      <td>...</td>\n",
       "      <td>97</td>\n",
       "      <td>2144</td>\n",
       "      <td>116</td>\n",
       "      <td>58</td>\n",
       "      <td>37</td>\n",
       "      <td>40</td>\n",
       "      <td>34</td>\n",
       "      <td>1013</td>\n",
       "      <td>True</td>\n",
       "      <td>True</td>\n",
       "    </tr>\n",
       "    <tr>\n",
       "      <th>8</th>\n",
       "      <td>MIN</td>\n",
       "      <td>44</td>\n",
       "      <td>28.3</td>\n",
       "      <td>83</td>\n",
       "      <td>4.30</td>\n",
       "      <td>162</td>\n",
       "      <td>6017</td>\n",
       "      <td>5467</td>\n",
       "      <td>696</td>\n",
       "      <td>1349</td>\n",
       "      <td>...</td>\n",
       "      <td>90</td>\n",
       "      <td>2182</td>\n",
       "      <td>133</td>\n",
       "      <td>40</td>\n",
       "      <td>30</td>\n",
       "      <td>41</td>\n",
       "      <td>31</td>\n",
       "      <td>993</td>\n",
       "      <td>False</td>\n",
       "      <td>True</td>\n",
       "    </tr>\n",
       "    <tr>\n",
       "      <th>9</th>\n",
       "      <td>NYY</td>\n",
       "      <td>56</td>\n",
       "      <td>31.1</td>\n",
       "      <td>87</td>\n",
       "      <td>4.72</td>\n",
       "      <td>162</td>\n",
       "      <td>6268</td>\n",
       "      <td>5567</td>\n",
       "      <td>764</td>\n",
       "      <td>1397</td>\n",
       "      <td>...</td>\n",
       "      <td>105</td>\n",
       "      <td>2343</td>\n",
       "      <td>105</td>\n",
       "      <td>63</td>\n",
       "      <td>24</td>\n",
       "      <td>54</td>\n",
       "      <td>23</td>\n",
       "      <td>1151</td>\n",
       "      <td>True</td>\n",
       "      <td>True</td>\n",
       "    </tr>\n",
       "    <tr>\n",
       "      <th>10</th>\n",
       "      <td>OAK</td>\n",
       "      <td>52</td>\n",
       "      <td>27.9</td>\n",
       "      <td>68</td>\n",
       "      <td>4.28</td>\n",
       "      <td>162</td>\n",
       "      <td>6171</td>\n",
       "      <td>5600</td>\n",
       "      <td>694</td>\n",
       "      <td>1405</td>\n",
       "      <td>...</td>\n",
       "      <td>94</td>\n",
       "      <td>2212</td>\n",
       "      <td>124</td>\n",
       "      <td>40</td>\n",
       "      <td>14</td>\n",
       "      <td>38</td>\n",
       "      <td>21</td>\n",
       "      <td>1102</td>\n",
       "      <td>False</td>\n",
       "      <td>False</td>\n",
       "    </tr>\n",
       "    <tr>\n",
       "      <th>11</th>\n",
       "      <td>SEA</td>\n",
       "      <td>51</td>\n",
       "      <td>28.6</td>\n",
       "      <td>76</td>\n",
       "      <td>4.05</td>\n",
       "      <td>162</td>\n",
       "      <td>6131</td>\n",
       "      <td>5544</td>\n",
       "      <td>656</td>\n",
       "      <td>1379</td>\n",
       "      <td>...</td>\n",
       "      <td>102</td>\n",
       "      <td>2279</td>\n",
       "      <td>123</td>\n",
       "      <td>36</td>\n",
       "      <td>38</td>\n",
       "      <td>35</td>\n",
       "      <td>31</td>\n",
       "      <td>1080</td>\n",
       "      <td>True</td>\n",
       "      <td>False</td>\n",
       "    </tr>\n",
       "    <tr>\n",
       "      <th>12</th>\n",
       "      <td>TBR</td>\n",
       "      <td>51</td>\n",
       "      <td>28.4</td>\n",
       "      <td>80</td>\n",
       "      <td>3.98</td>\n",
       "      <td>162</td>\n",
       "      <td>6071</td>\n",
       "      <td>5485</td>\n",
       "      <td>644</td>\n",
       "      <td>1383</td>\n",
       "      <td>...</td>\n",
       "      <td>99</td>\n",
       "      <td>2226</td>\n",
       "      <td>121</td>\n",
       "      <td>84</td>\n",
       "      <td>19</td>\n",
       "      <td>47</td>\n",
       "      <td>22</td>\n",
       "      <td>1075</td>\n",
       "      <td>True</td>\n",
       "      <td>False</td>\n",
       "    </tr>\n",
       "    <tr>\n",
       "      <th>13</th>\n",
       "      <td>TEX</td>\n",
       "      <td>57</td>\n",
       "      <td>28.6</td>\n",
       "      <td>88</td>\n",
       "      <td>4.64</td>\n",
       "      <td>162</td>\n",
       "      <td>6187</td>\n",
       "      <td>5511</td>\n",
       "      <td>751</td>\n",
       "      <td>1419</td>\n",
       "      <td>...</td>\n",
       "      <td>98</td>\n",
       "      <td>2278</td>\n",
       "      <td>99</td>\n",
       "      <td>76</td>\n",
       "      <td>43</td>\n",
       "      <td>54</td>\n",
       "      <td>32</td>\n",
       "      <td>1130</td>\n",
       "      <td>True</td>\n",
       "      <td>True</td>\n",
       "    </tr>\n",
       "    <tr>\n",
       "      <th>14</th>\n",
       "      <td>TOR</td>\n",
       "      <td>52</td>\n",
       "      <td>29.4</td>\n",
       "      <td>93</td>\n",
       "      <td>5.50</td>\n",
       "      <td>162</td>\n",
       "      <td>6232</td>\n",
       "      <td>5509</td>\n",
       "      <td>891</td>\n",
       "      <td>1480</td>\n",
       "      <td>...</td>\n",
       "      <td>118</td>\n",
       "      <td>2518</td>\n",
       "      <td>140</td>\n",
       "      <td>54</td>\n",
       "      <td>36</td>\n",
       "      <td>62</td>\n",
       "      <td>12</td>\n",
       "      <td>1057</td>\n",
       "      <td>True</td>\n",
       "      <td>True</td>\n",
       "    </tr>\n",
       "  </tbody>\n",
       "</table>\n",
       "<p>15 rows × 32 columns</p>\n",
       "</div>"
      ],
      "text/plain": [
       "     Tm  #Bat  BatAge  wins   R/G    G    PA    AB    R     H      ...       \\\n",
       "0   BAL    48    27.9    81  4.40  162  6007  5485  713  1370      ...        \n",
       "1   BOS    51    28.3    78  4.62  162  6237  5640  748  1495      ...        \n",
       "2   CHW    40    28.2    76  3.84  162  6070  5533  622  1381      ...        \n",
       "3   CLE    49    27.9    81  4.16  161  6109  5439  669  1395      ...        \n",
       "4   DET    47    28.3    74  4.28  161  6159  5605  689  1515      ...        \n",
       "5   HOU    46    26.6    86  4.50  162  6073  5459  729  1363      ...        \n",
       "6   KCR    46    29.2    95  4.47  162  6116  5575  724  1497      ...        \n",
       "7   LAA    51    28.7    85  4.08  162  5990  5417  661  1331      ...        \n",
       "8   MIN    44    28.3    83  4.30  162  6017  5467  696  1349      ...        \n",
       "9   NYY    56    31.1    87  4.72  162  6268  5567  764  1397      ...        \n",
       "10  OAK    52    27.9    68  4.28  162  6171  5600  694  1405      ...        \n",
       "11  SEA    51    28.6    76  4.05  162  6131  5544  656  1379      ...        \n",
       "12  TBR    51    28.4    80  3.98  162  6071  5485  644  1383      ...        \n",
       "13  TEX    57    28.6    88  4.64  162  6187  5511  751  1419      ...        \n",
       "14  TOR    52    29.4    93  5.50  162  6232  5509  891  1480      ...        \n",
       "\n",
       "    OPS+    TB  GDP  HBP  SH  SF  IBB   LOB  old_team  winning_team  \n",
       "0     96  2307  127   51  20  32   23   990     False         False  \n",
       "1     98  2338  127   46  30  42   28  1142     False         False  \n",
       "2     91  2103  125   65  30  37   22  1065     False         False  \n",
       "3     94  2179  134   39  47  50   34  1147     False         False  \n",
       "4    106  2355  152   41  23  35   36  1111     False         False  \n",
       "5    105  2383  102   56  28  43   22  1036     False          True  \n",
       "6     98  2298  133   77  34  47   28  1079      True          True  \n",
       "7     97  2144  116   58  37  40   34  1013      True          True  \n",
       "8     90  2182  133   40  30  41   31   993     False          True  \n",
       "9    105  2343  105   63  24  54   23  1151      True          True  \n",
       "10    94  2212  124   40  14  38   21  1102     False         False  \n",
       "11   102  2279  123   36  38  35   31  1080      True         False  \n",
       "12    99  2226  121   84  19  47   22  1075      True         False  \n",
       "13    98  2278   99   76  43  54   32  1130      True          True  \n",
       "14   118  2518  140   54  36  62   12  1057      True          True  \n",
       "\n",
       "[15 rows x 32 columns]"
      ]
     },
     "execution_count": 4,
     "metadata": {},
     "output_type": "execute_result"
    }
   ],
   "source": [
    "import pandas\n",
    "pandas.read_csv(file_name)"
   ]
  },
  {
   "cell_type": "markdown",
   "metadata": {},
   "source": [
    "The cool thing about pandas is we can retrieve collumns of data by name"
   ]
  },
  {
   "cell_type": "code",
   "execution_count": 9,
   "metadata": {
    "collapsed": true
   },
   "outputs": [],
   "source": [
    "BatAge2=data_pandas.BatAge.as_matrix()"
   ]
  },
  {
   "cell_type": "code",
   "execution_count": 10,
   "metadata": {
    "collapsed": false
   },
   "outputs": [
    {
     "name": "stdout",
     "output_type": "stream",
     "text": [
      "<type 'numpy.ndarray'>\n",
      "(15L,)\n"
     ]
    }
   ],
   "source": [
    "type(BatAge2)\n",
    "print type(BatAge2)\n",
    "print BatAge2.shape"
   ]
  },
  {
   "cell_type": "code",
   "execution_count": null,
   "metadata": {
    "collapsed": true
   },
   "outputs": [],
   "source": []
  }
 ],
 "metadata": {
  "kernelspec": {
   "display_name": "Python 2",
   "language": "python",
   "name": "python2"
  },
  "language_info": {
   "codemirror_mode": {
    "name": "ipython",
    "version": 2
   },
   "file_extension": ".py",
   "mimetype": "text/x-python",
   "name": "python",
   "nbconvert_exporter": "python",
   "pygments_lexer": "ipython2",
   "version": "2.7.11"
  }
 },
 "nbformat": 4,
 "nbformat_minor": 0
}

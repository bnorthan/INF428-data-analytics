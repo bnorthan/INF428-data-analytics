{
 "cells": [
  {
   "cell_type": "code",
   "execution_count": 11,
   "metadata": {
    "collapsed": false
   },
   "outputs": [
    {
     "name": "stdout",
     "output_type": "stream",
     "text": [
      "\n"
     ]
    }
   ],
   "source": [
    "import numpy as np"
   ]
  },
  {
   "cell_type": "code",
   "execution_count": 15,
   "metadata": {
    "collapsed": false
   },
   "outputs": [],
   "source": [
    "rer=pd.read_csv(\"../../data/RER/RER.csv\")"
   ]
  },
  {
   "cell_type": "code",
   "execution_count": 16,
   "metadata": {
    "collapsed": false
   },
   "outputs": [
    {
     "name": "stdout",
     "output_type": "stream",
     "text": [
      "<class 'pandas.core.frame.DataFrame'>\n",
      "(9, 2)\n",
      "   Placebo  Caffeine\n",
      "0      105        96\n",
      "1      119        99\n",
      "2      100        94\n",
      "3       97        89\n",
      "4       96        96\n",
      "5      101        93\n",
      "6       94        88\n",
      "7       95       105\n",
      "8       98        88\n"
     ]
    }
   ],
   "source": [
    "print type(rer)\n",
    "print rer.shape\n",
    "print rer"
   ]
  },
  {
   "cell_type": "code",
   "execution_count": 13,
   "metadata": {
    "collapsed": false
   },
   "outputs": [
    {
     "name": "stdout",
     "output_type": "stream",
     "text": [
      "mean is:  Placebo     100.555556\n",
      "Caffeine     94.222222\n",
      "dtype: float64\n",
      "median is:  96.0\n",
      "mode is:  ModeResult(mode=array([[94, 88]], dtype=int64), count=array([[1, 2]]))\n"
     ]
    }
   ],
   "source": [
    "import scipy.stats\n",
    "\n",
    "\n",
    "\n",
    "print \"mean is: \", rer.mean()\n",
    "print \"median is: \", np.median(rer)\n",
    "print \"mode is: \", scipy.stats.mode(rer)"
   ]
  },
  {
   "cell_type": "code",
   "execution_count": null,
   "metadata": {
    "collapsed": true
   },
   "outputs": [],
   "source": []
  }
 ],
 "metadata": {
  "kernelspec": {
   "display_name": "Python 2",
   "language": "python",
   "name": "python2"
  },
  "language_info": {
   "codemirror_mode": {
    "name": "ipython",
    "version": 2
   },
   "file_extension": ".py",
   "mimetype": "text/x-python",
   "name": "python",
   "nbconvert_exporter": "python",
   "pygments_lexer": "ipython2",
   "version": "2.7.11"
  }
 },
 "nbformat": 4,
 "nbformat_minor": 0
}

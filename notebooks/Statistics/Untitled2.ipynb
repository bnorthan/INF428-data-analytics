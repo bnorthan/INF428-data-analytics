{
 "cells": [
  {
   "cell_type": "code",
   "execution_count": 1,
   "metadata": {
    "collapsed": true
   },
   "outputs": [],
   "source": [
    "import pandas as pd"
   ]
  },
  {
   "cell_type": "code",
   "execution_count": 2,
   "metadata": {
    "collapsed": true
   },
   "outputs": [],
   "source": [
    "mlb=pd.read_csv(\"../../data/baseball/MLB2015Pitching.csv\")"
   ]
  },
  {
   "cell_type": "code",
   "execution_count": 6,
   "metadata": {
    "collapsed": false
   },
   "outputs": [
    {
     "name": "stdout",
     "output_type": "stream",
     "text": [
      "<class 'pandas.core.frame.DataFrame'>\n",
      "(17, 36)\n",
      "    Tm  #P  PAge  RA/G   W   L   W-L%   ERA    G   GS  ...     BF  ERA+   FIP  \\\n",
      "0  KCR  24  30.0  3.96  95  67  0.586  3.73  162  162  ...   6112   111  4.04   \n",
      "1  TOR  28  29.2  4.14  93  69  0.574  3.80  162  162  ...   5984   104  4.09   \n",
      "2  TEX  31  28.1  4.52  88  74  0.543  4.24  162  162  ...   6215   100  4.34   \n",
      "3  NYY  33  27.4  4.31  87  75  0.537  4.03  162  162  ...   6191    98  3.97   \n",
      "4  HOU  24  29.4  3.81  86  76  0.531  3.57  162  162  ...   5965   113  3.66   \n",
      "\n",
      "    WHIP   H9  HR9  BB9  SO9  SO/W   LOB  \n",
      "0  1.282  8.5  1.0  3.0  7.2  2.37  1115  \n",
      "1  1.214  8.5  1.1  2.5  7.0  2.81   991  \n",
      "2  1.363  9.1  1.1  3.2  6.8  2.16  1154  \n",
      "3  1.297  8.7  1.1  2.9  8.5  2.89  1120  \n",
      "4  1.201  8.2  0.9  2.6  8.0  3.03  1024  \n",
      "\n",
      "[5 rows x 36 columns]\n"
     ]
    }
   ],
   "source": [
    "print type(mlb)\n",
    "print mlb.shape\n",
    "print mlb.head()"
   ]
  },
  {
   "cell_type": "code",
   "execution_count": 7,
   "metadata": {
    "collapsed": false
   },
   "outputs": [
    {
     "name": "stdout",
     "output_type": "stream",
     "text": [
      "(15, 36)\n"
     ]
    }
   ],
   "source": [
    "mlb=mlb[0:15]\n",
    "print mlb.shape"
   ]
  },
  {
   "cell_type": "code",
   "execution_count": 10,
   "metadata": {
    "collapsed": true
   },
   "outputs": [],
   "source": [
    "winners=mlb[mlb.W>81]\n",
    "losers=mlb[mlb.W<=81]"
   ]
  },
  {
   "cell_type": "code",
   "execution_count": 11,
   "metadata": {
    "collapsed": false
   },
   "outputs": [
    {
     "name": "stdout",
     "output_type": "stream",
     "text": [
      "(15, 36)\n",
      "(7, 36)\n",
      "(8, 36)\n"
     ]
    }
   ],
   "source": [
    "print mlb.shape\n",
    "print losers.shape\n",
    "print winners.shape"
   ]
  },
  {
   "cell_type": "code",
   "execution_count": 12,
   "metadata": {
    "collapsed": false
   },
   "outputs": [
    {
     "data": {
      "text/plain": [
       "Ttest_indResult(statistic=1.5749969959825905, pvalue=0.1392708492345813)"
      ]
     },
     "execution_count": 12,
     "metadata": {},
     "output_type": "execute_result"
    }
   ],
   "source": [
    "import scipy.stats as stats\n",
    "stats.ttest_ind(losers.HR, winners.HR)"
   ]
  },
  {
   "cell_type": "code",
   "execution_count": 13,
   "metadata": {
    "collapsed": false
   },
   "outputs": [
    {
     "data": {
      "text/plain": [
       "Ttest_indResult(statistic=1.6383955693076588, pvalue=0.12530306051830592)"
      ]
     },
     "execution_count": 13,
     "metadata": {},
     "output_type": "execute_result"
    }
   ],
   "source": [
    "import scipy.stats as stats\n",
    "stats.ttest_ind(losers.SO, winners.SO)"
   ]
  },
  {
   "cell_type": "code",
   "execution_count": null,
   "metadata": {
    "collapsed": true
   },
   "outputs": [],
   "source": []
  }
 ],
 "metadata": {
  "kernelspec": {
   "display_name": "Python 2",
   "language": "python",
   "name": "python2"
  },
  "language_info": {
   "codemirror_mode": {
    "name": "ipython",
    "version": 2
   },
   "file_extension": ".py",
   "mimetype": "text/x-python",
   "name": "python",
   "nbconvert_exporter": "python",
   "pygments_lexer": "ipython2",
   "version": "2.7.11"
  }
 },
 "nbformat": 4,
 "nbformat_minor": 0
}

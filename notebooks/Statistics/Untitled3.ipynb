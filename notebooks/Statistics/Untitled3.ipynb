{
 "cells": [
  {
   "cell_type": "code",
   "execution_count": 1,
   "metadata": {
    "collapsed": true
   },
   "outputs": [],
   "source": [
    "import pandas as pd"
   ]
  },
  {
   "cell_type": "code",
   "execution_count": 18,
   "metadata": {
    "collapsed": false
   },
   "outputs": [],
   "source": [
    "# I used the pandas libary to load the data\n",
    "\n",
    "datatest=pd.read_csv('../../data/health care/caffeine.csv')"
   ]
  },
  {
   "cell_type": "code",
   "execution_count": 20,
   "metadata": {
    "collapsed": false
   },
   "outputs": [
    {
     "name": "stdout",
     "output_type": "stream",
     "text": [
      "<class 'pandas.core.frame.DataFrame'>\n",
      "(9, 2)\n",
      "Index([u'Placebo', u'Caffeine'], dtype='object')\n",
      "0    105\n",
      "1    119\n",
      "2    100\n",
      "3     97\n",
      "4     96\n",
      "5    101\n",
      "6     94\n",
      "7     95\n",
      "8     98\n",
      "Name: Placebo, dtype: int64\n",
      "0     96\n",
      "1     99\n",
      "2     94\n",
      "3     89\n",
      "4     96\n",
      "5     93\n",
      "6     88\n",
      "7    105\n",
      "8     88\n",
      "Name: Caffeine, dtype: int64\n"
     ]
    }
   ],
   "source": [
    "print type(datatest)\n",
    "print datatest.shape\n",
    "print datatest.columns\n",
    "\n",
    "print datatest.Placebo\n",
    "print datatest.Caffeine"
   ]
  },
  {
   "cell_type": "code",
   "execution_count": 7,
   "metadata": {
    "collapsed": true
   },
   "outputs": [],
   "source": [
    "import scipy.stats as stats"
   ]
  },
  {
   "cell_type": "code",
   "execution_count": 8,
   "metadata": {
    "collapsed": false
   },
   "outputs": [
    {
     "data": {
      "text/plain": [
       "Ttest_indResult(statistic=-4.9819900360298934, pvalue=0.0024967668310214627)"
      ]
     },
     "execution_count": 8,
     "metadata": {},
     "output_type": "execute_result"
    }
   ],
   "source": [
    "test1=[1.1, 1.2, 1.2, 1.3]\n",
    "test2=[1.4, 1.5, 1.4, 1.44]\n",
    "\n",
    "stats.ttest_ind(test1, test2)"
   ]
  },
  {
   "cell_type": "code",
   "execution_count": 10,
   "metadata": {
    "collapsed": false
   },
   "outputs": [
    {
     "data": {
      "text/plain": [
       "Index([u'Placebo', u'\\tCaffeine'], dtype='object')"
      ]
     },
     "execution_count": 10,
     "metadata": {},
     "output_type": "execute_result"
    }
   ],
   "source": [
    "\n",
    "datatest.columns"
   ]
  },
  {
   "cell_type": "code",
   "execution_count": null,
   "metadata": {
    "collapsed": true
   },
   "outputs": [],
   "source": []
  }
 ],
 "metadata": {
  "kernelspec": {
   "display_name": "Python 2",
   "language": "python",
   "name": "python2"
  },
  "language_info": {
   "codemirror_mode": {
    "name": "ipython",
    "version": 2
   },
   "file_extension": ".py",
   "mimetype": "text/x-python",
   "name": "python",
   "nbconvert_exporter": "python",
   "pygments_lexer": "ipython2",
   "version": "2.7.11"
  }
 },
 "nbformat": 4,
 "nbformat_minor": 0
}

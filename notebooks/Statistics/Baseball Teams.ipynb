{
 "cells": [
  {
   "cell_type": "markdown",
   "metadata": {},
   "source": [
    "## Pandas\n",
    "\n",
    "Pandas is a data analysis library - You can read more about in Chapter 4 of [Python Data Analysis](http://www.amazon.com/Python-Data-Analysis-Ivan-Idris/dp/1783553359).  We will go over pandas in more detail next class. "
   ]
  },
  {
   "cell_type": "code",
   "execution_count": 34,
   "metadata": {
    "collapsed": true
   },
   "outputs": [],
   "source": [
    "import pandas as pd"
   ]
  },
  {
   "cell_type": "markdown",
   "metadata": {},
   "source": [
    "If we like to read csv files, our best [friend is...](https://www.donaldjtrump.com/)!  Well... No, not him, seriously it's [read_csv](http://pandas.pydata.org/pandas-docs/stable/generated/pandas.read_csv.html)"
   ]
  },
  {
   "cell_type": "code",
   "execution_count": 35,
   "metadata": {
    "collapsed": true
   },
   "outputs": [],
   "source": [
    "mlb=pd.read_csv(\"../../data/baseball/MLB2015Pitching.csv\")"
   ]
  },
  {
   "cell_type": "markdown",
   "metadata": {},
   "source": [
    "What am I??  What am I?? (use type to find out)"
   ]
  },
  {
   "cell_type": "code",
   "execution_count": 36,
   "metadata": {
    "collapsed": false
   },
   "outputs": [
    {
     "name": "stdout",
     "output_type": "stream",
     "text": [
      "<class 'pandas.core.frame.DataFrame'>\n"
     ]
    }
   ],
   "source": [
    "print type(mlb)"
   ]
  },
  {
   "cell_type": "markdown",
   "metadata": {},
   "source": [
    "Well looks like we have a data frame, let's take a look at the shape and head() (first few lines) of the data... inspecting the data this way is a fairly standard first step"
   ]
  },
  {
   "cell_type": "code",
   "execution_count": 37,
   "metadata": {
    "collapsed": false
   },
   "outputs": [
    {
     "name": "stdout",
     "output_type": "stream",
     "text": [
      "(17, 36)\n",
      "    Tm  #P  PAge  RA/G   W   L   W-L%   ERA    G   GS  ...     BF  ERA+   FIP  \\\n",
      "0  KCR  24  30.0  3.96  95  67  0.586  3.73  162  162  ...   6112   111  4.04   \n",
      "1  TOR  28  29.2  4.14  93  69  0.574  3.80  162  162  ...   5984   104  4.09   \n",
      "2  TEX  31  28.1  4.52  88  74  0.543  4.24  162  162  ...   6215   100  4.34   \n",
      "3  NYY  33  27.4  4.31  87  75  0.537  4.03  162  162  ...   6191    98  3.97   \n",
      "4  HOU  24  29.4  3.81  86  76  0.531  3.57  162  162  ...   5965   113  3.66   \n",
      "\n",
      "    WHIP   H9  HR9  BB9  SO9  SO/W   LOB  \n",
      "0  1.282  8.5  1.0  3.0  7.2  2.37  1115  \n",
      "1  1.214  8.5  1.1  2.5  7.0  2.81   991  \n",
      "2  1.363  9.1  1.1  3.2  6.8  2.16  1154  \n",
      "3  1.297  8.7  1.1  2.9  8.5  2.89  1120  \n",
      "4  1.201  8.2  0.9  2.6  8.0  3.03  1024  \n",
      "\n",
      "[5 rows x 36 columns]\n"
     ]
    }
   ],
   "source": [
    "print mlb.shape\n",
    "print mlb.head()"
   ]
  },
  {
   "cell_type": "markdown",
   "metadata": {},
   "source": [
    "Remember, we only want the first 15 rows.  To get the first 15 rows we use a technique called slicing.  This [StackOverflow Post](http://stackoverflow.com/questions/509211/explain-pythons-slice-notation) explains slicing a list.  When we slice a Pandas DataFrame we get rows a through b... "
   ]
  },
  {
   "cell_type": "code",
   "execution_count": 38,
   "metadata": {
    "collapsed": false,
    "scrolled": true
   },
   "outputs": [
    {
     "name": "stdout",
     "output_type": "stream",
     "text": [
      "    Tm  #P  PAge  RA/G   W   L   W-L%   ERA    G   GS  ...     BF  ERA+   FIP  \\\n",
      "4  HOU  24  29.4  3.81  86  76  0.531  3.57  162  162  ...   5965   113  3.66   \n",
      "5  LAA  24  28.3  4.17  85  77  0.525  3.94  162  162  ...   6096    95  4.06   \n",
      "\n",
      "    WHIP   H9  HR9  BB9  SO9  SO/W   LOB  \n",
      "4  1.201  8.2  0.9  2.6  8.0  3.03  1024  \n",
      "5  1.264  8.5  1.0  2.9  7.6  2.62  1099  \n",
      "\n",
      "[2 rows x 36 columns]\n",
      "    Tm  #P  PAge  RA/G   W   L   W-L%   ERA    G   GS  ...     BF  ERA+   FIP  \\\n",
      "0  KCR  24  30.0  3.96  95  67  0.586  3.73  162  162  ...   6112   111  4.04   \n",
      "1  TOR  28  29.2  4.14  93  69  0.574  3.80  162  162  ...   5984   104  4.09   \n",
      "2  TEX  31  28.1  4.52  88  74  0.543  4.24  162  162  ...   6215   100  4.34   \n",
      "3  NYY  33  27.4  4.31  87  75  0.537  4.03  162  162  ...   6191    98  3.97   \n",
      "4  HOU  24  29.4  3.81  86  76  0.531  3.57  162  162  ...   5965   113  3.66   \n",
      "\n",
      "    WHIP   H9  HR9  BB9  SO9  SO/W   LOB  \n",
      "0  1.282  8.5  1.0  3.0  7.2  2.37  1115  \n",
      "1  1.214  8.5  1.1  2.5  7.0  2.81   991  \n",
      "2  1.363  9.1  1.1  3.2  6.8  2.16  1154  \n",
      "3  1.297  8.7  1.1  2.9  8.5  2.89  1120  \n",
      "4  1.201  8.2  0.9  2.6  8.0  3.03  1024  \n",
      "\n",
      "[5 rows x 36 columns]\n"
     ]
    }
   ],
   "source": [
    "test=mlb[4:6]\n",
    "print test\n",
    "\n",
    "mlb=mlb[0:15]\n",
    "print mlb.head()"
   ]
  },
  {
   "cell_type": "markdown",
   "metadata": {},
   "source": [
    "Look up.  We should have the exact same thing we did in KNIME.  Go back to KNIME for a bit..."
   ]
  },
  {
   "cell_type": "markdown",
   "metadata": {},
   "source": [
    "The next step divides the data into two segments, winners (above 81 wins) and losers (below and including 81 wins)"
   ]
  },
  {
   "cell_type": "code",
   "execution_count": 43,
   "metadata": {
    "collapsed": false
   },
   "outputs": [],
   "source": [
    "losers=mlb[mlb.W>81]\n",
    "winners=mlb[mlb.W<=81]"
   ]
  },
  {
   "cell_type": "code",
   "execution_count": 44,
   "metadata": {
    "collapsed": false
   },
   "outputs": [
    {
     "name": "stdout",
     "output_type": "stream",
     "text": [
      "(8, 36)\n",
      "(7, 36)\n"
     ]
    }
   ],
   "source": [
    "print losers.shape\n",
    "print winners.shape"
   ]
  },
  {
   "cell_type": "markdown",
   "metadata": {},
   "source": [
    "Finally we import scipy and use the independent t-test to see if theere is a difference in number of home runs between groups"
   ]
  },
  {
   "cell_type": "code",
   "execution_count": 45,
   "metadata": {
    "collapsed": true
   },
   "outputs": [],
   "source": [
    "import scipy.stats as stats"
   ]
  },
  {
   "cell_type": "code",
   "execution_count": 42,
   "metadata": {
    "collapsed": false
   },
   "outputs": [
    {
     "data": {
      "text/plain": [
       "Ttest_indResult(statistic=-1.5749969959825905, pvalue=0.1392708492345813)"
      ]
     },
     "execution_count": 42,
     "metadata": {},
     "output_type": "execute_result"
    }
   ],
   "source": [
    "stats.ttest_ind(losers.HR, winners.HR)"
   ]
  },
  {
   "cell_type": "code",
   "execution_count": 11,
   "metadata": {
    "collapsed": false
   },
   "outputs": [
    {
     "name": "stdout",
     "output_type": "stream",
     "text": [
      "Help on function ttest_ind in module scipy.stats.stats:\n",
      "\n",
      "ttest_ind(a, b, axis=0, equal_var=True)\n",
      "    Calculates the T-test for the means of TWO INDEPENDENT samples of scores.\n",
      "    \n",
      "    This is a two-sided test for the null hypothesis that 2 independent samples\n",
      "    have identical average (expected) values. This test assumes that the\n",
      "    populations have identical variances by default.\n",
      "    \n",
      "    Parameters\n",
      "    ----------\n",
      "    a, b : array_like\n",
      "        The arrays must have the same shape, except in the dimension\n",
      "        corresponding to `axis` (the first, by default).\n",
      "    axis : int or None, optional\n",
      "        Axis along which to compute test. If None, compute over the whole\n",
      "        arrays, `a`, and `b`.\n",
      "    equal_var : bool, optional\n",
      "        If True (default), perform a standard independent 2 sample test\n",
      "        that assumes equal population variances [1]_.\n",
      "        If False, perform Welch's t-test, which does not assume equal\n",
      "        population variance [2]_.\n",
      "        .. versionadded:: 0.11.0\n",
      "    \n",
      "    \n",
      "    Returns\n",
      "    -------\n",
      "    statistic : float or array\n",
      "        The calculated t-statistic.\n",
      "    pvalue : float or array\n",
      "        The two-tailed p-value.\n",
      "    \n",
      "    Notes\n",
      "    -----\n",
      "    We can use this test, if we observe two independent samples from\n",
      "    the same or different population, e.g. exam scores of boys and\n",
      "    girls or of two ethnic groups. The test measures whether the\n",
      "    average (expected) value differs significantly across samples. If\n",
      "    we observe a large p-value, for example larger than 0.05 or 0.1,\n",
      "    then we cannot reject the null hypothesis of identical average scores.\n",
      "    If the p-value is smaller than the threshold, e.g. 1%, 5% or 10%,\n",
      "    then we reject the null hypothesis of equal averages.\n",
      "    \n",
      "    References\n",
      "    ----------\n",
      "    .. [1] http://en.wikipedia.org/wiki/T-test#Independent_two-sample_t-test\n",
      "    \n",
      "    .. [2] http://en.wikipedia.org/wiki/Welch%27s_t_test\n",
      "    \n",
      "    Examples\n",
      "    --------\n",
      "    >>> from scipy import stats\n",
      "    >>> np.random.seed(12345678)\n",
      "    \n",
      "    Test with sample with identical means:\n",
      "    \n",
      "    >>> rvs1 = stats.norm.rvs(loc=5,scale=10,size=500)\n",
      "    >>> rvs2 = stats.norm.rvs(loc=5,scale=10,size=500)\n",
      "    >>> stats.ttest_ind(rvs1,rvs2)\n",
      "    (0.26833823296239279, 0.78849443369564776)\n",
      "    >>> stats.ttest_ind(rvs1,rvs2, equal_var = False)\n",
      "    (0.26833823296239279, 0.78849452749500748)\n",
      "    \n",
      "    `ttest_ind` underestimates p for unequal variances:\n",
      "    \n",
      "    >>> rvs3 = stats.norm.rvs(loc=5, scale=20, size=500)\n",
      "    >>> stats.ttest_ind(rvs1, rvs3)\n",
      "    (-0.46580283298287162, 0.64145827413436174)\n",
      "    >>> stats.ttest_ind(rvs1, rvs3, equal_var = False)\n",
      "    (-0.46580283298287162, 0.64149646246569292)\n",
      "    \n",
      "    When n1 != n2, the equal variance t-statistic is no longer equal to the\n",
      "    unequal variance t-statistic:\n",
      "    \n",
      "    >>> rvs4 = stats.norm.rvs(loc=5, scale=20, size=100)\n",
      "    >>> stats.ttest_ind(rvs1, rvs4)\n",
      "    (-0.99882539442782481, 0.3182832709103896)\n",
      "    >>> stats.ttest_ind(rvs1, rvs4, equal_var = False)\n",
      "    (-0.69712570584654099, 0.48716927725402048)\n",
      "    \n",
      "    T-test with different means, variance, and n:\n",
      "    \n",
      "    >>> rvs5 = stats.norm.rvs(loc=8, scale=20, size=100)\n",
      "    >>> stats.ttest_ind(rvs1, rvs5)\n",
      "    (-1.4679669854490653, 0.14263895620529152)\n",
      "    >>> stats.ttest_ind(rvs1, rvs5, equal_var = False)\n",
      "    (-0.94365973617132992, 0.34744170334794122)\n",
      "\n"
     ]
    }
   ],
   "source": [
    "help(stats.ttest_ind)"
   ]
  },
  {
   "cell_type": "code",
   "execution_count": null,
   "metadata": {
    "collapsed": true
   },
   "outputs": [],
   "source": []
  }
 ],
 "metadata": {
  "kernelspec": {
   "display_name": "Python 2",
   "language": "python",
   "name": "python2"
  },
  "language_info": {
   "codemirror_mode": {
    "name": "ipython",
    "version": 2
   },
   "file_extension": ".py",
   "mimetype": "text/x-python",
   "name": "python",
   "nbconvert_exporter": "python",
   "pygments_lexer": "ipython2",
   "version": "2.7.11"
  }
 },
 "nbformat": 4,
 "nbformat_minor": 0
}

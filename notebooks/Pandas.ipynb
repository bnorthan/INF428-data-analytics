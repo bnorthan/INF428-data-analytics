{
 "cells": [
  {
   "cell_type": "code",
   "execution_count": 36,
   "metadata": {
    "collapsed": true
   },
   "outputs": [],
   "source": [
    "import matplotlib.pyplot as plt\n",
    "import pandas as pd\n",
    "\n",
    "%matplotlib inline"
   ]
  },
  {
   "cell_type": "code",
   "execution_count": 37,
   "metadata": {
    "collapsed": false,
    "scrolled": true
   },
   "outputs": [
    {
     "name": "stdout",
     "output_type": "stream",
     "text": [
      "            Open  High   Low  Close    Volume\n",
      "Date                                         \n",
      "1980-12-12     0  4.12  4.11   4.11  14657300\n",
      "1980-12-15     0  3.91  3.89   3.89   5496400\n",
      "              Open   High     Low  Close    Volume\n",
      "Date                                              \n",
      "2015-02-20  128.62  129.5  128.05  129.5  48948419\n",
      "2015-02-23  130.02  133.0  129.66  133.0  67871830\n"
     ]
    }
   ],
   "source": [
    "apple=pd.read_csv('../data/financial/apple.csv', index_col=0, parse_dates=True)\n",
    "print apple.head(2)\n",
    "print apple.tail(2)"
   ]
  },
  {
   "cell_type": "code",
   "execution_count": 38,
   "metadata": {
    "collapsed": false
   },
   "outputs": [
    {
     "name": "stdout",
     "output_type": "stream",
     "text": [
      "(8640, 5)\n"
     ]
    }
   ],
   "source": [
    "print apple.shape"
   ]
  },
  {
   "cell_type": "code",
   "execution_count": 39,
   "metadata": {
    "collapsed": false
   },
   "outputs": [
    {
     "name": "stdout",
     "output_type": "stream",
     "text": [
      "Index([u'Open', u'High', u'Low', u'Close', u'Volume'], dtype='object')\n"
     ]
    }
   ],
   "source": [
    "print apple.columns"
   ]
  },
  {
   "cell_type": "code",
   "execution_count": 42,
   "metadata": {
    "collapsed": false
   },
   "outputs": [
    {
     "data": {
      "text/html": [
       "<div>\n",
       "<table border=\"1\" class=\"dataframe\">\n",
       "  <thead>\n",
       "    <tr style=\"text-align: right;\">\n",
       "      <th></th>\n",
       "      <th>Open</th>\n",
       "      <th>High</th>\n",
       "      <th>Low</th>\n",
       "      <th>Close</th>\n",
       "      <th>Volume</th>\n",
       "    </tr>\n",
       "    <tr>\n",
       "      <th>Date</th>\n",
       "      <th></th>\n",
       "      <th></th>\n",
       "      <th></th>\n",
       "      <th></th>\n",
       "      <th></th>\n",
       "    </tr>\n",
       "  </thead>\n",
       "  <tbody>\n",
       "    <tr>\n",
       "      <th>2002-11-14</th>\n",
       "      <td>1.14</td>\n",
       "      <td>1.17</td>\n",
       "      <td>1.13</td>\n",
       "      <td>1.16</td>\n",
       "      <td>34256600</td>\n",
       "    </tr>\n",
       "    <tr>\n",
       "      <th>2002-11-15</th>\n",
       "      <td>1.16</td>\n",
       "      <td>1.16</td>\n",
       "      <td>1.13</td>\n",
       "      <td>1.14</td>\n",
       "      <td>39848200</td>\n",
       "    </tr>\n",
       "    <tr>\n",
       "      <th>2002-11-18</th>\n",
       "      <td>1.16</td>\n",
       "      <td>1.16</td>\n",
       "      <td>1.09</td>\n",
       "      <td>1.12</td>\n",
       "      <td>38490200</td>\n",
       "    </tr>\n",
       "    <tr>\n",
       "      <th>2002-11-19</th>\n",
       "      <td>1.11</td>\n",
       "      <td>1.12</td>\n",
       "      <td>1.07</td>\n",
       "      <td>1.09</td>\n",
       "      <td>50922200</td>\n",
       "    </tr>\n",
       "    <tr>\n",
       "      <th>2002-11-20</th>\n",
       "      <td>1.09</td>\n",
       "      <td>1.12</td>\n",
       "      <td>1.09</td>\n",
       "      <td>1.11</td>\n",
       "      <td>50206800</td>\n",
       "    </tr>\n",
       "    <tr>\n",
       "      <th>2002-11-21</th>\n",
       "      <td>1.14</td>\n",
       "      <td>1.17</td>\n",
       "      <td>1.12</td>\n",
       "      <td>1.17</td>\n",
       "      <td>102193000</td>\n",
       "    </tr>\n",
       "    <tr>\n",
       "      <th>2002-11-22</th>\n",
       "      <td>1.15</td>\n",
       "      <td>1.16</td>\n",
       "      <td>1.14</td>\n",
       "      <td>1.14</td>\n",
       "      <td>54815600</td>\n",
       "    </tr>\n",
       "    <tr>\n",
       "      <th>2002-11-25</th>\n",
       "      <td>1.14</td>\n",
       "      <td>1.15</td>\n",
       "      <td>1.12</td>\n",
       "      <td>1.14</td>\n",
       "      <td>48836200</td>\n",
       "    </tr>\n",
       "    <tr>\n",
       "      <th>2002-11-26</th>\n",
       "      <td>1.13</td>\n",
       "      <td>1.14</td>\n",
       "      <td>1.09</td>\n",
       "      <td>1.10</td>\n",
       "      <td>57488200</td>\n",
       "    </tr>\n",
       "    <tr>\n",
       "      <th>2002-11-27</th>\n",
       "      <td>1.11</td>\n",
       "      <td>1.13</td>\n",
       "      <td>1.10</td>\n",
       "      <td>1.12</td>\n",
       "      <td>70130200</td>\n",
       "    </tr>\n",
       "    <tr>\n",
       "      <th>2002-11-29</th>\n",
       "      <td>1.13</td>\n",
       "      <td>1.13</td>\n",
       "      <td>1.10</td>\n",
       "      <td>1.11</td>\n",
       "      <td>34637400</td>\n",
       "    </tr>\n",
       "    <tr>\n",
       "      <th>2002-12-02</th>\n",
       "      <td>1.14</td>\n",
       "      <td>1.15</td>\n",
       "      <td>1.07</td>\n",
       "      <td>1.08</td>\n",
       "      <td>97340600</td>\n",
       "    </tr>\n",
       "    <tr>\n",
       "      <th>2002-12-03</th>\n",
       "      <td>1.09</td>\n",
       "      <td>1.10</td>\n",
       "      <td>1.08</td>\n",
       "      <td>1.08</td>\n",
       "      <td>54828200</td>\n",
       "    </tr>\n",
       "    <tr>\n",
       "      <th>2002-12-04</th>\n",
       "      <td>1.08</td>\n",
       "      <td>1.08</td>\n",
       "      <td>1.04</td>\n",
       "      <td>1.07</td>\n",
       "      <td>73498600</td>\n",
       "    </tr>\n",
       "    <tr>\n",
       "      <th>2002-12-05</th>\n",
       "      <td>1.07</td>\n",
       "      <td>1.08</td>\n",
       "      <td>1.04</td>\n",
       "      <td>1.04</td>\n",
       "      <td>58583000</td>\n",
       "    </tr>\n",
       "    <tr>\n",
       "      <th>2002-12-06</th>\n",
       "      <td>1.05</td>\n",
       "      <td>1.08</td>\n",
       "      <td>1.04</td>\n",
       "      <td>1.07</td>\n",
       "      <td>60109000</td>\n",
       "    </tr>\n",
       "    <tr>\n",
       "      <th>2002-12-09</th>\n",
       "      <td>1.07</td>\n",
       "      <td>1.07</td>\n",
       "      <td>1.05</td>\n",
       "      <td>1.05</td>\n",
       "      <td>56326200</td>\n",
       "    </tr>\n",
       "    <tr>\n",
       "      <th>2002-12-10</th>\n",
       "      <td>1.05</td>\n",
       "      <td>1.10</td>\n",
       "      <td>1.05</td>\n",
       "      <td>1.09</td>\n",
       "      <td>74708200</td>\n",
       "    </tr>\n",
       "    <tr>\n",
       "      <th>2002-12-11</th>\n",
       "      <td>1.09</td>\n",
       "      <td>1.11</td>\n",
       "      <td>1.08</td>\n",
       "      <td>1.11</td>\n",
       "      <td>60757200</td>\n",
       "    </tr>\n",
       "    <tr>\n",
       "      <th>2002-12-12</th>\n",
       "      <td>1.11</td>\n",
       "      <td>1.11</td>\n",
       "      <td>1.07</td>\n",
       "      <td>1.08</td>\n",
       "      <td>35819000</td>\n",
       "    </tr>\n",
       "    <tr>\n",
       "      <th>2002-12-13</th>\n",
       "      <td>1.08</td>\n",
       "      <td>1.08</td>\n",
       "      <td>1.05</td>\n",
       "      <td>1.06</td>\n",
       "      <td>39739000</td>\n",
       "    </tr>\n",
       "    <tr>\n",
       "      <th>2002-12-16</th>\n",
       "      <td>1.06</td>\n",
       "      <td>1.08</td>\n",
       "      <td>1.04</td>\n",
       "      <td>1.06</td>\n",
       "      <td>61180000</td>\n",
       "    </tr>\n",
       "    <tr>\n",
       "      <th>2002-12-17</th>\n",
       "      <td>1.06</td>\n",
       "      <td>1.08</td>\n",
       "      <td>1.05</td>\n",
       "      <td>1.08</td>\n",
       "      <td>54243000</td>\n",
       "    </tr>\n",
       "    <tr>\n",
       "      <th>2002-12-18</th>\n",
       "      <td>1.06</td>\n",
       "      <td>1.06</td>\n",
       "      <td>1.04</td>\n",
       "      <td>1.04</td>\n",
       "      <td>35868000</td>\n",
       "    </tr>\n",
       "  </tbody>\n",
       "</table>\n",
       "</div>"
      ],
      "text/plain": [
       "            Open  High   Low  Close     Volume\n",
       "Date                                          \n",
       "2002-11-14  1.14  1.17  1.13   1.16   34256600\n",
       "2002-11-15  1.16  1.16  1.13   1.14   39848200\n",
       "2002-11-18  1.16  1.16  1.09   1.12   38490200\n",
       "2002-11-19  1.11  1.12  1.07   1.09   50922200\n",
       "2002-11-20  1.09  1.12  1.09   1.11   50206800\n",
       "2002-11-21  1.14  1.17  1.12   1.17  102193000\n",
       "2002-11-22  1.15  1.16  1.14   1.14   54815600\n",
       "2002-11-25  1.14  1.15  1.12   1.14   48836200\n",
       "2002-11-26  1.13  1.14  1.09   1.10   57488200\n",
       "2002-11-27  1.11  1.13  1.10   1.12   70130200\n",
       "2002-11-29  1.13  1.13  1.10   1.11   34637400\n",
       "2002-12-02  1.14  1.15  1.07   1.08   97340600\n",
       "2002-12-03  1.09  1.10  1.08   1.08   54828200\n",
       "2002-12-04  1.08  1.08  1.04   1.07   73498600\n",
       "2002-12-05  1.07  1.08  1.04   1.04   58583000\n",
       "2002-12-06  1.05  1.08  1.04   1.07   60109000\n",
       "2002-12-09  1.07  1.07  1.05   1.05   56326200\n",
       "2002-12-10  1.05  1.10  1.05   1.09   74708200\n",
       "2002-12-11  1.09  1.11  1.08   1.11   60757200\n",
       "2002-12-12  1.11  1.11  1.07   1.08   35819000\n",
       "2002-12-13  1.08  1.08  1.05   1.06   39739000\n",
       "2002-12-16  1.06  1.08  1.04   1.06   61180000\n",
       "2002-12-17  1.06  1.08  1.05   1.08   54243000\n",
       "2002-12-18  1.06  1.06  1.04   1.04   35868000"
      ]
     },
     "execution_count": 42,
     "metadata": {},
     "output_type": "execute_result"
    }
   ],
   "source": [
    "apple[\"2002-11-14\":\"2002-12-18\"]"
   ]
  },
  {
   "cell_type": "code",
   "execution_count": 44,
   "metadata": {
    "collapsed": false
   },
   "outputs": [
    {
     "name": "stdout",
     "output_type": "stream",
     "text": [
      "Open            88.97\n",
      "High            89.29\n",
      "Low             88.29\n",
      "Close           88.70\n",
      "Volume    72627492.00\n",
      "Name: 2012-08-07 00:00:00, dtype: float64\n",
      "\n",
      "88.97\n",
      "89.29\n",
      "88.29\n",
      "88.7\n",
      "72627492.0\n"
     ]
    }
   ],
   "source": [
    "print apple.iloc[8000]\n",
    "print\n",
    "print apple.iloc[8000,0]\n",
    "print apple.iloc[8000,1]\n",
    "print apple.iloc[8000,2]\n",
    "print apple.iloc[8000,3]\n",
    "print apple.iloc[8000,4]"
   ]
  },
  {
   "cell_type": "code",
   "execution_count": 46,
   "metadata": {
    "collapsed": false
   },
   "outputs": [
    {
     "name": "stdout",
     "output_type": "stream",
     "text": [
      "min is: 0.94\n",
      "max is: 133.0\n",
      "standard deviation is: 24.1926958235\n"
     ]
    }
   ],
   "source": [
    "print \"min is:\",apple['Close'].min()\n",
    "print \"max is:\",apple['Close'].max()\n",
    "print \"standard deviation is:\",apple['Close'].std()"
   ]
  },
  {
   "cell_type": "code",
   "execution_count": 32,
   "metadata": {
    "collapsed": true
   },
   "outputs": [],
   "source": [
    "over_100=apple[apple['Close']>100]"
   ]
  },
  {
   "cell_type": "code",
   "execution_count": 33,
   "metadata": {
    "collapsed": false
   },
   "outputs": [
    {
     "name": "stdout",
     "output_type": "stream",
     "text": [
      "(115, 5)\n"
     ]
    }
   ],
   "source": [
    "print over_100.shape"
   ]
  },
  {
   "cell_type": "code",
   "execution_count": 35,
   "metadata": {
    "collapsed": false
   },
   "outputs": [
    {
     "data": {
      "text/plain": [
       "115"
      ]
     },
     "execution_count": 35,
     "metadata": {},
     "output_type": "execute_result"
    }
   ],
   "source": [
    "apple['Close'][apple['Close']>100].count()"
   ]
  },
  {
   "cell_type": "code",
   "execution_count": null,
   "metadata": {
    "collapsed": true
   },
   "outputs": [],
   "source": []
  }
 ],
 "metadata": {
  "kernelspec": {
   "display_name": "Python 2",
   "language": "python",
   "name": "python2"
  },
  "language_info": {
   "codemirror_mode": {
    "name": "ipython",
    "version": 2
   },
   "file_extension": ".py",
   "mimetype": "text/x-python",
   "name": "python",
   "nbconvert_exporter": "python",
   "pygments_lexer": "ipython2",
   "version": "2.7.10"
  }
 },
 "nbformat": 4,
 "nbformat_minor": 0
}

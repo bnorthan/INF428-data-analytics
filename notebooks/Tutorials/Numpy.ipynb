{
 "cells": [
  {
   "cell_type": "markdown",
   "metadata": {},
   "source": [
    "## Numpy\n",
    "\n",
    "Import numpy and create a simple array"
   ]
  },
  {
   "cell_type": "code",
   "execution_count": 1,
   "metadata": {
    "collapsed": false
   },
   "outputs": [
    {
     "name": "stdout",
     "output_type": "stream",
     "text": [
      "[0 1 2 3 4 5 6 7 8 9]\n",
      "<type 'numpy.ndarray'>\n"
     ]
    }
   ],
   "source": [
    "import numpy as np\n",
    "\n",
    "test=np.arange(10)\n",
    "print test\n",
    "print type(test)"
   ]
  },
  {
   "cell_type": "markdown",
   "metadata": {},
   "source": [
    "Create a list and an array"
   ]
  },
  {
   "cell_type": "code",
   "execution_count": 2,
   "metadata": {
    "collapsed": false
   },
   "outputs": [
    {
     "name": "stdout",
     "output_type": "stream",
     "text": [
      "<type 'list'>\n",
      "[0, 1, 2, 3, 4, 5, 6, 7, 8, 9]\n",
      "\n",
      "<type 'numpy.ndarray'>\n",
      "[0 1 2 3 4 5 6 7 8 9]\n"
     ]
    }
   ],
   "source": [
    "n=10\n",
    "a_list = range(n)\n",
    "a_array = np.arange(n)\n",
    "\n",
    "print type(a_list)\n",
    "print a_list\n",
    "print\n",
    "print type(a_array)\n",
    "print a_array"
   ]
  },
  {
   "cell_type": "markdown",
   "metadata": {},
   "source": [
    "Multiplying the list vs multiplying the array"
   ]
  },
  {
   "cell_type": "code",
   "execution_count": 3,
   "metadata": {
    "collapsed": false
   },
   "outputs": [
    {
     "name": "stdout",
     "output_type": "stream",
     "text": [
      "[0, 1, 2, 3, 4, 5, 6, 7, 8, 9, 0, 1, 2, 3, 4, 5, 6, 7, 8, 9, 0, 1, 2, 3, 4, 5, 6, 7, 8, 9]\n",
      "[ 0  3  6  9 12 15 18 21 24 27]\n"
     ]
    }
   ],
   "source": [
    "mul_list=a_list*3\n",
    "print mul_list\n",
    "mul_array=a_array*3\t\t\t\n",
    "print mul_array"
   ]
  },
  {
   "cell_type": "markdown",
   "metadata": {},
   "source": [
    "Adding lists vs adding vectors"
   ]
  },
  {
   "cell_type": "code",
   "execution_count": 16,
   "metadata": {
    "collapsed": false
   },
   "outputs": [
    {
     "name": "stdout",
     "output_type": "stream",
     "text": [
      "[1, 2, 3, 4, 5, 6]\n",
      "[5 7 9]\n"
     ]
    }
   ],
   "source": [
    "list1=[1,2,3]\n",
    "list2=[4,5,6]\n",
    "array1=np.arange(1,4)\n",
    "array2=np.arange(4,7)\n",
    "\n",
    "list3=list1+list2\n",
    "array3=array1+array2\n",
    "\n",
    "print list3\n",
    "print array3"
   ]
  },
  {
   "cell_type": "markdown",
   "metadata": {},
   "source": [
    "Raise to a power"
   ]
  },
  {
   "cell_type": "code",
   "execution_count": 18,
   "metadata": {
    "collapsed": false
   },
   "outputs": [
    {
     "name": "stdout",
     "output_type": "stream",
     "text": [
      "[  0   1   8  27  64 125 216 343 512 729]\n"
     ]
    }
   ],
   "source": [
    "#pow_list=a_list**3\n",
    "#print pow_list\n",
    "pow_array=a_array**3\t\n",
    "print pow_array"
   ]
  },
  {
   "cell_type": "markdown",
   "metadata": {},
   "source": [
    "Initialize an array and show the shape"
   ]
  },
  {
   "cell_type": "code",
   "execution_count": 19,
   "metadata": {
    "collapsed": false
   },
   "outputs": [
    {
     "name": "stdout",
     "output_type": "stream",
     "text": [
      "<type 'numpy.ndarray'>\n",
      "[1 2 3 4]\n",
      "(4L,)\n"
     ]
    }
   ],
   "source": [
    "array_1d=np.array([1,2,3,4])\n",
    "\n",
    "print type(array_1d)\n",
    "print array_1d\n",
    "print array_1d.shape"
   ]
  },
  {
   "cell_type": "markdown",
   "metadata": {},
   "source": [
    "Access elements"
   ]
  },
  {
   "cell_type": "code",
   "execution_count": 21,
   "metadata": {
    "collapsed": false
   },
   "outputs": [
    {
     "name": "stdout",
     "output_type": "stream",
     "text": [
      "the numbers are 1 2 3\n"
     ]
    }
   ],
   "source": [
    "test1=array_1d[0]\n",
    "test2=array_1d[1]\t\t\t\t\t\n",
    "test3=array_1d[2]\t\t\t\t\t\n",
    "\t\t\t\t\n",
    "print \"the numbers are\",test1,test2,test3"
   ]
  },
  {
   "cell_type": "markdown",
   "metadata": {},
   "source": [
    "Create a 2d array"
   ]
  },
  {
   "cell_type": "code",
   "execution_count": 3,
   "metadata": {
    "collapsed": false
   },
   "outputs": [
    {
     "name": "stdout",
     "output_type": "stream",
     "text": [
      "[[20 40]\n",
      " [10 20]]\n",
      "(2L, 2L)\n"
     ]
    }
   ],
   "source": [
    "array_2d=np.array([[20, 40],[10,20]])\n",
    "print array_2d\n",
    "print array_2d.shape"
   ]
  },
  {
   "cell_type": "markdown",
   "metadata": {},
   "source": [
    "Access elements (2d)"
   ]
  },
  {
   "cell_type": "code",
   "execution_count": 7,
   "metadata": {
    "collapsed": false
   },
   "outputs": [
    {
     "name": "stdout",
     "output_type": "stream",
     "text": [
      "the numbers are 20 40 10 20\n"
     ]
    }
   ],
   "source": [
    "test1=array_2d[0,0]\n",
    "test2=array_2d[0,1]\n",
    "test3=array_2d[1,0]\n",
    "test4=array_2d[1,1]\n",
    "\t\t\t\t\n",
    "print \"the numbers are\",test1,test2,test3,test4"
   ]
  },
  {
   "cell_type": "code",
   "execution_count": 8,
   "metadata": {
    "collapsed": false
   },
   "outputs": [
    {
     "name": "stdout",
     "output_type": "stream",
     "text": [
      "<type 'numpy.int32'>\n"
     ]
    }
   ],
   "source": [
    "print type(test1)"
   ]
  },
  {
   "cell_type": "markdown",
   "metadata": {},
   "source": [
    "Numpy Arrays can have different types"
   ]
  },
  {
   "cell_type": "code",
   "execution_count": 9,
   "metadata": {
    "collapsed": false
   },
   "outputs": [
    {
     "name": "stdout",
     "output_type": "stream",
     "text": [
      "[0 1 2 3]\n",
      "[ 0.  1.  2.  3.]\n"
     ]
    }
   ],
   "source": [
    "int_array=np.array([0,1,2,3], dtype=np.uint16)\n",
    "float32_array=np.array([0,1,2,3], dtype=np.float32)\n",
    "\n",
    "print int_array\n",
    "print float32_array"
   ]
  },
  {
   "cell_type": "markdown",
   "metadata": {},
   "source": [
    "## Slicing arrays"
   ]
  },
  {
   "cell_type": "code",
   "execution_count": 10,
   "metadata": {
    "collapsed": false
   },
   "outputs": [
    {
     "name": "stdout",
     "output_type": "stream",
     "text": [
      "[ 0  1  2  3  4  5  6  7  8  9 10 11 12 13 14]\n",
      "sliced 4:11 [ 4  5  6  7  8  9 10]\n",
      "sliced 2:12:3: [ 2  5  8 11]\n",
      "indexed -1: 14\n",
      "sliced 2:-10:-2 [8 7 6 5 4 3]\n"
     ]
    }
   ],
   "source": [
    "a=np.arange(15)\n",
    "print a"
   ]
  },
  {
   "cell_type": "markdown",
   "metadata": {},
   "source": [
    "Slice elements 4 through 11"
   ]
  },
  {
   "cell_type": "code",
   "execution_count": 23,
   "metadata": {
    "collapsed": false
   },
   "outputs": [
    {
     "name": "stdout",
     "output_type": "stream",
     "text": [
      "sliced 4:11 [ 4  5  6  7  8  9 10]\n"
     ]
    }
   ],
   "source": [
    "b=a[4:11]\n",
    "print \"sliced 4:11\",b"
   ]
  },
  {
   "cell_type": "markdown",
   "metadata": {},
   "source": [
    "Slice elements 2 through 12, incrementing by 3"
   ]
  },
  {
   "cell_type": "code",
   "execution_count": 24,
   "metadata": {
    "collapsed": false
   },
   "outputs": [
    {
     "name": "stdout",
     "output_type": "stream",
     "text": [
      "sliced 2:12:3: [ 2  5  8 11]\n"
     ]
    }
   ],
   "source": [
    "c=a[2:12:3]\n",
    "print \"sliced 2:12:3:\",c"
   ]
  },
  {
   "cell_type": "markdown",
   "metadata": {},
   "source": [
    "Access the last element (a tricky way)"
   ]
  },
  {
   "cell_type": "code",
   "execution_count": 26,
   "metadata": {
    "collapsed": false
   },
   "outputs": [
    {
     "name": "stdout",
     "output_type": "stream",
     "text": [
      "indexed -1: 14\n"
     ]
    }
   ],
   "source": [
    "d=a[-1]\n",
    "print \"indexed -1:\",d\n"
   ]
  },
  {
   "cell_type": "markdown",
   "metadata": {},
   "source": [
    "Access elements backwards"
   ]
  },
  {
   "cell_type": "code",
   "execution_count": 27,
   "metadata": {
    "collapsed": false
   },
   "outputs": [
    {
     "name": "stdout",
     "output_type": "stream",
     "text": [
      "sliced 2:-10:-2 [8 7 6 5 4 3]\n"
     ]
    }
   ],
   "source": [
    "e=a[8:2:-1]\n",
    "print \"sliced 2:-10:-2\",e"
   ]
  },
  {
   "cell_type": "markdown",
   "metadata": {},
   "source": [
    "Reshape an array"
   ]
  },
  {
   "cell_type": "code",
   "execution_count": 29,
   "metadata": {
    "collapsed": false
   },
   "outputs": [
    {
     "name": "stdout",
     "output_type": "stream",
     "text": [
      "before reshaping: \n",
      "[ 0  1  2  3  4  5  6  7  8  9 10 11 12 13 14]\n",
      "\n",
      "(15L,)\n",
      "after reshaping: \n",
      "[[ 0  1  2]\n",
      " [ 3  4  5]\n",
      " [ 6  7  8]\n",
      " [ 9 10 11]\n",
      " [12 13 14]]\n",
      "\n",
      "(5L, 3L)\n"
     ]
    }
   ],
   "source": [
    "a=np.arange(15)\n",
    "\n",
    "print \"before reshaping: \"\n",
    "print a\n",
    "print\n",
    "print a.shape\n",
    "\n",
    "a.shape=(5,3)\n",
    "\n",
    "print \"after reshaping: \"\n",
    "print a\n",
    "print\n",
    "print a.shape"
   ]
  },
  {
   "cell_type": "markdown",
   "metadata": {},
   "source": [
    "Array atributes"
   ]
  },
  {
   "cell_type": "code",
   "execution_count": 32,
   "metadata": {
    "collapsed": false
   },
   "outputs": [
    {
     "name": "stdout",
     "output_type": "stream",
     "text": [
      "test array:\n",
      "[[ 0  1  2  3  4]\n",
      " [ 5  6  7  8  9]\n",
      " [10 11 12 13 14]\n",
      " [15 16 17 18 19]]\n",
      "\n",
      "dims:  2\n",
      "\n",
      "shape:  (4L, 5L)\n",
      "\n",
      "size:  20\n",
      "\n",
      "number bytes:  80\n",
      "\n",
      "item size:  4\n"
     ]
    }
   ],
   "source": [
    "test_array=np.arange(20).reshape(4,5)\n",
    "\n",
    "print \"test array:\"\n",
    "print test_array\n",
    "print\n",
    "print \"dims: \",test_array.ndim\n",
    "print\n",
    "print \"shape: \",test_array.shape\n",
    "print\n",
    "print \"size: \",test_array.size\n",
    "print\n",
    "print \"number bytes: \",test_array.nbytes\n",
    "print\n",
    "print \"item size: \",test_array.itemsize"
   ]
  },
  {
   "cell_type": "markdown",
   "metadata": {},
   "source": [
    "Conditional indexing"
   ]
  },
  {
   "cell_type": "code",
   "execution_count": null,
   "metadata": {
    "collapsed": true
   },
   "outputs": [],
   "source": [
    "test_array=np.arange(10)\n",
    "print test_array\n",
    "\n",
    "test_array[ (test_array>3) & (test_array<7)]=15\n",
    "print test_array"
   ]
  },
  {
   "cell_type": "code",
   "execution_count": 34,
   "metadata": {
    "collapsed": true
   },
   "outputs": [],
   "source": []
  },
  {
   "cell_type": "code",
   "execution_count": null,
   "metadata": {
    "collapsed": true
   },
   "outputs": [],
   "source": []
  }
 ],
 "metadata": {
  "kernelspec": {
   "display_name": "Python 2",
   "language": "python",
   "name": "python2"
  },
  "language_info": {
   "codemirror_mode": {
    "name": "ipython",
    "version": 2
   },
   "file_extension": ".py",
   "mimetype": "text/x-python",
   "name": "python",
   "nbconvert_exporter": "python",
   "pygments_lexer": "ipython2",
   "version": "2.7.11"
  }
 },
 "nbformat": 4,
 "nbformat_minor": 0
}

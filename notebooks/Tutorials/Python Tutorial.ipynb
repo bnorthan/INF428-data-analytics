{
 "cells": [
  {
   "cell_type": "markdown",
   "metadata": {},
   "source": [
    "# Python Tutorial\n",
    "(mostly compliments of Tiago Ferreira, Van Meyel Lab - McGill University"
   ]
  },
  {
   "cell_type": "markdown",
   "metadata": {},
   "source": [
    "## We can write comments in markdown\n",
    "\n",
    "### With different header sizes"
   ]
  },
  {
   "cell_type": "markdown",
   "metadata": {},
   "source": [
    "### Here is how we write a comment"
   ]
  },
  {
   "cell_type": "code",
   "execution_count": 5,
   "metadata": {
    "collapsed": false
   },
   "outputs": [
    {
     "data": {
      "text/plain": [
       "'\\nTriple quotes are used for large multi-line comments, and\\ntypically to document functions and modules (Docstrings)\\n'"
      ]
     },
     "execution_count": 5,
     "metadata": {},
     "output_type": "execute_result"
    }
   ],
   "source": [
    "\"\"\"\n",
    "Triple quotes are used for large multi-line comments, and\n",
    "typically to document functions and modules (Docstrings)\n",
    "\"\"\""
   ]
  },
  {
   "cell_type": "markdown",
   "metadata": {},
   "source": [
    "### Here is how we print"
   ]
  },
  {
   "cell_type": "code",
   "execution_count": 6,
   "metadata": {
    "collapsed": false
   },
   "outputs": [
    {
     "name": "stdout",
     "output_type": "stream",
     "text": [
      "Hello!\n",
      "\n"
     ]
    }
   ],
   "source": [
    "print \"Hello!\"\n",
    "print"
   ]
  },
  {
   "cell_type": "markdown",
   "metadata": {},
   "source": [
    "### here is some math:"
   ]
  },
  {
   "cell_type": "code",
   "execution_count": 7,
   "metadata": {
    "collapsed": false
   },
   "outputs": [
    {
     "name": "stdout",
     "output_type": "stream",
     "text": [
      "Print variables a, b, c 2 8 16\n",
      "\n"
     ]
    }
   ],
   "source": [
    "a = 1+1\t\t# Sum\n",
    "b = 2*4\t\t# Multiplication\n",
    "c = 2**4\t# Exponentiation (2^14 = 16)\n",
    "print \"Print variables a, b, c\", a, b, c\n",
    "print"
   ]
  },
  {
   "cell_type": "markdown",
   "metadata": {},
   "source": [
    "### By the way you can multiply strings... try..."
   ]
  },
  {
   "cell_type": "code",
   "execution_count": 9,
   "metadata": {
    "collapsed": false
   },
   "outputs": [
    {
     "name": "stdout",
     "output_type": "stream",
     "text": [
      "Multiply hello by 3:  hello hello hello \n"
     ]
    }
   ],
   "source": [
    "print \"Multiply hello by 3: \", 3*\"hello \""
   ]
  },
  {
   "cell_type": "markdown",
   "metadata": {},
   "source": [
    "### Logical Operators"
   ]
  },
  {
   "cell_type": "code",
   "execution_count": 10,
   "metadata": {
    "collapsed": false
   },
   "outputs": [
    {
     "name": "stdout",
     "output_type": "stream",
     "text": [
      "(a is b): False\n",
      "a==2: True\n",
      "a is not b and b!=2: True\n",
      "\n"
     ]
    }
   ],
   "source": [
    "print \"(a is b):\", (a is b)\n",
    "print \"a==2:\", a==2\n",
    "print \"a is not b and b!=2:\", a is not b and b!=2\n",
    "print"
   ]
  },
  {
   "cell_type": "markdown",
   "metadata": {},
   "source": [
    "Lists are indexed sequences of items. The 1st index (item position) is zero, the 2nd index is one, etc.  A list can contain any type of item."
   ]
  },
  {
   "cell_type": "code",
   "execution_count": 12,
   "metadata": {
    "collapsed": false
   },
   "outputs": [
    {
     "name": "stdout",
     "output_type": "stream",
     "text": [
      "Here is the list: ['string', 2, 3, 4, 5, 6, 7]\n",
      "And here it is after calling list.pop(): ['string', 2, 3, 4, 5, 6]\n",
      "\n"
     ]
    }
   ],
   "source": [
    "my_list =[]\t\t\t\t# An empty list\n",
    "my_list = [1,2,3,4,5,6]\t# A prefilled list\n",
    "my_list[0] = \"string\"\t# Assign new value to an initialized index\n",
    "my_list.append(7)\t\t# Append new item to list\n",
    "print \"Here is the list:\", my_list\n",
    "my_list.pop()\t\t\t# Remove last element from list\n",
    "print \"And here it is after calling list.pop():\", my_list\n",
    "print"
   ]
  },
  {
   "cell_type": "markdown",
   "metadata": {},
   "source": [
    "At any time we can get help on a type.  Try typing help(list)"
   ]
  },
  {
   "cell_type": "markdown",
   "metadata": {},
   "source": [
    "help(list)"
   ]
  },
  {
   "cell_type": "markdown",
   "metadata": {},
   "source": [
    "Working with dictionaries: Dictionaries store mappings between <keys> and <values>. Keys can be unique strings or numbers (or any immutable type). Values can be anything: a string, a number, an expression, or any other object."
   ]
  },
  {
   "cell_type": "code",
   "execution_count": 15,
   "metadata": {
    "collapsed": false
   },
   "outputs": [
    {
     "name": "stdout",
     "output_type": "stream",
     "text": [
      "my_dict[\"Best Team\"] Blue Jays\n",
      "my_dict[\"my_list\"] ['string', 2, 3, 4, 5, 6]\n",
      "my_dict[a] [2, 256, 65536, 4294967296L]\n"
     ]
    }
   ],
   "source": [
    "my_dict = {}\t\t\t\t\t\t\t\t# An empty dictionary\n",
    "my_dict = {\"John\":1234, \"my_list\":my_list}\t# A prefilled dictionary\n",
    "my_dict['Best Team']=\"Blue Jays\"\t\t# Add a key:value pair\n",
    "\n",
    "# Create a list from a generator expression (the <value>) and\n",
    "# associate it to a variable (the <key>)\n",
    "a = \"Bit-depths\"\n",
    "my_dict[a] = [2**x for x in (1, 8, 16, 32)]\n",
    "\n",
    "# Looking up values:\n",
    "print \"my_dict[\\\"Best Team\\\"]\", my_dict[\"Best Team\"]\n",
    "print \"my_dict[\\\"my_list\\\"]\", my_dict[\"my_list\"]\n",
    "print \"my_dict[a]\", my_dict[a]"
   ]
  },
  {
   "cell_type": "markdown",
   "metadata": {},
   "source": [
    "Try a key that doesn't exist"
   ]
  },
  {
   "cell_type": "code",
   "execution_count": 18,
   "metadata": {
    "collapsed": false
   },
   "outputs": [
    {
     "name": "stdout",
     "output_type": "stream",
     "text": [
      "Expos is not in the dictionary\n",
      "They moved to Washington in 2005 :(\n",
      "\n"
     ]
    }
   ],
   "source": [
    "try:\n",
    "    my_var = my_dict[\"Expos\"]\n",
    "except KeyError:\n",
    "    print \"Expos is not in the dictionary\"\n",
    "    print \"They moved to Washington in 2005 :(\"\n",
    "print"
   ]
  },
  {
   "cell_type": "markdown",
   "metadata": {},
   "source": [
    "### Control Flow\n",
    "(If, and for statements)"
   ]
  },
  {
   "cell_type": "markdown",
   "metadata": {},
   "source": [
    "If statement (Indentation is critical!)"
   ]
  },
  {
   "cell_type": "code",
   "execution_count": 19,
   "metadata": {
    "collapsed": false
   },
   "outputs": [
    {
     "name": "stdout",
     "output_type": "stream",
     "text": [
      "Neither 10 or 20 are in in the list\n"
     ]
    }
   ],
   "source": [
    "a,b = 10,20\n",
    "my_list = [1, 2, 3, 4]\n",
    "\n",
    "# An if statement: Indentation is critical in python!\n",
    "if a in my_list:\n",
    "\tprint a, \"is in the list\"\n",
    "elif b in my_list:\n",
    "\tprint b, \"is in the list\"\n",
    "else:\n",
    "    print \"Neither\", a, \"or\", b, \"are in in the list\""
   ]
  },
  {
   "cell_type": "markdown",
   "metadata": {},
   "source": [
    "Modify to detect if both are in the list"
   ]
  },
  {
   "cell_type": "code",
   "execution_count": 20,
   "metadata": {
    "collapsed": false
   },
   "outputs": [
    {
     "name": "stdout",
     "output_type": "stream",
     "text": [
      "a  1  and b  3  are both in the list\n"
     ]
    }
   ],
   "source": [
    "a,b=1,3\n",
    "\n",
    "list = [1, 2, 3, 4]\n",
    "\t\t\t\t\t\n",
    "# An if statement: Indentation is critical in python!\n",
    "if a in my_list and b not in my_list:\n",
    "\tprint a, \"is in the list\"\n",
    "elif b in my_list and a not in my_list:\n",
    "\tprint b, \"is in the list\"\n",
    "elif a in my_list and b in my_list:\n",
    "\tprint \"a \",a,\" and b \",b,\" are both in the list\"\n",
    "else:\n",
    "\tprint \"Neither\", a, \"or\", b, \"are in in the list\""
   ]
  },
  {
   "cell_type": "markdown",
   "metadata": {},
   "source": [
    "### For loops\n",
    "Create a list of numbers (ussually using the range function) and then loop through them"
   ]
  },
  {
   "cell_type": "code",
   "execution_count": 22,
   "metadata": {
    "collapsed": false
   },
   "outputs": [
    {
     "name": "stdout",
     "output_type": "stream",
     "text": [
      "\n",
      "Here is a list of numbers created with range:  [1, 2, 3, 4, 5, 6, 7, 8, 9]\n"
     ]
    }
   ],
   "source": [
    "range_list=range(1,10)\n",
    "print\n",
    "print \"Here is a list of numbers created with range: \",range_list"
   ]
  },
  {
   "cell_type": "markdown",
   "metadata": {},
   "source": [
    "Now we can use the list to make a loop"
   ]
  },
  {
   "cell_type": "code",
   "execution_count": 24,
   "metadata": {
    "collapsed": false
   },
   "outputs": [
    {
     "name": "stdout",
     "output_type": "stream",
     "text": [
      "Loop using the list we created above: \n",
      "1\n",
      "2\n",
      "3\n",
      "4\n",
      "5\n",
      "6\n",
      "7\n",
      "8\n",
      "9\n"
     ]
    }
   ],
   "source": [
    "print \"Loop using the list we created above: \"\n",
    "for i in range_list:\n",
    "    print i"
   ]
  },
  {
   "cell_type": "markdown",
   "metadata": {},
   "source": [
    "We can also loop through lists"
   ]
  },
  {
   "cell_type": "code",
   "execution_count": 25,
   "metadata": {
    "collapsed": false
   },
   "outputs": [
    {
     "name": "stdout",
     "output_type": "stream",
     "text": [
      "Loop through a list\n",
      "The team is:  Blue Jays\n",
      "The team is:  Yankees\n",
      "The team is:  Red Sox\n",
      "The team is:  Rays\n",
      "The team is:  Orioles\n"
     ]
    }
   ],
   "source": [
    "print \"Loop through a list\"\n",
    "\n",
    "team_list=[\"Blue Jays\", \"Yankees\", \"Red Sox\", \"Rays\", \"Orioles\"]\n",
    "\n",
    "for team in team_list:\n",
    "    print \"The team is: \", team"
   ]
  },
  {
   "cell_type": "markdown",
   "metadata": {},
   "source": [
    "## The import statement is used to access additional modules\n",
    "This is really!!!! important for data analysis, for data analysis we use the numpy, pandas and scikit-learn modules extensively."
   ]
  },
  {
   "cell_type": "code",
   "execution_count": 26,
   "metadata": {
    "collapsed": false
   },
   "outputs": [
    {
     "name": "stdout",
     "output_type": "stream",
     "text": [
      "[Line 09] Python PI= 3.14159265359\n",
      "A random team: Raptors\n"
     ]
    }
   ],
   "source": [
    "# Importing a Python module:\n",
    "import math\n",
    "print \"[Line 09]\", \"Python PI=\", math.pi # https://docs.python.org/2/library/math.html\n",
    "\n",
    "\n",
    "# The import statement can occur anywhere in a script\n",
    "my_teams = [\"Blue Jays\", \"Oilers\", \"Raptors\", \"Bills\"]\n",
    "import random\n",
    "print \"A random team:\", random.choice(my_teams) # https://docs.python.org/2/library/random.html"
   ]
  },
  {
   "cell_type": "markdown",
   "metadata": {},
   "source": [
    "Of course we can get help on modules..."
   ]
  },
  {
   "cell_type": "code",
   "execution_count": 28,
   "metadata": {
    "collapsed": false
   },
   "outputs": [
    {
     "name": "stdout",
     "output_type": "stream",
     "text": [
      "Help on method choice in module random:\n",
      "\n",
      "choice(self, seq) method of random.Random instance\n",
      "    Choose a random element from a non-empty sequence.\n",
      "\n"
     ]
    }
   ],
   "source": [
    "help(random.choice)"
   ]
  },
  {
   "cell_type": "markdown",
   "metadata": {},
   "source": [
    "## Functions\n",
    "We can define functions using 'def'.  As ussual indentation is important. "
   ]
  },
  {
   "cell_type": "code",
   "execution_count": 29,
   "metadata": {
    "collapsed": true
   },
   "outputs": [],
   "source": [
    "def today():\n",
    "    import datetime\n",
    "    return datetime.date.today()"
   ]
  },
  {
   "cell_type": "code",
   "execution_count": 34,
   "metadata": {
    "collapsed": false
   },
   "outputs": [
    {
     "name": "stdout",
     "output_type": "stream",
     "text": [
      "2016-02-01\n"
     ]
    }
   ],
   "source": [
    "print today()"
   ]
  },
  {
   "cell_type": "markdown",
   "metadata": {},
   "source": [
    "We can define functions with arguments"
   ]
  },
  {
   "cell_type": "code",
   "execution_count": 35,
   "metadata": {
    "collapsed": false
   },
   "outputs": [
    {
     "name": "stdout",
     "output_type": "stream",
     "text": [
      "10 is smaller\n"
     ]
    }
   ],
   "source": [
    "# A Function with arguments:\n",
    "def minFunction(a, b):\n",
    "    \"\"\"This function returns the smallest of two arguments\"\"\"\n",
    "    if a < b:\n",
    "        return a\n",
    "    else:\n",
    "        return b\n",
    "\n",
    "print minFunction(10,20), \"is smaller\""
   ]
  },
  {
   "cell_type": "markdown",
   "metadata": {},
   "source": [
    "## List vs. Array\n",
    "List is a generic container (can contain anything)\n",
    "\n",
    "Numpy is a python module used for math\n",
    "\n",
    "Array is a numpy structure used for numeric calculations"
   ]
  },
  {
   "cell_type": "code",
   "execution_count": 37,
   "metadata": {
    "collapsed": false
   },
   "outputs": [],
   "source": [
    "import numpy as np\n",
    "\n",
    "n=10\n",
    "a_list = range(n)\n",
    "a_array = np.arange(n)"
   ]
  },
  {
   "cell_type": "code",
   "execution_count": 38,
   "metadata": {
    "collapsed": false
   },
   "outputs": [
    {
     "name": "stdout",
     "output_type": "stream",
     "text": [
      "<type 'list'>\n",
      "<type 'numpy.ndarray'>\n"
     ]
    }
   ],
   "source": [
    "print type(a_list)\n",
    "print type(a_array)"
   ]
  },
  {
   "cell_type": "markdown",
   "metadata": {},
   "source": [
    "Try multiplying both the list and the array"
   ]
  },
  {
   "cell_type": "code",
   "execution_count": 40,
   "metadata": {
    "collapsed": false
   },
   "outputs": [
    {
     "name": "stdout",
     "output_type": "stream",
     "text": [
      "multiply the list\n",
      "[0, 1, 2, 3, 4, 5, 6, 7, 8, 9, 0, 1, 2, 3, 4, 5, 6, 7, 8, 9, 0, 1, 2, 3, 4, 5, 6, 7, 8, 9]\n",
      "multiply the array\n",
      "[ 0  3  6  9 12 15 18 21 24 27]\n"
     ]
    }
   ],
   "source": [
    "print \"multiply the list\"\n",
    "mul_list=a_list*3\n",
    "print mul_list\n",
    "print \"multiply the array\"\n",
    "mul_array=a_array*3\n",
    "print mul_array"
   ]
  },
  {
   "cell_type": "markdown",
   "metadata": {},
   "source": [
    "Let's try adding both the list and the array"
   ]
  },
  {
   "cell_type": "code",
   "execution_count": 43,
   "metadata": {
    "collapsed": false
   },
   "outputs": [
    {
     "ename": "TypeError",
     "evalue": "can only concatenate list (not \"int\") to list",
     "output_type": "error",
     "traceback": [
      "\u001b[1;31m---------------------------------------------------------------------------\u001b[0m",
      "\u001b[1;31mTypeError\u001b[0m                                 Traceback (most recent call last)",
      "\u001b[1;32m<ipython-input-43-651c95510dbc>\u001b[0m in \u001b[0;36m<module>\u001b[1;34m()\u001b[0m\n\u001b[1;32m----> 1\u001b[1;33m \u001b[0madd_list\u001b[0m\u001b[1;33m=\u001b[0m\u001b[0ma_list\u001b[0m\u001b[1;33m+\u001b[0m\u001b[1;36m3\u001b[0m\u001b[1;33m\u001b[0m\u001b[0m\n\u001b[0m\u001b[0;32m      2\u001b[0m \u001b[1;32mprint\u001b[0m \u001b[0madd_list\u001b[0m\u001b[1;33m\u001b[0m\u001b[0m\n",
      "\u001b[1;31mTypeError\u001b[0m: can only concatenate list (not \"int\") to list"
     ]
    }
   ],
   "source": [
    "add_list=a_list+3\n",
    "print add_list"
   ]
  },
  {
   "cell_type": "code",
   "execution_count": 44,
   "metadata": {
    "collapsed": false
   },
   "outputs": [
    {
     "name": "stdout",
     "output_type": "stream",
     "text": [
      "[ 3  4  5  6  7  8  9 10 11 12]\n"
     ]
    }
   ],
   "source": [
    "add_array=a_array+3\n",
    "print add_array"
   ]
  },
  {
   "cell_type": "markdown",
   "metadata": {},
   "source": [
    "Raise to a power"
   ]
  },
  {
   "cell_type": "code",
   "execution_count": 48,
   "metadata": {
    "collapsed": false
   },
   "outputs": [
    {
     "ename": "TypeError",
     "evalue": "unsupported operand type(s) for ** or pow(): 'list' and 'int'",
     "output_type": "error",
     "traceback": [
      "\u001b[1;31m---------------------------------------------------------------------------\u001b[0m",
      "\u001b[1;31mTypeError\u001b[0m                                 Traceback (most recent call last)",
      "\u001b[1;32m<ipython-input-48-cd813f65a2ab>\u001b[0m in \u001b[0;36m<module>\u001b[1;34m()\u001b[0m\n\u001b[1;32m----> 1\u001b[1;33m \u001b[0mpow_list\u001b[0m\u001b[1;33m=\u001b[0m\u001b[0ma_list\u001b[0m\u001b[1;33m**\u001b[0m\u001b[1;36m3\u001b[0m\u001b[1;33m\u001b[0m\u001b[0m\n\u001b[0m\u001b[0;32m      2\u001b[0m \u001b[1;32mprint\u001b[0m \u001b[0mpow_list\u001b[0m\u001b[1;33m\u001b[0m\u001b[0m\n",
      "\u001b[1;31mTypeError\u001b[0m: unsupported operand type(s) for ** or pow(): 'list' and 'int'"
     ]
    }
   ],
   "source": [
    "pow_list=a_list**3\n",
    "print pow_list"
   ]
  },
  {
   "cell_type": "code",
   "execution_count": 49,
   "metadata": {
    "collapsed": false
   },
   "outputs": [
    {
     "name": "stdout",
     "output_type": "stream",
     "text": [
      "[  0   1   8  27  64 125 216 343 512 729]\n"
     ]
    }
   ],
   "source": [
    "pow_array=a_array**3\t\n",
    "print pow_array"
   ]
  },
  {
   "cell_type": "code",
   "execution_count": null,
   "metadata": {
    "collapsed": true
   },
   "outputs": [],
   "source": []
  }
 ],
 "metadata": {
  "kernelspec": {
   "display_name": "Python 2",
   "language": "python",
   "name": "python2"
  },
  "language_info": {
   "codemirror_mode": {
    "name": "ipython",
    "version": 2
   },
   "file_extension": ".py",
   "mimetype": "text/x-python",
   "name": "python",
   "nbconvert_exporter": "python",
   "pygments_lexer": "ipython2",
   "version": "2.7.11"
  }
 },
 "nbformat": 4,
 "nbformat_minor": 0
}

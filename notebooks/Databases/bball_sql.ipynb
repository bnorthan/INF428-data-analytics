{
 "cells": [
  {
   "cell_type": "code",
   "execution_count": 25,
   "metadata": {
    "collapsed": true
   },
   "outputs": [],
   "source": [
    "import sqlite3 \n",
    "conn=sqlite3.connect(\"../../data/databases/mytest.db\")"
   ]
  },
  {
   "cell_type": "code",
   "execution_count": 40,
   "metadata": {
    "collapsed": false
   },
   "outputs": [
    {
     "name": "stdout",
     "output_type": "stream",
     "text": [
      "[(u'students',), (u'nba',)]\n"
     ]
    }
   ],
   "source": [
    "cursor=conn.cursor()\n",
    "cursor.execute(\"SELECT name FROM sqlite_master WHERE type='table';\")\n",
    "print(cursor.fetchall())"
   ]
  },
  {
   "cell_type": "markdown",
   "metadata": {},
   "source": [
    "Select column example"
   ]
  },
  {
   "cell_type": "code",
   "execution_count": 28,
   "metadata": {
    "collapsed": false
   },
   "outputs": [
    {
     "name": "stdout",
     "output_type": "stream",
     "text": [
      "(u'Steven Adams', 22, 52, 7.2)\n",
      "(u'Alexis Ajinca', 27, 41, 4.6)\n",
      "(u'Cole Aldrich', 27, 31, 5.4)\n",
      "(u'Chris Andersen', 37, 7, 1.9)\n",
      "(u'Joel Anthony', 33, 13, 0.7)\n",
      "(u'Omer Asik', 29, 46, 3.6)\n",
      "(u'Jeff Ayres', 28, 5, 1.2)\n",
      "(u'Cameron Bairstow', 25, 14, 1.4)\n",
      "(u'Andrea Bargnani', 30, 46, 6.6)\n",
      "(u'Aron Baynes', 29, 53, 5.7)\n"
     ]
    }
   ],
   "source": [
    "cursor=conn.cursor()\n",
    "sql='''select Player, Age, G, PTS from nba LIMIT 10'''\n",
    "results=cursor.execute(sql)\n",
    "\n",
    "all=results.fetchall()\n",
    "\n",
    "for player in all:\n",
    "    print player\n",
    "    \n",
    "cursor.close()"
   ]
  },
  {
   "cell_type": "markdown",
   "metadata": {},
   "source": [
    "Select all example (with limit=10)"
   ]
  },
  {
   "cell_type": "code",
   "execution_count": 29,
   "metadata": {
    "collapsed": false
   },
   "outputs": [
    {
     "name": "stdout",
     "output_type": "stream",
     "text": [
      "(3, u'Steven Adams', u'C', 22, u'OKC', 52, 52, 24.9, 2.8, 4.8, 0.59, 0, 0, None, 2.8, 4.8, 0.59, 0.59, 1.6, 2.6, 0.607, 2.5, 3.8, 6.3, 0.7, 0.4, 1.2, 1, 2.8, 7.2)\n",
      "(5, u'Alexis Ajinca', u'C', 27, u'NOP', 41, 6, 12.3, 2, 4, 0.497, 0, 0, 0, 2, 4, 0.5, 0.497, 0.6, 0.7, 0.821, 1.1, 3, 4.1, 0.4, 0.3, 0.5, 0.5, 2.2, 4.6)\n",
      "(6, u'Cole Aldrich', u'C', 27, u'LAC', 31, 2, 11.5, 2.1, 3.9, 0.533, 0, 0, None, 2.1, 3.9, 0.533, 0.533, 1.3, 1.9, 0.661, 1.1, 2.7, 3.8, 0.9, 0.6, 0.7, 0.9, 2.2, 5.4)\n",
      "(13, u'Chris Andersen', u'C', 37, u'MIA', 7, 1, 5.1, 0.6, 1.4, 0.4, 0.3, 0.7, 0.4, 0.3, 0.7, 0.4, 0.5, 0.4, 0.6, 0.75, 0.4, 0.9, 1.3, 0.4, 0.1, 0.4, 0.3, 0.6, 1.9)\n",
      "(21, u'Joel Anthony', u'C', 33, u'DET', 13, 0, 4, 0.2, 0.4, 0.4, 0, 0, None, 0.2, 0.4, 0.4, 0.4, 0.4, 0.5, 0.833, 0.5, 0.6, 1.2, 0.1, 0.2, 0.3, 0.1, 0.6, 0.7)\n",
      "(25, u'Omer Asik', u'C', 29, u'NOP', 46, 42, 17.4, 1.4, 2.6, 0.542, 0, 0, None, 1.4, 2.6, 0.542, 0.542, 0.8, 1.5, 0.557, 1.9, 4.2, 6.1, 0.3, 0.2, 0.5, 0.9, 1.9, 3.6)\n",
      "(27, u'Jeff Ayres', u'C', 28, u'LAC', 5, 0, 2.8, 0.4, 0.4, 1, 0, 0, None, 0.4, 0.4, 1, 1, 0.4, 0.4, 1, 0.2, 0.4, 0.6, 0.4, 0, 0.6, 0.2, 0.4, 1.2)\n",
      "(29, u'Cameron Bairstow', u'C', 25, u'CHI', 14, 1, 6.1, 0.6, 2.4, 0.242, 0, 0.3, 0, 0.6, 2.1, 0.276, 0.242, 0.3, 0.3, 1, 0.3, 1.5, 1.8, 0.4, 0.1, 0.2, 0.1, 1.1, 1.4)\n",
      "(32, u'Andrea Bargnani', u'C', 30, u'BRK', 46, 0, 13.8, 2.8, 6.1, 0.455, 0.1, 0.3, 0.188, 2.7, 5.7, 0.471, 0.461, 1, 1.2, 0.825, 0.6, 1.5, 2.1, 0.4, 0.1, 0.2, 0.6, 1.3, 6.6)\n",
      "(39, u'Aron Baynes', u'C', 29, u'DET', 53, 0, 14.3, 2.2, 4.6, 0.492, 0, 0, 0, 2.2, 4.5, 0.496, 0.492, 1.2, 1.7, 0.75, 1.7, 2.8, 4.5, 0.8, 0.3, 0.6, 0.9, 1.8, 5.7)\n"
     ]
    }
   ],
   "source": [
    "cursor=conn.cursor()\n",
    "sql='''select * from nba LIMIT 10'''\n",
    "results=cursor.execute(sql)\n",
    "\n",
    "all=results.fetchall()\n",
    "\n",
    "for player in all:\n",
    "    print player\n",
    "\n",
    "cursor.close()"
   ]
  },
  {
   "cell_type": "markdown",
   "metadata": {},
   "source": [
    "Where clause example"
   ]
  },
  {
   "cell_type": "code",
   "execution_count": 30,
   "metadata": {
    "collapsed": false
   },
   "outputs": [
    {
     "name": "stdout",
     "output_type": "stream",
     "text": [
      "(u'DeMarcus Cousins', 25, 44, 26.8)\n",
      "(u'Brook Lopez', 27, 54, 20.2)\n",
      "(u'Anthony Davis', 22, 47, 23.4)\n",
      "(u'Paul George', 25, 53, 23.3)\n",
      "(u'Blake Griffin', 26, 30, 23.2)\n",
      "(u'Eric Bledsoe', 26, 31, 20.4)\n",
      "(u'Stephen Curry', 27, 50, 29.8)\n",
      "(u'Damian Lillard', 25, 47, 24.3)\n",
      "(u'Kyle Lowry', 29, 52, 21)\n",
      "(u'Isaiah Thomas', 26, 55, 21.5)\n",
      "(u'Kemba Walker', 25, 52, 20.5)\n",
      "(u'Russell Westbrook', 27, 54, 24.1)\n",
      "(u'Carmelo Anthony', 31, 48, 21.4)\n",
      "(u'Kevin Durant', 27, 47, 27.7)\n",
      "(u'LeBron James', 31, 51, 25)\n",
      "(u'Kawhi Leonard', 24, 51, 20.2)\n",
      "(u'Jimmy Butler', 26, 48, 22.4)\n",
      "(u'DeMar DeRozan', 26, 52, 23.4)\n",
      "(u'James Harden', 26, 55, 28)\n",
      "(u'C.J. McCollum', 24, 52, 20.7)\n",
      "(u'Klay Thompson', 25, 50, 21.3)\n",
      "(u'Andrew Wiggins', 20, 53, 20.8)\n"
     ]
    }
   ],
   "source": [
    "cursor=conn.cursor()\n",
    "sql='''select Player, Age, G, PTS from nba WHERE PTS>20'''\n",
    "results=cursor.execute(sql)\n",
    "\n",
    "all=results.fetchall()\n",
    "\n",
    "for player in all:\n",
    "    print player\n",
    "    \n",
    "cursor.close()"
   ]
  },
  {
   "cell_type": "markdown",
   "metadata": {},
   "source": [
    "And/Or example"
   ]
  },
  {
   "cell_type": "code",
   "execution_count": 36,
   "metadata": {
    "collapsed": false
   },
   "outputs": [
    {
     "name": "stdout",
     "output_type": "stream",
     "text": [
      "(u'Stephen Curry', 27, 50, 29.8)\n"
     ]
    }
   ],
   "source": [
    "cursor=conn.cursor()\n",
    "sql='''select Player, Age, G, PTS from nba WHERE PTS>20 AND T3P>4'''\n",
    "results=cursor.execute(sql)\n",
    "\n",
    "all=results.fetchall()\n",
    "\n",
    "for player in all:\n",
    "    print player\n",
    "    \n",
    "cursor.close()"
   ]
  },
  {
   "cell_type": "markdown",
   "metadata": {},
   "source": [
    "Order by example"
   ]
  },
  {
   "cell_type": "code",
   "execution_count": 37,
   "metadata": {
    "collapsed": false
   },
   "outputs": [
    {
     "name": "stdout",
     "output_type": "stream",
     "text": [
      "(u'Brook Lopez', 27, 54, 20.2)\n",
      "(u'Kawhi Leonard', 24, 51, 20.2)\n",
      "(u'Eric Bledsoe', 26, 31, 20.4)\n",
      "(u'Kemba Walker', 25, 52, 20.5)\n",
      "(u'C.J. McCollum', 24, 52, 20.7)\n",
      "(u'Andrew Wiggins', 20, 53, 20.8)\n",
      "(u'Kyle Lowry', 29, 52, 21)\n",
      "(u'Klay Thompson', 25, 50, 21.3)\n",
      "(u'Carmelo Anthony', 31, 48, 21.4)\n",
      "(u'Isaiah Thomas', 26, 55, 21.5)\n",
      "(u'Jimmy Butler', 26, 48, 22.4)\n",
      "(u'Blake Griffin', 26, 30, 23.2)\n",
      "(u'Paul George', 25, 53, 23.3)\n",
      "(u'Anthony Davis', 22, 47, 23.4)\n",
      "(u'DeMar DeRozan', 26, 52, 23.4)\n",
      "(u'Russell Westbrook', 27, 54, 24.1)\n",
      "(u'Damian Lillard', 25, 47, 24.3)\n",
      "(u'LeBron James', 31, 51, 25)\n",
      "(u'DeMarcus Cousins', 25, 44, 26.8)\n",
      "(u'Kevin Durant', 27, 47, 27.7)\n",
      "(u'James Harden', 26, 55, 28)\n",
      "(u'Stephen Curry', 27, 50, 29.8)\n"
     ]
    }
   ],
   "source": [
    "cursor=conn.cursor()\n",
    "sql='''select Player, Age, G, PTS from nba WHERE PTS>20 ORDER BY PTS'''\n",
    "results=cursor.execute(sql)\n",
    "\n",
    "all=results.fetchall()\n",
    "\n",
    "for player in all:\n",
    "    print player\n",
    "    \n",
    "cursor.close()"
   ]
  },
  {
   "cell_type": "markdown",
   "metadata": {},
   "source": [
    "'Order by Desc' example"
   ]
  },
  {
   "cell_type": "code",
   "execution_count": 38,
   "metadata": {
    "collapsed": false
   },
   "outputs": [
    {
     "name": "stdout",
     "output_type": "stream",
     "text": [
      "(u'Stephen Curry', 27, 50, 29.8)\n",
      "(u'James Harden', 26, 55, 28)\n",
      "(u'Kevin Durant', 27, 47, 27.7)\n",
      "(u'DeMarcus Cousins', 25, 44, 26.8)\n",
      "(u'LeBron James', 31, 51, 25)\n",
      "(u'Damian Lillard', 25, 47, 24.3)\n",
      "(u'Russell Westbrook', 27, 54, 24.1)\n",
      "(u'Anthony Davis', 22, 47, 23.4)\n",
      "(u'DeMar DeRozan', 26, 52, 23.4)\n",
      "(u'Paul George', 25, 53, 23.3)\n",
      "(u'Blake Griffin', 26, 30, 23.2)\n",
      "(u'Jimmy Butler', 26, 48, 22.4)\n",
      "(u'Isaiah Thomas', 26, 55, 21.5)\n",
      "(u'Carmelo Anthony', 31, 48, 21.4)\n",
      "(u'Klay Thompson', 25, 50, 21.3)\n",
      "(u'Kyle Lowry', 29, 52, 21)\n",
      "(u'Andrew Wiggins', 20, 53, 20.8)\n",
      "(u'C.J. McCollum', 24, 52, 20.7)\n",
      "(u'Kemba Walker', 25, 52, 20.5)\n",
      "(u'Eric Bledsoe', 26, 31, 20.4)\n",
      "(u'Brook Lopez', 27, 54, 20.2)\n",
      "(u'Kawhi Leonard', 24, 51, 20.2)\n"
     ]
    }
   ],
   "source": [
    "cursor=conn.cursor()\n",
    "sql='''select Player, Age, G, PTS from nba WHERE PTS>20 ORDER by PTS Desc'''\n",
    "results=cursor.execute(sql)\n",
    "\n",
    "all=results.fetchall()\n",
    "\n",
    "for player in all:\n",
    "    print player\n",
    "    \n",
    "cursor.close()"
   ]
  },
  {
   "cell_type": "code",
   "execution_count": null,
   "metadata": {
    "collapsed": true
   },
   "outputs": [],
   "source": []
  }
 ],
 "metadata": {
  "kernelspec": {
   "display_name": "Python 2",
   "language": "python",
   "name": "python2"
  },
  "language_info": {
   "codemirror_mode": {
    "name": "ipython",
    "version": 2
   },
   "file_extension": ".py",
   "mimetype": "text/x-python",
   "name": "python",
   "nbconvert_exporter": "python",
   "pygments_lexer": "ipython2",
   "version": "2.7.11"
  }
 },
 "nbformat": 4,
 "nbformat_minor": 0
}

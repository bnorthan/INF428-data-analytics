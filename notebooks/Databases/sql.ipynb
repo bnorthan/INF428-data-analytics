{
 "cells": [
  {
   "cell_type": "markdown",
   "metadata": {},
   "source": [
    "## sqlite\n",
    "\n",
    "SQLite is a lightweight relational database.  The Anaconda installation of python comes with a module called sqlite3 that allows one to interact with sqlite.  This is only a API that allows you to communicate with the database.  To create databases you need to install [sqlite](https://www.sqlite.org/docs.html)\n"
   ]
  },
  {
   "cell_type": "markdown",
   "metadata": {},
   "source": [
    "Import sqlite3 and connect to the database"
   ]
  },
  {
   "cell_type": "code",
   "execution_count": 55,
   "metadata": {
    "collapsed": true
   },
   "outputs": [],
   "source": [
    "import sqlite3 \n",
    "conn=sqlite3.connect(\"../../data/databases/mytest.db\")"
   ]
  },
  {
   "cell_type": "markdown",
   "metadata": {},
   "source": [
    "Create table example"
   ]
  },
  {
   "cell_type": "code",
   "execution_count": 56,
   "metadata": {
    "collapsed": false
   },
   "outputs": [
    {
     "ename": "OperationalError",
     "evalue": "table students already exists",
     "output_type": "error",
     "traceback": [
      "\u001b[1;31m---------------------------------------------------------------------------\u001b[0m",
      "\u001b[1;31mOperationalError\u001b[0m                          Traceback (most recent call last)",
      "\u001b[1;32m<ipython-input-56-aac724ebcd6d>\u001b[0m in \u001b[0;36m<module>\u001b[1;34m()\u001b[0m\n\u001b[0;32m      1\u001b[0m \u001b[0mcursor\u001b[0m\u001b[1;33m=\u001b[0m\u001b[0mconn\u001b[0m\u001b[1;33m.\u001b[0m\u001b[0mcursor\u001b[0m\u001b[1;33m(\u001b[0m\u001b[1;33m)\u001b[0m\u001b[1;33m\u001b[0m\u001b[0m\n\u001b[0;32m      2\u001b[0m \u001b[0msql\u001b[0m\u001b[1;33m=\u001b[0m\u001b[1;34m'''create table students(name text, username text, id int)'''\u001b[0m\u001b[1;33m\u001b[0m\u001b[0m\n\u001b[1;32m----> 3\u001b[1;33m \u001b[0mcursor\u001b[0m\u001b[1;33m.\u001b[0m\u001b[0mexecute\u001b[0m\u001b[1;33m(\u001b[0m\u001b[0msql\u001b[0m\u001b[1;33m)\u001b[0m\u001b[1;33m\u001b[0m\u001b[0m\n\u001b[0m\u001b[0;32m      4\u001b[0m \u001b[0mcursor\u001b[0m\u001b[1;33m.\u001b[0m\u001b[0mclose\u001b[0m\u001b[1;33m(\u001b[0m\u001b[1;33m)\u001b[0m\u001b[1;33m\u001b[0m\u001b[0m\n\u001b[0;32m      5\u001b[0m \u001b[1;31m#conn.close()\u001b[0m\u001b[1;33m\u001b[0m\u001b[1;33m\u001b[0m\u001b[0m\n",
      "\u001b[1;31mOperationalError\u001b[0m: table students already exists"
     ]
    }
   ],
   "source": [
    "cursor=conn.cursor()\n",
    "sql='''create table students(name text, username text, id int)'''\n",
    "cursor.execute(sql)\n",
    "cursor.close()\n",
    "#conn.close()"
   ]
  },
  {
   "cell_type": "markdown",
   "metadata": {},
   "source": [
    "Print out all the students in the table"
   ]
  },
  {
   "cell_type": "code",
   "execution_count": 60,
   "metadata": {
    "collapsed": false
   },
   "outputs": [
    {
     "name": "stdout",
     "output_type": "stream",
     "text": [
      "(u'Matty Mcdouble', u'mdoug', 334)\n",
      "(u'Spiffy Chambers', u'spifter', 260)\n",
      "(u'Purity Thompson', u'ptom', 288)\n",
      "(u'Biffy two shoes', u'2shoes', 123)\n",
      "(u'Marty McFly', u'bfut', 455)\n",
      "(u'D. Trump', u'dtrump', 100)\n",
      "(u'Freddie Peace', u'peacout', 775)\n"
     ]
    }
   ],
   "source": [
    "def printall():\n",
    "    cursor=conn.cursor()\n",
    "    sql='''select * from students'''\n",
    "    results=cursor.execute(sql)\n",
    "    all_students=results.fetchall()\n",
    "    for student in all_students:\n",
    "        print student\n",
    "    \n",
    "    cursor.close()\n",
    "    \n",
    "printall()"
   ]
  },
  {
   "cell_type": "markdown",
   "metadata": {},
   "source": [
    "Insert example"
   ]
  },
  {
   "cell_type": "code",
   "execution_count": 58,
   "metadata": {
    "collapsed": false
   },
   "outputs": [],
   "source": [
    "cursor=conn.cursor()\n",
    "sql='''insert into students (name, username, id) values ('Freddie Peace', 'peacout', 775)'''\n",
    "cursor.execute(sql)\n",
    "cursor.close()\n",
    "conn.commit()"
   ]
  },
  {
   "cell_type": "code",
   "execution_count": 61,
   "metadata": {
    "collapsed": false
   },
   "outputs": [
    {
     "name": "stdout",
     "output_type": "stream",
     "text": [
      "(u'Matty Mcdouble', u'mdoug', 334)\n",
      "(u'Spiffy Chambers', u'spifter', 260)\n",
      "(u'Purity Thompson', u'ptom', 288)\n",
      "(u'Biffy two shoes', u'2shoes', 123)\n",
      "(u'Marty McFly', u'bfut', 455)\n",
      "(u'D. Trump', u'dtrump', 100)\n",
      "(u'Freddie Peace', u'peacout', 775)\n"
     ]
    }
   ],
   "source": [
    "printall()"
   ]
  },
  {
   "cell_type": "markdown",
   "metadata": {},
   "source": [
    "Update example"
   ]
  },
  {
   "cell_type": "code",
   "execution_count": 64,
   "metadata": {
    "collapsed": false
   },
   "outputs": [],
   "source": [
    "cursor=conn.cursor()\n",
    "sql='''UPDATE students SET username='peaceeout' WHERE name='Freddie Peace' '''\n",
    "cursor.execute(sql)\n",
    "cursor.close()"
   ]
  },
  {
   "cell_type": "code",
   "execution_count": 65,
   "metadata": {
    "collapsed": false
   },
   "outputs": [
    {
     "name": "stdout",
     "output_type": "stream",
     "text": [
      "(u'Matty Mcdouble', u'mdoug', 334)\n",
      "(u'Spiffy Chambers', u'spifter', 260)\n",
      "(u'Purity Thompson', u'ptom', 288)\n",
      "(u'Biffy two shoes', u'2shoes', 123)\n",
      "(u'Marty McFly', u'bfut', 455)\n",
      "(u'D. Trump', u'dtrump', 100)\n",
      "(u'Freddie Peace', u'peaceeout', 775)\n"
     ]
    }
   ],
   "source": [
    "printall()"
   ]
  },
  {
   "cell_type": "markdown",
   "metadata": {},
   "source": [
    "Delete example"
   ]
  },
  {
   "cell_type": "code",
   "execution_count": 66,
   "metadata": {
    "collapsed": true
   },
   "outputs": [],
   "source": [
    "cursor=conn.cursor()\n",
    "sql='''DELETE FROM students WHERE name='Freddie Peace' '''\n",
    "cursor.execute(sql)\n",
    "cursor.close()"
   ]
  },
  {
   "cell_type": "code",
   "execution_count": 67,
   "metadata": {
    "collapsed": false
   },
   "outputs": [
    {
     "name": "stdout",
     "output_type": "stream",
     "text": [
      "(u'Matty Mcdouble', u'mdoug', 334)\n",
      "(u'Spiffy Chambers', u'spifter', 260)\n",
      "(u'Purity Thompson', u'ptom', 288)\n",
      "(u'Biffy two shoes', u'2shoes', 123)\n",
      "(u'Marty McFly', u'bfut', 455)\n",
      "(u'D. Trump', u'dtrump', 100)\n"
     ]
    }
   ],
   "source": [
    "printall()"
   ]
  },
  {
   "cell_type": "markdown",
   "metadata": {},
   "source": [
    "Delete a table"
   ]
  },
  {
   "cell_type": "code",
   "execution_count": 68,
   "metadata": {
    "collapsed": true
   },
   "outputs": [],
   "source": [
    "cursor=conn.cursor()\n",
    "sql='''Drop table basketball'''\n",
    "cursor.execute(sql)\n",
    "cursor.close()"
   ]
  },
  {
   "cell_type": "code",
   "execution_count": 51,
   "metadata": {
    "collapsed": true
   },
   "outputs": [],
   "source": [
    "conn.close()"
   ]
  },
  {
   "cell_type": "markdown",
   "metadata": {},
   "source": [
    "sunspots example (from 'Python Data Analysis Ivan Idris', chapter 8)"
   ]
  },
  {
   "cell_type": "code",
   "execution_count": null,
   "metadata": {
    "collapsed": false
   },
   "outputs": [],
   "source": [
    "import pandas as pd\n",
    "\n",
    "conn=sqlite3.connect(\"sunspots.db\")\n",
    "cursor=conn.cursor()\n",
    "sql='''select * from sunspots'''\n",
    "results=cursor.execute(sql)\n",
    "spots=results.fetchall()\n",
    "\n",
    "for spot in spots:\n",
    "    print spot"
   ]
  },
  {
   "cell_type": "markdown",
   "metadata": {},
   "source": [
    "pymsql example (reading data from the web)"
   ]
  },
  {
   "cell_type": "code",
   "execution_count": null,
   "metadata": {
    "collapsed": false
   },
   "outputs": [],
   "source": [
    "import pymysql\n",
    "import pandas as pd\n",
    "\n",
    "db=pymysql.connect(host=\"mlb2015.db.11972874.hostedresource.com\", user=\"mlb2015\", passwd=\"Inf2015!\",db=\"mlb2015\")"
   ]
  }
 ],
 "metadata": {
  "kernelspec": {
   "display_name": "Python 2",
   "language": "python",
   "name": "python2"
  },
  "language_info": {
   "codemirror_mode": {
    "name": "ipython",
    "version": 2
   },
   "file_extension": ".py",
   "mimetype": "text/x-python",
   "name": "python",
   "nbconvert_exporter": "python",
   "pygments_lexer": "ipython2",
   "version": "2.7.11"
  }
 },
 "nbformat": 4,
 "nbformat_minor": 0
}

{
 "cells": [
  {
   "cell_type": "code",
   "execution_count": 7,
   "metadata": {
    "collapsed": false
   },
   "outputs": [],
   "source": [
    "import MySQLdb"
   ]
  },
  {
   "cell_type": "code",
   "execution_count": 8,
   "metadata": {
    "collapsed": false
   },
   "outputs": [],
   "source": [
    "db=MySQLdb.connect(host=\"mlb2015.db.11972874.hostedresource.com\", user=\"mlb2015\", passwd=\"Inf2015!\",db=\"mlb2015\")"
   ]
  },
  {
   "cell_type": "code",
   "execution_count": 9,
   "metadata": {
    "collapsed": false
   },
   "outputs": [
    {
     "name": "stdout",
     "output_type": "stream",
     "text": [
      "(206, 29)\n"
     ]
    },
    {
     "data": {
      "text/plain": [
       "Index([u'Col0', u'#Bat', u'BatAge', u'R/G', u'G', u'PA', u'AB', u'R', u'H',\n",
       "       u'2B', u'3B', u'HR', u'RBI', u'SB', u'CS', u'BB', u'SO', u'BA', u'OBP',\n",
       "       u'SLG', u'OPS', u'OPS+', u'TB', u'GDP', u'HBP', u'SH', u'SF', u'IBB',\n",
       "       u'LOB'],\n",
       "      dtype='object')"
      ]
     },
     "execution_count": 9,
     "metadata": {},
     "output_type": "execute_result"
    }
   ],
   "source": [
    "import pandas as pd\n",
    "df=pd.read_sql(\"select * from mlb_offense\",db)\n",
    "#help(pd.read_sql)\n",
    "print df.shape\n",
    "df.head()\n",
    "df.columns\n"
   ]
  },
  {
   "cell_type": "code",
   "execution_count": 11,
   "metadata": {
    "collapsed": false
   },
   "outputs": [
    {
     "data": {
      "text/html": [
       "<div>\n",
       "<table border=\"1\" class=\"dataframe\">\n",
       "  <thead>\n",
       "    <tr style=\"text-align: right;\">\n",
       "      <th></th>\n",
       "      <th>Col0</th>\n",
       "      <th>#Bat</th>\n",
       "      <th>BatAge</th>\n",
       "      <th>R/G</th>\n",
       "      <th>G</th>\n",
       "      <th>PA</th>\n",
       "      <th>AB</th>\n",
       "      <th>R</th>\n",
       "      <th>H</th>\n",
       "      <th>2B</th>\n",
       "      <th>...</th>\n",
       "      <th>OPS</th>\n",
       "      <th>OPS+</th>\n",
       "      <th>TB</th>\n",
       "      <th>GDP</th>\n",
       "      <th>HBP</th>\n",
       "      <th>SH</th>\n",
       "      <th>SF</th>\n",
       "      <th>IBB</th>\n",
       "      <th>LOB</th>\n",
       "      <th>year</th>\n",
       "    </tr>\n",
       "  </thead>\n",
       "  <tbody>\n",
       "    <tr>\n",
       "      <th>0</th>\n",
       "      <td>ARI_2011</td>\n",
       "      <td>1.133333</td>\n",
       "      <td>0.982639</td>\n",
       "      <td>1.092010</td>\n",
       "      <td>1.0</td>\n",
       "      <td>0.987526</td>\n",
       "      <td>0.984384</td>\n",
       "      <td>1.094311</td>\n",
       "      <td>0.975557</td>\n",
       "      <td>1.065455</td>\n",
       "      <td>...</td>\n",
       "      <td>1.036620</td>\n",
       "      <td>1.042105</td>\n",
       "      <td>1.039443</td>\n",
       "      <td>0.725664</td>\n",
       "      <td>1.196078</td>\n",
       "      <td>0.704225</td>\n",
       "      <td>0.825</td>\n",
       "      <td>1.170213</td>\n",
       "      <td>0.930070</td>\n",
       "      <td>2011</td>\n",
       "    </tr>\n",
       "    <tr>\n",
       "      <th>1</th>\n",
       "      <td>ATL_2011</td>\n",
       "      <td>1.000000</td>\n",
       "      <td>1.003472</td>\n",
       "      <td>0.958838</td>\n",
       "      <td>1.0</td>\n",
       "      <td>0.999352</td>\n",
       "      <td>1.003813</td>\n",
       "      <td>0.959581</td>\n",
       "      <td>0.966930</td>\n",
       "      <td>0.887273</td>\n",
       "      <td>...</td>\n",
       "      <td>0.978873</td>\n",
       "      <td>0.947368</td>\n",
       "      <td>0.993039</td>\n",
       "      <td>1.000000</td>\n",
       "      <td>0.549020</td>\n",
       "      <td>1.056338</td>\n",
       "      <td>0.750</td>\n",
       "      <td>0.957447</td>\n",
       "      <td>0.969406</td>\n",
       "      <td>2011</td>\n",
       "    </tr>\n",
       "    <tr>\n",
       "      <th>2</th>\n",
       "      <td>CHC_2011</td>\n",
       "      <td>0.933333</td>\n",
       "      <td>1.013889</td>\n",
       "      <td>0.978208</td>\n",
       "      <td>1.0</td>\n",
       "      <td>0.993034</td>\n",
       "      <td>1.007627</td>\n",
       "      <td>0.979042</td>\n",
       "      <td>1.023005</td>\n",
       "      <td>1.036364</td>\n",
       "      <td>...</td>\n",
       "      <td>1.007042</td>\n",
       "      <td>1.000000</td>\n",
       "      <td>1.032019</td>\n",
       "      <td>1.088496</td>\n",
       "      <td>1.156863</td>\n",
       "      <td>0.845070</td>\n",
       "      <td>0.875</td>\n",
       "      <td>0.744681</td>\n",
       "      <td>0.997378</td>\n",
       "      <td>2011</td>\n",
       "    </tr>\n",
       "    <tr>\n",
       "      <th>3</th>\n",
       "      <td>CIN_2011</td>\n",
       "      <td>0.933333</td>\n",
       "      <td>0.993056</td>\n",
       "      <td>1.099274</td>\n",
       "      <td>1.0</td>\n",
       "      <td>1.025271</td>\n",
       "      <td>1.019067</td>\n",
       "      <td>1.100299</td>\n",
       "      <td>1.033789</td>\n",
       "      <td>0.960000</td>\n",
       "      <td>...</td>\n",
       "      <td>1.033803</td>\n",
       "      <td>1.031579</td>\n",
       "      <td>1.062181</td>\n",
       "      <td>0.867257</td>\n",
       "      <td>1.235294</td>\n",
       "      <td>1.098592</td>\n",
       "      <td>1.000</td>\n",
       "      <td>1.106383</td>\n",
       "      <td>1.039336</td>\n",
       "      <td>2011</td>\n",
       "    </tr>\n",
       "    <tr>\n",
       "      <th>4</th>\n",
       "      <td>COL_2011</td>\n",
       "      <td>1.222222</td>\n",
       "      <td>0.993056</td>\n",
       "      <td>1.099274</td>\n",
       "      <td>1.0</td>\n",
       "      <td>1.016524</td>\n",
       "      <td>1.006719</td>\n",
       "      <td>1.100299</td>\n",
       "      <td>1.027318</td>\n",
       "      <td>0.996364</td>\n",
       "      <td>...</td>\n",
       "      <td>1.040845</td>\n",
       "      <td>0.926316</td>\n",
       "      <td>1.054292</td>\n",
       "      <td>0.991150</td>\n",
       "      <td>1.117647</td>\n",
       "      <td>1.056338</td>\n",
       "      <td>1.100</td>\n",
       "      <td>1.148936</td>\n",
       "      <td>1.024476</td>\n",
       "      <td>2011</td>\n",
       "    </tr>\n",
       "  </tbody>\n",
       "</table>\n",
       "<p>5 rows × 30 columns</p>\n",
       "</div>"
      ],
      "text/plain": [
       "       Col0      #Bat    BatAge       R/G    G        PA        AB         R  \\\n",
       "0  ARI_2011  1.133333  0.982639  1.092010  1.0  0.987526  0.984384  1.094311   \n",
       "1  ATL_2011  1.000000  1.003472  0.958838  1.0  0.999352  1.003813  0.959581   \n",
       "2  CHC_2011  0.933333  1.013889  0.978208  1.0  0.993034  1.007627  0.979042   \n",
       "3  CIN_2011  0.933333  0.993056  1.099274  1.0  1.025271  1.019067  1.100299   \n",
       "4  COL_2011  1.222222  0.993056  1.099274  1.0  1.016524  1.006719  1.100299   \n",
       "\n",
       "          H        2B  ...        OPS      OPS+        TB       GDP       HBP  \\\n",
       "0  0.975557  1.065455  ...   1.036620  1.042105  1.039443  0.725664  1.196078   \n",
       "1  0.966930  0.887273  ...   0.978873  0.947368  0.993039  1.000000  0.549020   \n",
       "2  1.023005  1.036364  ...   1.007042  1.000000  1.032019  1.088496  1.156863   \n",
       "3  1.033789  0.960000  ...   1.033803  1.031579  1.062181  0.867257  1.235294   \n",
       "4  1.027318  0.996364  ...   1.040845  0.926316  1.054292  0.991150  1.117647   \n",
       "\n",
       "         SH     SF       IBB       LOB  year  \n",
       "0  0.704225  0.825  1.170213  0.930070  2011  \n",
       "1  1.056338  0.750  0.957447  0.969406  2011  \n",
       "2  0.845070  0.875  0.744681  0.997378  2011  \n",
       "3  1.098592  1.000  1.106383  1.039336  2011  \n",
       "4  1.056338  1.100  1.148936  1.024476  2011  \n",
       "\n",
       "[5 rows x 30 columns]"
      ]
     },
     "execution_count": 11,
     "metadata": {},
     "output_type": "execute_result"
    }
   ],
   "source": [
    "df['year']=df.Col0.map(lambda x: x.split('_')[1])\n",
    "df.head()"
   ]
  },
  {
   "cell_type": "code",
   "execution_count": 19,
   "metadata": {
    "collapsed": false
   },
   "outputs": [
    {
     "data": {
      "text/plain": [
       "<matplotlib.axes._subplots.AxesSubplot at 0x7fe71422b110>"
      ]
     },
     "execution_count": 19,
     "metadata": {},
     "output_type": "execute_result"
    },
    {
     "data": {
      "image/png": "[encoded data removed]",
      "text/plain": [
       "<matplotlib.figure.Figure at 0x7fe7141f6410>"
      ]
     },
     "metadata": {},
     "output_type": "display_data"
    }
   ],
   "source": [
    "%matplotlib inline\n",
    "df.groupby('year').max()['HR'].plot.bar(figsize=(10,8))"
   ]
  },
  {
   "cell_type": "code",
   "execution_count": 18,
   "metadata": {
    "collapsed": false
   },
   "outputs": [
    {
     "data": {
      "text/plain": [
       "year\n",
       "2008    0.999606\n",
       "2009    1.000366\n",
       "2010    0.999901\n",
       "2011    0.999788\n",
       "2012    0.999771\n",
       "2013    0.999506\n",
       "Name: R, dtype: float64"
      ]
     },
     "execution_count": 18,
     "metadata": {},
     "output_type": "execute_result"
    }
   ],
   "source": [
    "df.groupby('year').mean()['R']"
   ]
  },
  {
   "cell_type": "code",
   "execution_count": null,
   "metadata": {
    "collapsed": true
   },
   "outputs": [],
   "source": []
  }
 ],
 "metadata": {
  "kernelspec": {
   "display_name": "Python 2",
   "language": "python",
   "name": "python2"
  },
  "language_info": {
   "codemirror_mode": {
    "name": "ipython",
    "version": 2
   },
   "file_extension": ".py",
   "mimetype": "text/x-python",
   "name": "python",
   "nbconvert_exporter": "python",
   "pygments_lexer": "ipython2",
   "version": "2.7.11"
  }
 },
 "nbformat": 4,
 "nbformat_minor": 0
}

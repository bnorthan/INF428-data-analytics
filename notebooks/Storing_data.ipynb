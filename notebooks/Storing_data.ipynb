{
 "cells": [
  {
   "cell_type": "code",
   "execution_count": 8,
   "metadata": {
    "collapsed": false
   },
   "outputs": [
    {
     "data": {
      "text/plain": [
       "array([[ 0.49671415, -0.1382643 ,  0.64768854,  1.52302986, -0.23415337],\n",
       "       [-0.23413696,  1.57921282,  0.76743473, -0.46947439,  0.54256004]])"
      ]
     },
     "metadata": {},
     "output_type": "display_data"
    }
   ],
   "source": [
    "import numpy as np\n",
    "import pandas as pd\n",
    "from IPython.display import display\n",
    "\n",
    "np.random.seed(42)\n",
    "\n",
    "test=np.random.randn(2,5)\n",
    "display(test)\n",
    "\n",
    "np.savetxt('np.csv', test, delimiter=',', header='one,two,three,four,five')"
   ]
  },
  {
   "cell_type": "code",
   "execution_count": 9,
   "metadata": {
    "collapsed": false
   },
   "outputs": [
    {
     "name": "stdout",
     "output_type": "stream",
     "text": [
      "(2, 5)\n",
      "\n",
      "          0         1         2         3         4\n",
      "0  0.496714 -0.138264  0.647689  1.523030 -0.234153\n",
      "1 -0.234137  1.579213  0.767435 -0.469474  0.542560\n",
      "\n",
      "Int64Index([0, 1, 2, 3, 4], dtype='int64')\n",
      "\n",
      "Int64Index([0, 1], dtype='int64')\n"
     ]
    }
   ],
   "source": [
    "df=pd.DataFrame(test)\n",
    "\n",
    "print df.shape\n",
    "print \n",
    "print df.head()\n",
    "print\n",
    "print df.columns\n",
    "print\n",
    "print df.index"
   ]
  },
  {
   "cell_type": "code",
   "execution_count": 10,
   "metadata": {
    "collapsed": true
   },
   "outputs": [],
   "source": [
    "df.to_csv('np2.csv')"
   ]
  },
  {
   "cell_type": "code",
   "execution_count": 12,
   "metadata": {
    "collapsed": true
   },
   "outputs": [],
   "source": [
    "test2=np.random.randn(2,5)\n",
    "df2=pd.DataFrame(test2)"
   ]
  },
  {
   "cell_type": "code",
   "execution_count": 14,
   "metadata": {
    "collapsed": true
   },
   "outputs": [],
   "source": [
    "writer = pd.ExcelWriter('np.xlsx')\n",
    "df.to_excel(writer, 'Data 0')\n",
    "df2.to_excel(writer, 'Data 1')\n",
    "writer.save()"
   ]
  },
  {
   "cell_type": "code",
   "execution_count": 16,
   "metadata": {
    "collapsed": false
   },
   "outputs": [
    {
     "data": {
      "text/plain": [
       "[u'Male',\n",
       " u'Female',\n",
       " u'Agegrade',\n",
       " u'Totals Worksheet',\n",
       " u'Stockadeathon',\n",
       " u'Marathon',\n",
       " u'Vville',\n",
       " u'SEFCU',\n",
       " u'Anniversary',\n",
       " u'Colonie Mile',\n",
       " u'Dist Serv Worksheet',\n",
       " u'Green Worksheet',\n",
       " u'Masters Worksheet']"
      ]
     },
     "execution_count": 16,
     "metadata": {},
     "output_type": "execute_result"
    }
   ],
   "source": [
    "xl=pd.ExcelFile('../data/running/Grand_Prix_Post_Stockadeathontemp.xls')\n",
    "xl.sheet_names"
   ]
  },
  {
   "cell_type": "code",
   "execution_count": 17,
   "metadata": {
    "collapsed": false
   },
   "outputs": [
    {
     "name": "stdout",
     "output_type": "stream",
     "text": [
      "<class 'pandas.io.excel.ExcelFile'>\n",
      "<class 'pandas.core.frame.DataFrame'>\n"
     ]
    },
    {
     "data": {
      "text/html": [
       "<div>\n",
       "<table border=\"1\" class=\"dataframe\">\n",
       "  <thead>\n",
       "    <tr style=\"text-align: right;\">\n",
       "      <th></th>\n",
       "      <th>Race #1 Hangover Half Marathon, January 1, 2015</th>\n",
       "      <th>Unnamed: 1</th>\n",
       "      <th>Unnamed: 2</th>\n",
       "      <th>Unnamed: 3</th>\n",
       "      <th>Unnamed: 4</th>\n",
       "      <th>Unnamed: 5</th>\n",
       "      <th>Unnamed: 6</th>\n",
       "      <th>Unnamed: 7</th>\n",
       "      <th>Unnamed: 8</th>\n",
       "      <th>Unnamed: 9</th>\n",
       "      <th>Unnamed: 10</th>\n",
       "      <th>Unnamed: 11</th>\n",
       "      <th>Unnamed: 12</th>\n",
       "    </tr>\n",
       "  </thead>\n",
       "  <tbody>\n",
       "    <tr>\n",
       "      <th>0</th>\n",
       "      <td>NaN</td>\n",
       "      <td>NaN</td>\n",
       "      <td>Male Open</td>\n",
       "      <td>NaN</td>\n",
       "      <td>Male 30-39</td>\n",
       "      <td>NaN</td>\n",
       "      <td>Male 40-49</td>\n",
       "      <td>NaN</td>\n",
       "      <td>Male 50-59</td>\n",
       "      <td>NaN</td>\n",
       "      <td>Male 60-69</td>\n",
       "      <td>NaN</td>\n",
       "      <td>Male 70-79</td>\n",
       "    </tr>\n",
       "    <tr>\n",
       "      <th>1</th>\n",
       "      <td>1</td>\n",
       "      <td>12</td>\n",
       "      <td>Thomas O'Grady</td>\n",
       "      <td>12</td>\n",
       "      <td>Chuck Terry</td>\n",
       "      <td>12</td>\n",
       "      <td>Volker Burkowski</td>\n",
       "      <td>12</td>\n",
       "      <td>Derrick Staley</td>\n",
       "      <td>12</td>\n",
       "      <td>Lee Pollock</td>\n",
       "      <td>12</td>\n",
       "      <td>Tom Adams</td>\n",
       "    </tr>\n",
       "    <tr>\n",
       "      <th>2</th>\n",
       "      <td>2</td>\n",
       "      <td>10</td>\n",
       "      <td>Eric Young</td>\n",
       "      <td>10</td>\n",
       "      <td>Josh Merlis</td>\n",
       "      <td>10</td>\n",
       "      <td>Robert Irwin</td>\n",
       "      <td>10</td>\n",
       "      <td>Mark Stephenson</td>\n",
       "      <td>10</td>\n",
       "      <td>Ken Klapp</td>\n",
       "      <td>10</td>\n",
       "      <td>Wade Stockman</td>\n",
       "    </tr>\n",
       "    <tr>\n",
       "      <th>3</th>\n",
       "      <td>3</td>\n",
       "      <td>8</td>\n",
       "      <td>Thomas Dansereau</td>\n",
       "      <td>8</td>\n",
       "      <td>Dave Vona</td>\n",
       "      <td>8</td>\n",
       "      <td>John Stadtlander</td>\n",
       "      <td>8</td>\n",
       "      <td>Kevin Dollard</td>\n",
       "      <td>8</td>\n",
       "      <td>Kevin Donohue</td>\n",
       "      <td>8</td>\n",
       "      <td>Jim Moore</td>\n",
       "    </tr>\n",
       "    <tr>\n",
       "      <th>4</th>\n",
       "      <td>4</td>\n",
       "      <td>7</td>\n",
       "      <td>Cj Birdsall</td>\n",
       "      <td>7</td>\n",
       "      <td>Aaron Knobloch</td>\n",
       "      <td>7</td>\n",
       "      <td>Randall Cannell</td>\n",
       "      <td>7</td>\n",
       "      <td>Jay Thorn</td>\n",
       "      <td>7</td>\n",
       "      <td>Michael Thuman</td>\n",
       "      <td>7</td>\n",
       "      <td>Ray Lee</td>\n",
       "    </tr>\n",
       "  </tbody>\n",
       "</table>\n",
       "</div>"
      ],
      "text/plain": [
       "  Race #1 Hangover Half Marathon, January 1, 2015  Unnamed: 1  \\\n",
       "0                                             NaN         NaN   \n",
       "1                                               1          12   \n",
       "2                                               2          10   \n",
       "3                                               3           8   \n",
       "4                                               4           7   \n",
       "\n",
       "         Unnamed: 2  Unnamed: 3      Unnamed: 4  Unnamed: 5        Unnamed: 6  \\\n",
       "0         Male Open         NaN      Male 30-39         NaN        Male 40-49   \n",
       "1    Thomas O'Grady          12     Chuck Terry          12  Volker Burkowski   \n",
       "2        Eric Young          10     Josh Merlis          10      Robert Irwin   \n",
       "3  Thomas Dansereau           8       Dave Vona           8  John Stadtlander   \n",
       "4       Cj Birdsall           7  Aaron Knobloch           7   Randall Cannell   \n",
       "\n",
       "   Unnamed: 7       Unnamed: 8  Unnamed: 9     Unnamed: 10  Unnamed: 11  \\\n",
       "0         NaN       Male 50-59         NaN      Male 60-69          NaN   \n",
       "1          12   Derrick Staley          12     Lee Pollock           12   \n",
       "2          10  Mark Stephenson          10       Ken Klapp           10   \n",
       "3           8    Kevin Dollard           8   Kevin Donohue            8   \n",
       "4           7        Jay Thorn           7  Michael Thuman            7   \n",
       "\n",
       "     Unnamed: 12  \n",
       "0     Male 70-79  \n",
       "1      Tom Adams  \n",
       "2  Wade Stockman  \n",
       "3      Jim Moore  \n",
       "4        Ray Lee  "
      ]
     },
     "execution_count": 17,
     "metadata": {},
     "output_type": "execute_result"
    }
   ],
   "source": [
    "print type(xl)\n",
    "df_run=xl.parse('Male')\n",
    "print type(df_run)\n",
    "df_run.head()"
   ]
  }
 ],
 "metadata": {
  "kernelspec": {
   "display_name": "Python 2",
   "language": "python",
   "name": "python2"
  },
  "language_info": {
   "codemirror_mode": {
    "name": "ipython",
    "version": 2
   },
   "file_extension": ".py",
   "mimetype": "text/x-python",
   "name": "python",
   "nbconvert_exporter": "python",
   "pygments_lexer": "ipython2",
   "version": "2.7.10"
  }
 },
 "nbformat": 4,
 "nbformat_minor": 0
}

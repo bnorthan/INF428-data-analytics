{
 "cells": [
  {
   "cell_type": "code",
   "execution_count": 1,
   "metadata": {
    "collapsed": true
   },
   "outputs": [],
   "source": [
    "import pandas as pd"
   ]
  },
  {
   "cell_type": "code",
   "execution_count": 4,
   "metadata": {
    "collapsed": false
   },
   "outputs": [],
   "source": [
    "locations=pd.read_csv('../../data/basketball/teamlocations.csv')\n",
    "zipcodes=pd.read_csv('../../data/misc/zipcode.csv')"
   ]
  },
  {
   "cell_type": "code",
   "execution_count": 5,
   "metadata": {
    "collapsed": false
   },
   "outputs": [
    {
     "name": "stdout",
     "output_type": "stream",
     "text": [
      "                     Team       City State    Zip\n",
      "0           Atlanta Hawks    Atlanta    GA  30303\n",
      "1      Charlotte Bobcats   Charlotte    NC  28202\n",
      "2    Cleveland Cavaliers   Cleveland    OH   4415\n",
      "3         Denver Nuggets      Denver    CO  80204\n",
      "4  Golden State Warriors     Oakland    CA  94607\n",
      "\n",
      "   zip        city state   latitude  longitude  timezone  dst\n",
      "0  210  Portsmouth    NH  43.005895 -71.013202        -5    1\n",
      "1  211  Portsmouth    NH  43.005895 -71.013202        -5    1\n",
      "2  212  Portsmouth    NH  43.005895 -71.013202        -5    1\n",
      "3  213  Portsmouth    NH  43.005895 -71.013202        -5    1\n",
      "4  214  Portsmouth    NH  43.005895 -71.013202        -5    1\n"
     ]
    }
   ],
   "source": [
    "print locations.head()\n",
    "print \n",
    "print zipcodes.head()"
   ]
  },
  {
   "cell_type": "code",
   "execution_count": 12,
   "metadata": {
    "collapsed": false
   },
   "outputs": [
    {
     "name": "stdout",
     "output_type": "stream",
     "text": [
      "                     Team       City State    Zip    zip                 city  \\\n",
      "0           Atlanta Hawks    Atlanta    GA  30303  30303              Atlanta   \n",
      "1      Charlotte Bobcats   Charlotte    NC  28202  28202            Charlotte   \n",
      "2    Cleveland Cavaliers   Cleveland    OH   4415   4415  Brownville Junction   \n",
      "3         Denver Nuggets      Denver    CO  80204  80204               Denver   \n",
      "4  Golden State Warriors     Oakland    CA  94607  94607              Oakland   \n",
      "\n",
      "  state   latitude   longitude  timezone  dst  \n",
      "0    GA  33.752856  -84.390130        -5    1  \n",
      "1    NC  35.227192  -80.844190        -5    1  \n",
      "2    ME  45.351184  -69.058062        -5    1  \n",
      "3    CO  39.734686 -105.019660        -7    1  \n",
      "4    CA  37.806427 -122.288980        -8    1  \n",
      "(28, 11)\n"
     ]
    }
   ],
   "source": [
    "#help(locations.join)\n",
    "#help(pd.merge)\n",
    "\n",
    "joined=pd.merge(locations, zipcodes, left_on='Zip', right_on='zip')\n",
    "\n",
    "print joined.head()\n",
    "print joined.shape"
   ]
  },
  {
   "cell_type": "code",
   "execution_count": 17,
   "metadata": {
    "collapsed": false
   },
   "outputs": [
    {
     "name": "stdout",
     "output_type": "stream",
     "text": [
      "                     Team       City State    Zip                 city state  \\\n",
      "0           Atlanta Hawks    Atlanta    GA  30303              Atlanta    GA   \n",
      "1      Charlotte Bobcats   Charlotte    NC  28202            Charlotte    NC   \n",
      "2    Cleveland Cavaliers   Cleveland    OH   4415  Brownville Junction    ME   \n",
      "3         Denver Nuggets      Denver    CO  80204               Denver    CO   \n",
      "4  Golden State Warriors     Oakland    CA  94607              Oakland    CA   \n",
      "\n",
      "    latitude   longitude  timezone  dst  \n",
      "0  33.752856  -84.390130        -5    1  \n",
      "1  35.227192  -80.844190        -5    1  \n",
      "2  45.351184  -69.058062        -5    1  \n",
      "3  39.734686 -105.019660        -7    1  \n",
      "4  37.806427 -122.288980        -8    1  \n"
     ]
    }
   ],
   "source": [
    "joined=joined.drop('zip',1)\n",
    "print joined.head()"
   ]
  },
  {
   "cell_type": "code",
   "execution_count": null,
   "metadata": {
    "collapsed": true
   },
   "outputs": [],
   "source": []
  }
 ],
 "metadata": {
  "kernelspec": {
   "display_name": "Python 2",
   "language": "python",
   "name": "python2"
  },
  "language_info": {
   "codemirror_mode": {
    "name": "ipython",
    "version": 2
   },
   "file_extension": ".py",
   "mimetype": "text/x-python",
   "name": "python",
   "nbconvert_exporter": "python",
   "pygments_lexer": "ipython2",
   "version": "2.7.11"
  }
 },
 "nbformat": 4,
 "nbformat_minor": 0
}

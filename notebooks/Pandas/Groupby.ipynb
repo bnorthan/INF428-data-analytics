{
 "cells": [
  {
   "cell_type": "code",
   "execution_count": 1,
   "metadata": {
    "collapsed": true
   },
   "outputs": [],
   "source": [
    "import pandas as pd"
   ]
  },
  {
   "cell_type": "code",
   "execution_count": 16,
   "metadata": {
    "collapsed": false
   },
   "outputs": [
    {
     "name": "stdout",
     "output_type": "stream",
     "text": [
      "     Year  lg    R   2B  3B   HR  RBI   SB   BB     BA    OBP    SLG    OPS\n",
      "Tm                                                                         \n",
      "BAL  2015  AL  713  246  20  217  686   44  418  0.250  0.307  0.421  0.728\n",
      "BOS  2015  AL  748  294  33  161  706   71  478  0.265  0.325  0.415  0.740\n",
      "CHW  2015  AL  622  260  27  136  595   68  404  0.250  0.306  0.380  0.686\n",
      "CLE  2015  AL  669  303  29  141  640   86  533  0.256  0.325  0.401  0.725\n",
      "DET  2015  AL  689  289  49  151  660   83  455  0.270  0.328  0.420  0.748\n",
      "HOU  2015  AL  729  278  26  230  691  121  486  0.250  0.315  0.437  0.752\n",
      "KCR  2015  AL  724  300  42  139  689  104  383  0.269  0.322  0.412  0.734\n",
      "LAA  2015  AL  661  243  21  176  621   52  435  0.246  0.307  0.396  0.702\n",
      "MIN  2015  AL  696  277  44  156  661   70  439  0.247  0.305  0.399  0.704\n",
      "NYY  2015  AL  764  272  19  212  737   63  554  0.251  0.323  0.421  0.744\n",
      "OAK  2015  AL  694  277  46  146  661   78  475  0.251  0.312  0.395  0.707\n",
      "SEA  2015  AL  656  262  22  198  624   69  478  0.249  0.311  0.411  0.722\n",
      "TBR  2015  AL  644  278  32  167  612   87  436  0.252  0.314  0.406  0.720\n",
      "TEX  2015  AL  751  279  32  172  707  101  503  0.257  0.325  0.413  0.739\n",
      "TOR  2015  AL  891  308  17  232  852   88  570  0.269  0.340  0.457  0.797\n",
      "ARI  2015  NL  720  289  48  154  680  132  490  0.264  0.324  0.414  0.738\n",
      "ATL  2015  NL  573  251  18  100  548   69  471  0.251  0.314  0.359  0.674\n",
      "CHC  2015  NL  689  272  30  171  657   95  567  0.244  0.321  0.398  0.719\n",
      "CIN  2015  NL  640  257  27  167  613  134  496  0.248  0.312  0.394  0.706\n",
      "COL  2015  NL  737  274  49  186  702   97  388  0.265  0.315  0.432  0.748\n",
      "LAD  2015  NL  667  263  26  187  638   59  563  0.250  0.326  0.413  0.739\n",
      "MIA  2015  NL  613  236  40  120  575  112  375  0.260  0.310  0.384  0.694\n",
      "MIL  2015  NL  655  274  34  145  624   84  412  0.251  0.307  0.393  0.700\n",
      "NYM  2015  NL  683  295  17  177  654   51  488  0.244  0.312  0.400  0.712\n",
      "PHI  2015  NL  626  272  37  130  586   88  387  0.249  0.303  0.382  0.684\n",
      "PIT  2015  NL  697  292  27  140  661   98  461  0.260  0.323  0.396  0.719\n",
      "SDP  2015  NL  650  260  36  148  623   82  426  0.243  0.300  0.385  0.685\n",
      "SFG  2015  NL  696  288  39  136  663   93  457  0.267  0.326  0.406  0.732\n",
      "STL  2015  NL  647  288  39  137  619   69  506  0.253  0.321  0.394  0.716\n",
      "WSN  2015  NL  703  265  13  177  665   57  539  0.251  0.321  0.403  0.724\n",
      "BAL  2014  AL  705  264  16  211  681   44  401  0.256  0.311  0.422  0.734\n",
      "BOS  2014  AL  634  282  20  123  601   63  535  0.244  0.316  0.369  0.684\n",
      "CHW  2014  AL  660  279  32  155  625   85  417  0.253  0.310  0.398  0.708\n",
      "CLE  2014  AL  669  284  23  142  644  104  504  0.253  0.317  0.389  0.706\n",
      "DET  2014  AL  757  325  26  155  731  106  443  0.277  0.331  0.426  0.757\n",
      "HOU  2014  AL  629  240  19  163  596  122  495  0.242  0.309  0.383  0.692\n",
      "KCR  2014  AL  651  286  29   95  604  153  380  0.263  0.314  0.376  0.690\n",
      "LAA  2014  AL  773  304  31  155  729   81  492  0.259  0.322  0.406  0.728\n",
      "MIN  2014  AL  715  316  27  128  675   99  544  0.254  0.324  0.389  0.713\n",
      "NYY  2014  AL  633  247  26  147  591  112  452  0.245  0.307  0.380  0.687\n",
      "OAK  2014  AL  729  253  33  146  686   83  586  0.244  0.320  0.381  0.700\n",
      "SEA  2014  AL  634  247  32  136  600   96  396  0.244  0.300  0.376  0.676\n",
      "TBR  2014  AL  612  263  24  117  586   63  527  0.247  0.317  0.367  0.684\n",
      "TEX  2014  AL  637  260  28  111  597  105  417  0.256  0.314  0.375  0.689\n",
      "TOR  2014  AL  723  282  24  177  690   78  502  0.259  0.323  0.414  0.736\n",
      "ARI  2014  NL  615  259  47  118  573   86  398  0.248  0.302  0.376  0.678\n",
      "ATL  2014  NL  573  240  22  123  545   95  472  0.241  0.305  0.360  0.665\n",
      "CHC  2014  NL  614  270  31  157  590   65  442  0.239  0.300  0.385  0.684\n",
      "CIN  2014  NL  595  254  20  131  562  122  415  0.238  0.296  0.365  0.661\n",
      "COL  2014  NL  755  307  41  186  721   85  397  0.276  0.327  0.445  0.772\n",
      "LAD  2014  NL  718  302  38  134  686  138  519  0.265  0.333  0.406  0.738\n",
      "MIA  2014  NL  645  254  36  122  614   58  501  0.253  0.317  0.378  0.694\n",
      "MIL  2014  NL  650  297  28  150  617  102  423  0.250  0.311  0.397  0.708\n",
      "NYM  2014  NL  629  275  19  125  602  101  516  0.239  0.308  0.364  0.673\n",
      "PHI  2014  NL  619  251  27  125  584  109  443  0.242  0.302  0.363  0.665\n",
      "PIT  2014  NL  682  275  30  156  659  104  520  0.259  0.330  0.404  0.734\n",
      "SDP  2014  NL  535  224  30  109  500   91  468  0.226  0.292  0.342  0.634\n",
      "SFG  2014  NL  665  257  42  132  636   56  427  0.255  0.311  0.388  0.699\n",
      "STL  2014  NL  619  275  21  105  585   57  471  0.253  0.320  0.369  0.689\n",
      "WSN  2014  NL  686  265  27  152  635  101  517  0.253  0.321  0.393  0.714\n"
     ]
    }
   ],
   "source": [
    "mlb=pd.read_csv('../../data/baseball/MLB_2014_2015.csv',  parse_dates=True, index_col=0)\n",
    "\n",
    "print mlb"
   ]
  },
  {
   "cell_type": "markdown",
   "metadata": {},
   "source": [
    "First Extract only the year, BA (batting average), and OBP (on base percentage) columns"
   ]
  },
  {
   "cell_type": "code",
   "execution_count": 18,
   "metadata": {
    "collapsed": false
   },
   "outputs": [
    {
     "name": "stdout",
     "output_type": "stream",
     "text": [
      "     Year     BA    OBP\n",
      "Tm                     \n",
      "BAL  2015  0.250  0.307\n",
      "BOS  2015  0.265  0.325\n",
      "CHW  2015  0.250  0.306\n",
      "CLE  2015  0.256  0.325\n",
      "DET  2015  0.270  0.328\n"
     ]
    }
   ],
   "source": [
    "mlb=mlb[['Year', 'BA', 'OBP']]\n",
    "print mlb.head()"
   ]
  },
  {
   "cell_type": "markdown",
   "metadata": {},
   "source": [
    "The groupby function is one of the most important functions in data analysis.  It groups rows of a table by common values of a collumn.  Here we group by 'Year'."
   ]
  },
  {
   "cell_type": "code",
   "execution_count": 19,
   "metadata": {
    "collapsed": false
   },
   "outputs": [],
   "source": [
    "year_group=mlb.groupby('Year')"
   ]
  },
  {
   "cell_type": "code",
   "execution_count": 20,
   "metadata": {
    "collapsed": false
   },
   "outputs": [
    {
     "name": "stdout",
     "output_type": "stream",
     "text": [
      "<class 'pandas.core.groupby.DataFrameGroupBy'>\n",
      "2\n"
     ]
    }
   ],
   "source": [
    "print type(year_group)\n",
    "print len(year_group)"
   ]
  },
  {
   "cell_type": "markdown",
   "metadata": {},
   "source": [
    "Groupby returns a 'DataFrameGroupBy' object.  Before plotting we typically 'aggregate' the groups by a method such as 'count' or 'mean'. "
   ]
  },
  {
   "cell_type": "code",
   "execution_count": 21,
   "metadata": {
    "collapsed": false
   },
   "outputs": [
    {
     "name": "stdout",
     "output_type": "stream",
     "text": [
      "<class 'pandas.core.frame.DataFrame'>\n",
      "\n",
      "          BA       OBP\n",
      "Year                  \n",
      "2014  0.2511  0.313667\n",
      "2015  0.2544  0.316667\n"
     ]
    }
   ],
   "source": [
    "by_year=year_group.mean()\n",
    "print type(by_year)\n",
    "print\n",
    "print by_year.head()"
   ]
  },
  {
   "cell_type": "markdown",
   "metadata": {},
   "source": [
    "Now we have a dataframe for which we can call the ussual plotting functions"
   ]
  },
  {
   "cell_type": "code",
   "execution_count": 22,
   "metadata": {
    "collapsed": false
   },
   "outputs": [
    {
     "data": {
      "text/plain": [
       "<matplotlib.axes._subplots.AxesSubplot at 0xc9970b8>"
      ]
     },
     "execution_count": 22,
     "metadata": {},
     "output_type": "execute_result"
    },
    {
     "data": {
      "image/png": "[encoded data removed]",
      "text/plain": [
       "<matplotlib.figure.Figure at 0x104b82b0>"
      ]
     },
     "metadata": {},
     "output_type": "display_data"
    }
   ],
   "source": [
    "%matplotlib inline\n",
    "\n",
    "by_year.plot.bar()"
   ]
  },
  {
   "cell_type": "code",
   "execution_count": 15,
   "metadata": {
    "collapsed": false
   },
   "outputs": [
    {
     "data": {
      "text/plain": [
       "<matplotlib.axes._subplots.AxesSubplot at 0xeac47f0>"
      ]
     },
     "execution_count": 15,
     "metadata": {},
     "output_type": "execute_result"
    },
    {
     "data": {
      "image/png": "[encoded data removed]",
      "text/plain": [
       "<matplotlib.figure.Figure at 0xc997208>"
      ]
     },
     "metadata": {},
     "output_type": "display_data"
    }
   ],
   "source": [
    "by_year.plot.bar(stacked=True)"
   ]
  },
  {
   "cell_type": "code",
   "execution_count": null,
   "metadata": {
    "collapsed": true
   },
   "outputs": [],
   "source": []
  }
 ],
 "metadata": {
  "kernelspec": {
   "display_name": "Python 2",
   "language": "python",
   "name": "python2"
  },
  "language_info": {
   "codemirror_mode": {
    "name": "ipython",
    "version": 2
   },
   "file_extension": ".py",
   "mimetype": "text/x-python",
   "name": "python",
   "nbconvert_exporter": "python",
   "pygments_lexer": "ipython2",
   "version": "2.7.11"
  }
 },
 "nbformat": 4,
 "nbformat_minor": 0
}

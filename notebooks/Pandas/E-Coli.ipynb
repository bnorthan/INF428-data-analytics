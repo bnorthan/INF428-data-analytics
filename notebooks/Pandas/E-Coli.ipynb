{
 "cells": [
  {
   "cell_type": "code",
   "execution_count": 4,
   "metadata": {
    "collapsed": false
   },
   "outputs": [
    {
     "name": "stdout",
     "output_type": "stream",
     "text": [
      "<class 'pandas.core.frame.DataFrame'>\n",
      "(64, 4)\n"
     ]
    },
    {
     "data": {
      "text/html": [
       "<div>\n",
       "<table border=\"1\" class=\"dataframe\">\n",
       "  <thead>\n",
       "    <tr style=\"text-align: right;\">\n",
       "      <th></th>\n",
       "      <th>Group</th>\n",
       "      <th>Treatment</th>\n",
       "      <th>Replicate</th>\n",
       "      <th>RelativeFitness</th>\n",
       "    </tr>\n",
       "  </thead>\n",
       "  <tbody>\n",
       "    <tr>\n",
       "      <th>0</th>\n",
       "      <td>BKB</td>\n",
       "      <td>Tube</td>\n",
       "      <td>1</td>\n",
       "      <td>0.869963</td>\n",
       "    </tr>\n",
       "    <tr>\n",
       "      <th>1</th>\n",
       "      <td>BKB</td>\n",
       "      <td>Tube</td>\n",
       "      <td>2</td>\n",
       "      <td>1.000363</td>\n",
       "    </tr>\n",
       "    <tr>\n",
       "      <th>2</th>\n",
       "      <td>BKB</td>\n",
       "      <td>Tube</td>\n",
       "      <td>3</td>\n",
       "      <td>0.982935</td>\n",
       "    </tr>\n",
       "    <tr>\n",
       "      <th>3</th>\n",
       "      <td>BAC</td>\n",
       "      <td>Tube</td>\n",
       "      <td>1</td>\n",
       "      <td>0.810392</td>\n",
       "    </tr>\n",
       "    <tr>\n",
       "      <th>4</th>\n",
       "      <td>BAC</td>\n",
       "      <td>Tube</td>\n",
       "      <td>2</td>\n",
       "      <td>0.795107</td>\n",
       "    </tr>\n",
       "    <tr>\n",
       "      <th>5</th>\n",
       "      <td>JDK</td>\n",
       "      <td>Tube</td>\n",
       "      <td>1</td>\n",
       "      <td>0.849204</td>\n",
       "    </tr>\n",
       "    <tr>\n",
       "      <th>6</th>\n",
       "      <td>JDK</td>\n",
       "      <td>Tube</td>\n",
       "      <td>2</td>\n",
       "      <td>0.917637</td>\n",
       "    </tr>\n",
       "    <tr>\n",
       "      <th>7</th>\n",
       "      <td>JDK</td>\n",
       "      <td>Tube</td>\n",
       "      <td>3</td>\n",
       "      <td>0.905323</td>\n",
       "    </tr>\n",
       "    <tr>\n",
       "      <th>8</th>\n",
       "      <td>ETH</td>\n",
       "      <td>Tube</td>\n",
       "      <td>1</td>\n",
       "      <td>0.930821</td>\n",
       "    </tr>\n",
       "    <tr>\n",
       "      <th>9</th>\n",
       "      <td>ETH</td>\n",
       "      <td>Tube</td>\n",
       "      <td>2</td>\n",
       "      <td>0.958183</td>\n",
       "    </tr>\n",
       "  </tbody>\n",
       "</table>\n",
       "</div>"
      ],
      "text/plain": [
       "  Group Treatment  Replicate  RelativeFitness\n",
       "0   BKB      Tube          1         0.869963\n",
       "1   BKB      Tube          2         1.000363\n",
       "2   BKB      Tube          3         0.982935\n",
       "3   BAC      Tube          1         0.810392\n",
       "4   BAC      Tube          2         0.795107\n",
       "5   JDK      Tube          1         0.849204\n",
       "6   JDK      Tube          2         0.917637\n",
       "7   JDK      Tube          3         0.905323\n",
       "8   ETH      Tube          1         0.930821\n",
       "9   ETH      Tube          2         0.958183"
      ]
     },
     "execution_count": 4,
     "metadata": {},
     "output_type": "execute_result"
    }
   ],
   "source": [
    "import pandas as pd\n",
    " \n",
    "# Load the data into a DataFrame\n",
    "data = pd.read_csv('../../data/biology/TradeoffData.csv')\n",
    "\n",
    "print type(data)\n",
    "print data.shape\n",
    "\n",
    "data.head(n=10)"
   ]
  },
  {
   "cell_type": "code",
   "execution_count": 9,
   "metadata": {
    "collapsed": false
   },
   "outputs": [
    {
     "name": "stdout",
     "output_type": "stream",
     "text": [
      "<class 'pandas.core.groupby.DataFrameGroupBy'>\n",
      "<pandas.core.groupby.DataFrameGroupBy object at 0x000000000DD3B358>\n",
      "                 RelativeFitness  Replicate\n",
      "Treatment                                  \n",
      "Dish      count        32.000000  32.000000\n",
      "          mean          1.456359   2.031250\n",
      "          std           0.184792   0.822442\n",
      "          min           0.955221   1.000000\n",
      "          25%           1.429005   1.000000\n",
      "          50%           1.510884   2.000000\n",
      "          75%           1.581340   3.000000\n",
      "          max           1.699276   3.000000\n",
      "Tube      count        32.000000  32.000000\n",
      "          mean          0.929589   1.968750\n",
      "          std           0.050153   0.822442\n",
      "          min           0.795107   1.000000\n",
      "          25%           0.915050   1.000000\n",
      "          50%           0.939089   2.000000\n",
      "          75%           0.953505   3.000000\n",
      "          max           1.000363   3.000000\n"
     ]
    }
   ],
   "source": [
    "bytreatment = data.groupby('Treatment')\n",
    "\n",
    "print type(bytreatment)\n",
    "print bytreatment\n",
    "print bytreatment.describe()"
   ]
  },
  {
   "cell_type": "code",
   "execution_count": 18,
   "metadata": {
    "collapsed": false
   },
   "outputs": [],
   "source": [
    "dish_group = bytreatment.get_group('Dish')\n",
    "tube_group = bytreatment.get_group('Tube')"
   ]
  },
  {
   "cell_type": "code",
   "execution_count": 19,
   "metadata": {
    "collapsed": false
   },
   "outputs": [
    {
     "data": {
      "text/plain": [
       "Ttest_indResult(statistic=15.562488048489616, pvalue=4.348808112413919e-23)"
      ]
     },
     "execution_count": 19,
     "metadata": {},
     "output_type": "execute_result"
    }
   ],
   "source": [
    "import scipy.stats as stats\n",
    "\n",
    "stats.ttest_ind(dish_group.RelativeFitness, tube_group.RelativeFitness)"
   ]
  },
  {
   "cell_type": "code",
   "execution_count": null,
   "metadata": {
    "collapsed": true
   },
   "outputs": [],
   "source": []
  }
 ],
 "metadata": {
  "kernelspec": {
   "display_name": "Python 2",
   "language": "python",
   "name": "python2"
  },
  "language_info": {
   "codemirror_mode": {
    "name": "ipython",
    "version": 2
   },
   "file_extension": ".py",
   "mimetype": "text/x-python",
   "name": "python",
   "nbconvert_exporter": "python",
   "pygments_lexer": "ipython2",
   "version": "2.7.11"
  }
 },
 "nbformat": 4,
 "nbformat_minor": 0
}

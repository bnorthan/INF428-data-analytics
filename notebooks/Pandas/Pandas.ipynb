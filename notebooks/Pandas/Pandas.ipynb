{
 "cells": [
  {
   "cell_type": "code",
   "execution_count": 1,
   "metadata": {
    "collapsed": true
   },
   "outputs": [],
   "source": [
    "import matplotlib.pyplot as plt\n",
    "import pandas as pd\n",
    "import numpy as np\n",
    "from numpy.random import seed\n",
    "from numpy.random import rand\n",
    "from numpy.random import random_integers\n",
    "\n",
    "\n",
    "%matplotlib inline"
   ]
  },
  {
   "cell_type": "code",
   "execution_count": 2,
   "metadata": {
    "collapsed": false,
    "scrolled": true
   },
   "outputs": [
    {
     "name": "stdout",
     "output_type": "stream",
     "text": [
      "            Open  High   Low  Close    Volume\n",
      "Date                                         \n",
      "1980-12-12     0  4.12  4.11   4.11  14657300\n",
      "1980-12-15     0  3.91  3.89   3.89   5496400\n",
      "              Open   High     Low  Close    Volume\n",
      "Date                                              \n",
      "2015-02-20  128.62  129.5  128.05  129.5  48948419\n",
      "2015-02-23  130.02  133.0  129.66  133.0  67871830\n"
     ]
    }
   ],
   "source": [
    "apple=pd.read_csv('../data/financial/apple.csv', index_col=0, parse_dates=True)\n",
    "print apple.head(2)\n",
    "print apple.tail(2)"
   ]
  },
  {
   "cell_type": "code",
   "execution_count": 3,
   "metadata": {
    "collapsed": false
   },
   "outputs": [
    {
     "name": "stdout",
     "output_type": "stream",
     "text": [
      "(8640, 5)\n"
     ]
    }
   ],
   "source": [
    "print apple.shape"
   ]
  },
  {
   "cell_type": "code",
   "execution_count": 4,
   "metadata": {
    "collapsed": false
   },
   "outputs": [
    {
     "name": "stdout",
     "output_type": "stream",
     "text": [
      "Index([u'Open', u'High', u'Low', u'Close', u'Volume'], dtype='object')\n"
     ]
    }
   ],
   "source": [
    "print apple.columns"
   ]
  },
  {
   "cell_type": "code",
   "execution_count": 5,
   "metadata": {
    "collapsed": false
   },
   "outputs": [
    {
     "data": {
      "text/html": [
       "<div>\n",
       "<table border=\"1\" class=\"dataframe\">\n",
       "  <thead>\n",
       "    <tr style=\"text-align: right;\">\n",
       "      <th></th>\n",
       "      <th>Open</th>\n",
       "      <th>High</th>\n",
       "      <th>Low</th>\n",
       "      <th>Close</th>\n",
       "      <th>Volume</th>\n",
       "    </tr>\n",
       "    <tr>\n",
       "      <th>Date</th>\n",
       "      <th></th>\n",
       "      <th></th>\n",
       "      <th></th>\n",
       "      <th></th>\n",
       "      <th></th>\n",
       "    </tr>\n",
       "  </thead>\n",
       "  <tbody>\n",
       "    <tr>\n",
       "      <th>2002-11-14</th>\n",
       "      <td>1.14</td>\n",
       "      <td>1.17</td>\n",
       "      <td>1.13</td>\n",
       "      <td>1.16</td>\n",
       "      <td>34256600</td>\n",
       "    </tr>\n",
       "    <tr>\n",
       "      <th>2002-11-15</th>\n",
       "      <td>1.16</td>\n",
       "      <td>1.16</td>\n",
       "      <td>1.13</td>\n",
       "      <td>1.14</td>\n",
       "      <td>39848200</td>\n",
       "    </tr>\n",
       "    <tr>\n",
       "      <th>2002-11-18</th>\n",
       "      <td>1.16</td>\n",
       "      <td>1.16</td>\n",
       "      <td>1.09</td>\n",
       "      <td>1.12</td>\n",
       "      <td>38490200</td>\n",
       "    </tr>\n",
       "    <tr>\n",
       "      <th>2002-11-19</th>\n",
       "      <td>1.11</td>\n",
       "      <td>1.12</td>\n",
       "      <td>1.07</td>\n",
       "      <td>1.09</td>\n",
       "      <td>50922200</td>\n",
       "    </tr>\n",
       "    <tr>\n",
       "      <th>2002-11-20</th>\n",
       "      <td>1.09</td>\n",
       "      <td>1.12</td>\n",
       "      <td>1.09</td>\n",
       "      <td>1.11</td>\n",
       "      <td>50206800</td>\n",
       "    </tr>\n",
       "    <tr>\n",
       "      <th>2002-11-21</th>\n",
       "      <td>1.14</td>\n",
       "      <td>1.17</td>\n",
       "      <td>1.12</td>\n",
       "      <td>1.17</td>\n",
       "      <td>102193000</td>\n",
       "    </tr>\n",
       "    <tr>\n",
       "      <th>2002-11-22</th>\n",
       "      <td>1.15</td>\n",
       "      <td>1.16</td>\n",
       "      <td>1.14</td>\n",
       "      <td>1.14</td>\n",
       "      <td>54815600</td>\n",
       "    </tr>\n",
       "    <tr>\n",
       "      <th>2002-11-25</th>\n",
       "      <td>1.14</td>\n",
       "      <td>1.15</td>\n",
       "      <td>1.12</td>\n",
       "      <td>1.14</td>\n",
       "      <td>48836200</td>\n",
       "    </tr>\n",
       "    <tr>\n",
       "      <th>2002-11-26</th>\n",
       "      <td>1.13</td>\n",
       "      <td>1.14</td>\n",
       "      <td>1.09</td>\n",
       "      <td>1.10</td>\n",
       "      <td>57488200</td>\n",
       "    </tr>\n",
       "    <tr>\n",
       "      <th>2002-11-27</th>\n",
       "      <td>1.11</td>\n",
       "      <td>1.13</td>\n",
       "      <td>1.10</td>\n",
       "      <td>1.12</td>\n",
       "      <td>70130200</td>\n",
       "    </tr>\n",
       "    <tr>\n",
       "      <th>2002-11-29</th>\n",
       "      <td>1.13</td>\n",
       "      <td>1.13</td>\n",
       "      <td>1.10</td>\n",
       "      <td>1.11</td>\n",
       "      <td>34637400</td>\n",
       "    </tr>\n",
       "    <tr>\n",
       "      <th>2002-12-02</th>\n",
       "      <td>1.14</td>\n",
       "      <td>1.15</td>\n",
       "      <td>1.07</td>\n",
       "      <td>1.08</td>\n",
       "      <td>97340600</td>\n",
       "    </tr>\n",
       "    <tr>\n",
       "      <th>2002-12-03</th>\n",
       "      <td>1.09</td>\n",
       "      <td>1.10</td>\n",
       "      <td>1.08</td>\n",
       "      <td>1.08</td>\n",
       "      <td>54828200</td>\n",
       "    </tr>\n",
       "    <tr>\n",
       "      <th>2002-12-04</th>\n",
       "      <td>1.08</td>\n",
       "      <td>1.08</td>\n",
       "      <td>1.04</td>\n",
       "      <td>1.07</td>\n",
       "      <td>73498600</td>\n",
       "    </tr>\n",
       "    <tr>\n",
       "      <th>2002-12-05</th>\n",
       "      <td>1.07</td>\n",
       "      <td>1.08</td>\n",
       "      <td>1.04</td>\n",
       "      <td>1.04</td>\n",
       "      <td>58583000</td>\n",
       "    </tr>\n",
       "    <tr>\n",
       "      <th>2002-12-06</th>\n",
       "      <td>1.05</td>\n",
       "      <td>1.08</td>\n",
       "      <td>1.04</td>\n",
       "      <td>1.07</td>\n",
       "      <td>60109000</td>\n",
       "    </tr>\n",
       "    <tr>\n",
       "      <th>2002-12-09</th>\n",
       "      <td>1.07</td>\n",
       "      <td>1.07</td>\n",
       "      <td>1.05</td>\n",
       "      <td>1.05</td>\n",
       "      <td>56326200</td>\n",
       "    </tr>\n",
       "    <tr>\n",
       "      <th>2002-12-10</th>\n",
       "      <td>1.05</td>\n",
       "      <td>1.10</td>\n",
       "      <td>1.05</td>\n",
       "      <td>1.09</td>\n",
       "      <td>74708200</td>\n",
       "    </tr>\n",
       "    <tr>\n",
       "      <th>2002-12-11</th>\n",
       "      <td>1.09</td>\n",
       "      <td>1.11</td>\n",
       "      <td>1.08</td>\n",
       "      <td>1.11</td>\n",
       "      <td>60757200</td>\n",
       "    </tr>\n",
       "    <tr>\n",
       "      <th>2002-12-12</th>\n",
       "      <td>1.11</td>\n",
       "      <td>1.11</td>\n",
       "      <td>1.07</td>\n",
       "      <td>1.08</td>\n",
       "      <td>35819000</td>\n",
       "    </tr>\n",
       "    <tr>\n",
       "      <th>2002-12-13</th>\n",
       "      <td>1.08</td>\n",
       "      <td>1.08</td>\n",
       "      <td>1.05</td>\n",
       "      <td>1.06</td>\n",
       "      <td>39739000</td>\n",
       "    </tr>\n",
       "    <tr>\n",
       "      <th>2002-12-16</th>\n",
       "      <td>1.06</td>\n",
       "      <td>1.08</td>\n",
       "      <td>1.04</td>\n",
       "      <td>1.06</td>\n",
       "      <td>61180000</td>\n",
       "    </tr>\n",
       "    <tr>\n",
       "      <th>2002-12-17</th>\n",
       "      <td>1.06</td>\n",
       "      <td>1.08</td>\n",
       "      <td>1.05</td>\n",
       "      <td>1.08</td>\n",
       "      <td>54243000</td>\n",
       "    </tr>\n",
       "    <tr>\n",
       "      <th>2002-12-18</th>\n",
       "      <td>1.06</td>\n",
       "      <td>1.06</td>\n",
       "      <td>1.04</td>\n",
       "      <td>1.04</td>\n",
       "      <td>35868000</td>\n",
       "    </tr>\n",
       "  </tbody>\n",
       "</table>\n",
       "</div>"
      ],
      "text/plain": [
       "            Open  High   Low  Close     Volume\n",
       "Date                                          \n",
       "2002-11-14  1.14  1.17  1.13   1.16   34256600\n",
       "2002-11-15  1.16  1.16  1.13   1.14   39848200\n",
       "2002-11-18  1.16  1.16  1.09   1.12   38490200\n",
       "2002-11-19  1.11  1.12  1.07   1.09   50922200\n",
       "2002-11-20  1.09  1.12  1.09   1.11   50206800\n",
       "2002-11-21  1.14  1.17  1.12   1.17  102193000\n",
       "2002-11-22  1.15  1.16  1.14   1.14   54815600\n",
       "2002-11-25  1.14  1.15  1.12   1.14   48836200\n",
       "2002-11-26  1.13  1.14  1.09   1.10   57488200\n",
       "2002-11-27  1.11  1.13  1.10   1.12   70130200\n",
       "2002-11-29  1.13  1.13  1.10   1.11   34637400\n",
       "2002-12-02  1.14  1.15  1.07   1.08   97340600\n",
       "2002-12-03  1.09  1.10  1.08   1.08   54828200\n",
       "2002-12-04  1.08  1.08  1.04   1.07   73498600\n",
       "2002-12-05  1.07  1.08  1.04   1.04   58583000\n",
       "2002-12-06  1.05  1.08  1.04   1.07   60109000\n",
       "2002-12-09  1.07  1.07  1.05   1.05   56326200\n",
       "2002-12-10  1.05  1.10  1.05   1.09   74708200\n",
       "2002-12-11  1.09  1.11  1.08   1.11   60757200\n",
       "2002-12-12  1.11  1.11  1.07   1.08   35819000\n",
       "2002-12-13  1.08  1.08  1.05   1.06   39739000\n",
       "2002-12-16  1.06  1.08  1.04   1.06   61180000\n",
       "2002-12-17  1.06  1.08  1.05   1.08   54243000\n",
       "2002-12-18  1.06  1.06  1.04   1.04   35868000"
      ]
     },
     "execution_count": 5,
     "metadata": {},
     "output_type": "execute_result"
    }
   ],
   "source": [
    "apple[\"2002-11-14\":\"2002-12-18\"]"
   ]
  },
  {
   "cell_type": "code",
   "execution_count": 6,
   "metadata": {
    "collapsed": false
   },
   "outputs": [
    {
     "name": "stdout",
     "output_type": "stream",
     "text": [
      "Open            88.97\n",
      "High            89.29\n",
      "Low             88.29\n",
      "Close           88.70\n",
      "Volume    72627492.00\n",
      "Name: 2012-08-07 00:00:00, dtype: float64\n",
      "\n",
      "88.97\n",
      "89.29\n",
      "88.29\n",
      "88.7\n",
      "72627492.0\n"
     ]
    }
   ],
   "source": [
    "print apple.iloc[8000]\n",
    "print\n",
    "print apple.iloc[8000,0]\n",
    "print apple.iloc[8000,1]\n",
    "print apple.iloc[8000,2]\n",
    "print apple.iloc[8000,3]\n",
    "print apple.iloc[8000,4]"
   ]
  },
  {
   "cell_type": "code",
   "execution_count": 7,
   "metadata": {
    "collapsed": false
   },
   "outputs": [
    {
     "name": "stdout",
     "output_type": "stream",
     "text": [
      "min is: 0.94\n",
      "max is: 133.0\n",
      "standard deviation is: 24.1926958235\n"
     ]
    }
   ],
   "source": [
    "print \"min is:\",apple['Close'].min()\n",
    "print \"max is:\",apple['Close'].max()\n",
    "print \"standard deviation is:\",apple['Close'].std()"
   ]
  },
  {
   "cell_type": "code",
   "execution_count": 8,
   "metadata": {
    "collapsed": true
   },
   "outputs": [],
   "source": [
    "over_100=apple[apple['Close']>100]"
   ]
  },
  {
   "cell_type": "code",
   "execution_count": 9,
   "metadata": {
    "collapsed": false
   },
   "outputs": [
    {
     "name": "stdout",
     "output_type": "stream",
     "text": [
      "(115, 5)\n"
     ]
    }
   ],
   "source": [
    "print over_100.shape"
   ]
  },
  {
   "cell_type": "code",
   "execution_count": 10,
   "metadata": {
    "collapsed": false
   },
   "outputs": [
    {
     "data": {
      "text/plain": [
       "115"
      ]
     },
     "execution_count": 10,
     "metadata": {},
     "output_type": "execute_result"
    }
   ],
   "source": [
    "apple['Close'][apple['Close']>100].count()"
   ]
  },
  {
   "cell_type": "markdown",
   "metadata": {
    "collapsed": true
   },
   "source": [
    "seed(42)\n",
    "\n",
    "df = pd.DataFrame({'Weather' : ['cold', 'hot', 'cold', 'hot',\n",
    "   'cold', 'hot', 'cold'],\n",
    "   'Food' : ['soup', 'soup', 'icecream', 'chocolate',\n",
    "   'icecream', 'icecream', 'soup'],\n",
    "   'Price' : 10 * rand(7), 'Number' : random_integers(1, 9, size=(7,))})\n",
    "\n",
    "print df"
   ]
  },
  {
   "cell_type": "code",
   "execution_count": 11,
   "metadata": {
    "collapsed": false
   },
   "outputs": [
    {
     "name": "stdout",
     "output_type": "stream",
     "text": [
      "(60, 13)\n",
      "     Year  lg    R   2B  3B   HR  RBI  SB   BB     BA    OBP    SLG    OPS\n",
      "Tm                                                                        \n",
      "BAL  2015  AL  713  246  20  217  686  44  418  0.250  0.307  0.421  0.728\n",
      "BOS  2015  AL  748  294  33  161  706  71  478  0.265  0.325  0.415  0.740\n",
      "CHW  2015  AL  622  260  27  136  595  68  404  0.250  0.306  0.380  0.686\n",
      "CLE  2015  AL  669  303  29  141  640  86  533  0.256  0.325  0.401  0.725\n",
      "DET  2015  AL  689  289  49  151  660  83  455  0.270  0.328  0.420  0.748\n"
     ]
    }
   ],
   "source": [
    "df_mlb=pd.read_csv('../data/mlb/MLB_2014_2015.csv',  parse_dates=True, index_col=0)\n",
    "print df_mlb.shape\n",
    "print df_mlb.head()"
   ]
  },
  {
   "cell_type": "code",
   "execution_count": 12,
   "metadata": {
    "collapsed": false
   },
   "outputs": [
    {
     "name": "stdout",
     "output_type": "stream",
     "text": [
      "max HR:  232 hit by TOR\n"
     ]
    }
   ],
   "source": [
    "print \"max HR: \",df_mlb.HR.max(),\"hit by\",df_mlb.HR.idxmax()\n"
   ]
  },
  {
   "cell_type": "code",
   "execution_count": 13,
   "metadata": {
    "collapsed": false
   },
   "outputs": [
    {
     "name": "stdout",
     "output_type": "stream",
     "text": [
      "2\n",
      "Group is:  2014\n",
      "     Year  lg    R   2B  3B   HR  RBI   SB   BB     BA    OBP    SLG    OPS\n",
      "Tm                                                                         \n",
      "BAL  2014  AL  705  264  16  211  681   44  401  0.256  0.311  0.422  0.734\n",
      "BOS  2014  AL  634  282  20  123  601   63  535  0.244  0.316  0.369  0.684\n",
      "CHW  2014  AL  660  279  32  155  625   85  417  0.253  0.310  0.398  0.708\n",
      "CLE  2014  AL  669  284  23  142  644  104  504  0.253  0.317  0.389  0.706\n",
      "DET  2014  AL  757  325  26  155  731  106  443  0.277  0.331  0.426  0.757\n",
      "HOU  2014  AL  629  240  19  163  596  122  495  0.242  0.309  0.383  0.692\n",
      "KCR  2014  AL  651  286  29   95  604  153  380  0.263  0.314  0.376  0.690\n",
      "LAA  2014  AL  773  304  31  155  729   81  492  0.259  0.322  0.406  0.728\n",
      "MIN  2014  AL  715  316  27  128  675   99  544  0.254  0.324  0.389  0.713\n",
      "NYY  2014  AL  633  247  26  147  591  112  452  0.245  0.307  0.380  0.687\n",
      "OAK  2014  AL  729  253  33  146  686   83  586  0.244  0.320  0.381  0.700\n",
      "SEA  2014  AL  634  247  32  136  600   96  396  0.244  0.300  0.376  0.676\n",
      "TBR  2014  AL  612  263  24  117  586   63  527  0.247  0.317  0.367  0.684\n",
      "TEX  2014  AL  637  260  28  111  597  105  417  0.256  0.314  0.375  0.689\n",
      "TOR  2014  AL  723  282  24  177  690   78  502  0.259  0.323  0.414  0.736\n",
      "ARI  2014  NL  615  259  47  118  573   86  398  0.248  0.302  0.376  0.678\n",
      "ATL  2014  NL  573  240  22  123  545   95  472  0.241  0.305  0.360  0.665\n",
      "CHC  2014  NL  614  270  31  157  590   65  442  0.239  0.300  0.385  0.684\n",
      "CIN  2014  NL  595  254  20  131  562  122  415  0.238  0.296  0.365  0.661\n",
      "COL  2014  NL  755  307  41  186  721   85  397  0.276  0.327  0.445  0.772\n",
      "LAD  2014  NL  718  302  38  134  686  138  519  0.265  0.333  0.406  0.738\n",
      "MIA  2014  NL  645  254  36  122  614   58  501  0.253  0.317  0.378  0.694\n",
      "MIL  2014  NL  650  297  28  150  617  102  423  0.250  0.311  0.397  0.708\n",
      "NYM  2014  NL  629  275  19  125  602  101  516  0.239  0.308  0.364  0.673\n",
      "PHI  2014  NL  619  251  27  125  584  109  443  0.242  0.302  0.363  0.665\n",
      "PIT  2014  NL  682  275  30  156  659  104  520  0.259  0.330  0.404  0.734\n",
      "SDP  2014  NL  535  224  30  109  500   91  468  0.226  0.292  0.342  0.634\n",
      "SFG  2014  NL  665  257  42  132  636   56  427  0.255  0.311  0.388  0.699\n",
      "STL  2014  NL  619  275  21  105  585   57  471  0.253  0.320  0.369  0.689\n",
      "WSN  2014  NL  686  265  27  152  635  101  517  0.253  0.321  0.393  0.714\n",
      "\n",
      "Group is:  2015\n",
      "     Year  lg    R   2B  3B   HR  RBI   SB   BB     BA    OBP    SLG    OPS\n",
      "Tm                                                                         \n",
      "BAL  2015  AL  713  246  20  217  686   44  418  0.250  0.307  0.421  0.728\n",
      "BOS  2015  AL  748  294  33  161  706   71  478  0.265  0.325  0.415  0.740\n",
      "CHW  2015  AL  622  260  27  136  595   68  404  0.250  0.306  0.380  0.686\n",
      "CLE  2015  AL  669  303  29  141  640   86  533  0.256  0.325  0.401  0.725\n",
      "DET  2015  AL  689  289  49  151  660   83  455  0.270  0.328  0.420  0.748\n",
      "HOU  2015  AL  729  278  26  230  691  121  486  0.250  0.315  0.437  0.752\n",
      "KCR  2015  AL  724  300  42  139  689  104  383  0.269  0.322  0.412  0.734\n",
      "LAA  2015  AL  661  243  21  176  621   52  435  0.246  0.307  0.396  0.702\n",
      "MIN  2015  AL  696  277  44  156  661   70  439  0.247  0.305  0.399  0.704\n",
      "NYY  2015  AL  764  272  19  212  737   63  554  0.251  0.323  0.421  0.744\n",
      "OAK  2015  AL  694  277  46  146  661   78  475  0.251  0.312  0.395  0.707\n",
      "SEA  2015  AL  656  262  22  198  624   69  478  0.249  0.311  0.411  0.722\n",
      "TBR  2015  AL  644  278  32  167  612   87  436  0.252  0.314  0.406  0.720\n",
      "TEX  2015  AL  751  279  32  172  707  101  503  0.257  0.325  0.413  0.739\n",
      "TOR  2015  AL  891  308  17  232  852   88  570  0.269  0.340  0.457  0.797\n",
      "ARI  2015  NL  720  289  48  154  680  132  490  0.264  0.324  0.414  0.738\n",
      "ATL  2015  NL  573  251  18  100  548   69  471  0.251  0.314  0.359  0.674\n",
      "CHC  2015  NL  689  272  30  171  657   95  567  0.244  0.321  0.398  0.719\n",
      "CIN  2015  NL  640  257  27  167  613  134  496  0.248  0.312  0.394  0.706\n",
      "COL  2015  NL  737  274  49  186  702   97  388  0.265  0.315  0.432  0.748\n",
      "LAD  2015  NL  667  263  26  187  638   59  563  0.250  0.326  0.413  0.739\n",
      "MIA  2015  NL  613  236  40  120  575  112  375  0.260  0.310  0.384  0.694\n",
      "MIL  2015  NL  655  274  34  145  624   84  412  0.251  0.307  0.393  0.700\n",
      "NYM  2015  NL  683  295  17  177  654   51  488  0.244  0.312  0.400  0.712\n",
      "PHI  2015  NL  626  272  37  130  586   88  387  0.249  0.303  0.382  0.684\n",
      "PIT  2015  NL  697  292  27  140  661   98  461  0.260  0.323  0.396  0.719\n",
      "SDP  2015  NL  650  260  36  148  623   82  426  0.243  0.300  0.385  0.685\n",
      "SFG  2015  NL  696  288  39  136  663   93  457  0.267  0.326  0.406  0.732\n",
      "STL  2015  NL  647  288  39  137  619   69  506  0.253  0.321  0.394  0.716\n",
      "WSN  2015  NL  703  265  13  177  665   57  539  0.251  0.321  0.403  0.724\n",
      "\n"
     ]
    }
   ],
   "source": [
    "year_group=df_mlb.groupby('Year')\n",
    "\n",
    "print len(year_group)\n",
    "\n",
    "for name, group in year_group:\n",
    "    print \"Group is: \", name\n",
    "    print group\n",
    "    print\n"
   ]
  },
  {
   "cell_type": "code",
   "execution_count": 14,
   "metadata": {
    "collapsed": false
   },
   "outputs": [
    {
     "name": "stdout",
     "output_type": "stream",
     "text": [
      "      lg    R   2B  3B   HR  RBI  SB   BB     BA    OBP    SLG    OPS\n",
      "Year                                                                 \n",
      "2014  AL  705  264  16  211  681  44  401  0.256  0.311  0.422  0.734\n",
      "2015  AL  713  246  20  217  686  44  418  0.250  0.307  0.421  0.728\n",
      "Mean: \n",
      "               R          2B    3B          HR         RBI         SB  \\\n",
      "Year                                                                    \n",
      "2014  658.700000  271.233333  28.3  139.533333  624.833333  92.133333   \n",
      "2015  688.233333  274.733333  31.3  163.633333  655.000000  83.500000   \n",
      "\n",
      "              BB      BA       OBP       SLG       OPS  \n",
      "Year                                                    \n",
      "2014  467.333333  0.2511  0.313667  0.386200  0.699733  \n",
      "2015  469.100000  0.2544  0.316667  0.404567  0.721267  \n"
     ]
    }
   ],
   "source": [
    "print year_group.first()\n",
    "print \"Mean: \"\n",
    "print year_group.mean()"
   ]
  },
  {
   "cell_type": "code",
   "execution_count": 15,
   "metadata": {
    "collapsed": false
   },
   "outputs": [
    {
     "name": "stdout",
     "output_type": "stream",
     "text": [
      "the groups are:  {('AL', 2014): ['BAL', 'BOS', 'CHW', 'CLE', 'DET', 'HOU', 'KCR', 'LAA', 'MIN', 'NYY', 'OAK', 'SEA', 'TBR', 'TEX', 'TOR'], ('NL', 2015): ['ARI', 'ATL', 'CHC', 'CIN', 'COL', 'LAD', 'MIA', 'MIL', 'NYM', 'PHI', 'PIT', 'SDP', 'SFG', 'STL', 'WSN'], ('AL', 2015): ['BAL', 'BOS', 'CHW', 'CLE', 'DET', 'HOU', 'KCR', 'LAA', 'MIN', 'NYY', 'OAK', 'SEA', 'TBR', 'TEX', 'TOR'], ('NL', 2014): ['ARI', 'ATL', 'CHC', 'CIN', 'COL', 'LAD', 'MIA', 'MIL', 'NYM', 'PHI', 'PIT', 'SDP', 'SFG', 'STL', 'WSN']}\n"
     ]
    }
   ],
   "source": [
    "lg_year_group=df_mlb.groupby(['lg','Year'])\n",
    "print \"the groups are: \", lg_year_group.groups"
   ]
  },
  {
   "cell_type": "code",
   "execution_count": 16,
   "metadata": {
    "collapsed": false
   },
   "outputs": [
    {
     "name": "stdout",
     "output_type": "stream",
     "text": [
      "WF Aggregated\n",
      "                  R               2B         3B               HR       \\\n",
      "               mean amax        mean amax  mean amax        mean amax   \n",
      "lg Year                                                                 \n",
      "AL 2014  677.400000  773  275.466667  325  26.0   33  144.066667  211   \n",
      "   2015  710.066667  891  277.733333  308  30.6   49  175.600000  232   \n",
      "NL 2014  640.000000  755  267.000000  307  30.6   47  135.000000  186   \n",
      "   2015  666.400000  737  271.733333  295  32.0   49  151.666667  187   \n",
      "\n",
      "                RBI       ...            BB             BA              OBP  \\\n",
      "               mean amax  ...          mean amax      mean   amax      mean   \n",
      "lg Year                   ...                                                 \n",
      "AL 2014  642.400000  731  ...    472.733333  586  0.253067  0.277  0.315667   \n",
      "   2015  676.133333  852  ...    469.800000  570  0.255467  0.270  0.317667   \n",
      "NL 2014  607.266667  721  ...    461.933333  520  0.249133  0.276  0.311667   \n",
      "   2015  633.866667  702  ...    468.400000  567  0.253333  0.267  0.315667   \n",
      "\n",
      "                     SLG              OPS         \n",
      "          amax      mean   amax      mean   amax  \n",
      "lg Year                                           \n",
      "AL 2014  0.331  0.390067  0.426  0.705600  0.757  \n",
      "   2015  0.340  0.412267  0.457  0.729867  0.797  \n",
      "NL 2014  0.333  0.382333  0.445  0.693867  0.772  \n",
      "   2015  0.326  0.396867  0.432  0.712667  0.748  \n",
      "\n",
      "[4 rows x 22 columns]\n"
     ]
    }
   ],
   "source": [
    "print \"WF Aggregated\\n\", lg_year_group.agg([np.mean, np.max])"
   ]
  },
  {
   "cell_type": "code",
   "execution_count": 17,
   "metadata": {
    "collapsed": false
   },
   "outputs": [
    {
     "name": "stdout",
     "output_type": "stream",
     "text": [
      "(30, 13)\n",
      "(30, 13)\n"
     ]
    }
   ],
   "source": [
    "df_2015=df_mlb[df_mlb.Year==2015]\n",
    "df_2014=df_mlb[df_mlb.Year==2014]\n",
    "\n",
    "print df_2015.shape\n",
    "print df_2014.shape\n"
   ]
  },
  {
   "cell_type": "code",
   "execution_count": 18,
   "metadata": {
    "collapsed": false
   },
   "outputs": [
    {
     "name": "stdout",
     "output_type": "stream",
     "text": [
      "(60, 13)\n"
     ]
    }
   ],
   "source": [
    "df_concat=pd.concat([df_2014,df_2015])\n",
    "print df_concat.shape"
   ]
  },
  {
   "cell_type": "code",
   "execution_count": 19,
   "metadata": {
    "collapsed": false
   },
   "outputs": [
    {
     "name": "stdout",
     "output_type": "stream",
     "text": [
      "(60, 13)\n"
     ]
    }
   ],
   "source": [
    "df_append = df_2014.append(df_2015)\n",
    "print df_append.shape"
   ]
  },
  {
   "cell_type": "code",
   "execution_count": 20,
   "metadata": {
    "collapsed": false
   },
   "outputs": [
    {
     "data": {
      "text/html": [
       "<div>\n",
       "<table border=\"1\" class=\"dataframe\">\n",
       "  <thead>\n",
       "    <tr style=\"text-align: right;\">\n",
       "      <th></th>\n",
       "      <th>Year</th>\n",
       "      <th>lg</th>\n",
       "      <th>R</th>\n",
       "      <th>2B</th>\n",
       "    </tr>\n",
       "    <tr>\n",
       "      <th>Tm</th>\n",
       "      <th></th>\n",
       "      <th></th>\n",
       "      <th></th>\n",
       "      <th></th>\n",
       "    </tr>\n",
       "  </thead>\n",
       "  <tbody>\n",
       "    <tr>\n",
       "      <th>BAL</th>\n",
       "      <td>2015</td>\n",
       "      <td>AL</td>\n",
       "      <td>713</td>\n",
       "      <td>246</td>\n",
       "    </tr>\n",
       "    <tr>\n",
       "      <th>BOS</th>\n",
       "      <td>2015</td>\n",
       "      <td>AL</td>\n",
       "      <td>748</td>\n",
       "      <td>294</td>\n",
       "    </tr>\n",
       "    <tr>\n",
       "      <th>CHW</th>\n",
       "      <td>2015</td>\n",
       "      <td>AL</td>\n",
       "      <td>NaN</td>\n",
       "      <td>260</td>\n",
       "    </tr>\n",
       "    <tr>\n",
       "      <th>CLE</th>\n",
       "      <td>2015</td>\n",
       "      <td>AL</td>\n",
       "      <td>669</td>\n",
       "      <td>303</td>\n",
       "    </tr>\n",
       "    <tr>\n",
       "      <th>DET</th>\n",
       "      <td>2015</td>\n",
       "      <td>AL</td>\n",
       "      <td>689</td>\n",
       "      <td>289</td>\n",
       "    </tr>\n",
       "  </tbody>\n",
       "</table>\n",
       "</div>"
      ],
      "text/plain": [
       "     Year  lg    R   2B\n",
       "Tm                     \n",
       "BAL  2015  AL  713  246\n",
       "BOS  2015  AL  748  294\n",
       "CHW  2015  AL  NaN  260\n",
       "CLE  2015  AL  669  303\n",
       "DET  2015  AL  689  289"
      ]
     },
     "metadata": {},
     "output_type": "display_data"
    },
    {
     "name": "stdout",
     "output_type": "stream",
     "text": [
      "\n"
     ]
    },
    {
     "data": {
      "text/html": [
       "<div>\n",
       "<table border=\"1\" class=\"dataframe\">\n",
       "  <thead>\n",
       "    <tr style=\"text-align: right;\">\n",
       "      <th></th>\n",
       "      <th>Year</th>\n",
       "      <th>lg</th>\n",
       "      <th>R</th>\n",
       "      <th>2B</th>\n",
       "    </tr>\n",
       "    <tr>\n",
       "      <th>Tm</th>\n",
       "      <th></th>\n",
       "      <th></th>\n",
       "      <th></th>\n",
       "      <th></th>\n",
       "    </tr>\n",
       "  </thead>\n",
       "  <tbody>\n",
       "    <tr>\n",
       "      <th>BAL</th>\n",
       "      <td>2015</td>\n",
       "      <td>AL</td>\n",
       "      <td>713</td>\n",
       "      <td>246</td>\n",
       "    </tr>\n",
       "    <tr>\n",
       "      <th>BOS</th>\n",
       "      <td>2015</td>\n",
       "      <td>AL</td>\n",
       "      <td>748</td>\n",
       "      <td>294</td>\n",
       "    </tr>\n",
       "    <tr>\n",
       "      <th>CHW</th>\n",
       "      <td>2015</td>\n",
       "      <td>AL</td>\n",
       "      <td>30000</td>\n",
       "      <td>260</td>\n",
       "    </tr>\n",
       "    <tr>\n",
       "      <th>CLE</th>\n",
       "      <td>2015</td>\n",
       "      <td>AL</td>\n",
       "      <td>669</td>\n",
       "      <td>303</td>\n",
       "    </tr>\n",
       "    <tr>\n",
       "      <th>DET</th>\n",
       "      <td>2015</td>\n",
       "      <td>AL</td>\n",
       "      <td>689</td>\n",
       "      <td>289</td>\n",
       "    </tr>\n",
       "  </tbody>\n",
       "</table>\n",
       "</div>"
      ],
      "text/plain": [
       "     Year  lg      R   2B\n",
       "Tm                       \n",
       "BAL  2015  AL    713  246\n",
       "BOS  2015  AL    748  294\n",
       "CHW  2015  AL  30000  260\n",
       "CLE  2015  AL    669  303\n",
       "DET  2015  AL    689  289"
      ]
     },
     "metadata": {},
     "output_type": "display_data"
    }
   ],
   "source": [
    "from IPython.display import display\n",
    "\n",
    "df_null=pd.read_csv('../data/mlb/MLB_null.csv',  parse_dates=True, index_col=0)\n",
    "display(df_null)\n",
    "print\n",
    "display(df_null.fillna(30000))\n"
   ]
  },
  {
   "cell_type": "code",
   "execution_count": 21,
   "metadata": {
    "collapsed": false
   },
   "outputs": [
    {
     "data": {
      "text/plain": [
       "(60, 13)"
      ]
     },
     "execution_count": 21,
     "metadata": {},
     "output_type": "execute_result"
    }
   ],
   "source": [
    "df_mlb.shape"
   ]
  },
  {
   "cell_type": "code",
   "execution_count": 25,
   "metadata": {
    "collapsed": false
   },
   "outputs": [
    {
     "name": "stdout",
     "output_type": "stream",
     "text": [
      "(11, 2)\n",
      "\n"
     ]
    },
    {
     "data": {
      "text/html": [
       "<div>\n",
       "<table border=\"1\" class=\"dataframe\">\n",
       "  <thead>\n",
       "    <tr style=\"text-align: right;\">\n",
       "      <th>Year</th>\n",
       "      <th>2014</th>\n",
       "      <th>2015</th>\n",
       "    </tr>\n",
       "  </thead>\n",
       "  <tbody>\n",
       "    <tr>\n",
       "      <th>2B</th>\n",
       "      <td>271.233333</td>\n",
       "      <td>274.733333</td>\n",
       "    </tr>\n",
       "    <tr>\n",
       "      <th>3B</th>\n",
       "      <td>28.300000</td>\n",
       "      <td>31.300000</td>\n",
       "    </tr>\n",
       "    <tr>\n",
       "      <th>BA</th>\n",
       "      <td>0.251100</td>\n",
       "      <td>0.254400</td>\n",
       "    </tr>\n",
       "    <tr>\n",
       "      <th>BB</th>\n",
       "      <td>467.333333</td>\n",
       "      <td>469.100000</td>\n",
       "    </tr>\n",
       "    <tr>\n",
       "      <th>HR</th>\n",
       "      <td>139.533333</td>\n",
       "      <td>163.633333</td>\n",
       "    </tr>\n",
       "    <tr>\n",
       "      <th>OBP</th>\n",
       "      <td>0.313667</td>\n",
       "      <td>0.316667</td>\n",
       "    </tr>\n",
       "    <tr>\n",
       "      <th>OPS</th>\n",
       "      <td>0.699733</td>\n",
       "      <td>0.721267</td>\n",
       "    </tr>\n",
       "    <tr>\n",
       "      <th>R</th>\n",
       "      <td>658.700000</td>\n",
       "      <td>688.233333</td>\n",
       "    </tr>\n",
       "    <tr>\n",
       "      <th>RBI</th>\n",
       "      <td>624.833333</td>\n",
       "      <td>655.000000</td>\n",
       "    </tr>\n",
       "    <tr>\n",
       "      <th>SB</th>\n",
       "      <td>92.133333</td>\n",
       "      <td>83.500000</td>\n",
       "    </tr>\n",
       "    <tr>\n",
       "      <th>SLG</th>\n",
       "      <td>0.386200</td>\n",
       "      <td>0.404567</td>\n",
       "    </tr>\n",
       "  </tbody>\n",
       "</table>\n",
       "</div>"
      ],
      "text/plain": [
       "Year        2014        2015\n",
       "2B    271.233333  274.733333\n",
       "3B     28.300000   31.300000\n",
       "BA      0.251100    0.254400\n",
       "BB    467.333333  469.100000\n",
       "HR    139.533333  163.633333\n",
       "OBP     0.313667    0.316667\n",
       "OPS     0.699733    0.721267\n",
       "R     658.700000  688.233333\n",
       "RBI   624.833333  655.000000\n",
       "SB     92.133333   83.500000\n",
       "SLG     0.386200    0.404567"
      ]
     },
     "metadata": {},
     "output_type": "display_data"
    }
   ],
   "source": [
    "df_mlb_pivot=pd.pivot_table(df_mlb, columns='Year', aggfunc=np.mean)\n",
    "print df_mlb_pivot.shape\n",
    "print\n",
    "display(df_mlb_pivot)"
   ]
  },
  {
   "cell_type": "code",
   "execution_count": 30,
   "metadata": {
    "collapsed": false
   },
   "outputs": [],
   "source": [
    "from pandas.io.data import Options\n",
    "import datetime\n",
    "\n",
    "today=datetime.date.today()"
   ]
  },
  {
   "cell_type": "code",
   "execution_count": null,
   "metadata": {
    "collapsed": true
   },
   "outputs": [],
   "source": []
  }
 ],
 "metadata": {
  "kernelspec": {
   "display_name": "Python 2",
   "language": "python",
   "name": "python2"
  },
  "language_info": {
   "codemirror_mode": {
    "name": "ipython",
    "version": 2
   },
   "file_extension": ".py",
   "mimetype": "text/x-python",
   "name": "python",
   "nbconvert_exporter": "python",
   "pygments_lexer": "ipython2",
   "version": "2.7.10"
  }
 },
 "nbformat": 4,
 "nbformat_minor": 0
}

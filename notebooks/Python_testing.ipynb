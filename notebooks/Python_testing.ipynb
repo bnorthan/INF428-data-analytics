{
 "cells": [
  {
   "cell_type": "code",
   "execution_count": 18,
   "metadata": {
    "collapsed": false
   },
   "outputs": [
    {
     "name": "stdout",
     "output_type": "stream",
     "text": [
      "Hello!\n",
      "\n"
     ]
    }
   ],
   "source": [
    "# This is a comment (typically single line)\n",
    "\"\"\"\n",
    "Triple quotes are used for large multi-line comments, and\n",
    "typically to document functions and modules (Docstrings)\n",
    "\"\"\"\n",
    "\n",
    "# here is how we print\n",
    "print \"Hello!\"\n",
    "print"
   ]
  },
  {
   "cell_type": "code",
   "execution_count": 19,
   "metadata": {
    "collapsed": false
   },
   "outputs": [
    {
     "name": "stdout",
     "output_type": "stream",
     "text": [
      "Print variables a, b, c 2 8 16\n",
      "\n"
     ]
    }
   ],
   "source": [
    "# here is some math:\n",
    "a = 1+1\t\t# Sum\n",
    "b = 2*4\t\t# Multiplication\n",
    "c = 2**4\t# Exponentiation (2^14 = 16)\n",
    "print \"Print variables a, b, c\", a, b, c\n",
    "print"
   ]
  },
  {
   "cell_type": "code",
   "execution_count": 20,
   "metadata": {
    "collapsed": false
   },
   "outputs": [
    {
     "name": "stdout",
     "output_type": "stream",
     "text": [
      "3 is in the list\n"
     ]
    }
   ],
   "source": [
    "a,b = 10,3\n",
    "my_list = [1, 2, 3, 4]\n",
    "\n",
    "# An if statement: Indentation is critical in python!\n",
    "if a in my_list and b not in my_list:\n",
    "\tprint a, \"is in the list\"\n",
    "elif b in my_list and a not in my_list:\n",
    "\tprint b, \"is in the list\"\n",
    "elif a in my_list and b in my_list:\n",
    "    print \"a \",a,\" and b \",b,\" are both in the list\"\n",
    "else:\n",
    "    print \"Neither\", a, \"or\", b, \"are in in the list\""
   ]
  },
  {
   "cell_type": "code",
   "execution_count": 21,
   "metadata": {
    "collapsed": false
   },
   "outputs": [
    {
     "name": "stdout",
     "output_type": "stream",
     "text": [
      "a  1  and b  3  are both in the list\n"
     ]
    }
   ],
   "source": [
    "a,b=1,3\n",
    "\n",
    "list = [1, 2, 3, 4]\n",
    "\t\t\t\t\t\n",
    "# An if statement: Indentation is critical in python!\n",
    "if a in my_list and b not in my_list:\n",
    "\tprint a, \"is in the list\"\n",
    "elif b in my_list and a not in my_list:\n",
    "\tprint b, \"is in the list\"\n",
    "elif a in my_list and b in my_list:\n",
    "\tprint \"a \",a,\" and b \",b,\" are both in the list\"\n",
    "else:\n",
    "\tprint \"Neither\", a, \"or\", b, \"are in in the list\""
   ]
  },
  {
   "cell_type": "code",
   "execution_count": 22,
   "metadata": {
    "collapsed": false
   },
   "outputs": [
    {
     "name": "stdout",
     "output_type": "stream",
     "text": [
      "\n",
      "range_list is:  [1, 2, 3, 4, 5, 6, 7, 8, 9]\n",
      "\n",
      "\n",
      "the range_list is:  [354, 355, 356, 357, 358, 359, 360, 361, 362]\n",
      "\n"
     ]
    }
   ],
   "source": [
    "## the range function simply returns a list of numbers in the specified range\n",
    "range_list=range(1,10)\n",
    "\n",
    "print\n",
    "print \"range_list is: \", range_list\n",
    "print\n",
    "\n",
    "range_list=range(354,363)\n",
    "\n",
    "print\n",
    "print \"the range_list is: \", range_list\n",
    "print"
   ]
  },
  {
   "cell_type": "code",
   "execution_count": 23,
   "metadata": {
    "collapsed": false
   },
   "outputs": [
    {
     "name": "stdout",
     "output_type": "stream",
     "text": [
      "Loop through integers between 1 and 5:\n",
      "i is:  1\n",
      "i is:  2\n",
      "i is:  3\n",
      "i is:  4\n",
      "Integers between 1 and 5:\n",
      "i is:  1\n",
      "i is:  2\n",
      "i is:  3\n",
      "i is:  4\n",
      "i is:  5\n"
     ]
    }
   ],
   "source": [
    "## the range function is useful for creating for loops\n",
    "print \"Loop through integers between 1 and 5:\"\n",
    "for i in range(1, 5):\n",
    "    print \"i is: \", i\n",
    "\n",
    "# is equivalent to\n",
    "\n",
    "print \"Integers between 1 and 5:\"\n",
    "for i in [1,2,3,4,5]:\n",
    "    print \"i is: \", i"
   ]
  },
  {
   "cell_type": "code",
   "execution_count": 24,
   "metadata": {
    "collapsed": false
   },
   "outputs": [
    {
     "name": "stdout",
     "output_type": "stream",
     "text": [
      "Loop through a list\n",
      "The team is:  Blue Jays\n",
      "The team is:  Yankees\n",
      "The team is:  Red Sox\n",
      "The team is:  Rays\n",
      "The team is:  Orioles\n"
     ]
    }
   ],
   "source": [
    "print \"Loop through a list\"\n",
    "\n",
    "team_list=[\"Blue Jays\", \"Yankees\", \"Red Sox\", \"Rays\", \"Orioles\"]\n",
    "\n",
    "for team in team_list:\n",
    "    print \"The team is: \", team"
   ]
  },
  {
   "cell_type": "code",
   "execution_count": 25,
   "metadata": {
    "collapsed": false
   },
   "outputs": [
    {
     "name": "stdout",
     "output_type": "stream",
     "text": [
      "[Line 09] Python PI= 3.14159265359\n",
      "A random team: Oilers\n"
     ]
    }
   ],
   "source": [
    "# Importing a Python module:\n",
    "import math\n",
    "print \"[Line 09]\", \"Python PI=\", math.pi # https://docs.python.org/2/library/math.html\n",
    "\n",
    "\n",
    "# The import statement can occur anywhere in a script\n",
    "my_teams = [\"Blue Jays\", \"Oilers\", \"Raptors\", \"Bills\"]\n",
    "import random\n",
    "print \"A random team:\", random.choice(my_teams) # https://docs.python.org/2/library/random.html"
   ]
  },
  {
   "cell_type": "code",
   "execution_count": 26,
   "metadata": {
    "collapsed": true
   },
   "outputs": [],
   "source": [
    "# Functions are defined with <def>. Return values are\n",
    "# specified by a <return> statement. Here is a function\n",
    "# without arguments:\n",
    "def today():\n",
    "    \"\"\"This function returns a string of today's date\"\"\"\n",
    "    import datetime\t\t# https://docs.python.org/2/library/datetime.html\n",
    "    td = datetime.date.today()\n",
    "    return td"
   ]
  },
  {
   "cell_type": "code",
   "execution_count": 27,
   "metadata": {
    "collapsed": false
   },
   "outputs": [
    {
     "name": "stdout",
     "output_type": "stream",
     "text": [
      "today() returned 2016-02-01\n",
      "str(today()) returned 2016-02-01\n"
     ]
    }
   ],
   "source": [
    "print \"today() returned\", today()\n",
    "print  \"str(today()) returned\", str(today())\t"
   ]
  },
  {
   "cell_type": "code",
   "execution_count": 10,
   "metadata": {
    "collapsed": false
   },
   "outputs": [],
   "source": [
    "import numpy as np\n",
    "\n",
    "n=10\n",
    "a_list = range(n)\n",
    "a_array = np.arange(n)"
   ]
  },
  {
   "cell_type": "code",
   "execution_count": 11,
   "metadata": {
    "collapsed": false
   },
   "outputs": [
    {
     "name": "stdout",
     "output_type": "stream",
     "text": [
      "[0, 1, 2, 3, 4, 5, 6, 7, 8, 9]\n",
      "[0 1 2 3 4 5 6 7 8 9]\n"
     ]
    }
   ],
   "source": [
    "print a_list\n",
    "print a_array"
   ]
  },
  {
   "cell_type": "code",
   "execution_count": 12,
   "metadata": {
    "collapsed": false
   },
   "outputs": [
    {
     "name": "stdout",
     "output_type": "stream",
     "text": [
      "[0, 1, 2, 3, 4, 5, 6, 7, 8, 9, 0, 1, 2, 3, 4, 5, 6, 7, 8, 9]\n",
      "[ 0  2  4  6  8 10 12 14 16 18]\n"
     ]
    }
   ],
   "source": [
    "print a_list*2\n",
    "print a_array*2"
   ]
  },
  {
   "cell_type": "code",
   "execution_count": 13,
   "metadata": {
    "collapsed": false
   },
   "outputs": [
    {
     "name": "stdout",
     "output_type": "stream",
     "text": [
      "[0, 1, 2, 3, 4, 5, 6, 7, 8, 9, 'dog']\n"
     ]
    }
   ],
   "source": [
    "a_list.append(\"dog\")\n",
    "print a_list"
   ]
  },
  {
   "cell_type": "code",
   "execution_count": 14,
   "metadata": {
    "collapsed": false
   },
   "outputs": [
    {
     "ename": "AttributeError",
     "evalue": "'numpy.ndarray' object has no attribute 'append'",
     "output_type": "error",
     "traceback": [
      "\u001b[1;31m---------------------------------------------------------------------------\u001b[0m",
      "\u001b[1;31mAttributeError\u001b[0m                            Traceback (most recent call last)",
      "\u001b[1;32m<ipython-input-14-e9864960f5fa>\u001b[0m in \u001b[0;36m<module>\u001b[1;34m()\u001b[0m\n\u001b[1;32m----> 1\u001b[1;33m \u001b[0ma_array\u001b[0m\u001b[1;33m.\u001b[0m\u001b[0mappend\u001b[0m\u001b[1;33m(\u001b[0m\u001b[1;34m\"dog\"\u001b[0m\u001b[1;33m)\u001b[0m\u001b[1;33m\u001b[0m\u001b[0m\n\u001b[0m",
      "\u001b[1;31mAttributeError\u001b[0m: 'numpy.ndarray' object has no attribute 'append'"
     ]
    }
   ],
   "source": [
    "a_array.append(\"dog\")"
   ]
  },
  {
   "cell_type": "code",
   "execution_count": 15,
   "metadata": {
    "collapsed": false
   },
   "outputs": [
    {
     "name": "stdout",
     "output_type": "stream",
     "text": [
      "[0, 1, 2, 3, 4, 5, 6, 7, 8, 9, 'dog', 0, 1, 2, 3, 4, 5, 6, 7, 8, 9, 'dog', 0, 1, 2, 3, 4, 5, 6, 7, 8, 9, 'dog']\n",
      "[ 0  3  6  9 12 15 18 21 24 27]\n"
     ]
    }
   ],
   "source": [
    "mul_list=a_list*3\n",
    "print mul_list\n",
    "mul_array=a_array*3\n",
    "print mul_array"
   ]
  },
  {
   "cell_type": "code",
   "execution_count": 16,
   "metadata": {
    "collapsed": false
   },
   "outputs": [
    {
     "name": "stdout",
     "output_type": "stream",
     "text": [
      "[4 5]\n"
     ]
    }
   ],
   "source": [
    "test=np.arange(4,6)\n",
    "print test"
   ]
  },
  {
   "cell_type": "code",
   "execution_count": 17,
   "metadata": {
    "collapsed": false
   },
   "outputs": [
    {
     "name": "stdout",
     "output_type": "stream",
     "text": [
      "[1 2 3]\n",
      "[4 5 6]\n",
      "[1, 2, 3, 4, 5, 6]\n",
      "[5 7 9]\n"
     ]
    }
   ],
   "source": [
    "list1=[1,2,3]\n",
    "list2=[4,5,6]\n",
    "array1=np.arange(1,4)\n",
    "array2=np.arange(4,7)\n",
    "\n",
    "print array1\n",
    "print array2\n",
    "\n",
    "list3=list1+list2\n",
    "array3=array1+array2\n",
    "\n",
    "print list3\n",
    "print array3"
   ]
  },
  {
   "cell_type": "code",
   "execution_count": 12,
   "metadata": {
    "collapsed": false
   },
   "outputs": [
    {
     "name": "stdout",
     "output_type": "stream",
     "text": [
      "[[20 40]\n",
      " [10 20]]\n",
      "(2, 2)\n"
     ]
    }
   ],
   "source": [
    "array_2d=np.array([[20, 40],[10,20]])\n",
    "print array_2d\n",
    "print array_2d.shape"
   ]
  },
  {
   "cell_type": "code",
   "execution_count": 2,
   "metadata": {
    "collapsed": false
   },
   "outputs": [
    {
     "name": "stdout",
     "output_type": "stream",
     "text": [
      "[233  12 100]\n",
      "(3,)\n"
     ]
    }
   ],
   "source": [
    "import numpy as np\n",
    "\n",
    "array_1d=np.array([233, 12, 100])\n",
    "print array_1d\n",
    "\n",
    "# the shape function show the size of the array\n",
    "print array_1d.shape"
   ]
  },
  {
   "cell_type": "code",
   "execution_count": 14,
   "metadata": {
    "collapsed": false
   },
   "outputs": [
    {
     "name": "stdout",
     "output_type": "stream",
     "text": [
      "[[20 40]\n",
      " [10 20]]\n",
      "(2, 2)\n"
     ]
    }
   ],
   "source": [
    "array_2d=np.array([[20, 40],[10,20]])\n",
    "print array_2d\n",
    "print array_2d.shape"
   ]
  },
  {
   "cell_type": "code",
   "execution_count": 15,
   "metadata": {
    "collapsed": false
   },
   "outputs": [
    {
     "name": "stdout",
     "output_type": "stream",
     "text": [
      "the numbers are 20 40 10 20\n"
     ]
    }
   ],
   "source": [
    "test1=array_2d[0,0]\n",
    "test2=array_2d[0,1]\n",
    "test3=array_2d[1,0]\n",
    "test4=array_2d[1,1]\n",
    "\t\t\t\t\n",
    "print \"the numbers are\",test1,test2,test3,test4"
   ]
  },
  {
   "cell_type": "code",
   "execution_count": 19,
   "metadata": {
    "collapsed": false
   },
   "outputs": [
    {
     "name": "stdout",
     "output_type": "stream",
     "text": [
      "[0 1 2 3]\n",
      "[ 0.  1.  2.  3.]\n"
     ]
    }
   ],
   "source": [
    "int_array=np.array([0,1,2,3], dtype=np.uint16)\n",
    "float32_array=np.array([0,1,2,3], dtype=np.float32)\n",
    "\n",
    "print int_array\n",
    "print float32_array"
   ]
  },
  {
   "cell_type": "code",
   "execution_count": 25,
   "metadata": {
    "collapsed": false
   },
   "outputs": [
    {
     "name": "stdout",
     "output_type": "stream",
     "text": [
      "[ 0  1  2  3  4  5  6  7  8  9 10 11 12 13 14]\n",
      "sliced 4:11 [ 4  5  6  7  8  9 10]\n",
      "sliced 2:12:3: [ 2  5  8 11]\n",
      "indexed -1: 14\n",
      "sliced 2:-10:-2 [8 7 6 5 4 3]\n"
     ]
    }
   ],
   "source": [
    "a=np.arange(15)\n",
    "print a\n",
    "\n",
    "b=a[4:11]\n",
    "print \"sliced 4:11\",b\n",
    "\n",
    "c=a[2:12:3]\n",
    "print \"sliced 2:12:3:\",c\n",
    "\n",
    "d=a[-1]\n",
    "print \"indexed -1:\",d\n",
    "\n",
    "e=a[8:2:-1]\n",
    "print \"sliced 2:-10:-2\",e"
   ]
  },
  {
   "cell_type": "code",
   "execution_count": 28,
   "metadata": {
    "collapsed": false
   },
   "outputs": [
    {
     "name": "stdout",
     "output_type": "stream",
     "text": [
      "before reshaping: \n",
      "[ 0  1  2  3  4  5  6  7  8  9 10 11 12 13 14]\n",
      "(15,)\n",
      "after reshaping: \n",
      "[[ 0  1  2]\n",
      " [ 3  4  5]\n",
      " [ 6  7  8]\n",
      " [ 9 10 11]\n",
      " [12 13 14]]\n",
      "(5, 3)\n"
     ]
    }
   ],
   "source": [
    "a=np.arange(15)\n",
    "\n",
    "print \"before reshaping: \"\n",
    "print a\n",
    "print a.shape\n",
    "\n",
    "a.shape=(5,3)\n",
    "\n",
    "print \"after reshaping: \"\n",
    "print a\n",
    "print a.shape"
   ]
  },
  {
   "cell_type": "code",
   "execution_count": 4,
   "metadata": {
    "collapsed": false
   },
   "outputs": [
    {
     "name": "stdout",
     "output_type": "stream",
     "text": [
      "[[ 0  1  2  3  4]\n",
      " [ 5  6  7  8  9]\n",
      " [10 11 12 13 14]\n",
      " [15 16 17 18 19]]\n",
      "2\n",
      "(4, 5)\n",
      "20\n"
     ]
    }
   ],
   "source": [
    "test_array=np.arange(20).reshape(4,5)\n",
    "print test_array\n",
    "\n",
    "print test_array.ndim\n",
    "print test_array.shape\n",
    "print test_array.size"
   ]
  },
  {
   "cell_type": "code",
   "execution_count": 6,
   "metadata": {
    "collapsed": false
   },
   "outputs": [
    {
     "name": "stdout",
     "output_type": "stream",
     "text": [
      "2\n",
      "(4, 5)\n",
      "20\n",
      "160\n",
      "8\n"
     ]
    }
   ],
   "source": [
    "print test_array.ndim\n",
    "print test_array.shape\n",
    "print test_array.size\n",
    "print test_array.nbytes\n",
    "print test_array.itemsize"
   ]
  },
  {
   "cell_type": "code",
   "execution_count": 7,
   "metadata": {
    "collapsed": false
   },
   "outputs": [
    {
     "name": "stdout",
     "output_type": "stream",
     "text": [
      "[[ 0  5 10 15]\n",
      " [ 1  6 11 16]\n",
      " [ 2  7 12 17]\n",
      " [ 3  8 13 18]\n",
      " [ 4  9 14 19]]\n"
     ]
    }
   ],
   "source": [
    "print test_array.T"
   ]
  },
  {
   "cell_type": "code",
   "execution_count": 8,
   "metadata": {
    "collapsed": false
   },
   "outputs": [
    {
     "name": "stdout",
     "output_type": "stream",
     "text": [
      "(512, 512)\n"
     ]
    }
   ],
   "source": [
    "import scipy.misc\n",
    "import matplotlib.pyplot as plt\n",
    "\n",
    "lena = scipy.misc.lena()\n",
    "print lena.shape\n",
    "\n",
    "plt.imshow(lena)\n",
    "plt.show()"
   ]
  },
  {
   "cell_type": "code",
   "execution_count": 10,
   "metadata": {
    "collapsed": false
   },
   "outputs": [
    {
     "name": "stdout",
     "output_type": "stream",
     "text": [
      "<type 'numpy.ndarray'>\n",
      "(512, 512)\n",
      "int64\n",
      "2\n"
     ]
    }
   ],
   "source": [
    "print type(lena)\n",
    "print lena.shape\n",
    "print lena.dtype\n",
    "print lena.ndim"
   ]
  },
  {
   "cell_type": "code",
   "execution_count": 11,
   "metadata": {
    "collapsed": true
   },
   "outputs": [],
   "source": [
    "test_array=np.arange(10)\n",
    "test_array[ (test_array>3) & (test_array<7)]=15"
   ]
  },
  {
   "cell_type": "code",
   "execution_count": 12,
   "metadata": {
    "collapsed": false
   },
   "outputs": [
    {
     "name": "stdout",
     "output_type": "stream",
     "text": [
      "[ 0  1  2  3 15 15 15  7  8  9]\n"
     ]
    }
   ],
   "source": [
    "print test_array"
   ]
  },
  {
   "cell_type": "code",
   "execution_count": 11,
   "metadata": {
    "collapsed": false
   },
   "outputs": [
    {
     "name": "stdout",
     "output_type": "stream",
     "text": [
      "Content-Type: audio/wav\r\n",
      "Last-Modified: Tue, 12 Aug 2014 15:53:38 GMT\r\n",
      "Accept-Ranges: bytes\r\n",
      "ETag: \"ac20ba9445b6cf1:0\"\r\n",
      "Server: Microsoft-IIS/7.5\r\n",
      "X-Powered-By: ASP.NET\r\n",
      "Date: Sat, 14 Nov 2015 16:43:42 GMT\r\n",
      "Connection: close\r\n",
      "Content-Length: 43642\r\n",
      "\n"
     ]
    }
   ],
   "source": [
    "import scipy.io.wavfile\n",
    "import matplotlib.pyplot as plt\n",
    "import urllib2\n",
    "import numpy as np\n",
    "\n",
    "response = urllib2.urlopen('http://www.thesoundarchive.com/austinpowers/smashingbaby.wav')\n",
    "print response.info()\n",
    "WAV_FILE = 'austin.wav'\n",
    "filehandle = open(WAV_FILE, 'w')\n",
    "filehandle.write(response.read())\n",
    "filehandle.close()"
   ]
  },
  {
   "cell_type": "code",
   "execution_count": 12,
   "metadata": {
    "collapsed": false
   },
   "outputs": [
    {
     "name": "stdout",
     "output_type": "stream",
     "text": [
      "austin.wav\n",
      "Data type uint8 Shape (43584,)\n"
     ]
    }
   ],
   "source": [
    "print WAV_FILE\n",
    "sample_rate, data = scipy.io.wavfile.read('vader.wav')\n",
    "print \"Data type\", data.dtype, \"Shape\", data.shape"
   ]
  },
  {
   "cell_type": "code",
   "execution_count": null,
   "metadata": {
    "collapsed": false
   },
   "outputs": [],
   "source": [
    "plt.title(\"Sound File\")\n",
    "plt.plot(data)\n",
    "plt.show()\n"
   ]
  },
  {
   "cell_type": "code",
   "execution_count": 1,
   "metadata": {
    "collapsed": false
   },
   "outputs": [
    {
     "ename": "IOError",
     "evalue": "[Errno 2] No such file or directory: 'MLBTeams_2014.csv'",
     "output_type": "error",
     "traceback": [
      "\u001b[1;31m---------------------------------------------------------------------------\u001b[0m",
      "\u001b[1;31mIOError\u001b[0m                                   Traceback (most recent call last)",
      "\u001b[1;32m<ipython-input-1-4063682c451d>\u001b[0m in \u001b[0;36m<module>\u001b[1;34m()\u001b[0m\n\u001b[0;32m      3\u001b[0m \u001b[0mfile_name\u001b[0m\u001b[1;33m=\u001b[0m\u001b[1;34m\"MLBTeams_2014.csv\"\u001b[0m\u001b[1;33m\u001b[0m\u001b[0m\n\u001b[0;32m      4\u001b[0m \u001b[1;33m\u001b[0m\u001b[0m\n\u001b[1;32m----> 5\u001b[1;33m \u001b[0mdata_matrix\u001b[0m\u001b[1;33m=\u001b[0m\u001b[0mnp\u001b[0m\u001b[1;33m.\u001b[0m\u001b[0mloadtxt\u001b[0m\u001b[1;33m(\u001b[0m\u001b[0mfile_name\u001b[0m\u001b[1;33m,\u001b[0m \u001b[0mdelimiter\u001b[0m\u001b[1;33m=\u001b[0m\u001b[1;34m','\u001b[0m\u001b[1;33m,\u001b[0m \u001b[0musecols\u001b[0m\u001b[1;33m=\u001b[0m\u001b[1;33m(\u001b[0m\u001b[1;36m1\u001b[0m\u001b[1;33m,\u001b[0m\u001b[1;33m)\u001b[0m\u001b[1;33m,\u001b[0m \u001b[0mskiprows\u001b[0m\u001b[1;33m=\u001b[0m\u001b[1;36m1\u001b[0m\u001b[1;33m,\u001b[0m \u001b[0munpack\u001b[0m\u001b[1;33m=\u001b[0m\u001b[0mTrue\u001b[0m\u001b[1;33m)\u001b[0m\u001b[1;33m\u001b[0m\u001b[0m\n\u001b[0m\u001b[0;32m      6\u001b[0m \u001b[1;32mprint\u001b[0m \u001b[0mdata_matrix\u001b[0m\u001b[1;33m.\u001b[0m\u001b[0mshape\u001b[0m\u001b[1;33m\u001b[0m\u001b[0m\n",
      "\u001b[1;32m/home/bnorthan/anaconda/lib/python2.7/site-packages/numpy/lib/npyio.pyc\u001b[0m in \u001b[0;36mloadtxt\u001b[1;34m(fname, dtype, comments, delimiter, converters, skiprows, usecols, unpack, ndmin)\u001b[0m\n\u001b[0;32m    736\u001b[0m                 \u001b[0mfh\u001b[0m \u001b[1;33m=\u001b[0m \u001b[0miter\u001b[0m\u001b[1;33m(\u001b[0m\u001b[0mbz2\u001b[0m\u001b[1;33m.\u001b[0m\u001b[0mBZ2File\u001b[0m\u001b[1;33m(\u001b[0m\u001b[0mfname\u001b[0m\u001b[1;33m)\u001b[0m\u001b[1;33m)\u001b[0m\u001b[1;33m\u001b[0m\u001b[0m\n\u001b[0;32m    737\u001b[0m             \u001b[1;32melif\u001b[0m \u001b[0msys\u001b[0m\u001b[1;33m.\u001b[0m\u001b[0mversion_info\u001b[0m\u001b[1;33m[\u001b[0m\u001b[1;36m0\u001b[0m\u001b[1;33m]\u001b[0m \u001b[1;33m==\u001b[0m \u001b[1;36m2\u001b[0m\u001b[1;33m:\u001b[0m\u001b[1;33m\u001b[0m\u001b[0m\n\u001b[1;32m--> 738\u001b[1;33m                 \u001b[0mfh\u001b[0m \u001b[1;33m=\u001b[0m \u001b[0miter\u001b[0m\u001b[1;33m(\u001b[0m\u001b[0mopen\u001b[0m\u001b[1;33m(\u001b[0m\u001b[0mfname\u001b[0m\u001b[1;33m,\u001b[0m \u001b[1;34m'U'\u001b[0m\u001b[1;33m)\u001b[0m\u001b[1;33m)\u001b[0m\u001b[1;33m\u001b[0m\u001b[0m\n\u001b[0m\u001b[0;32m    739\u001b[0m             \u001b[1;32melse\u001b[0m\u001b[1;33m:\u001b[0m\u001b[1;33m\u001b[0m\u001b[0m\n\u001b[0;32m    740\u001b[0m                 \u001b[0mfh\u001b[0m \u001b[1;33m=\u001b[0m \u001b[0miter\u001b[0m\u001b[1;33m(\u001b[0m\u001b[0mopen\u001b[0m\u001b[1;33m(\u001b[0m\u001b[0mfname\u001b[0m\u001b[1;33m)\u001b[0m\u001b[1;33m)\u001b[0m\u001b[1;33m\u001b[0m\u001b[0m\n",
      "\u001b[1;31mIOError\u001b[0m: [Errno 2] No such file or directory: 'MLBTeams_2014.csv'"
     ]
    }
   ],
   "source": [
    "import numpy as np \n",
    "\n",
    "file_name=\"MLBTeams_2014.csv\"\n",
    "\n",
    "data_matrix=np.loadtxt(file_name, delimiter=',', usecols=(1,), skiprows=1, unpack=True)\n",
    "print data_matrix.shape"
   ]
  },
  {
   "cell_type": "code",
   "execution_count": 9,
   "metadata": {
    "collapsed": false
   },
   "outputs": [
    {
     "name": "stdout",
     "output_type": "stream",
     "text": [
      "(2, 16)\n",
      "55.1875\n"
     ]
    }
   ],
   "source": [
    "import numpy as np \n",
    "\n",
    "file_name=\"../data/mlb/MLBTeams2014.csv\"\n",
    "\n",
    "data_matrix=np.loadtxt(file_name, delimiter=',', usecols=(1,4), skiprows=1, unpack=True)\n",
    "print data_matrix.shape\n",
    "print data_matrix.mean()"
   ]
  },
  {
   "cell_type": "code",
   "execution_count": 10,
   "metadata": {
    "collapsed": false
   },
   "outputs": [
    {
     "ename": "IOError",
     "evalue": "[Errno 2] No such file or directory: 'MLBTeams_2014.csv'",
     "output_type": "error",
     "traceback": [
      "\u001b[1;31m---------------------------------------------------------------------------\u001b[0m",
      "\u001b[1;31mIOError\u001b[0m                                   Traceback (most recent call last)",
      "\u001b[1;32m<ipython-input-10-4063682c451d>\u001b[0m in \u001b[0;36m<module>\u001b[1;34m()\u001b[0m\n\u001b[0;32m      3\u001b[0m \u001b[0mfile_name\u001b[0m\u001b[1;33m=\u001b[0m\u001b[1;34m\"MLBTeams_2014.csv\"\u001b[0m\u001b[1;33m\u001b[0m\u001b[0m\n\u001b[0;32m      4\u001b[0m \u001b[1;33m\u001b[0m\u001b[0m\n\u001b[1;32m----> 5\u001b[1;33m \u001b[0mdata_matrix\u001b[0m\u001b[1;33m=\u001b[0m\u001b[0mnp\u001b[0m\u001b[1;33m.\u001b[0m\u001b[0mloadtxt\u001b[0m\u001b[1;33m(\u001b[0m\u001b[0mfile_name\u001b[0m\u001b[1;33m,\u001b[0m \u001b[0mdelimiter\u001b[0m\u001b[1;33m=\u001b[0m\u001b[1;34m','\u001b[0m\u001b[1;33m,\u001b[0m \u001b[0musecols\u001b[0m\u001b[1;33m=\u001b[0m\u001b[1;33m(\u001b[0m\u001b[1;36m1\u001b[0m\u001b[1;33m,\u001b[0m\u001b[1;33m)\u001b[0m\u001b[1;33m,\u001b[0m \u001b[0mskiprows\u001b[0m\u001b[1;33m=\u001b[0m\u001b[1;36m1\u001b[0m\u001b[1;33m,\u001b[0m \u001b[0munpack\u001b[0m\u001b[1;33m=\u001b[0m\u001b[0mTrue\u001b[0m\u001b[1;33m)\u001b[0m\u001b[1;33m\u001b[0m\u001b[0m\n\u001b[0m\u001b[0;32m      6\u001b[0m \u001b[1;32mprint\u001b[0m \u001b[0mdata_matrix\u001b[0m\u001b[1;33m.\u001b[0m\u001b[0mshape\u001b[0m\u001b[1;33m\u001b[0m\u001b[0m\n",
      "\u001b[1;32m/home/bnorthan/anaconda/lib/python2.7/site-packages/numpy/lib/npyio.pyc\u001b[0m in \u001b[0;36mloadtxt\u001b[1;34m(fname, dtype, comments, delimiter, converters, skiprows, usecols, unpack, ndmin)\u001b[0m\n\u001b[0;32m    736\u001b[0m                 \u001b[0mfh\u001b[0m \u001b[1;33m=\u001b[0m \u001b[0miter\u001b[0m\u001b[1;33m(\u001b[0m\u001b[0mbz2\u001b[0m\u001b[1;33m.\u001b[0m\u001b[0mBZ2File\u001b[0m\u001b[1;33m(\u001b[0m\u001b[0mfname\u001b[0m\u001b[1;33m)\u001b[0m\u001b[1;33m)\u001b[0m\u001b[1;33m\u001b[0m\u001b[0m\n\u001b[0;32m    737\u001b[0m             \u001b[1;32melif\u001b[0m \u001b[0msys\u001b[0m\u001b[1;33m.\u001b[0m\u001b[0mversion_info\u001b[0m\u001b[1;33m[\u001b[0m\u001b[1;36m0\u001b[0m\u001b[1;33m]\u001b[0m \u001b[1;33m==\u001b[0m \u001b[1;36m2\u001b[0m\u001b[1;33m:\u001b[0m\u001b[1;33m\u001b[0m\u001b[0m\n\u001b[1;32m--> 738\u001b[1;33m                 \u001b[0mfh\u001b[0m \u001b[1;33m=\u001b[0m \u001b[0miter\u001b[0m\u001b[1;33m(\u001b[0m\u001b[0mopen\u001b[0m\u001b[1;33m(\u001b[0m\u001b[0mfname\u001b[0m\u001b[1;33m,\u001b[0m \u001b[1;34m'U'\u001b[0m\u001b[1;33m)\u001b[0m\u001b[1;33m)\u001b[0m\u001b[1;33m\u001b[0m\u001b[0m\n\u001b[0m\u001b[0;32m    739\u001b[0m             \u001b[1;32melse\u001b[0m\u001b[1;33m:\u001b[0m\u001b[1;33m\u001b[0m\u001b[0m\n\u001b[0;32m    740\u001b[0m                 \u001b[0mfh\u001b[0m \u001b[1;33m=\u001b[0m \u001b[0miter\u001b[0m\u001b[1;33m(\u001b[0m\u001b[0mopen\u001b[0m\u001b[1;33m(\u001b[0m\u001b[0mfname\u001b[0m\u001b[1;33m)\u001b[0m\u001b[1;33m)\u001b[0m\u001b[1;33m\u001b[0m\u001b[0m\n",
      "\u001b[1;31mIOError\u001b[0m: [Errno 2] No such file or directory: 'MLBTeams_2014.csv'"
     ]
    }
   ],
   "source": []
  },
  {
   "cell_type": "code",
   "execution_count": 11,
   "metadata": {
    "collapsed": false
   },
   "outputs": [
    {
     "name": "stdout",
     "output_type": "stream",
     "text": [
      "max is:  98.0\n",
      "min is:  27.2\n",
      "mean is:  55.1875\n",
      "standard deviation is:  27.488608436\n"
     ]
    }
   ],
   "source": [
    "print \"max is: \", data_matrix.max()\n",
    "print \"min is: \", data_matrix.min()\n",
    "print \"mean is: \", data_matrix.mean()\n",
    "print \"standard deviation is: \", data_matrix.std()"
   ]
  },
  {
   "cell_type": "code",
   "execution_count": 12,
   "metadata": {
    "collapsed": false
   },
   "outputs": [
    {
     "name": "stdout",
     "output_type": "stream",
     "text": [
      "max is:  17\n",
      "min is:  9\n"
     ]
    }
   ],
   "source": [
    "test_array=np.array([11,12,17,9,17])\n",
    "\n",
    "print \"max is: \", test_array.max()\n",
    "print \"min is: \", test_array.min()"
   ]
  },
  {
   "cell_type": "code",
   "execution_count": 17,
   "metadata": {
    "collapsed": false
   },
   "outputs": [
    {
     "name": "stdout",
     "output_type": "stream",
     "text": [
      "mean is:  13.2\n",
      "median is:  12.0\n",
      "mode is:  (array([17]), array([ 2.]))\n"
     ]
    }
   ],
   "source": [
    "import scipy.stats\n",
    "\n",
    "\n",
    "print \"mean is: \", test_array.mean()\n",
    "print \"median is: \", np.median(test_array)\n",
    "print \"mode is: \", scipy.stats.mode(test_array)"
   ]
  },
  {
   "cell_type": "code",
   "execution_count": 18,
   "metadata": {
    "collapsed": false
   },
   "outputs": [
    {
     "name": "stdout",
     "output_type": "stream",
     "text": [
      "A\n",
      "[[ 2  4  6]\n",
      " [ 4  2  6]\n",
      " [10 -4 18]]\n",
      "inverse of A\n",
      "[[-0.41666667  0.66666667 -0.08333333]\n",
      " [ 0.08333333  0.16666667 -0.08333333]\n",
      " [ 0.25       -0.33333333  0.08333333]]\n",
      "Check\n",
      "[[  1.00000000e+00   0.00000000e+00   0.00000000e+00]\n",
      " [ -2.22044605e-16   1.00000000e+00   0.00000000e+00]\n",
      " [ -8.88178420e-16   8.88178420e-16   1.00000000e+00]]\n",
      "Error\n",
      "[[ -1.11022302e-16   0.00000000e+00   0.00000000e+00]\n",
      " [ -2.22044605e-16   4.44089210e-16   0.00000000e+00]\n",
      " [ -8.88178420e-16   8.88178420e-16  -1.11022302e-16]]\n"
     ]
    }
   ],
   "source": [
    "import numpy as np\n",
    "\n",
    "A = np.mat(\"2 4 6;4 2 6;10 -4 18\")\n",
    "print \"A\\n\", A\n",
    "\n",
    "inverse = np.linalg.inv(A)\n",
    "print \"inverse of A\\n\", inverse\n",
    "\n",
    "print \"Check\\n\", A * inverse\n",
    "print \"Error\\n\", A * inverse - np.eye(3)"
   ]
  },
  {
   "cell_type": "code",
   "execution_count": 19,
   "metadata": {
    "collapsed": false
   },
   "outputs": [
    {
     "name": "stdout",
     "output_type": "stream",
     "text": [
      "[[ 1 11 21]\n",
      " [ 2 12 22]\n",
      " [ 3 13 23]]\n",
      "[[ 14]\n",
      " [ 74]\n",
      " [134]]\n",
      "[[  3.00239975e+14  -6.00479950e+14   3.00239975e+14]\n",
      " [ -6.00479950e+14   1.20095990e+15  -6.00479950e+14]\n",
      " [  3.00239975e+14  -6.00479950e+14   3.00239975e+14]]\n",
      "[[ 0.03333333]\n",
      " [-0.76666667]\n",
      " [ 0.83333333]]\n"
     ]
    }
   ],
   "source": [
    "from numpy import matrix\n",
    "from numpy import linalg\n",
    "A = matrix( [[1,2,3],[11,12,13],[21,22,23]]) # Creates a matrix.\n",
    "x = matrix( [[1],[2],[3]] )                  # Creates a matrix (like a column vector).\n",
    "y = matrix( [[1,2,3]] )                      # Creates a matrix (like a row vector).\n",
    "print A.T                                    # Transpose of A.\n",
    "print A*x                                    # Matrix multiplication of A and x.\n",
    "print A.I                                    # Inverse of A.\n",
    "print linalg.solve(A, x)     # Solve the linear equation system."
   ]
  },
  {
   "cell_type": "code",
   "execution_count": 26,
   "metadata": {
    "collapsed": false
   },
   "outputs": [
    {
     "name": "stdout",
     "output_type": "stream",
     "text": [
      "[[1 3]\n",
      " [4 2]]\n",
      "(2, 2)\n",
      "\n"
     ]
    }
   ],
   "source": [
    "A=np.mat([[1, 3], [4,2]])\n",
    "\n",
    "print A\n",
    "print A.shape\n",
    "print\n"
   ]
  },
  {
   "cell_type": "code",
   "execution_count": 29,
   "metadata": {
    "collapsed": false
   },
   "outputs": [
    {
     "name": "stdout",
     "output_type": "stream",
     "text": [
      "Eigenvalues are [-2.  5.]\n",
      "[-2.  5.]\n",
      "[[-0.70710678 -0.6       ]\n",
      " [ 0.70710678 -0.8       ]]\n"
     ]
    }
   ],
   "source": [
    "print \"Eigenvalues are\", np.linalg.eigvals(A)\n",
    "\n",
    "eigvals, eigvecs = np.linalg.eig(A)\n",
    "\n",
    "print eigvals\n",
    "print eigvecs"
   ]
  },
  {
   "cell_type": "code",
   "execution_count": 30,
   "metadata": {
    "collapsed": false
   },
   "outputs": [
    {
     "name": "stdout",
     "output_type": "stream",
     "text": [
      "[[4 6]]\n"
     ]
    }
   ],
   "source": [
    "print np.dot(A, [1,1])"
   ]
  },
  {
   "cell_type": "code",
   "execution_count": 36,
   "metadata": {
    "collapsed": false
   },
   "outputs": [
    {
     "name": "stdout",
     "output_type": "stream",
     "text": [
      "[[-0.70710678]\n",
      " [ 0.70710678]]\n",
      "(2, 1)\n",
      "\n",
      "[[ 1.41421356]\n",
      " [-1.41421356]]\n",
      "\n",
      "[[ 1.41421356]\n",
      " [-1.41421356]]\n"
     ]
    }
   ],
   "source": [
    "print eigvecs[:,0]\n",
    "print eigvecs[:,0].shape\n",
    "print\n",
    "print np.dot(A, eigvecs[:,0])\n",
    "print\n",
    "print eigvals[0]*eigvecs[:,0]"
   ]
  },
  {
   "cell_type": "code",
   "execution_count": 47,
   "metadata": {
    "collapsed": false
   },
   "outputs": [
    {
     "name": "stdout",
     "output_type": "stream",
     "text": [
      "[[3 5]\n",
      " [1 2]]\n",
      "\n",
      "[[1]\n",
      " [2]]\n",
      "\n",
      "mul by vector:  [[13]\n",
      " [ 5]]\n"
     ]
    }
   ],
   "source": [
    "import numpy as np\n",
    "\n",
    "matrix = np.mat([[3,5],[1,2]])\n",
    "print matrix\n",
    "print \n",
    "vector = np.array([[1],[2]])\n",
    "print vector\n",
    "print\n",
    "print \"mul by vector: \", np.dot(matrix,vector)\n"
   ]
  },
  {
   "cell_type": "code",
   "execution_count": 48,
   "metadata": {
    "collapsed": false
   },
   "outputs": [
    {
     "name": "stdout",
     "output_type": "stream",
     "text": [
      "[[3 5]\n",
      " [1 2]]\n",
      "\n"
     ]
    }
   ],
   "source": [
    "import numpy as np\n",
    "\n",
    "# 2 by 2 matrix\n",
    "matrix = np.mat([[3,5],[1,2]])\n",
    "print matrix\n",
    "print"
   ]
  },
  {
   "cell_type": "code",
   "execution_count": 49,
   "metadata": {
    "collapsed": false
   },
   "outputs": [
    {
     "name": "stdout",
     "output_type": "stream",
     "text": [
      "[1 2]\n",
      "(2,)\n",
      "\n",
      "[[1]\n",
      " [2]]\n",
      "(2, 1)\n"
     ]
    }
   ],
   "source": [
    "import numpy as np\n",
    "\n",
    "# 1 (row) by 2 (collumn) vector\n",
    "vector1=np.array([1,2])\n",
    "print vector1\n",
    "print vector1.shape\n",
    "print\n",
    "\n",
    "# 2 (rows) by 1 (collumn) vector \n",
    "vector2 = np.array([[1],[2]])\n",
    "print vector2\n",
    "print vector2.shape"
   ]
  },
  {
   "cell_type": "code",
   "execution_count": 106,
   "metadata": {
    "collapsed": false
   },
   "outputs": [],
   "source": [
    "import numpy as np\n",
    "import matplotlib.pyplot as py\n",
    "\n",
    "games=160\n",
    "seasons=20\n",
    "\n"
   ]
  },
  {
   "cell_type": "code",
   "execution_count": 125,
   "metadata": {
    "collapsed": false
   },
   "outputs": [
    {
     "data": {
      "text/plain": [
       "[<matplotlib.lines.Line2D at 0x7fb928501d10>]"
      ]
     },
     "execution_count": 125,
     "metadata": {},
     "output_type": "execute_result"
    },
    {
     "data": {
      "image/png": "[encoded data removed]",
      "text/plain": [
       "<matplotlib.figure.Figure at 0x7fb9282189d0>"
      ]
     },
     "metadata": {},
     "output_type": "display_data"
    }
   ],
   "source": [
    "%matplotlib inline\n",
    "\n",
    "outcome=np.random.binomial(4, 0.3, games)\n",
    "avg=np.zeros(games)\n",
    "ab, hits=0.0, 0.0\n",
    "\n",
    "for i in range(0,games):\n",
    "    ab=ab+4\n",
    "    hits=hits+outcome[i]\n",
    "    avg[i]=hits/ab\n",
    "\n",
    "py.plot(np.arange(games),avg)\n"
   ]
  },
  {
   "cell_type": "code",
   "execution_count": 109,
   "metadata": {
    "collapsed": false
   },
   "outputs": [
    {
     "name": "stdout",
     "output_type": "stream",
     "text": [
      "0.2828125\n",
      "0.2171875\n",
      "0.255859375\n",
      "0.0\n",
      "0.0\n",
      "0.0\n"
     ]
    }
   ],
   "source": [
    "career=np.zeros(seasons)\n",
    "\n",
    "for i in range(0,seasons):\n",
    "    \n",
    "    outcome=np.random.binomial(4, 0.25, games)\n",
    "   \n",
    "    avg=np.zeros(games)\n",
    "    hits, ab=0., 0., 0.\n",
    "    \n",
    "    for j in range(0,games):\n",
    "        ab=ab+4\n",
    "        hits=hits+outcome[j]\n",
    "        avg[j]=hits/ab\n",
    "        \n",
    "    career[i]=avg[games-1]\n",
    "    \n",
    "\n",
    "print career.max()\n",
    "print career.min()\n",
    "print career.mean()\n",
    "\n",
    "\n"
   ]
  },
  {
   "cell_type": "code",
   "execution_count": 103,
   "metadata": {
    "collapsed": false
   },
   "outputs": [
    {
     "name": "stdout",
     "output_type": "stream",
     "text": [
      "632\n",
      "31.6\n"
     ]
    }
   ],
   "source": [
    "print 158*4\n",
    "print 158*4*0.05"
   ]
  },
  {
   "cell_type": "code",
   "execution_count": 44,
   "metadata": {
    "collapsed": false
   },
   "outputs": [
    {
     "name": "stdout",
     "output_type": "stream",
     "text": [
      "(2000,)\n",
      "(2000,)\n"
     ]
    }
   ],
   "source": [
    "print career.shape\n",
    "print test.shape\n"
   ]
  },
  {
   "cell_type": "code",
   "execution_count": 19,
   "metadata": {
    "collapsed": false
   },
   "outputs": [
    {
     "name": "stdout",
     "output_type": "stream",
     "text": [
      "0.312101910828\n"
     ]
    }
   ],
   "source": [
    "print avg[games-1]"
   ]
  },
  {
   "cell_type": "code",
   "execution_count": 142,
   "metadata": {
    "collapsed": false
   },
   "outputs": [
    {
     "name": "stdout",
     "output_type": "stream",
     "text": [
      "5\n"
     ]
    }
   ],
   "source": [
    "import numpy as np\n",
    "import matplotlib.pyplot as py\n",
    "\n",
    "num_trials=10\n",
    "chance_of_success=.5\n",
    "\n",
    "num_sucesses=np.random.binomial(num_trials, chance_of_success)\n",
    "\n",
    "print num_sucesses"
   ]
  },
  {
   "cell_type": "code",
   "execution_count": 146,
   "metadata": {
    "collapsed": false
   },
   "outputs": [
    {
     "data": {
      "text/plain": [
       "[<matplotlib.lines.Line2D at 0x7fb930139190>]"
      ]
     },
     "execution_count": 146,
     "metadata": {},
     "output_type": "execute_result"
    },
    {
     "data": {
      "image/png": "[encoded data removed]",
      "text/plain": [
       "<matplotlib.figure.Figure at 0x7fb930181610>"
      ]
     },
     "metadata": {},
     "output_type": "display_data"
    }
   ],
   "source": [
    "%matplotlib inline\n",
    "\n",
    "outcome=np.random.binomial(4, 0.3, games)\n",
    "avg=np.zeros(games)\n",
    "ab, hits=0.0, 0.0\n",
    "\n",
    "for i in range(0,games):\n",
    "    ab=ab+4\n",
    "    hits=hits+outcome[i]\n",
    "    avg[i]=hits/ab\n",
    "\n",
    "py.plot(np.arange(games),avg)"
   ]
  },
  {
   "cell_type": "code",
   "execution_count": 161,
   "metadata": {
    "collapsed": false
   },
   "outputs": [],
   "source": [
    "%matplotlib inline\n",
    "\n",
    "import numpy as np\n",
    "import matplotlib.pyplot as plt\n",
    "\n",
    "def plotNormal(mean, std, num_samples):\n",
    "    normal=np.random.normal(mean, std, num_samples)\n",
    "    plt.plot(np.arange(num_samples), normal)\n",
    "    plt.title(str(num_samples,)+\" random samples\")\n",
    "    plt.show()\n",
    "    \n",
    "    plt.hist(normal, np.sqrt(num_samples))\n",
    "    plt.title(\"Histogram of \"+str(num_samples)+\" samples.\")\n",
    "    "
   ]
  },
  {
   "cell_type": "code",
   "execution_count": 165,
   "metadata": {
    "collapsed": false
   },
   "outputs": [
    {
     "data": {
      "image/png": "[encoded data removed]",
      "text/plain": [
       "<matplotlib.figure.Figure at 0x7fb9301c7590>"
      ]
     },
     "metadata": {},
     "output_type": "display_data"
    },
    {
     "data": {
      "image/png": "[encoded data removed]",
      "text/plain": [
       "<matplotlib.figure.Figure at 0x7fb918fec0d0>"
      ]
     },
     "metadata": {},
     "output_type": "display_data"
    }
   ],
   "source": [
    "plotNormal(10, 5, 20000)"
   ]
  },
  {
   "cell_type": "raw",
   "metadata": {},
   "source": [
    "help(np.random.normal)"
   ]
  },
  {
   "cell_type": "code",
   "execution_count": 166,
   "metadata": {
    "collapsed": false
   },
   "outputs": [
    {
     "name": "stdout",
     "output_type": "stream",
     "text": [
      "Help on method choice in module random:\n",
      "\n",
      "choice(self, seq) method of random.Random instance\n",
      "    Choose a random element from a non-empty sequence.\n",
      "\n"
     ]
    }
   ],
   "source": [
    "import random\n",
    "help(random.choice)"
   ]
  },
  {
   "cell_type": "code",
   "execution_count": null,
   "metadata": {
    "collapsed": true
   },
   "outputs": [],
   "source": []
  }
 ],
 "metadata": {
  "kernelspec": {
   "display_name": "Python 2",
   "language": "python",
   "name": "python2"
  },
  "language_info": {
   "codemirror_mode": {
    "name": "ipython",
    "version": 2
   },
   "file_extension": ".py",
   "mimetype": "text/x-python",
   "name": "python",
   "nbconvert_exporter": "python",
   "pygments_lexer": "ipython2",
   "version": "2.7.11"
  }
 },
 "nbformat": 4,
 "nbformat_minor": 0
}

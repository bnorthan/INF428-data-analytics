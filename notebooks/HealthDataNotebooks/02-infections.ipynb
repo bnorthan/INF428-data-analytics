{
 "cells": [
  {
   "cell_type": "markdown",
   "metadata": {},
   "source": [
    "# Introduction  "
   ]
  },
  {
   "cell_type": "markdown",
   "metadata": {},
   "source": [
    "This example shows how to plot a composition for data that is changing over time when there are only a small number of time periods.  Two plots will be created.\n",
    "\n",
    "- **A Stacked Column Chart to show relative and absolute differences between groups.  This chart also allows us to easily compare group totals.**\n",
    "- **A 100% Stacked Column Chart to show relative differences between groups.** \n",
    "\n",
    "### Objectives\n",
    "\n",
    "The example uses yearly data on hospital acquired infections.  Infection data from two hospitals is compared over 3 years.  We want to:\n",
    "\n",
    "- **Load the data from a file into memory**\n",
    "- **Explore the data as to understand what it contains and how it is organized**\n",
    "- **Choose the data we want to plot**\n",
    "- **Choose an appropriate type of plot**\n",
    "- **Plot the data**"
   ]
  },
  {
   "cell_type": "markdown",
   "metadata": {},
   "source": [
    "### Importing Modules\n",
    "\n",
    "In this example we need extra functionality for plotting (matplotlib), math (numpy) and data handling (pandas)."
   ]
  },
  {
   "cell_type": "code",
   "execution_count": 1,
   "metadata": {
    "collapsed": false
   },
   "outputs": [],
   "source": [
    "%matplotlib inline\n",
    "from matplotlib import pylab as plt\n",
    "import numpy as np\n",
    "import pandas as pd  \n"
   ]
  },
  {
   "cell_type": "markdown",
   "metadata": {},
   "source": [
    "First we read the data using the `Pandas` library.  The pandas `read_csv` function reads the data from the file and places it in an appropriate data structure.  If we are new to a library like `Pandas` then after we call a function it is useful to print the return type."
   ]
  },
  {
   "cell_type": "code",
   "execution_count": 2,
   "metadata": {
    "collapsed": false
   },
   "outputs": [
    {
     "name": "stdout",
     "output_type": "stream",
     "text": [
      "<class 'pandas.core.frame.DataFrame'>\n"
     ]
    }
   ],
   "source": [
    "df = pd.read_csv(\"Hospital-Acquired_Infections__Beginning_2008.csv\")\n",
    "print type(df)"
   ]
  },
  {
   "cell_type": "markdown",
   "metadata": {},
   "source": [
    "The return type is a `pandas.core.frame.Dataframe`.  Google is our friend here.  When we google `pandas dataframe` one of the first results is a blog style tutorial http://www.gregreda.com/2013/10/26/working-with-pandas-dataframes/ that we can use to quickly gain knowledge we need to achieve a task.  This blog contains a few useful tricks.  For example we can take a look at the columns of the dataframe to get a feel for the information in the dataset. "
   ]
  },
  {
   "cell_type": "code",
   "execution_count": 3,
   "metadata": {
    "collapsed": false
   },
   "outputs": [
    {
     "data": {
      "text/plain": [
       "Index([u'Facility Id', u'Hospital Name', u'Indicator Name', u'Year',\n",
       "       u'Infections observed', u'Infections predicted', u'Denominator',\n",
       "       u'Indicator value', u'Indicator Lower confidence limit',\n",
       "       u'Indicator Upper confidence limit', u'Indicator units',\n",
       "       u'Comparison results', u'Location 1'],\n",
       "      dtype='object')"
      ]
     },
     "execution_count": 3,
     "metadata": {},
     "output_type": "execute_result"
    }
   ],
   "source": [
    "df.columns"
   ]
  },
  {
   "cell_type": "markdown",
   "metadata": {},
   "source": [
    "The column names tell us what kind of data the structure contains.  In this case data about Hospitals, Indicators, and Infections.  It is also useful to look at the head (first 5 rows) of the data in order to learn more about how the data is organized."
   ]
  },
  {
   "cell_type": "code",
   "execution_count": 4,
   "metadata": {
    "collapsed": false
   },
   "outputs": [
    {
     "data": {
      "text/html": [
       "<div>\n",
       "<table border=\"1\" class=\"dataframe\">\n",
       "  <thead>\n",
       "    <tr style=\"text-align: right;\">\n",
       "      <th></th>\n",
       "      <th>Facility Id</th>\n",
       "      <th>Hospital Name</th>\n",
       "      <th>Indicator Name</th>\n",
       "      <th>Year</th>\n",
       "      <th>Infections observed</th>\n",
       "      <th>Infections predicted</th>\n",
       "      <th>Denominator</th>\n",
       "      <th>Indicator value</th>\n",
       "      <th>Indicator Lower confidence limit</th>\n",
       "      <th>Indicator Upper confidence limit</th>\n",
       "      <th>Indicator units</th>\n",
       "      <th>Comparison results</th>\n",
       "      <th>Location 1</th>\n",
       "    </tr>\n",
       "  </thead>\n",
       "  <tbody>\n",
       "    <tr>\n",
       "      <th>0</th>\n",
       "      <td>0</td>\n",
       "      <td>New York State - All Hospitals</td>\n",
       "      <td>SSI Overall Standardized Infection Ratio</td>\n",
       "      <td>2012</td>\n",
       "      <td>1618</td>\n",
       "      <td>NaN</td>\n",
       "      <td>NaN</td>\n",
       "      <td>1.00</td>\n",
       "      <td>NaN</td>\n",
       "      <td>NaN</td>\n",
       "      <td>NaN</td>\n",
       "      <td>NaN</td>\n",
       "      <td>NaN</td>\n",
       "    </tr>\n",
       "    <tr>\n",
       "      <th>1</th>\n",
       "      <td>0</td>\n",
       "      <td>New York State - All Hospitals</td>\n",
       "      <td>CDI Hospital Onset</td>\n",
       "      <td>2012</td>\n",
       "      <td>9904</td>\n",
       "      <td>NaN</td>\n",
       "      <td>11948043</td>\n",
       "      <td>8.29</td>\n",
       "      <td>NaN</td>\n",
       "      <td>NaN</td>\n",
       "      <td># hospital onset cases per 10,000 patient days...</td>\n",
       "      <td>NaN</td>\n",
       "      <td>NaN</td>\n",
       "    </tr>\n",
       "    <tr>\n",
       "      <th>2</th>\n",
       "      <td>0</td>\n",
       "      <td>New York State - All Hospitals</td>\n",
       "      <td>CLABSI Cardiothoracic ICU</td>\n",
       "      <td>2012</td>\n",
       "      <td>67</td>\n",
       "      <td>NaN</td>\n",
       "      <td>75757</td>\n",
       "      <td>0.88</td>\n",
       "      <td>NaN</td>\n",
       "      <td>NaN</td>\n",
       "      <td># CLABSI per 1000 line days</td>\n",
       "      <td>NaN</td>\n",
       "      <td>NaN</td>\n",
       "    </tr>\n",
       "    <tr>\n",
       "      <th>3</th>\n",
       "      <td>0</td>\n",
       "      <td>New York State - All Hospitals</td>\n",
       "      <td>CLABSI Coronary ICU</td>\n",
       "      <td>2012</td>\n",
       "      <td>60</td>\n",
       "      <td>NaN</td>\n",
       "      <td>48540</td>\n",
       "      <td>1.24</td>\n",
       "      <td>NaN</td>\n",
       "      <td>NaN</td>\n",
       "      <td># CLABSI per 1000 line days</td>\n",
       "      <td>NaN</td>\n",
       "      <td>NaN</td>\n",
       "    </tr>\n",
       "    <tr>\n",
       "      <th>4</th>\n",
       "      <td>0</td>\n",
       "      <td>New York State - All Hospitals</td>\n",
       "      <td>CLABSI Medical ICU</td>\n",
       "      <td>2012</td>\n",
       "      <td>130</td>\n",
       "      <td>NaN</td>\n",
       "      <td>107618</td>\n",
       "      <td>1.21</td>\n",
       "      <td>NaN</td>\n",
       "      <td>NaN</td>\n",
       "      <td># CLABSI per 1000 line days</td>\n",
       "      <td>NaN</td>\n",
       "      <td>NaN</td>\n",
       "    </tr>\n",
       "  </tbody>\n",
       "</table>\n",
       "</div>"
      ],
      "text/plain": [
       "   Facility Id                   Hospital Name  \\\n",
       "0            0  New York State - All Hospitals   \n",
       "1            0  New York State - All Hospitals   \n",
       "2            0  New York State - All Hospitals   \n",
       "3            0  New York State - All Hospitals   \n",
       "4            0  New York State - All Hospitals   \n",
       "\n",
       "                             Indicator Name  Year  Infections observed  \\\n",
       "0  SSI Overall Standardized Infection Ratio  2012                 1618   \n",
       "1                        CDI Hospital Onset  2012                 9904   \n",
       "2                 CLABSI Cardiothoracic ICU  2012                   67   \n",
       "3                       CLABSI Coronary ICU  2012                   60   \n",
       "4                        CLABSI Medical ICU  2012                  130   \n",
       "\n",
       "   Infections predicted  Denominator  Indicator value  \\\n",
       "0                   NaN          NaN             1.00   \n",
       "1                   NaN     11948043             8.29   \n",
       "2                   NaN        75757             0.88   \n",
       "3                   NaN        48540             1.24   \n",
       "4                   NaN       107618             1.21   \n",
       "\n",
       "   Indicator Lower confidence limit  Indicator Upper confidence limit  \\\n",
       "0                               NaN                               NaN   \n",
       "1                               NaN                               NaN   \n",
       "2                               NaN                               NaN   \n",
       "3                               NaN                               NaN   \n",
       "4                               NaN                               NaN   \n",
       "\n",
       "                                     Indicator units Comparison results  \\\n",
       "0                                                NaN                NaN   \n",
       "1  # hospital onset cases per 10,000 patient days...                NaN   \n",
       "2                        # CLABSI per 1000 line days                NaN   \n",
       "3                        # CLABSI per 1000 line days                NaN   \n",
       "4                        # CLABSI per 1000 line days                NaN   \n",
       "\n",
       "  Location 1  \n",
       "0        NaN  \n",
       "1        NaN  \n",
       "2        NaN  \n",
       "3        NaN  \n",
       "4        NaN  "
      ]
     },
     "execution_count": 4,
     "metadata": {},
     "output_type": "execute_result"
    }
   ],
   "source": [
    "df.head()"
   ]
  },
  {
   "cell_type": "markdown",
   "metadata": {},
   "source": [
    "We have a column called 'Hospital Name'.  We want to compare data for different hospitals.  So it is useful to look at the unique values of this column in order to determine how many and which hospitals the data contains.  This is the type of coding we can do in one line (once we get familiar with the libraries).  Here we use multiple lines as to make it clear what is happening. \n",
    "\n",
    "- **We first extract just the `Hospital Name` column**\n",
    "- **We check the the type, it is a data series**\n",
    "- **We then ask for only the unique values**\n",
    "- **We again check the type, it is an array this time**\n",
    "- **We convert this array back to a series (mainly to take advantage of pandas 'pretty' `print` styles)**\n",
    "- **Finally we print this series as to find out how many unique hospitals are in the data.**"
   ]
  },
  {
   "cell_type": "code",
   "execution_count": 5,
   "metadata": {
    "collapsed": false
   },
   "outputs": [
    {
     "name": "stdout",
     "output_type": "stream",
     "text": [
      "<class 'pandas.core.series.Series'>\n",
      "<type 'numpy.ndarray'>\n",
      "0                         New York State - All Hospitals\n",
      "1                         Albany Medical Center Hospital\n",
      "2                               Albany Memorial Hospital\n",
      "3                                     St Peters Hospital\n",
      "4      Memorial Hosp of Wm F & Gertrude F Jones A/K/A...\n",
      "5              Our Lady of Lourdes Memorial Hospital Inc\n",
      "6      United Health Services Hospitals Inc. - Wilson...\n",
      "7                                 Olean General Hospital\n",
      "8                              Auburn Community Hospital\n",
      "9                               Brooks Memorial Hospital\n",
      "10                         Woman's Christian Association\n",
      "11                TLC Health Network Lake Shore Hospital\n",
      "12                            Arnot Ogden Medical Center\n",
      "13                                   St Josephs Hospital\n",
      "14                        Chenango Memorial Hospital Inc\n",
      "15     Champlain Valley Physicians Hospital Medical C...\n",
      "16                            Columbia Memorial Hospital\n",
      "17                  Cortland Regional Medical Center Inc\n",
      "18                                   St Francis Hospital\n",
      "19                        Vassar Brothers Medical Center\n",
      "20                            Northern Dutchess Hospital\n",
      "21                        Buffalo General Medical Center\n",
      "22              Women And Children's Hospital Of Buffalo\n",
      "23                            Erie County Medical Center\n",
      "24                                        Mercy Hospital\n",
      "25                   Millard Fillmore Gates- Closed 2012\n",
      "26                         Roswell Park Cancer Institute\n",
      "27                           Sisters of Charity Hospital\n",
      "28                                   University Hospital\n",
      "29                                Kenmore Mercy Hospital\n",
      "                             ...                        \n",
      "152                         Hospital for Special Surgery\n",
      "153                                  Lenox Hill Hospital\n",
      "154     Memorial Hospital for Cancer and Allied Diseases\n",
      "155                         Metropolitan Hospital Center\n",
      "156                                 Mount Sinai Hospital\n",
      "157    New York Presbyterian Hospital - New York Weil...\n",
      "158                                 NYU Hospitals Center\n",
      "159    New York Presbyterian Hospital - Columbia Pres...\n",
      "160    St Lukes Roosevelt Hospital Center - Roosevelt...\n",
      "161    St Lukes Roosevelt Hospital - St Lukes Hospita...\n",
      "162             SVCMC-St Vincents Manhattan- Closed 2010\n",
      "163                             Elmhurst Hospital Center\n",
      "164                     Flushing Hospital Medical Center\n",
      "165                      Jamaica Hospital Medical Center\n",
      "166                    Long Island Jewish Medical Center\n",
      "167               Peninsula Hospital Center- Closed 2012\n",
      "168                               Queens Hospital Center\n",
      "169               St. Johns Queens Hospital- Closed 2009\n",
      "170                 St Johns Episcopal Hospital So Shore\n",
      "171         New York Hospital Medical Center   of Queens\n",
      "172                                Forest Hills Hospital\n",
      "173    Mount Sinai Hospital - Mount Sinai Hospital of...\n",
      "174              Woodhull Medical & Mental Health Center\n",
      "175                   Richmond University Medical Center\n",
      "176                  Staten Island University Hosp-North\n",
      "177                  North General Hospital- Closed 2010\n",
      "178          SVCMC Mary Immaculate Hospital- Closed 2009\n",
      "179    Montefiore Med Center - Jack D Weiler Hosp of ...\n",
      "180                   Millard Fillmore Suburban Hospital\n",
      "181      New York Presbyterian Hospital - Allen Hospital\n",
      "dtype: object\n"
     ]
    }
   ],
   "source": [
    "hospitalNameExtracted=df['Hospital Name']\n",
    "print type(hospitalNameExtracted)\n",
    "hospitalNamesUnique=df['Hospital Name'].unique()\n",
    "print type(hospitalNamesUnique)\n",
    "hospitalNames=pd.Series(hospitalNamesUnique)\n",
    "print hospitalNames"
   ]
  },
  {
   "cell_type": "markdown",
   "metadata": {},
   "source": [
    "In this step we assign two hospitals from the list to the variables 'hospital1' and 'hospital2'.   It is good practice to use variables for the hospital names.  If we want to graph data from different hospitals later, we only have to change the below block. "
   ]
  },
  {
   "cell_type": "code",
   "execution_count": 6,
   "metadata": {
    "collapsed": false
   },
   "outputs": [
    {
     "name": "stdout",
     "output_type": "stream",
     "text": [
      "Woman's Christian Association : Northern Dutchess Hospital\n"
     ]
    }
   ],
   "source": [
    "hospital1=hospitalNames[10]\n",
    "hospital2=hospitalNames[20]\n",
    "\n",
    "print hospital1+\" : \"+hospital2"
   ]
  },
  {
   "cell_type": "markdown",
   "metadata": {},
   "source": [
    "We extract the data for hospital1 and hospital2 and check to verify the type of the subdata.  It should still be a dataframe."
   ]
  },
  {
   "cell_type": "code",
   "execution_count": 7,
   "metadata": {
    "collapsed": false
   },
   "outputs": [
    {
     "data": {
      "text/plain": [
       "pandas.core.frame.DataFrame"
      ]
     },
     "execution_count": 7,
     "metadata": {},
     "output_type": "execute_result"
    }
   ],
   "source": [
    "hospitalData1=df[(df['Hospital Name']==hospital1)]\n",
    "hospitalData2=df[(df['Hospital Name']==hospital2)]\n",
    "\n",
    "type(hospitalData1)"
   ]
  },
  {
   "cell_type": "markdown",
   "metadata": {},
   "source": [
    "Now we take a look at the data again.  Data can be messy.  There is no guarantee the data from different hospitals will be consistent.  So we need to check what the dataframe contains.  Specifically we want to know what years data was collected, and what Indicators were observed.  As before it is handy to use the unique() function to take a look at the unique values of a column. "
   ]
  },
  {
   "cell_type": "code",
   "execution_count": 8,
   "metadata": {
    "collapsed": false
   },
   "outputs": [
    {
     "name": "stdout",
     "output_type": "stream",
     "text": [
      "[2012 2011 2010 2009 2008]\n",
      "[2012 2011 2010 2009 2008]\n",
      "\n",
      "['SSI Overall Standardized Infection Ratio' 'SSI Hysterectomy' 'SSI Hip'\n",
      " 'SSI Colon' 'CLABSI Overall Standardized Infection Ratio'\n",
      " 'CLABSI Medical Surgical ICU Nonteaching' 'CDI Hospital Onset'\n",
      " 'CDI Hospital Associated' 'CDI Community Onset']\n",
      "\n",
      "['SSI Overall Standardized Infection Ratio' 'SSI Hysterectomy' 'SSI Hip'\n",
      " 'SSI Colon' 'CLABSI Overall Standardized Infection Ratio'\n",
      " 'CLABSI Medical Surgical ICU Nonteaching' 'CDI Hospital Onset'\n",
      " 'CDI Hospital Associated' 'CDI Community Onset']\n"
     ]
    }
   ],
   "source": [
    "print hospitalData1['Year'].unique()\n",
    "print hospitalData2['Year'].unique()\n",
    "print\n",
    "print hospitalData2['Indicator Name'].unique()\n",
    "print\n",
    "print hospitalData2['Indicator Name'].unique()"
   ]
  },
  {
   "cell_type": "markdown",
   "metadata": {},
   "source": [
    "In this case we see we have data for years 2008 to 2012 and several infection 'Indicators'.  So let's us the 'CDI Hospital Associated' category as our indicator and extract that subset of data."
   ]
  },
  {
   "cell_type": "code",
   "execution_count": 9,
   "metadata": {
    "collapsed": false
   },
   "outputs": [],
   "source": [
    "indicator='CDI Hospital Associated'\n",
    "\n",
    "infections1=hospitalData1[hospitalData1['Indicator Name']==indicator]\n",
    "infections2=hospitalData2[hospitalData2['Indicator Name']==indicator]"
   ]
  },
  {
   "cell_type": "markdown",
   "metadata": {},
   "source": [
    "Here we define colors for the plots.   "
   ]
  },
  {
   "cell_type": "code",
   "execution_count": 10,
   "metadata": {
    "collapsed": false
   },
   "outputs": [],
   "source": [
    "color1='#d71f26'\n",
    "color2='#874c9d'"
   ]
  },
  {
   "cell_type": "markdown",
   "metadata": {},
   "source": [
    "Now we can use a stacked collumn chart to Create a stacked column chart based on this example (http://matplotlib.org/examples/pylab_examples/bar_stacked.html).  Stacked column charts are a useful way to compare elements within a group and at the same time compare totals.  In this example we compare infections from two hospitals over 3 years.  At the same time we can quickly see trends in the total number of infections from both hospitals.  "
   ]
  },
  {
   "cell_type": "code",
   "execution_count": 11,
   "metadata": {
    "collapsed": false
   },
   "outputs": [
    {
     "name": "stdout",
     "output_type": "stream",
     "text": [
      "496    11\n",
      "500    44\n",
      "508    24\n",
      "Name: Infections observed, dtype: float64\n",
      "895    13\n",
      "903     9\n",
      "907    16\n",
      "Name: Infections observed, dtype: float64\n"
     ]
    }
   ],
   "source": [
    "print infections1['Infections observed']\n",
    "print infections2['Infections observed']"
   ]
  },
  {
   "cell_type": "code",
   "execution_count": 13,
   "metadata": {
    "collapsed": false
   },
   "outputs": [
    {
     "data": {
      "text/plain": [
       "<matplotlib.legend.Legend at 0xe22beb8>"
      ]
     },
     "execution_count": 13,
     "metadata": {},
     "output_type": "execute_result"
    },
    {
     "data": {
      "image/png": "[encoded data removed]",
      "text/plain": [
       "<matplotlib.figure.Figure at 0xdfdf5c0>"
      ]
     },
     "metadata": {},
     "output_type": "display_data"
    }
   ],
   "source": [
    "p1=plt.bar([1,2,3], infections1['Infections observed'], 1, color=color1)\n",
    "p2=plt.bar([1,2,3], infections2['Infections observed'], 1, color=color2, bottom=infections1['Infections observed'])\n",
    "\n",
    "plt.ylabel('infections')\n",
    "plt.title(indicator+'infections')\n",
    "plt.xticks([1.5,2.5,3.5],('2010', '2011', '2012') )\n",
    "plt.legend( (p1[0], p2[0]), (hospital1, hospital2) )"
   ]
  },
  {
   "cell_type": "markdown",
   "metadata": {},
   "source": [
    "To visualize relative changes we can normalize the data and plot a stacked 100% area chart.  The first step is to convert the panda dataframe column to an array so we can perform math operations on it using numpy."
   ]
  },
  {
   "cell_type": "code",
   "execution_count": 14,
   "metadata": {
    "collapsed": false
   },
   "outputs": [],
   "source": [
    "array1=np.array(infections1['Infections observed'].tolist())\n",
    "array2=np.array(infections2['Infections observed'].tolist())"
   ]
  },
  {
   "cell_type": "markdown",
   "metadata": {},
   "source": [
    "We want the total height of eached stacked column to be 1 (or 100%).  To achieve this we divide each array by the sum of both arrays.  Afterwards we print out the arrays so we can confirm the data is correct. "
   ]
  },
  {
   "cell_type": "code",
   "execution_count": 15,
   "metadata": {
    "collapsed": false
   },
   "outputs": [
    {
     "name": "stdout",
     "output_type": "stream",
     "text": [
      "[ 0.45833333  0.83018868  0.6       ]\n",
      "[ 0.54166667  0.16981132  0.4       ]\n"
     ]
    }
   ],
   "source": [
    "array1_normal=array1/(array1+array2)\n",
    "array2_normal=array2/(array1+array2)\n",
    "\n",
    "print array1_normal\n",
    "print array2_normal"
   ]
  },
  {
   "cell_type": "markdown",
   "metadata": {},
   "source": [
    "Now Plot the normalized data in a stacked column chart.  This gives us the stacked 100% column chart which can be used to see relative differences"
   ]
  },
  {
   "cell_type": "code",
   "execution_count": 16,
   "metadata": {
    "collapsed": false
   },
   "outputs": [
    {
     "data": {
      "text/plain": [
       "<matplotlib.legend.Legend at 0xe528c18>"
      ]
     },
     "execution_count": 16,
     "metadata": {},
     "output_type": "execute_result"
    },
    {
     "data": {
      "image/png": "[encoded data removed]",
      "text/plain": [
       "<matplotlib.figure.Figure at 0xe1f2198>"
      ]
     },
     "metadata": {},
     "output_type": "display_data"
    }
   ],
   "source": [
    "p1=plt.bar([1,2,3], array1_normal, 1, color=color1)\n",
    "p2=plt.bar([1,2,3], array2_normal, 1, color=color2, bottom=array1_normal)\n",
    "\n",
    "plt.ylabel('infections')\n",
    "plt.title('hospital infections')\n",
    "plt.xticks([1.5,2.5,3.5],('2010', '2011', '2012') )\n",
    "#plt.yticks(np.arange(0,81,10))\n",
    "plt.legend( (p1[0], p2[0]), (hospital1, hospital2) )"
   ]
  },
  {
   "cell_type": "code",
   "execution_count": 27,
   "metadata": {
    "collapsed": false
   },
   "outputs": [],
   "source": []
  },
  {
   "cell_type": "code",
   "execution_count": null,
   "metadata": {
    "collapsed": false
   },
   "outputs": [],
   "source": []
  }
 ],
 "metadata": {
  "kernelspec": {
   "display_name": "Python 2",
   "language": "python",
   "name": "python2"
  },
  "language_info": {
   "codemirror_mode": {
    "name": "ipython",
    "version": 2
   },
   "file_extension": ".py",
   "mimetype": "text/x-python",
   "name": "python",
   "nbconvert_exporter": "python",
   "pygments_lexer": "ipython2",
   "version": "2.7.11"
  }
 },
 "nbformat": 4,
 "nbformat_minor": 0
}

{
 "metadata": {
  "name": "",
  "signature": "sha256:97f9bb69a0e2533f4994403331f6a020b2de1a85d717c4fec0e8432c26928797"
 },
 "nbformat": 3,
 "nbformat_minor": 0,
 "worksheets": [
  {
   "cells": [
    {
     "cell_type": "code",
     "collapsed": false,
     "input": [
      "import pandas as pd\n",
      "import matplotlib.pyplot as plt\n",
      "%matplotlib inline"
     ],
     "language": "python",
     "metadata": {},
     "outputs": [],
     "prompt_number": 2
    },
    {
     "cell_type": "code",
     "collapsed": false,
     "input": [
      "data=pd.read_csv('MLBTeams2014Simple.csv')\n",
      "data.head()"
     ],
     "language": "python",
     "metadata": {},
     "outputs": [
      {
       "html": [
        "<div style=\"max-height:1000px;max-width:1500px;overflow:auto;\">\n",
        "<table border=\"1\" class=\"dataframe\">\n",
        "  <thead>\n",
        "    <tr style=\"text-align: right;\">\n",
        "      <th></th>\n",
        "      <th>Tm</th>\n",
        "      <th>W</th>\n",
        "      <th>L</th>\n",
        "      <th>R</th>\n",
        "      <th>R_a</th>\n",
        "      <th>class</th>\n",
        "    </tr>\n",
        "  </thead>\n",
        "  <tbody>\n",
        "    <tr>\n",
        "      <th>0</th>\n",
        "      <td> BAL</td>\n",
        "      <td> 96</td>\n",
        "      <td> 66</td>\n",
        "      <td> 705</td>\n",
        "      <td> 593</td>\n",
        "      <td> 1</td>\n",
        "    </tr>\n",
        "    <tr>\n",
        "      <th>1</th>\n",
        "      <td> BOS</td>\n",
        "      <td> 71</td>\n",
        "      <td> 91</td>\n",
        "      <td> 634</td>\n",
        "      <td> 715</td>\n",
        "      <td> 0</td>\n",
        "    </tr>\n",
        "    <tr>\n",
        "      <th>2</th>\n",
        "      <td> CHW</td>\n",
        "      <td> 73</td>\n",
        "      <td> 89</td>\n",
        "      <td> 660</td>\n",
        "      <td> 758</td>\n",
        "      <td> 0</td>\n",
        "    </tr>\n",
        "    <tr>\n",
        "      <th>3</th>\n",
        "      <td> CLE</td>\n",
        "      <td> 85</td>\n",
        "      <td> 77</td>\n",
        "      <td> 669</td>\n",
        "      <td> 653</td>\n",
        "      <td> 1</td>\n",
        "    </tr>\n",
        "    <tr>\n",
        "      <th>4</th>\n",
        "      <td> DET</td>\n",
        "      <td> 90</td>\n",
        "      <td> 72</td>\n",
        "      <td> 757</td>\n",
        "      <td> 705</td>\n",
        "      <td> 1</td>\n",
        "    </tr>\n",
        "  </tbody>\n",
        "</table>\n",
        "</div>"
       ],
       "metadata": {},
       "output_type": "pyout",
       "prompt_number": 17,
       "text": [
        "    Tm   W   L    R  R_a  class\n",
        "0  BAL  96  66  705  593      1\n",
        "1  BOS  71  91  634  715      0\n",
        "2  CHW  73  89  660  758      0\n",
        "3  CLE  85  77  669  653      1\n",
        "4  DET  90  72  757  705      1"
       ]
      }
     ],
     "prompt_number": 17
    },
    {
     "cell_type": "code",
     "collapsed": false,
     "input": [
      "fig = plt.figure(figsize=(10, 8))\n",
      "ax=fig.add_subplot(111)\n",
      "ax.scatter(data.R, data.R_a, 50.0*(data['class'])+10, 45.0*data['class'])\n",
      "plt.title(\"runs vs runs against\")\n",
      "plt.show()"
     ],
     "language": "python",
     "metadata": {},
     "outputs": [
      {
       "metadata": {},
       "output_type": "display_data",
       "png": "[encoded data removed]",
       "text": [
        "<matplotlib.figure.Figure at 0xf1e5ef0>"
       ]
      }
     ],
     "prompt_number": 14
    },
    {
     "cell_type": "code",
     "collapsed": false,
     "input": [],
     "language": "python",
     "metadata": {},
     "outputs": []
    }
   ],
   "metadata": {}
  }
 ]
}
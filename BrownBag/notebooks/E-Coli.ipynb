{
 "cells": [
  {
   "cell_type": "markdown",
   "metadata": {},
   "source": [
    "# Data Analysis and Visualization with IPython Notebook\n",
    "\n",
    "This example is based on [this tutorial](http://bconnelly.net/2013/10/summarizing-data-in-python-with-pandas/)"
   ]
  },
  {
   "cell_type": "markdown",
   "metadata": {},
   "source": [
    "First we load the data and display the first few rows.  Data consits of two treatments, 'Tube' and 'Dish'.  We want to see if there are differences between the two groups."
   ]
  },
  {
   "cell_type": "code",
   "execution_count": 11,
   "metadata": {
    "collapsed": false
   },
   "outputs": [
    {
     "data": {
      "text/html": [
       "<div>\n",
       "<table border=\"1\" class=\"dataframe\">\n",
       "  <thead>\n",
       "    <tr style=\"text-align: right;\">\n",
       "      <th></th>\n",
       "      <th>Group</th>\n",
       "      <th>Treatment</th>\n",
       "      <th>Replicate</th>\n",
       "      <th>RelativeFitness</th>\n",
       "    </tr>\n",
       "  </thead>\n",
       "  <tbody>\n",
       "    <tr>\n",
       "      <th>0</th>\n",
       "      <td>BKB</td>\n",
       "      <td>Tube</td>\n",
       "      <td>1</td>\n",
       "      <td>0.869963</td>\n",
       "    </tr>\n",
       "    <tr>\n",
       "      <th>1</th>\n",
       "      <td>BKB</td>\n",
       "      <td>Tube</td>\n",
       "      <td>2</td>\n",
       "      <td>1.000363</td>\n",
       "    </tr>\n",
       "    <tr>\n",
       "      <th>2</th>\n",
       "      <td>BKB</td>\n",
       "      <td>Tube</td>\n",
       "      <td>3</td>\n",
       "      <td>0.982935</td>\n",
       "    </tr>\n",
       "    <tr>\n",
       "      <th>3</th>\n",
       "      <td>BAC</td>\n",
       "      <td>Tube</td>\n",
       "      <td>1</td>\n",
       "      <td>0.810392</td>\n",
       "    </tr>\n",
       "    <tr>\n",
       "      <th>4</th>\n",
       "      <td>BAC</td>\n",
       "      <td>Tube</td>\n",
       "      <td>2</td>\n",
       "      <td>0.795107</td>\n",
       "    </tr>\n",
       "    <tr>\n",
       "      <th>5</th>\n",
       "      <td>JDK</td>\n",
       "      <td>Tube</td>\n",
       "      <td>1</td>\n",
       "      <td>0.849204</td>\n",
       "    </tr>\n",
       "    <tr>\n",
       "      <th>6</th>\n",
       "      <td>JDK</td>\n",
       "      <td>Tube</td>\n",
       "      <td>2</td>\n",
       "      <td>0.917637</td>\n",
       "    </tr>\n",
       "    <tr>\n",
       "      <th>7</th>\n",
       "      <td>JDK</td>\n",
       "      <td>Tube</td>\n",
       "      <td>3</td>\n",
       "      <td>0.905323</td>\n",
       "    </tr>\n",
       "    <tr>\n",
       "      <th>8</th>\n",
       "      <td>ETH</td>\n",
       "      <td>Tube</td>\n",
       "      <td>1</td>\n",
       "      <td>0.930821</td>\n",
       "    </tr>\n",
       "    <tr>\n",
       "      <th>9</th>\n",
       "      <td>ETH</td>\n",
       "      <td>Tube</td>\n",
       "      <td>2</td>\n",
       "      <td>0.958183</td>\n",
       "    </tr>\n",
       "  </tbody>\n",
       "</table>\n",
       "</div>"
      ],
      "text/plain": [
       "  Group Treatment  Replicate  RelativeFitness\n",
       "0   BKB      Tube          1         0.869963\n",
       "1   BKB      Tube          2         1.000363\n",
       "2   BKB      Tube          3         0.982935\n",
       "3   BAC      Tube          1         0.810392\n",
       "4   BAC      Tube          2         0.795107\n",
       "5   JDK      Tube          1         0.849204\n",
       "6   JDK      Tube          2         0.917637\n",
       "7   JDK      Tube          3         0.905323\n",
       "8   ETH      Tube          1         0.930821\n",
       "9   ETH      Tube          2         0.958183"
      ]
     },
     "execution_count": 11,
     "metadata": {},
     "output_type": "execute_result"
    }
   ],
   "source": [
    "import pandas as pd\n",
    " \n",
    "# Load the data into a DataFrame\n",
    "data = pd.read_csv('./TradeoffData.csv')\n",
    "data.head(n=10)"
   ]
  },
  {
   "cell_type": "markdown",
   "metadata": {},
   "source": [
    "Group by the Treatment type and compare stats for each group. "
   ]
  },
  {
   "cell_type": "code",
   "execution_count": 12,
   "metadata": {
    "collapsed": false
   },
   "outputs": [
    {
     "data": {
      "text/html": [
       "<div>\n",
       "<table border=\"1\" class=\"dataframe\">\n",
       "  <thead>\n",
       "    <tr style=\"text-align: right;\">\n",
       "      <th></th>\n",
       "      <th></th>\n",
       "      <th>RelativeFitness</th>\n",
       "      <th>Replicate</th>\n",
       "    </tr>\n",
       "    <tr>\n",
       "      <th>Treatment</th>\n",
       "      <th></th>\n",
       "      <th></th>\n",
       "      <th></th>\n",
       "    </tr>\n",
       "  </thead>\n",
       "  <tbody>\n",
       "    <tr>\n",
       "      <th rowspan=\"8\" valign=\"top\">Dish</th>\n",
       "      <th>count</th>\n",
       "      <td>32.000000</td>\n",
       "      <td>32.000000</td>\n",
       "    </tr>\n",
       "    <tr>\n",
       "      <th>mean</th>\n",
       "      <td>1.456359</td>\n",
       "      <td>2.031250</td>\n",
       "    </tr>\n",
       "    <tr>\n",
       "      <th>std</th>\n",
       "      <td>0.184792</td>\n",
       "      <td>0.822442</td>\n",
       "    </tr>\n",
       "    <tr>\n",
       "      <th>min</th>\n",
       "      <td>0.955221</td>\n",
       "      <td>1.000000</td>\n",
       "    </tr>\n",
       "    <tr>\n",
       "      <th>25%</th>\n",
       "      <td>1.429005</td>\n",
       "      <td>1.000000</td>\n",
       "    </tr>\n",
       "    <tr>\n",
       "      <th>50%</th>\n",
       "      <td>1.510884</td>\n",
       "      <td>2.000000</td>\n",
       "    </tr>\n",
       "    <tr>\n",
       "      <th>75%</th>\n",
       "      <td>1.581340</td>\n",
       "      <td>3.000000</td>\n",
       "    </tr>\n",
       "    <tr>\n",
       "      <th>max</th>\n",
       "      <td>1.699276</td>\n",
       "      <td>3.000000</td>\n",
       "    </tr>\n",
       "    <tr>\n",
       "      <th rowspan=\"8\" valign=\"top\">Tube</th>\n",
       "      <th>count</th>\n",
       "      <td>32.000000</td>\n",
       "      <td>32.000000</td>\n",
       "    </tr>\n",
       "    <tr>\n",
       "      <th>mean</th>\n",
       "      <td>0.929589</td>\n",
       "      <td>1.968750</td>\n",
       "    </tr>\n",
       "    <tr>\n",
       "      <th>std</th>\n",
       "      <td>0.050153</td>\n",
       "      <td>0.822442</td>\n",
       "    </tr>\n",
       "    <tr>\n",
       "      <th>min</th>\n",
       "      <td>0.795107</td>\n",
       "      <td>1.000000</td>\n",
       "    </tr>\n",
       "    <tr>\n",
       "      <th>25%</th>\n",
       "      <td>0.915050</td>\n",
       "      <td>1.000000</td>\n",
       "    </tr>\n",
       "    <tr>\n",
       "      <th>50%</th>\n",
       "      <td>0.939089</td>\n",
       "      <td>2.000000</td>\n",
       "    </tr>\n",
       "    <tr>\n",
       "      <th>75%</th>\n",
       "      <td>0.953505</td>\n",
       "      <td>3.000000</td>\n",
       "    </tr>\n",
       "    <tr>\n",
       "      <th>max</th>\n",
       "      <td>1.000363</td>\n",
       "      <td>3.000000</td>\n",
       "    </tr>\n",
       "  </tbody>\n",
       "</table>\n",
       "</div>"
      ],
      "text/plain": [
       "                 RelativeFitness  Replicate\n",
       "Treatment                                  \n",
       "Dish      count        32.000000  32.000000\n",
       "          mean          1.456359   2.031250\n",
       "          std           0.184792   0.822442\n",
       "          min           0.955221   1.000000\n",
       "          25%           1.429005   1.000000\n",
       "          50%           1.510884   2.000000\n",
       "          75%           1.581340   3.000000\n",
       "          max           1.699276   3.000000\n",
       "Tube      count        32.000000  32.000000\n",
       "          mean          0.929589   1.968750\n",
       "          std           0.050153   0.822442\n",
       "          min           0.795107   1.000000\n",
       "          25%           0.915050   1.000000\n",
       "          50%           0.939089   2.000000\n",
       "          75%           0.953505   3.000000\n",
       "          max           1.000363   3.000000"
      ]
     },
     "execution_count": 12,
     "metadata": {},
     "output_type": "execute_result"
    }
   ],
   "source": [
    "bytreatment = data.groupby('Treatment')\n",
    "bytreatment.describe()"
   ]
  },
  {
   "cell_type": "markdown",
   "metadata": {},
   "source": [
    "Extract the dish group, and the tube group and run a t-test to determine if the differences between them are significant. "
   ]
  },
  {
   "cell_type": "code",
   "execution_count": 5,
   "metadata": {
    "collapsed": false
   },
   "outputs": [],
   "source": [
    "dish_group = bytreatment.get_group('Dish')\n",
    "tube_group = bytreatment.get_group('Tube')"
   ]
  },
  {
   "cell_type": "code",
   "execution_count": 13,
   "metadata": {
    "collapsed": false
   },
   "outputs": [
    {
     "name": "stdout",
     "output_type": "stream",
     "text": [
      "P value is:  4.34880811241e-23\n"
     ]
    }
   ],
   "source": [
    "import scipy.stats as stats\n",
    "\n",
    "results=stats.ttest_ind(dish_group.RelativeFitness, tube_group.RelativeFitness)\n",
    "print \"P value is: \",results[1]"
   ]
  },
  {
   "cell_type": "markdown",
   "metadata": {},
   "source": [
    "It turns out the p value is very low, so the difference  between the two groups is significant.  Now plot mean statistics for each group. "
   ]
  },
  {
   "cell_type": "code",
   "execution_count": 14,
   "metadata": {
    "collapsed": false
   },
   "outputs": [
    {
     "data": {
      "text/plain": [
       "<matplotlib.axes._subplots.AxesSubplot at 0x7faf18378f90>"
      ]
     },
     "execution_count": 14,
     "metadata": {},
     "output_type": "execute_result"
    },
    {
     "data": {
      "image/png": "[encoded data removed]",
      "text/plain": [
       "<matplotlib.figure.Figure at 0x7faf1856a050>"
      ]
     },
     "metadata": {},
     "output_type": "display_data"
    }
   ],
   "source": [
    "%matplotlib inline\n",
    "bytreatment.mean().plot.bar(figsize=(14,10))"
   ]
  }
 ],
 "metadata": {
  "kernelspec": {
   "display_name": "Python 2",
   "language": "python",
   "name": "python2"
  },
  "language_info": {
   "codemirror_mode": {
    "name": "ipython",
    "version": 2
   },
   "file_extension": ".py",
   "mimetype": "text/x-python",
   "name": "python",
   "nbconvert_exporter": "python",
   "pygments_lexer": "ipython2",
   "version": "2.7.11"
  }
 },
 "nbformat": 4,
 "nbformat_minor": 0
}

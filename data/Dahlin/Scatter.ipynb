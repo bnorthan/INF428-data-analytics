{
 "cells": [
  {
   "cell_type": "code",
   "execution_count": 1,
   "metadata": {
    "collapsed": true
   },
   "outputs": [],
   "source": [
    "import pandas as pd "
   ]
  },
  {
   "cell_type": "code",
   "execution_count": 2,
   "metadata": {
    "collapsed": false
   },
   "outputs": [
    {
     "data": {
      "text/html": [
       "<div>\n",
       "<table border=\"1\" class=\"dataframe\">\n",
       "  <thead>\n",
       "    <tr style=\"text-align: right;\">\n",
       "      <th></th>\n",
       "      <th>Rk</th>\n",
       "      <th>Team</th>\n",
       "      <th>G</th>\n",
       "      <th>MP</th>\n",
       "      <th>FG</th>\n",
       "      <th>FGA</th>\n",
       "      <th>FG%</th>\n",
       "      <th>3P</th>\n",
       "      <th>3PA</th>\n",
       "      <th>3P%</th>\n",
       "      <th>...</th>\n",
       "      <th>ORB</th>\n",
       "      <th>DRB</th>\n",
       "      <th>TRB</th>\n",
       "      <th>AST</th>\n",
       "      <th>STL</th>\n",
       "      <th>BLK</th>\n",
       "      <th>TOV</th>\n",
       "      <th>PF</th>\n",
       "      <th>PTS</th>\n",
       "      <th>PTS/G</th>\n",
       "    </tr>\n",
       "  </thead>\n",
       "  <tbody>\n",
       "    <tr>\n",
       "      <th>0</th>\n",
       "      <td>1</td>\n",
       "      <td>Golden State Warriors*</td>\n",
       "      <td>82</td>\n",
       "      <td>19730</td>\n",
       "      <td>3410</td>\n",
       "      <td>7137</td>\n",
       "      <td>0.478</td>\n",
       "      <td>883</td>\n",
       "      <td>2217</td>\n",
       "      <td>0.398</td>\n",
       "      <td>...</td>\n",
       "      <td>853</td>\n",
       "      <td>2814</td>\n",
       "      <td>3667</td>\n",
       "      <td>2248</td>\n",
       "      <td>762</td>\n",
       "      <td>496</td>\n",
       "      <td>1185</td>\n",
       "      <td>1628</td>\n",
       "      <td>9016</td>\n",
       "      <td>110.0</td>\n",
       "    </tr>\n",
       "    <tr>\n",
       "      <th>1</th>\n",
       "      <td>2</td>\n",
       "      <td>Los Angeles Clippers*</td>\n",
       "      <td>82</td>\n",
       "      <td>19730</td>\n",
       "      <td>3228</td>\n",
       "      <td>6830</td>\n",
       "      <td>0.473</td>\n",
       "      <td>827</td>\n",
       "      <td>2202</td>\n",
       "      <td>0.376</td>\n",
       "      <td>...</td>\n",
       "      <td>784</td>\n",
       "      <td>2711</td>\n",
       "      <td>3495</td>\n",
       "      <td>2031</td>\n",
       "      <td>640</td>\n",
       "      <td>409</td>\n",
       "      <td>1012</td>\n",
       "      <td>1749</td>\n",
       "      <td>8751</td>\n",
       "      <td>106.7</td>\n",
       "    </tr>\n",
       "    <tr>\n",
       "      <th>2</th>\n",
       "      <td>3</td>\n",
       "      <td>Dallas Mavericks*</td>\n",
       "      <td>82</td>\n",
       "      <td>19880</td>\n",
       "      <td>3255</td>\n",
       "      <td>7036</td>\n",
       "      <td>0.463</td>\n",
       "      <td>732</td>\n",
       "      <td>2082</td>\n",
       "      <td>0.352</td>\n",
       "      <td>...</td>\n",
       "      <td>858</td>\n",
       "      <td>2608</td>\n",
       "      <td>3466</td>\n",
       "      <td>1846</td>\n",
       "      <td>663</td>\n",
       "      <td>371</td>\n",
       "      <td>1062</td>\n",
       "      <td>1644</td>\n",
       "      <td>8628</td>\n",
       "      <td>105.2</td>\n",
       "    </tr>\n",
       "    <tr>\n",
       "      <th>3</th>\n",
       "      <td>4</td>\n",
       "      <td>Oklahoma City Thunder</td>\n",
       "      <td>82</td>\n",
       "      <td>19830</td>\n",
       "      <td>3184</td>\n",
       "      <td>7119</td>\n",
       "      <td>0.447</td>\n",
       "      <td>632</td>\n",
       "      <td>1864</td>\n",
       "      <td>0.339</td>\n",
       "      <td>...</td>\n",
       "      <td>1052</td>\n",
       "      <td>2844</td>\n",
       "      <td>3896</td>\n",
       "      <td>1681</td>\n",
       "      <td>598</td>\n",
       "      <td>454</td>\n",
       "      <td>1205</td>\n",
       "      <td>1829</td>\n",
       "      <td>8524</td>\n",
       "      <td>104.0</td>\n",
       "    </tr>\n",
       "    <tr>\n",
       "      <th>4</th>\n",
       "      <td>5</td>\n",
       "      <td>Toronto Raptors*</td>\n",
       "      <td>82</td>\n",
       "      <td>19855</td>\n",
       "      <td>3108</td>\n",
       "      <td>6829</td>\n",
       "      <td>0.455</td>\n",
       "      <td>726</td>\n",
       "      <td>2060</td>\n",
       "      <td>0.352</td>\n",
       "      <td>...</td>\n",
       "      <td>881</td>\n",
       "      <td>2526</td>\n",
       "      <td>3407</td>\n",
       "      <td>1701</td>\n",
       "      <td>615</td>\n",
       "      <td>357</td>\n",
       "      <td>1057</td>\n",
       "      <td>1712</td>\n",
       "      <td>8527</td>\n",
       "      <td>104.0</td>\n",
       "    </tr>\n",
       "  </tbody>\n",
       "</table>\n",
       "<p>5 rows × 26 columns</p>\n",
       "</div>"
      ],
      "text/plain": [
       "   Rk                    Team   G     MP    FG   FGA    FG%   3P   3PA    3P%  \\\n",
       "0   1  Golden State Warriors*  82  19730  3410  7137  0.478  883  2217  0.398   \n",
       "1   2   Los Angeles Clippers*  82  19730  3228  6830  0.473  827  2202  0.376   \n",
       "2   3       Dallas Mavericks*  82  19880  3255  7036  0.463  732  2082  0.352   \n",
       "3   4   Oklahoma City Thunder  82  19830  3184  7119  0.447  632  1864  0.339   \n",
       "4   5        Toronto Raptors*  82  19855  3108  6829  0.455  726  2060  0.352   \n",
       "\n",
       "   ...     ORB   DRB   TRB   AST  STL  BLK   TOV    PF   PTS  PTS/G  \n",
       "0  ...     853  2814  3667  2248  762  496  1185  1628  9016  110.0  \n",
       "1  ...     784  2711  3495  2031  640  409  1012  1749  8751  106.7  \n",
       "2  ...     858  2608  3466  1846  663  371  1062  1644  8628  105.2  \n",
       "3  ...    1052  2844  3896  1681  598  454  1205  1829  8524  104.0  \n",
       "4  ...     881  2526  3407  1701  615  357  1057  1712  8527  104.0  \n",
       "\n",
       "[5 rows x 26 columns]"
      ]
     },
     "execution_count": 2,
     "metadata": {},
     "output_type": "execute_result"
    }
   ],
   "source": [
    "nba=pd.read_csv('../../data/Dahlin/leagues_NBA_2015_team.csv',sep=',')\n",
    "nba.head()\n"
   ]
  },
  {
   "cell_type": "code",
   "execution_count": 10,
   "metadata": {
    "collapsed": false
   },
   "outputs": [
    {
     "data": {
      "text/plain": [
       "<matplotlib.axes._subplots.AxesSubplot at 0xcc83b00>"
      ]
     },
     "execution_count": 10,
     "metadata": {},
     "output_type": "execute_result"
    },
    {
     "data": {
      "image/png": "[encoded data removed]",
      "text/plain": [
       "<matplotlib.figure.Figure at 0xcb6b630>"
      ]
     },
     "metadata": {},
     "output_type": "display_data"
    }
   ],
   "source": [
    "%matplotlib inline\n",
    "nba.plot.scatter('FGA', 'FG', s=nba['PTS/G']*5)"
   ]
  },
  {
   "cell_type": "code",
   "execution_count": null,
   "metadata": {
    "collapsed": true
   },
   "outputs": [],
   "source": []
  }
 ],
 "metadata": {
  "kernelspec": {
   "display_name": "Python 2",
   "language": "python",
   "name": "python2"
  },
  "language_info": {
   "codemirror_mode": {
    "name": "ipython",
    "version": 2
   },
   "file_extension": ".py",
   "mimetype": "text/x-python",
   "name": "python",
   "nbconvert_exporter": "python",
   "pygments_lexer": "ipython2",
   "version": "2.7.11"
  }
 },
 "nbformat": 4,
 "nbformat_minor": 0
}

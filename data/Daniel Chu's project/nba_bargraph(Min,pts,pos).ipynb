{
 "cells": [
  {
   "cell_type": "code",
   "execution_count": 8,
   "metadata": {
    "collapsed": false
   },
   "outputs": [
    {
     "name": "stdout",
     "output_type": "stream",
     "text": [
      "(651, 30)\n",
      "    Rk          Player Pos  Age   Tm   G  GS    MP   FG  FGA  ...     FT%  \\\n",
      "0  492    Tyler Zeller   C   25  BOS  82  59  1731  340  619  ...   0.823   \n",
      "1  491     Cody Zeller   C   22  CHO  62  45  1487  172  373  ...   0.774   \n",
      "2  490  Thaddeus Young  PF   26  TOT  76  68  2434  451  968  ...   0.655   \n",
      "3  490  Thaddeus Young  PF   26  MIN  48  48  1605  289  641  ...   0.682   \n",
      "4  490  Thaddeus Young  PF   26  BRK  28  20   829  162  327  ...   0.606   \n",
      "\n",
      "   ORB  DRB  TRB  AST  STL  BLK  TOV   PF   PTS  \n",
      "0  146  319  465  113   18   52   76  205   833  \n",
      "1   97  265  362  100   34   49   62  156   472  \n",
      "2  127  284  411  173  124   25  117  171  1071  \n",
      "3   75  170  245  135   86   17   75  115   685  \n",
      "4   52  114  166   38   38    8   42   56   386  \n",
      "\n",
      "[5 rows x 30 columns]\n"
     ]
    }
   ],
   "source": [
    "import pandas as pd \n",
    "\n",
    "bball_data=pd.read_csv('leagues_NBA_2015_totals_totals.csv',sep=';') \n",
    "\n",
    "print bball_data.shape\n",
    "print bball_data.head()"
   ]
  },
  {
   "cell_type": "code",
   "execution_count": 9,
   "metadata": {
    "collapsed": false
   },
   "outputs": [
    {
     "data": {
      "text/html": [
       "<div>\n",
       "<table border=\"1\" class=\"dataframe\">\n",
       "  <thead>\n",
       "    <tr style=\"text-align: right;\">\n",
       "      <th></th>\n",
       "      <th>Rk</th>\n",
       "      <th>Age</th>\n",
       "      <th>G</th>\n",
       "      <th>GS</th>\n",
       "      <th>MP</th>\n",
       "      <th>FG</th>\n",
       "      <th>FGA</th>\n",
       "      <th>FG%</th>\n",
       "      <th>3P</th>\n",
       "      <th>3PA</th>\n",
       "      <th>...</th>\n",
       "      <th>FT%</th>\n",
       "      <th>ORB</th>\n",
       "      <th>DRB</th>\n",
       "      <th>TRB</th>\n",
       "      <th>AST</th>\n",
       "      <th>STL</th>\n",
       "      <th>BLK</th>\n",
       "      <th>TOV</th>\n",
       "      <th>PF</th>\n",
       "      <th>PTS</th>\n",
       "    </tr>\n",
       "  </thead>\n",
       "  <tbody>\n",
       "    <tr>\n",
       "      <th>count</th>\n",
       "      <td>651.000000</td>\n",
       "      <td>651.000000</td>\n",
       "      <td>651.000000</td>\n",
       "      <td>651.000000</td>\n",
       "      <td>651.000000</td>\n",
       "      <td>651.000000</td>\n",
       "      <td>651.000000</td>\n",
       "      <td>649.000000</td>\n",
       "      <td>651.000000</td>\n",
       "      <td>651.000000</td>\n",
       "      <td>...</td>\n",
       "      <td>626.000000</td>\n",
       "      <td>651.000000</td>\n",
       "      <td>651.000000</td>\n",
       "      <td>651.000000</td>\n",
       "      <td>651.000000</td>\n",
       "      <td>651.000000</td>\n",
       "      <td>651.000000</td>\n",
       "      <td>651.000000</td>\n",
       "      <td>651.000000</td>\n",
       "      <td>651.000000</td>\n",
       "    </tr>\n",
       "    <tr>\n",
       "      <th>mean</th>\n",
       "      <td>256.520737</td>\n",
       "      <td>26.500768</td>\n",
       "      <td>45.960061</td>\n",
       "      <td>21.099846</td>\n",
       "      <td>1041.775730</td>\n",
       "      <td>160.778802</td>\n",
       "      <td>359.763441</td>\n",
       "      <td>0.427404</td>\n",
       "      <td>33.917051</td>\n",
       "      <td>97.419355</td>\n",
       "      <td>...</td>\n",
       "      <td>0.722800</td>\n",
       "      <td>46.414747</td>\n",
       "      <td>137.298003</td>\n",
       "      <td>183.712750</td>\n",
       "      <td>95.960061</td>\n",
       "      <td>33.367127</td>\n",
       "      <td>20.072197</td>\n",
       "      <td>59.511521</td>\n",
       "      <td>87.199693</td>\n",
       "      <td>428.067588</td>\n",
       "    </tr>\n",
       "    <tr>\n",
       "      <th>std</th>\n",
       "      <td>143.081604</td>\n",
       "      <td>4.110914</td>\n",
       "      <td>25.503151</td>\n",
       "      <td>25.932412</td>\n",
       "      <td>806.253103</td>\n",
       "      <td>148.971531</td>\n",
       "      <td>322.834979</td>\n",
       "      <td>0.100285</td>\n",
       "      <td>44.168306</td>\n",
       "      <td>118.003315</td>\n",
       "      <td>...</td>\n",
       "      <td>0.154606</td>\n",
       "      <td>56.505820</td>\n",
       "      <td>130.956177</td>\n",
       "      <td>181.471919</td>\n",
       "      <td>116.919926</td>\n",
       "      <td>31.720880</td>\n",
       "      <td>29.058392</td>\n",
       "      <td>55.845731</td>\n",
       "      <td>64.768084</td>\n",
       "      <td>401.564362</td>\n",
       "    </tr>\n",
       "    <tr>\n",
       "      <th>min</th>\n",
       "      <td>1.000000</td>\n",
       "      <td>19.000000</td>\n",
       "      <td>1.000000</td>\n",
       "      <td>0.000000</td>\n",
       "      <td>1.000000</td>\n",
       "      <td>0.000000</td>\n",
       "      <td>0.000000</td>\n",
       "      <td>0.000000</td>\n",
       "      <td>0.000000</td>\n",
       "      <td>0.000000</td>\n",
       "      <td>...</td>\n",
       "      <td>0.000000</td>\n",
       "      <td>0.000000</td>\n",
       "      <td>0.000000</td>\n",
       "      <td>0.000000</td>\n",
       "      <td>0.000000</td>\n",
       "      <td>0.000000</td>\n",
       "      <td>0.000000</td>\n",
       "      <td>0.000000</td>\n",
       "      <td>0.000000</td>\n",
       "      <td>0.000000</td>\n",
       "    </tr>\n",
       "    <tr>\n",
       "      <th>25%</th>\n",
       "      <td>130.500000</td>\n",
       "      <td>23.000000</td>\n",
       "      <td>24.000000</td>\n",
       "      <td>0.000000</td>\n",
       "      <td>272.000000</td>\n",
       "      <td>33.500000</td>\n",
       "      <td>80.500000</td>\n",
       "      <td>0.389000</td>\n",
       "      <td>1.000000</td>\n",
       "      <td>5.000000</td>\n",
       "      <td>...</td>\n",
       "      <td>0.650500</td>\n",
       "      <td>8.000000</td>\n",
       "      <td>31.000000</td>\n",
       "      <td>40.000000</td>\n",
       "      <td>15.000000</td>\n",
       "      <td>8.000000</td>\n",
       "      <td>2.000000</td>\n",
       "      <td>13.500000</td>\n",
       "      <td>26.000000</td>\n",
       "      <td>90.000000</td>\n",
       "    </tr>\n",
       "    <tr>\n",
       "      <th>50%</th>\n",
       "      <td>262.000000</td>\n",
       "      <td>26.000000</td>\n",
       "      <td>48.000000</td>\n",
       "      <td>9.000000</td>\n",
       "      <td>896.000000</td>\n",
       "      <td>120.000000</td>\n",
       "      <td>285.000000</td>\n",
       "      <td>0.426000</td>\n",
       "      <td>13.000000</td>\n",
       "      <td>43.000000</td>\n",
       "      <td>...</td>\n",
       "      <td>0.750000</td>\n",
       "      <td>27.000000</td>\n",
       "      <td>106.000000</td>\n",
       "      <td>138.000000</td>\n",
       "      <td>57.000000</td>\n",
       "      <td>26.000000</td>\n",
       "      <td>10.000000</td>\n",
       "      <td>46.000000</td>\n",
       "      <td>77.000000</td>\n",
       "      <td>308.000000</td>\n",
       "    </tr>\n",
       "    <tr>\n",
       "      <th>75%</th>\n",
       "      <td>381.500000</td>\n",
       "      <td>29.000000</td>\n",
       "      <td>70.000000</td>\n",
       "      <td>35.000000</td>\n",
       "      <td>1674.000000</td>\n",
       "      <td>251.000000</td>\n",
       "      <td>535.500000</td>\n",
       "      <td>0.472000</td>\n",
       "      <td>55.000000</td>\n",
       "      <td>165.000000</td>\n",
       "      <td>...</td>\n",
       "      <td>0.825000</td>\n",
       "      <td>61.500000</td>\n",
       "      <td>196.500000</td>\n",
       "      <td>262.000000</td>\n",
       "      <td>132.500000</td>\n",
       "      <td>48.000000</td>\n",
       "      <td>23.000000</td>\n",
       "      <td>90.500000</td>\n",
       "      <td>137.000000</td>\n",
       "      <td>658.000000</td>\n",
       "    </tr>\n",
       "    <tr>\n",
       "      <th>max</th>\n",
       "      <td>492.000000</td>\n",
       "      <td>38.000000</td>\n",
       "      <td>83.000000</td>\n",
       "      <td>82.000000</td>\n",
       "      <td>2981.000000</td>\n",
       "      <td>659.000000</td>\n",
       "      <td>1471.000000</td>\n",
       "      <td>1.000000</td>\n",
       "      <td>286.000000</td>\n",
       "      <td>646.000000</td>\n",
       "      <td>...</td>\n",
       "      <td>1.000000</td>\n",
       "      <td>437.000000</td>\n",
       "      <td>829.000000</td>\n",
       "      <td>1226.000000</td>\n",
       "      <td>838.000000</td>\n",
       "      <td>163.000000</td>\n",
       "      <td>200.000000</td>\n",
       "      <td>321.000000</td>\n",
       "      <td>285.000000</td>\n",
       "      <td>2217.000000</td>\n",
       "    </tr>\n",
       "  </tbody>\n",
       "</table>\n",
       "<p>8 rows × 27 columns</p>\n",
       "</div>"
      ],
      "text/plain": [
       "               Rk         Age           G          GS           MP  \\\n",
       "count  651.000000  651.000000  651.000000  651.000000   651.000000   \n",
       "mean   256.520737   26.500768   45.960061   21.099846  1041.775730   \n",
       "std    143.081604    4.110914   25.503151   25.932412   806.253103   \n",
       "min      1.000000   19.000000    1.000000    0.000000     1.000000   \n",
       "25%    130.500000   23.000000   24.000000    0.000000   272.000000   \n",
       "50%    262.000000   26.000000   48.000000    9.000000   896.000000   \n",
       "75%    381.500000   29.000000   70.000000   35.000000  1674.000000   \n",
       "max    492.000000   38.000000   83.000000   82.000000  2981.000000   \n",
       "\n",
       "               FG          FGA         FG%          3P         3PA  \\\n",
       "count  651.000000   651.000000  649.000000  651.000000  651.000000   \n",
       "mean   160.778802   359.763441    0.427404   33.917051   97.419355   \n",
       "std    148.971531   322.834979    0.100285   44.168306  118.003315   \n",
       "min      0.000000     0.000000    0.000000    0.000000    0.000000   \n",
       "25%     33.500000    80.500000    0.389000    1.000000    5.000000   \n",
       "50%    120.000000   285.000000    0.426000   13.000000   43.000000   \n",
       "75%    251.000000   535.500000    0.472000   55.000000  165.000000   \n",
       "max    659.000000  1471.000000    1.000000  286.000000  646.000000   \n",
       "\n",
       "          ...              FT%         ORB         DRB          TRB  \\\n",
       "count     ...       626.000000  651.000000  651.000000   651.000000   \n",
       "mean      ...         0.722800   46.414747  137.298003   183.712750   \n",
       "std       ...         0.154606   56.505820  130.956177   181.471919   \n",
       "min       ...         0.000000    0.000000    0.000000     0.000000   \n",
       "25%       ...         0.650500    8.000000   31.000000    40.000000   \n",
       "50%       ...         0.750000   27.000000  106.000000   138.000000   \n",
       "75%       ...         0.825000   61.500000  196.500000   262.000000   \n",
       "max       ...         1.000000  437.000000  829.000000  1226.000000   \n",
       "\n",
       "              AST         STL         BLK         TOV          PF          PTS  \n",
       "count  651.000000  651.000000  651.000000  651.000000  651.000000   651.000000  \n",
       "mean    95.960061   33.367127   20.072197   59.511521   87.199693   428.067588  \n",
       "std    116.919926   31.720880   29.058392   55.845731   64.768084   401.564362  \n",
       "min      0.000000    0.000000    0.000000    0.000000    0.000000     0.000000  \n",
       "25%     15.000000    8.000000    2.000000   13.500000   26.000000    90.000000  \n",
       "50%     57.000000   26.000000   10.000000   46.000000   77.000000   308.000000  \n",
       "75%    132.500000   48.000000   23.000000   90.500000  137.000000   658.000000  \n",
       "max    838.000000  163.000000  200.000000  321.000000  285.000000  2217.000000  \n",
       "\n",
       "[8 rows x 27 columns]"
      ]
     },
     "execution_count": 9,
     "metadata": {},
     "output_type": "execute_result"
    }
   ],
   "source": [
    "bball_data.describe()"
   ]
  },
  {
   "cell_type": "code",
   "execution_count": 10,
   "metadata": {
    "collapsed": false
   },
   "outputs": [
    {
     "data": {
      "text/html": [
       "<div>\n",
       "<table border=\"1\" class=\"dataframe\">\n",
       "  <thead>\n",
       "    <tr style=\"text-align: right;\">\n",
       "      <th></th>\n",
       "      <th>PTS</th>\n",
       "      <th>Pos</th>\n",
       "      <th>3P</th>\n",
       "    </tr>\n",
       "  </thead>\n",
       "  <tbody>\n",
       "    <tr>\n",
       "      <th>0</th>\n",
       "      <td>833</td>\n",
       "      <td>C</td>\n",
       "      <td>0</td>\n",
       "    </tr>\n",
       "    <tr>\n",
       "      <th>1</th>\n",
       "      <td>472</td>\n",
       "      <td>C</td>\n",
       "      <td>1</td>\n",
       "    </tr>\n",
       "    <tr>\n",
       "      <th>2</th>\n",
       "      <td>1071</td>\n",
       "      <td>PF</td>\n",
       "      <td>38</td>\n",
       "    </tr>\n",
       "    <tr>\n",
       "      <th>3</th>\n",
       "      <td>685</td>\n",
       "      <td>PF</td>\n",
       "      <td>19</td>\n",
       "    </tr>\n",
       "    <tr>\n",
       "      <th>4</th>\n",
       "      <td>386</td>\n",
       "      <td>PF</td>\n",
       "      <td>19</td>\n",
       "    </tr>\n",
       "  </tbody>\n",
       "</table>\n",
       "</div>"
      ],
      "text/plain": [
       "    PTS Pos  3P\n",
       "0   833   C   0\n",
       "1   472   C   1\n",
       "2  1071  PF  38\n",
       "3   685  PF  19\n",
       "4   386  PF  19"
      ]
     },
     "execution_count": 10,
     "metadata": {},
     "output_type": "execute_result"
    }
   ],
   "source": [
    "players=bball_data[['PTS','Pos','3P']]\n",
    "players.head()\n"
   ]
  },
  {
   "cell_type": "code",
   "execution_count": 11,
   "metadata": {
    "collapsed": false
   },
   "outputs": [
    {
     "data": {
      "text/plain": [
       "Pos\n",
       "C         95\n",
       "PF       146\n",
       "PF-SF      1\n",
       "PG       142\n",
       "PG-SG      2\n",
       "SF       116\n",
       "SF-PF      1\n",
       "SF-SG      1\n",
       "SG       144\n",
       "SG-PG      2\n",
       "SG-SF      1\n",
       "dtype: int64"
      ]
     },
     "execution_count": 11,
     "metadata": {},
     "output_type": "execute_result"
    }
   ],
   "source": [
    "players_group=players.groupby('Pos')\n",
    "players_group.size()"
   ]
  },
  {
   "cell_type": "code",
   "execution_count": 12,
   "metadata": {
    "collapsed": false
   },
   "outputs": [
    {
     "name": "stderr",
     "output_type": "stream",
     "text": [
      "C:\\Users\\dchu2_000\\Anaconda2\\lib\\site-packages\\ipykernel\\__main__.py:2: FutureWarning: sort(columns=....) is deprecated, use sort_values(by=.....)\n",
      "  from ipykernel import kernelapp as app\n"
     ]
    },
    {
     "data": {
      "text/html": [
       "<div>\n",
       "<table border=\"1\" class=\"dataframe\">\n",
       "  <thead>\n",
       "    <tr style=\"text-align: right;\">\n",
       "      <th></th>\n",
       "      <th>PTS</th>\n",
       "      <th>3P</th>\n",
       "    </tr>\n",
       "    <tr>\n",
       "      <th>Pos</th>\n",
       "      <th></th>\n",
       "      <th></th>\n",
       "    </tr>\n",
       "  </thead>\n",
       "  <tbody>\n",
       "    <tr>\n",
       "      <th>SF-PF</th>\n",
       "      <td>63</td>\n",
       "      <td>19</td>\n",
       "    </tr>\n",
       "    <tr>\n",
       "      <th>SG-SF</th>\n",
       "      <td>73</td>\n",
       "      <td>5</td>\n",
       "    </tr>\n",
       "    <tr>\n",
       "      <th>PF-SF</th>\n",
       "      <td>443</td>\n",
       "      <td>7</td>\n",
       "    </tr>\n",
       "    <tr>\n",
       "      <th>SF-SG</th>\n",
       "      <td>538</td>\n",
       "      <td>91</td>\n",
       "    </tr>\n",
       "    <tr>\n",
       "      <th>SG-PG</th>\n",
       "      <td>1281</td>\n",
       "      <td>90</td>\n",
       "    </tr>\n",
       "  </tbody>\n",
       "</table>\n",
       "</div>"
      ],
      "text/plain": [
       "        PTS  3P\n",
       "Pos            \n",
       "SF-PF    63  19\n",
       "SG-SF    73   5\n",
       "PF-SF   443   7\n",
       "SF-SG   538  91\n",
       "SG-PG  1281  90"
      ]
     },
     "execution_count": 12,
     "metadata": {},
     "output_type": "execute_result"
    }
   ],
   "source": [
    "pos_totals = players_group.sum()\n",
    "pos_totals.sort(columns='PTS').head()"
   ]
  },
  {
   "cell_type": "code",
   "execution_count": 27,
   "metadata": {
    "collapsed": false
   },
   "outputs": [],
   "source": [
    "my_plot = pos_totals.plot.bar()"
   ]
  },
  {
   "cell_type": "code",
   "execution_count": 42,
   "metadata": {
    "collapsed": false
   },
   "outputs": [
    {
     "name": "stderr",
     "output_type": "stream",
     "text": [
      "C:\\Users\\dchu2_000\\Anaconda2\\lib\\site-packages\\ipykernel\\__main__.py:1: FutureWarning: sort(columns=....) is deprecated, use sort_values(by=.....)\n",
      "  if __name__ == '__main__':\n"
     ]
    },
    {
     "data": {
      "text/plain": [
       "<matplotlib.text.Text at 0x109ce198>"
      ]
     },
     "execution_count": 42,
     "metadata": {},
     "output_type": "execute_result"
    },
    {
     "data": {
      "image/png": "[encoded data removed]",
      "text/plain": [
       "<matplotlib.figure.Figure at 0x108027b8>"
      ]
     },
     "metadata": {},
     "output_type": "display_data"
    }
   ],
   "source": [
    "my_plot = pos_totals.sort(columns='PTS',ascending=False).plot(kind='bar',legend=None,title=\"Amount of pts to pos\")\n",
    "my_plot.set_xzlabel(\"Points\")\n",
    "my_plot.set_ylabel(\"Position\")"
   ]
  },
  {
   "cell_type": "code",
   "execution_count": 14,
   "metadata": {
    "collapsed": false
   },
   "outputs": [
    {
     "data": {
      "text/plain": [
       "Index([u'Rk', u'Player', u'Pos', u'Age', u'Tm', u'G', u'GS', u'MP', u'FG',\n",
       "       u'FGA', u'FG%', u'3P', u'3PA', u'3P%', u'2P', u'2PA', u'2P%', u'eFG%',\n",
       "       u'FT', u'FTA', u'FT%', u'ORB', u'DRB', u'TRB', u'AST', u'STL', u'BLK',\n",
       "       u'TOV', u'PF', u'PTS'],\n",
       "      dtype='object')"
      ]
     },
     "execution_count": 14,
     "metadata": {},
     "output_type": "execute_result"
    }
   ],
   "source": [
    "bball_data.columns"
   ]
  },
  {
   "cell_type": "code",
   "execution_count": null,
   "metadata": {
    "collapsed": true
   },
   "outputs": [],
   "source": []
  }
 ],
 "metadata": {
  "kernelspec": {
   "display_name": "Python 2",
   "language": "python",
   "name": "python2"
  },
  "language_info": {
   "codemirror_mode": {
    "name": "ipython",
    "version": 2
   },
   "file_extension": ".py",
   "mimetype": "text/x-python",
   "name": "python",
   "nbconvert_exporter": "python",
   "pygments_lexer": "ipython2",
   "version": "2.7.11"
  }
 },
 "nbformat": 4,
 "nbformat_minor": 0
}

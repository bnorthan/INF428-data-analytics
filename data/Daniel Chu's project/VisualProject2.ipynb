{
 "cells": [
  {
   "cell_type": "code",
   "execution_count": 1,
   "metadata": {
    "collapsed": false
   },
   "outputs": [
    {
     "name": "stdout",
     "output_type": "stream",
     "text": [
      "(651, 30)\n",
      "    Rk          Player Pos  Age   Tm   G  GS    MP   FG  FGA  ...     FT%  \\\n",
      "0  492    Tyler Zeller   C   25  BOS  82  59  1731  340  619  ...   0.823   \n",
      "1  491     Cody Zeller   C   22  CHO  62  45  1487  172  373  ...   0.774   \n",
      "2  490  Thaddeus Young  PF   26  TOT  76  68  2434  451  968  ...   0.655   \n",
      "3  490  Thaddeus Young  PF   26  MIN  48  48  1605  289  641  ...   0.682   \n",
      "4  490  Thaddeus Young  PF   26  BRK  28  20   829  162  327  ...   0.606   \n",
      "\n",
      "   ORB  DRB  TRB  AST  STL  BLK  TOV   PF   PTS  \n",
      "0  146  319  465  113   18   52   76  205   833  \n",
      "1   97  265  362  100   34   49   62  156   472  \n",
      "2  127  284  411  173  124   25  117  171  1071  \n",
      "3   75  170  245  135   86   17   75  115   685  \n",
      "4   52  114  166   38   38    8   42   56   386  \n",
      "\n",
      "[5 rows x 30 columns]\n"
     ]
    }
   ],
   "source": [
    "import pandas as pd \n",
    "\n",
    "bball_data=pd.read_csv('leagues_NBA_2015_totals_totals.csv',sep=';') \n",
    "\n",
    "print bball_data.shape\n",
    "print bball_data.head()"
   ]
  },
  {
   "cell_type": "code",
   "execution_count": 2,
   "metadata": {
    "collapsed": true
   },
   "outputs": [],
   "source": [
    "team_data=bball_data.groupby('Tm').mean()"
   ]
  },
  {
   "cell_type": "code",
   "execution_count": 3,
   "metadata": {
    "collapsed": false
   },
   "outputs": [
    {
     "data": {
      "text/html": [
       "<div>\n",
       "<table border=\"1\" class=\"dataframe\">\n",
       "  <thead>\n",
       "    <tr style=\"text-align: right;\">\n",
       "      <th></th>\n",
       "      <th>Rk</th>\n",
       "      <th>Age</th>\n",
       "      <th>G</th>\n",
       "      <th>GS</th>\n",
       "      <th>MP</th>\n",
       "      <th>FG</th>\n",
       "      <th>FGA</th>\n",
       "      <th>FG%</th>\n",
       "      <th>3P</th>\n",
       "      <th>3PA</th>\n",
       "      <th>...</th>\n",
       "      <th>FT%</th>\n",
       "      <th>ORB</th>\n",
       "      <th>DRB</th>\n",
       "      <th>TRB</th>\n",
       "      <th>AST</th>\n",
       "      <th>STL</th>\n",
       "      <th>BLK</th>\n",
       "      <th>TOV</th>\n",
       "      <th>PF</th>\n",
       "      <th>PTS</th>\n",
       "    </tr>\n",
       "    <tr>\n",
       "      <th>Tm</th>\n",
       "      <th></th>\n",
       "      <th></th>\n",
       "      <th></th>\n",
       "      <th></th>\n",
       "      <th></th>\n",
       "      <th></th>\n",
       "      <th></th>\n",
       "      <th></th>\n",
       "      <th></th>\n",
       "      <th></th>\n",
       "      <th></th>\n",
       "      <th></th>\n",
       "      <th></th>\n",
       "      <th></th>\n",
       "      <th></th>\n",
       "      <th></th>\n",
       "      <th></th>\n",
       "      <th></th>\n",
       "      <th></th>\n",
       "      <th></th>\n",
       "      <th></th>\n",
       "    </tr>\n",
       "  </thead>\n",
       "  <tbody>\n",
       "    <tr>\n",
       "      <th>ATL</th>\n",
       "      <td>250.562500</td>\n",
       "      <td>27.000000</td>\n",
       "      <td>54.250000</td>\n",
       "      <td>25.625000</td>\n",
       "      <td>1233.250000</td>\n",
       "      <td>195.062500</td>\n",
       "      <td>418.687500</td>\n",
       "      <td>0.442938</td>\n",
       "      <td>51.125000</td>\n",
       "      <td>134.500000</td>\n",
       "      <td>...</td>\n",
       "      <td>0.733625</td>\n",
       "      <td>44.687500</td>\n",
       "      <td>163.187500</td>\n",
       "      <td>207.875000</td>\n",
       "      <td>131.937500</td>\n",
       "      <td>46.500000</td>\n",
       "      <td>23.750000</td>\n",
       "      <td>68.937500</td>\n",
       "      <td>91.062500</td>\n",
       "      <td>525.562500</td>\n",
       "    </tr>\n",
       "    <tr>\n",
       "      <th>BOS</th>\n",
       "      <td>337.636364</td>\n",
       "      <td>26.181818</td>\n",
       "      <td>39.863636</td>\n",
       "      <td>18.636364</td>\n",
       "      <td>903.636364</td>\n",
       "      <td>145.136364</td>\n",
       "      <td>327.772727</td>\n",
       "      <td>0.444727</td>\n",
       "      <td>30.000000</td>\n",
       "      <td>91.863636</td>\n",
       "      <td>...</td>\n",
       "      <td>0.695773</td>\n",
       "      <td>41.363636</td>\n",
       "      <td>122.045455</td>\n",
       "      <td>163.409091</td>\n",
       "      <td>91.318182</td>\n",
       "      <td>30.636364</td>\n",
       "      <td>13.363636</td>\n",
       "      <td>49.454545</td>\n",
       "      <td>79.000000</td>\n",
       "      <td>377.818182</td>\n",
       "    </tr>\n",
       "    <tr>\n",
       "      <th>BRK</th>\n",
       "      <td>240.631579</td>\n",
       "      <td>27.526316</td>\n",
       "      <td>46.842105</td>\n",
       "      <td>21.578947</td>\n",
       "      <td>1048.842105</td>\n",
       "      <td>161.526316</td>\n",
       "      <td>358.105263</td>\n",
       "      <td>0.413737</td>\n",
       "      <td>28.473684</td>\n",
       "      <td>85.947368</td>\n",
       "      <td>...</td>\n",
       "      <td>0.710368</td>\n",
       "      <td>44.526316</td>\n",
       "      <td>138.263158</td>\n",
       "      <td>182.789474</td>\n",
       "      <td>90.315789</td>\n",
       "      <td>30.315789</td>\n",
       "      <td>17.894737</td>\n",
       "      <td>57.789474</td>\n",
       "      <td>83.105263</td>\n",
       "      <td>423.052632</td>\n",
       "    </tr>\n",
       "    <tr>\n",
       "      <th>CHI</th>\n",
       "      <td>235.642857</td>\n",
       "      <td>28.285714</td>\n",
       "      <td>58.642857</td>\n",
       "      <td>29.285714</td>\n",
       "      <td>1420.071429</td>\n",
       "      <td>214.357143</td>\n",
       "      <td>485.500000</td>\n",
       "      <td>0.419000</td>\n",
       "      <td>46.071429</td>\n",
       "      <td>130.357143</td>\n",
       "      <td>...</td>\n",
       "      <td>0.722214</td>\n",
       "      <td>68.500000</td>\n",
       "      <td>199.428571</td>\n",
       "      <td>267.928571</td>\n",
       "      <td>127.214286</td>\n",
       "      <td>36.714286</td>\n",
       "      <td>34.000000</td>\n",
       "      <td>77.142857</td>\n",
       "      <td>106.785714</td>\n",
       "      <td>590.357143</td>\n",
       "    </tr>\n",
       "    <tr>\n",
       "      <th>CHO</th>\n",
       "      <td>333.117647</td>\n",
       "      <td>26.117647</td>\n",
       "      <td>49.941176</td>\n",
       "      <td>24.117647</td>\n",
       "      <td>1170.882353</td>\n",
       "      <td>171.352941</td>\n",
       "      <td>407.764706</td>\n",
       "      <td>0.419529</td>\n",
       "      <td>29.294118</td>\n",
       "      <td>92.117647</td>\n",
       "      <td>...</td>\n",
       "      <td>0.764471</td>\n",
       "      <td>48.235294</td>\n",
       "      <td>164.294118</td>\n",
       "      <td>212.529412</td>\n",
       "      <td>97.294118</td>\n",
       "      <td>29.352941</td>\n",
       "      <td>26.352941</td>\n",
       "      <td>53.882353</td>\n",
       "      <td>87.882353</td>\n",
       "      <td>454.176471</td>\n",
       "    </tr>\n",
       "  </tbody>\n",
       "</table>\n",
       "<p>5 rows × 27 columns</p>\n",
       "</div>"
      ],
      "text/plain": [
       "             Rk        Age          G         GS           MP          FG  \\\n",
       "Tm                                                                          \n",
       "ATL  250.562500  27.000000  54.250000  25.625000  1233.250000  195.062500   \n",
       "BOS  337.636364  26.181818  39.863636  18.636364   903.636364  145.136364   \n",
       "BRK  240.631579  27.526316  46.842105  21.578947  1048.842105  161.526316   \n",
       "CHI  235.642857  28.285714  58.642857  29.285714  1420.071429  214.357143   \n",
       "CHO  333.117647  26.117647  49.941176  24.117647  1170.882353  171.352941   \n",
       "\n",
       "            FGA       FG%         3P         3PA     ...           FT%  \\\n",
       "Tm                                                   ...                 \n",
       "ATL  418.687500  0.442938  51.125000  134.500000     ...      0.733625   \n",
       "BOS  327.772727  0.444727  30.000000   91.863636     ...      0.695773   \n",
       "BRK  358.105263  0.413737  28.473684   85.947368     ...      0.710368   \n",
       "CHI  485.500000  0.419000  46.071429  130.357143     ...      0.722214   \n",
       "CHO  407.764706  0.419529  29.294118   92.117647     ...      0.764471   \n",
       "\n",
       "           ORB         DRB         TRB         AST        STL        BLK  \\\n",
       "Tm                                                                         \n",
       "ATL  44.687500  163.187500  207.875000  131.937500  46.500000  23.750000   \n",
       "BOS  41.363636  122.045455  163.409091   91.318182  30.636364  13.363636   \n",
       "BRK  44.526316  138.263158  182.789474   90.315789  30.315789  17.894737   \n",
       "CHI  68.500000  199.428571  267.928571  127.214286  36.714286  34.000000   \n",
       "CHO  48.235294  164.294118  212.529412   97.294118  29.352941  26.352941   \n",
       "\n",
       "           TOV          PF         PTS  \n",
       "Tm                                      \n",
       "ATL  68.937500   91.062500  525.562500  \n",
       "BOS  49.454545   79.000000  377.818182  \n",
       "BRK  57.789474   83.105263  423.052632  \n",
       "CHI  77.142857  106.785714  590.357143  \n",
       "CHO  53.882353   87.882353  454.176471  \n",
       "\n",
       "[5 rows x 27 columns]"
      ]
     },
     "execution_count": 3,
     "metadata": {},
     "output_type": "execute_result"
    }
   ],
   "source": [
    "team_data.head()"
   ]
  },
  {
   "cell_type": "code",
   "execution_count": 9,
   "metadata": {
    "collapsed": false
   },
   "outputs": [
    {
     "data": {
      "text/plain": [
       "<matplotlib.axes._subplots.AxesSubplot at 0x11d0d390>"
      ]
     },
     "execution_count": 9,
     "metadata": {},
     "output_type": "execute_result"
    },
    {
     "data": {
      "image/png": "[encoded data removed]",
      "text/plain": [
       "<matplotlib.figure.Figure at 0x11d18828>"
      ]
     },
     "metadata": {},
     "output_type": "display_data"
    }
   ],
   "source": [
    "%matplotlib inline\n",
    "\n",
    "team_data.iloc[:5][['GS','G','3P']].plot.bar(stacked=True)"
   ]
  },
  {
   "cell_type": "code",
   "execution_count": null,
   "metadata": {
    "collapsed": true
   },
   "outputs": [],
   "source": []
  }
 ],
 "metadata": {
  "kernelspec": {
   "display_name": "Python 2",
   "language": "python",
   "name": "python2"
  },
  "language_info": {
   "codemirror_mode": {
    "name": "ipython",
    "version": 2
   },
   "file_extension": ".py",
   "mimetype": "text/x-python",
   "name": "python",
   "nbconvert_exporter": "python",
   "pygments_lexer": "ipython2",
   "version": "2.7.11"
  }
 },
 "nbformat": 4,
 "nbformat_minor": 0
}

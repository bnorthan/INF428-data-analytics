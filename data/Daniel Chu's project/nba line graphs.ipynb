{
 "cells": [
  {
   "cell_type": "code",
   "execution_count": 4,
   "metadata": {
    "collapsed": false
   },
   "outputs": [
    {
     "name": "stdout",
     "output_type": "stream",
     "text": [
      "(32, 3)\n",
      "      Year Salary Cap Salary Cap (2015)\n",
      "0  1984-85   $3600000          $8023143\n",
      "1  1985-86   $4233000          $9256314\n",
      "2  1986-87   $4945000         $10433167\n",
      "3  1987-88   $6164000         $12492766\n",
      "4  1988-89   $7232000         $13984455\n"
     ]
    }
   ],
   "source": [
    "%matplotlib inline\n",
    "import pandas as pd\n",
    "import matplotlib.pyplot as plt\n",
    "\n",
    "teamcap=pd.read_csv('nba_salarycap_history.csv',sep=',')\n",
    "print teamcap.shape\n",
    "print teamcap.head()"
   ]
  },
  {
   "cell_type": "code",
   "execution_count": 5,
   "metadata": {
    "collapsed": false
   },
   "outputs": [
    {
     "data": {
      "text/plain": [
       "<bound method DataFrame.describe of        Year Salary Cap Salary Cap (2015)\n",
       "0   1984-85   $3600000          $8023143\n",
       "1   1985-86   $4233000          $9256314\n",
       "2   1986-87   $4945000         $10433167\n",
       "3   1987-88   $6164000         $12492766\n",
       "4   1988-89   $7232000         $13984455\n",
       "5   1989-90   $9802000         $17983649\n",
       "6   1990-91  $11871000         $20890987\n",
       "7   1991-92  $12500000         $21351078\n",
       "8   1992-93  $14000000         $23230131\n",
       "9   1993-94  $15175000         $24540980\n",
       "10  1994-95  $15964000         $25112184\n",
       "11  1995-96  $23000000         $35151495\n",
       "12  1996-97  $24363000         $36377837\n",
       "13  1997-98  $26900000         $39559146\n",
       "14  1998-99  $30000000         $43166200\n",
       "15  1999-00  $34000000         $47324057\n",
       "16  2000-01  $35500000         $48056098\n",
       "17  2001-02  $42500000         $56637835\n",
       "18  2002-03  $40271000         $52473229\n",
       "19  2003-04  $43840000         $55634164\n",
       "20  2004-05  $43870000         $53841473\n",
       "21  2005-06  $49500000         $58855810\n",
       "22  2006-07  $53135000         $61423753\n",
       "23  2007-08  $55630000         $61932440\n",
       "24  2008-09  $58680000         $65561042\n",
       "25  2009-10  $57700000         $63423332\n",
       "26  2010-11  $58044000         $61847771\n",
       "27  2011-12  $58044000         $60601671\n",
       "28  2012-13  $58044000         $59727276\n",
       "29  2013-14  $58679000         $59413106\n",
       "30  2014-15  $63065000         $63065000\n",
       "31  2015-16  $70000000               NaN>"
      ]
     },
     "execution_count": 5,
     "metadata": {},
     "output_type": "execute_result"
    }
   ],
   "source": [
    "teamcap.describe"
   ]
  },
  {
   "cell_type": "code",
   "execution_count": 21,
   "metadata": {
    "collapsed": false
   },
   "outputs": [],
   "source": [
    "# I looked back to the examples but im still having trouble with graphing lines for this data set\n",
    "# Below you can see a table just consisting Year and Salary cap\n",
    "#I want to get year as Y and salary cap as x coordinates how do i do that?"
   ]
  },
  {
   "cell_type": "code",
   "execution_count": 6,
   "metadata": {
    "collapsed": false
   },
   "outputs": [
    {
     "data": {
      "text/html": [
       "<div>\n",
       "<table border=\"1\" class=\"dataframe\">\n",
       "  <thead>\n",
       "    <tr style=\"text-align: right;\">\n",
       "      <th></th>\n",
       "      <th>Year</th>\n",
       "    </tr>\n",
       "  </thead>\n",
       "  <tbody>\n",
       "    <tr>\n",
       "      <th>0</th>\n",
       "      <td>1984-85</td>\n",
       "    </tr>\n",
       "    <tr>\n",
       "      <th>1</th>\n",
       "      <td>1985-86</td>\n",
       "    </tr>\n",
       "    <tr>\n",
       "      <th>2</th>\n",
       "      <td>1986-87</td>\n",
       "    </tr>\n",
       "    <tr>\n",
       "      <th>3</th>\n",
       "      <td>1987-88</td>\n",
       "    </tr>\n",
       "    <tr>\n",
       "      <th>4</th>\n",
       "      <td>1988-89</td>\n",
       "    </tr>\n",
       "  </tbody>\n",
       "</table>\n",
       "</div>"
      ],
      "text/plain": [
       "      Year\n",
       "0  1984-85\n",
       "1  1985-86\n",
       "2  1986-87\n",
       "3  1987-88\n",
       "4  1988-89"
      ]
     },
     "execution_count": 6,
     "metadata": {},
     "output_type": "execute_result"
    }
   ],
   "source": [
    "comparison_y=teamcap[['Year']]\n",
    "comparison_y.head()"
   ]
  },
  {
   "cell_type": "code",
   "execution_count": 7,
   "metadata": {
    "collapsed": false
   },
   "outputs": [
    {
     "data": {
      "text/html": [
       "<div>\n",
       "<table border=\"1\" class=\"dataframe\">\n",
       "  <thead>\n",
       "    <tr style=\"text-align: right;\">\n",
       "      <th></th>\n",
       "      <th>Salary Cap</th>\n",
       "    </tr>\n",
       "  </thead>\n",
       "  <tbody>\n",
       "    <tr>\n",
       "      <th>0</th>\n",
       "      <td>$3600000</td>\n",
       "    </tr>\n",
       "    <tr>\n",
       "      <th>1</th>\n",
       "      <td>$4233000</td>\n",
       "    </tr>\n",
       "    <tr>\n",
       "      <th>2</th>\n",
       "      <td>$4945000</td>\n",
       "    </tr>\n",
       "    <tr>\n",
       "      <th>3</th>\n",
       "      <td>$6164000</td>\n",
       "    </tr>\n",
       "    <tr>\n",
       "      <th>4</th>\n",
       "      <td>$7232000</td>\n",
       "    </tr>\n",
       "  </tbody>\n",
       "</table>\n",
       "</div>"
      ],
      "text/plain": [
       "  Salary Cap\n",
       "0   $3600000\n",
       "1   $4233000\n",
       "2   $4945000\n",
       "3   $6164000\n",
       "4   $7232000"
      ]
     },
     "execution_count": 7,
     "metadata": {},
     "output_type": "execute_result"
    }
   ],
   "source": [
    "comparison_x=teamcap[['Salary Cap']]\n",
    "comparison_x.head()"
   ]
  },
  {
   "cell_type": "code",
   "execution_count": 8,
   "metadata": {
    "collapsed": false
   },
   "outputs": [],
   "source": [
    "teamcap.index=teamcap['Year']"
   ]
  },
  {
   "cell_type": "code",
   "execution_count": 9,
   "metadata": {
    "collapsed": false
   },
   "outputs": [],
   "source": [
    "teamcap['Salary Cap'] = teamcap['Salary Cap'].apply(lambda x:x[1:])"
   ]
  },
  {
   "cell_type": "code",
   "execution_count": 10,
   "metadata": {
    "collapsed": false
   },
   "outputs": [
    {
     "data": {
      "text/html": [
       "<div>\n",
       "<table border=\"1\" class=\"dataframe\">\n",
       "  <thead>\n",
       "    <tr style=\"text-align: right;\">\n",
       "      <th></th>\n",
       "      <th>Year</th>\n",
       "      <th>Salary Cap</th>\n",
       "      <th>Salary Cap (2015)</th>\n",
       "    </tr>\n",
       "    <tr>\n",
       "      <th>Year</th>\n",
       "      <th></th>\n",
       "      <th></th>\n",
       "      <th></th>\n",
       "    </tr>\n",
       "  </thead>\n",
       "  <tbody>\n",
       "    <tr>\n",
       "      <th>1984-85</th>\n",
       "      <td>1984-85</td>\n",
       "      <td>3600000</td>\n",
       "      <td>$8023143</td>\n",
       "    </tr>\n",
       "    <tr>\n",
       "      <th>1985-86</th>\n",
       "      <td>1985-86</td>\n",
       "      <td>4233000</td>\n",
       "      <td>$9256314</td>\n",
       "    </tr>\n",
       "    <tr>\n",
       "      <th>1986-87</th>\n",
       "      <td>1986-87</td>\n",
       "      <td>4945000</td>\n",
       "      <td>$10433167</td>\n",
       "    </tr>\n",
       "    <tr>\n",
       "      <th>1987-88</th>\n",
       "      <td>1987-88</td>\n",
       "      <td>6164000</td>\n",
       "      <td>$12492766</td>\n",
       "    </tr>\n",
       "    <tr>\n",
       "      <th>1988-89</th>\n",
       "      <td>1988-89</td>\n",
       "      <td>7232000</td>\n",
       "      <td>$13984455</td>\n",
       "    </tr>\n",
       "  </tbody>\n",
       "</table>\n",
       "</div>"
      ],
      "text/plain": [
       "            Year Salary Cap Salary Cap (2015)\n",
       "Year                                         \n",
       "1984-85  1984-85    3600000          $8023143\n",
       "1985-86  1985-86    4233000          $9256314\n",
       "1986-87  1986-87    4945000         $10433167\n",
       "1987-88  1987-88    6164000         $12492766\n",
       "1988-89  1988-89    7232000         $13984455"
      ]
     },
     "execution_count": 10,
     "metadata": {},
     "output_type": "execute_result"
    }
   ],
   "source": [
    "teamcap.head()"
   ]
  },
  {
   "cell_type": "code",
   "execution_count": 11,
   "metadata": {
    "collapsed": false
   },
   "outputs": [],
   "source": [
    "teamcap['Salary Cap (2015)']=teamcap['Salary Cap (2015)'].fillna('$0')\n",
    "teamcap['Salary Cap (2015)'] = teamcap['Salary Cap (2015)'].apply(lambda x:x[1:])"
   ]
  },
  {
   "cell_type": "code",
   "execution_count": 12,
   "metadata": {
    "collapsed": false
   },
   "outputs": [
    {
     "ename": "AttributeError",
     "evalue": "'Series' object has no attribute 'to'",
     "output_type": "error",
     "traceback": [
      "\u001b[1;31m---------------------------------------------------------------------------\u001b[0m",
      "\u001b[1;31mAttributeError\u001b[0m                            Traceback (most recent call last)",
      "\u001b[1;32m<ipython-input-12-7ca68459d49e>\u001b[0m in \u001b[0;36m<module>\u001b[1;34m()\u001b[0m\n\u001b[0;32m      1\u001b[0m \u001b[0mtest\u001b[0m\u001b[1;33m=\u001b[0m\u001b[0mteamcap\u001b[0m\u001b[1;33m[\u001b[0m\u001b[1;34m'Salary Cap'\u001b[0m\u001b[1;33m]\u001b[0m\u001b[1;33m\u001b[0m\u001b[0m\n\u001b[1;32m----> 2\u001b[1;33m \u001b[0mtest\u001b[0m\u001b[1;33m.\u001b[0m\u001b[0mto\u001b[0m\u001b[1;33m\u001b[0m\u001b[0m\n\u001b[0m",
      "\u001b[1;32mC:\\Users\\dchu2_000\\Anaconda2\\lib\\site-packages\\pandas\\core\\generic.pyc\u001b[0m in \u001b[0;36m__getattr__\u001b[1;34m(self, name)\u001b[0m\n\u001b[0;32m   2358\u001b[0m                 \u001b[1;32mreturn\u001b[0m \u001b[0mself\u001b[0m\u001b[1;33m[\u001b[0m\u001b[0mname\u001b[0m\u001b[1;33m]\u001b[0m\u001b[1;33m\u001b[0m\u001b[0m\n\u001b[0;32m   2359\u001b[0m             raise AttributeError(\"'%s' object has no attribute '%s'\" %\n\u001b[1;32m-> 2360\u001b[1;33m                                  (type(self).__name__, name))\n\u001b[0m\u001b[0;32m   2361\u001b[0m \u001b[1;33m\u001b[0m\u001b[0m\n\u001b[0;32m   2362\u001b[0m     \u001b[1;32mdef\u001b[0m \u001b[0m__setattr__\u001b[0m\u001b[1;33m(\u001b[0m\u001b[0mself\u001b[0m\u001b[1;33m,\u001b[0m \u001b[0mname\u001b[0m\u001b[1;33m,\u001b[0m \u001b[0mvalue\u001b[0m\u001b[1;33m)\u001b[0m\u001b[1;33m:\u001b[0m\u001b[1;33m\u001b[0m\u001b[0m\n",
      "\u001b[1;31mAttributeError\u001b[0m: 'Series' object has no attribute 'to'"
     ]
    }
   ],
   "source": [
    "test=teamcap['Salary Cap']\n",
    "test.to"
   ]
  },
  {
   "cell_type": "code",
   "execution_count": 14,
   "metadata": {
    "collapsed": false
   },
   "outputs": [],
   "source": [
    "teamcap['Salary Cap (2015)']=pd.to_numeric(teamcap['Salary Cap (2015)'])\n",
    "teamcap['Salary Cap']=pd.to_numeric(teamcap['Salary Cap'])\n"
   ]
  },
  {
   "cell_type": "code",
   "execution_count": 15,
   "metadata": {
    "collapsed": false
   },
   "outputs": [
    {
     "data": {
      "text/plain": [
       "<matplotlib.axes._subplots.AxesSubplot at 0xb4aa2e8>"
      ]
     },
     "execution_count": 15,
     "metadata": {},
     "output_type": "execute_result"
    },
    {
     "data": {
      "image/png": "[encoded data removed]",
      "text/plain": [
       "<matplotlib.figure.Figure at 0xb497a20>"
      ]
     },
     "metadata": {},
     "output_type": "display_data"
    }
   ],
   "source": [
    "teamcap['Salary Cap'].plot()"
   ]
  },
  {
   "cell_type": "code",
   "execution_count": 16,
   "metadata": {
    "collapsed": false
   },
   "outputs": [
    {
     "data": {
      "text/plain": [
       "<matplotlib.axes._subplots.AxesSubplot at 0xbdd4ba8>"
      ]
     },
     "execution_count": 16,
     "metadata": {},
     "output_type": "execute_result"
    },
    {
     "data": {
      "image/png": "[encoded data removed]",
      "text/plain": [
       "<matplotlib.figure.Figure at 0xb497a90>"
      ]
     },
     "metadata": {},
     "output_type": "display_data"
    }
   ],
   "source": [
    "teamcap[['Salary Cap','Salary Cap (2015)']].plot()"
   ]
  },
  {
   "cell_type": "code",
   "execution_count": null,
   "metadata": {
    "collapsed": true
   },
   "outputs": [],
   "source": []
  }
 ],
 "metadata": {
  "kernelspec": {
   "display_name": "Python 2",
   "language": "python",
   "name": "python2"
  },
  "language_info": {
   "codemirror_mode": {
    "name": "ipython",
    "version": 2
   },
   "file_extension": ".py",
   "mimetype": "text/x-python",
   "name": "python",
   "nbconvert_exporter": "python",
   "pygments_lexer": "ipython2",
   "version": "2.7.11"
  }
 },
 "nbformat": 4,
 "nbformat_minor": 0
}

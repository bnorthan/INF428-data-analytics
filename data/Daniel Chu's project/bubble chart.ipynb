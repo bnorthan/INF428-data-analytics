{
 "cells": [
  {
   "cell_type": "code",
   "execution_count": 1,
   "metadata": {
    "collapsed": false,
    "scrolled": true
   },
   "outputs": [
    {
     "data": {
      "text/html": [
       "<div>\n",
       "<table border=\"1\" class=\"dataframe\">\n",
       "  <thead>\n",
       "    <tr style=\"text-align: right;\">\n",
       "      <th></th>\n",
       "      <th>Rk</th>\n",
       "      <th>Team</th>\n",
       "      <th>G</th>\n",
       "      <th>MP</th>\n",
       "      <th>FG</th>\n",
       "      <th>FGA</th>\n",
       "      <th>FG%</th>\n",
       "      <th>3P</th>\n",
       "      <th>3PA</th>\n",
       "      <th>3P%</th>\n",
       "      <th>...</th>\n",
       "      <th>ORB</th>\n",
       "      <th>DRB</th>\n",
       "      <th>TRB</th>\n",
       "      <th>AST</th>\n",
       "      <th>STL</th>\n",
       "      <th>BLK</th>\n",
       "      <th>TOV</th>\n",
       "      <th>PF</th>\n",
       "      <th>PTS</th>\n",
       "      <th>PTS/G</th>\n",
       "    </tr>\n",
       "  </thead>\n",
       "  <tbody>\n",
       "    <tr>\n",
       "      <th>0</th>\n",
       "      <td>1</td>\n",
       "      <td>Golden State Warriors*</td>\n",
       "      <td>70</td>\n",
       "      <td>16950</td>\n",
       "      <td>2985</td>\n",
       "      <td>6122</td>\n",
       "      <td>0.488</td>\n",
       "      <td>902</td>\n",
       "      <td>2177</td>\n",
       "      <td>0.414</td>\n",
       "      <td>...</td>\n",
       "      <td>714</td>\n",
       "      <td>2521</td>\n",
       "      <td>3235</td>\n",
       "      <td>2045</td>\n",
       "      <td>595</td>\n",
       "      <td>425</td>\n",
       "      <td>1058</td>\n",
       "      <td>1462</td>\n",
       "      <td>8069</td>\n",
       "      <td>115.3</td>\n",
       "    </tr>\n",
       "    <tr>\n",
       "      <th>1</th>\n",
       "      <td>2</td>\n",
       "      <td>Oklahoma City Thunder*</td>\n",
       "      <td>70</td>\n",
       "      <td>16925</td>\n",
       "      <td>2882</td>\n",
       "      <td>6044</td>\n",
       "      <td>0.477</td>\n",
       "      <td>565</td>\n",
       "      <td>1613</td>\n",
       "      <td>0.350</td>\n",
       "      <td>...</td>\n",
       "      <td>901</td>\n",
       "      <td>2499</td>\n",
       "      <td>3400</td>\n",
       "      <td>1605</td>\n",
       "      <td>502</td>\n",
       "      <td>426</td>\n",
       "      <td>1107</td>\n",
       "      <td>1454</td>\n",
       "      <td>7712</td>\n",
       "      <td>110.2</td>\n",
       "    </tr>\n",
       "    <tr>\n",
       "      <th>2</th>\n",
       "      <td>3</td>\n",
       "      <td>Sacramento Kings</td>\n",
       "      <td>70</td>\n",
       "      <td>16925</td>\n",
       "      <td>2792</td>\n",
       "      <td>6036</td>\n",
       "      <td>0.463</td>\n",
       "      <td>559</td>\n",
       "      <td>1577</td>\n",
       "      <td>0.354</td>\n",
       "      <td>...</td>\n",
       "      <td>737</td>\n",
       "      <td>2376</td>\n",
       "      <td>3113</td>\n",
       "      <td>1725</td>\n",
       "      <td>620</td>\n",
       "      <td>304</td>\n",
       "      <td>1144</td>\n",
       "      <td>1439</td>\n",
       "      <td>7449</td>\n",
       "      <td>106.4</td>\n",
       "    </tr>\n",
       "    <tr>\n",
       "      <th>3</th>\n",
       "      <td>4</td>\n",
       "      <td>Houston Rockets</td>\n",
       "      <td>70</td>\n",
       "      <td>16950</td>\n",
       "      <td>2605</td>\n",
       "      <td>5811</td>\n",
       "      <td>0.448</td>\n",
       "      <td>744</td>\n",
       "      <td>2167</td>\n",
       "      <td>0.343</td>\n",
       "      <td>...</td>\n",
       "      <td>785</td>\n",
       "      <td>2217</td>\n",
       "      <td>3002</td>\n",
       "      <td>1529</td>\n",
       "      <td>713</td>\n",
       "      <td>355</td>\n",
       "      <td>1127</td>\n",
       "      <td>1540</td>\n",
       "      <td>7430</td>\n",
       "      <td>106.1</td>\n",
       "    </tr>\n",
       "    <tr>\n",
       "      <th>4</th>\n",
       "      <td>5</td>\n",
       "      <td>Boston Celtics</td>\n",
       "      <td>71</td>\n",
       "      <td>17140</td>\n",
       "      <td>2805</td>\n",
       "      <td>6369</td>\n",
       "      <td>0.440</td>\n",
       "      <td>629</td>\n",
       "      <td>1883</td>\n",
       "      <td>0.334</td>\n",
       "      <td>...</td>\n",
       "      <td>827</td>\n",
       "      <td>2368</td>\n",
       "      <td>3195</td>\n",
       "      <td>1729</td>\n",
       "      <td>664</td>\n",
       "      <td>302</td>\n",
       "      <td>984</td>\n",
       "      <td>1573</td>\n",
       "      <td>7528</td>\n",
       "      <td>106.0</td>\n",
       "    </tr>\n",
       "  </tbody>\n",
       "</table>\n",
       "<p>5 rows × 26 columns</p>\n",
       "</div>"
      ],
      "text/plain": [
       "   Rk                    Team   G     MP    FG   FGA    FG%   3P   3PA    3P%  \\\n",
       "0   1  Golden State Warriors*  70  16950  2985  6122  0.488  902  2177  0.414   \n",
       "1   2  Oklahoma City Thunder*  70  16925  2882  6044  0.477  565  1613  0.350   \n",
       "2   3        Sacramento Kings  70  16925  2792  6036  0.463  559  1577  0.354   \n",
       "3   4         Houston Rockets  70  16950  2605  5811  0.448  744  2167  0.343   \n",
       "4   5          Boston Celtics  71  17140  2805  6369  0.440  629  1883  0.334   \n",
       "\n",
       "   ...    ORB   DRB   TRB   AST  STL  BLK   TOV    PF   PTS  PTS/G  \n",
       "0  ...    714  2521  3235  2045  595  425  1058  1462  8069  115.3  \n",
       "1  ...    901  2499  3400  1605  502  426  1107  1454  7712  110.2  \n",
       "2  ...    737  2376  3113  1725  620  304  1144  1439  7449  106.4  \n",
       "3  ...    785  2217  3002  1529  713  355  1127  1540  7430  106.1  \n",
       "4  ...    827  2368  3195  1729  664  302   984  1573  7528  106.0  \n",
       "\n",
       "[5 rows x 26 columns]"
      ]
     },
     "execution_count": 1,
     "metadata": {},
     "output_type": "execute_result"
    }
   ],
   "source": [
    "import pandas as pd \n",
    "\n",
    "team_stats=pd.read_csv('nba_team_stats_2016.csv',sep=',')\n",
    "team_stats.head()"
   ]
  },
  {
   "cell_type": "code",
   "execution_count": 7,
   "metadata": {
    "collapsed": false
   },
   "outputs": [
    {
     "data": {
      "text/plain": [
       "<matplotlib.axes._subplots.AxesSubplot at 0xc311da0>"
      ]
     },
     "execution_count": 7,
     "metadata": {},
     "output_type": "execute_result"
    },
    {
     "data": {
      "image/png": "[encoded data removed]",
      "text/plain": [
       "<matplotlib.figure.Figure at 0xc2cc2b0>"
      ]
     },
     "metadata": {},
     "output_type": "display_data"
    }
   ],
   "source": [
    "%matplotlib inline\n",
    "team_stats.plot.scatter('3P', 'FG', s=team_stats['TOV'])"
   ]
  },
  {
   "cell_type": "code",
   "execution_count": null,
   "metadata": {
    "collapsed": true
   },
   "outputs": [],
   "source": []
  }
 ],
 "metadata": {
  "kernelspec": {
   "display_name": "Python 2",
   "language": "python",
   "name": "python2"
  },
  "language_info": {
   "codemirror_mode": {
    "name": "ipython",
    "version": 2
   },
   "file_extension": ".py",
   "mimetype": "text/x-python",
   "name": "python",
   "nbconvert_exporter": "python",
   "pygments_lexer": "ipython2",
   "version": "2.7.11"
  }
 },
 "nbformat": 4,
 "nbformat_minor": 0
}

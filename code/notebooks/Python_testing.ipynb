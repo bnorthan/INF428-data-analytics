{
 "cells": [
  {
   "cell_type": "code",
   "execution_count": 1,
   "metadata": {
    "collapsed": false
   },
   "outputs": [
    {
     "name": "stdout",
     "output_type": "stream",
     "text": [
      "Hello!\n",
      "\n"
     ]
    }
   ],
   "source": [
    "# This is a comment (typically single line)\n",
    "\"\"\"\n",
    "Triple quotes are used for large multi-line comments, and\n",
    "typically to document functions and modules (Docstrings)\n",
    "\"\"\"\n",
    "\n",
    "# here is how we print\n",
    "print \"Hello!\"\n",
    "print"
   ]
  },
  {
   "cell_type": "code",
   "execution_count": 2,
   "metadata": {
    "collapsed": false
   },
   "outputs": [
    {
     "name": "stdout",
     "output_type": "stream",
     "text": [
      "Print variables a, b, c 2 8 16\n",
      "\n"
     ]
    }
   ],
   "source": [
    "# here is some math:\n",
    "a = 1+1\t\t# Sum\n",
    "b = 2*4\t\t# Multiplication\n",
    "c = 2**4\t# Exponentiation (2^14 = 16)\n",
    "print \"Print variables a, b, c\", a, b, c\n",
    "print"
   ]
  },
  {
   "cell_type": "code",
   "execution_count": 13,
   "metadata": {
    "collapsed": false
   },
   "outputs": [
    {
     "name": "stdout",
     "output_type": "stream",
     "text": [
      "3 is in the list\n"
     ]
    }
   ],
   "source": [
    "a,b = 10,3\n",
    "my_list = [1, 2, 3, 4]\n",
    "\n",
    "# An if statement: Indentation is critical in python!\n",
    "if a in my_list and b not in my_list:\n",
    "\tprint a, \"is in the list\"\n",
    "elif b in my_list and a not in my_list:\n",
    "\tprint b, \"is in the list\"\n",
    "elif a in my_list and b in my_list:\n",
    "    print \"a \",a,\" and b \",b,\" are both in the list\"\n",
    "else:\n",
    "    print \"Neither\", a, \"or\", b, \"are in in the list\""
   ]
  },
  {
   "cell_type": "code",
   "execution_count": 14,
   "metadata": {
    "collapsed": false
   },
   "outputs": [
    {
     "name": "stdout",
     "output_type": "stream",
     "text": [
      "a  1  and b  3  are both in the list\n"
     ]
    }
   ],
   "source": [
    "a,b=1,3\n",
    "\n",
    "list = [1, 2, 3, 4]\n",
    "\t\t\t\t\t\n",
    "# An if statement: Indentation is critical in python!\n",
    "if a in my_list and b not in my_list:\n",
    "\tprint a, \"is in the list\"\n",
    "elif b in my_list and a not in my_list:\n",
    "\tprint b, \"is in the list\"\n",
    "elif a in my_list and b in my_list:\n",
    "\tprint \"a \",a,\" and b \",b,\" are both in the list\"\n",
    "else:\n",
    "\tprint \"Neither\", a, \"or\", b, \"are in in the list\""
   ]
  },
  {
   "cell_type": "code",
   "execution_count": 2,
   "metadata": {
    "collapsed": false
   },
   "outputs": [
    {
     "name": "stdout",
     "output_type": "stream",
     "text": [
      "\n",
      "range_list is:  [1, 2, 3, 4, 5, 6, 7, 8, 9]\n",
      "\n",
      "\n",
      "the range_list is:  [354, 355, 356, 357, 358, 359, 360, 361, 362]\n",
      "\n"
     ]
    }
   ],
   "source": [
    "## the range function simply returns a list of numbers in the specified range\n",
    "range_list=range(1,10)\n",
    "\n",
    "print\n",
    "print \"range_list is: \", range_list\n",
    "print\n",
    "\n",
    "range_list=range(354,363)\n",
    "\n",
    "print\n",
    "print \"the range_list is: \", range_list\n",
    "print"
   ]
  },
  {
   "cell_type": "code",
   "execution_count": 3,
   "metadata": {
    "collapsed": false
   },
   "outputs": [
    {
     "name": "stdout",
     "output_type": "stream",
     "text": [
      "Loop through integers between 1 and 5:\n",
      "i is:  1\n",
      "i is:  2\n",
      "i is:  3\n",
      "i is:  4\n",
      "Integers between 1 and 5:\n",
      "i is:  1\n",
      "i is:  2\n",
      "i is:  3\n",
      "i is:  4\n",
      "i is:  5\n"
     ]
    }
   ],
   "source": [
    "## the range function is useful for creating for loops\n",
    "print \"Loop through integers between 1 and 5:\"\n",
    "for i in range(1, 5):\n",
    "    print \"i is: \", i\n",
    "\n",
    "# is equivalent to\n",
    "\n",
    "print \"Integers between 1 and 5:\"\n",
    "for i in [1,2,3,4,5]:\n",
    "    print \"i is: \", i"
   ]
  },
  {
   "cell_type": "code",
   "execution_count": 1,
   "metadata": {
    "collapsed": false
   },
   "outputs": [
    {
     "name": "stdout",
     "output_type": "stream",
     "text": [
      "Loop through a list\n",
      "The team is:  Blue Jays\n",
      "The team is:  Yankees\n",
      "The team is:  Red Sox\n",
      "The team is:  Rays\n",
      "The team is:  Orioles\n"
     ]
    }
   ],
   "source": [
    "print \"Loop through a list\"\n",
    "\n",
    "team_list=[\"Blue Jays\", \"Yankees\", \"Red Sox\", \"Rays\", \"Orioles\"]\n",
    "\n",
    "for team in team_list:\n",
    "    print \"The team is: \", team"
   ]
  },
  {
   "cell_type": "code",
   "execution_count": 5,
   "metadata": {
    "collapsed": false
   },
   "outputs": [
    {
     "name": "stdout",
     "output_type": "stream",
     "text": [
      "[Line 09] Python PI= 3.14159265359\n",
      "A random team: Bills\n"
     ]
    }
   ],
   "source": [
    "# Importing a Python module:\n",
    "import math\n",
    "print \"[Line 09]\", \"Python PI=\", math.pi # https://docs.python.org/2/library/math.html\n",
    "\n",
    "\n",
    "# The import statement can occur anywhere in a script\n",
    "my_teams = [\"Blue Jays\", \"Oilers\", \"Raptors\", \"Bills\"]\n",
    "import random\n",
    "print \"A random team:\", random.choice(my_teams) # https://docs.python.org/2/library/random.html"
   ]
  },
  {
   "cell_type": "code",
   "execution_count": 6,
   "metadata": {
    "collapsed": true
   },
   "outputs": [],
   "source": [
    "# Functions are defined with <def>. Return values are\n",
    "# specified by a <return> statement. Here is a function\n",
    "# without arguments:\n",
    "def today():\n",
    "    \"\"\"This function returns a string of today's date\"\"\"\n",
    "    import datetime\t\t# https://docs.python.org/2/library/datetime.html\n",
    "    td = datetime.date.today()\n",
    "    return td"
   ]
  },
  {
   "cell_type": "code",
   "execution_count": 7,
   "metadata": {
    "collapsed": false
   },
   "outputs": [
    {
     "name": "stdout",
     "output_type": "stream",
     "text": [
      "today() returned 2015-11-02\n",
      "str(today()) returned 2015-11-02\n"
     ]
    }
   ],
   "source": [
    "print \"today() returned\", today()\n",
    "print  \"str(today()) returned\", str(today())\t"
   ]
  },
  {
   "cell_type": "code",
   "execution_count": null,
   "metadata": {
    "collapsed": true
   },
   "outputs": [],
   "source": []
  }
 ],
 "metadata": {
  "kernelspec": {
   "display_name": "Python 2",
   "language": "python",
   "name": "python2"
  },
  "language_info": {
   "codemirror_mode": {
    "name": "ipython",
    "version": 2
   },
   "file_extension": ".py",
   "mimetype": "text/x-python",
   "name": "python",
   "nbconvert_exporter": "python",
   "pygments_lexer": "ipython2",
   "version": "2.7.10"
  }
 },
 "nbformat": 4,
 "nbformat_minor": 0
}

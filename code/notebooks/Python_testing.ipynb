{
 "cells": [
  {
   "cell_type": "code",
   "execution_count": 1,
   "metadata": {
    "collapsed": false
   },
   "outputs": [
    {
     "name": "stdout",
     "output_type": "stream",
     "text": [
      "Hello!\n",
      "\n"
     ]
    }
   ],
   "source": [
    "# This is a comment (typically single line)\n",
    "\"\"\"\n",
    "Triple quotes are used for large multi-line comments, and\n",
    "typically to document functions and modules (Docstrings)\n",
    "\"\"\"\n",
    "\n",
    "# here is how we print\n",
    "print \"Hello!\"\n",
    "print"
   ]
  },
  {
   "cell_type": "code",
   "execution_count": 2,
   "metadata": {
    "collapsed": false
   },
   "outputs": [
    {
     "name": "stdout",
     "output_type": "stream",
     "text": [
      "Print variables a, b, c 2 8 16\n",
      "\n"
     ]
    }
   ],
   "source": [
    "# here is some math:\n",
    "a = 1+1\t\t# Sum\n",
    "b = 2*4\t\t# Multiplication\n",
    "c = 2**4\t# Exponentiation (2^14 = 16)\n",
    "print \"Print variables a, b, c\", a, b, c\n",
    "print"
   ]
  },
  {
   "cell_type": "code",
   "execution_count": 13,
   "metadata": {
    "collapsed": false
   },
   "outputs": [
    {
     "name": "stdout",
     "output_type": "stream",
     "text": [
      "3 is in the list\n"
     ]
    }
   ],
   "source": [
    "a,b = 10,3\n",
    "my_list = [1, 2, 3, 4]\n",
    "\n",
    "# An if statement: Indentation is critical in python!\n",
    "if a in my_list and b not in my_list:\n",
    "\tprint a, \"is in the list\"\n",
    "elif b in my_list and a not in my_list:\n",
    "\tprint b, \"is in the list\"\n",
    "elif a in my_list and b in my_list:\n",
    "    print \"a \",a,\" and b \",b,\" are both in the list\"\n",
    "else:\n",
    "    print \"Neither\", a, \"or\", b, \"are in in the list\""
   ]
  },
  {
   "cell_type": "code",
   "execution_count": 14,
   "metadata": {
    "collapsed": false
   },
   "outputs": [
    {
     "name": "stdout",
     "output_type": "stream",
     "text": [
      "a  1  and b  3  are both in the list\n"
     ]
    }
   ],
   "source": [
    "a,b=1,3\n",
    "\n",
    "list = [1, 2, 3, 4]\n",
    "\t\t\t\t\t\n",
    "# An if statement: Indentation is critical in python!\n",
    "if a in my_list and b not in my_list:\n",
    "\tprint a, \"is in the list\"\n",
    "elif b in my_list and a not in my_list:\n",
    "\tprint b, \"is in the list\"\n",
    "elif a in my_list and b in my_list:\n",
    "\tprint \"a \",a,\" and b \",b,\" are both in the list\"\n",
    "else:\n",
    "\tprint \"Neither\", a, \"or\", b, \"are in in the list\""
   ]
  },
  {
   "cell_type": "code",
   "execution_count": 2,
   "metadata": {
    "collapsed": false
   },
   "outputs": [
    {
     "name": "stdout",
     "output_type": "stream",
     "text": [
      "\n",
      "range_list is:  [1, 2, 3, 4, 5, 6, 7, 8, 9]\n",
      "\n",
      "\n",
      "the range_list is:  [354, 355, 356, 357, 358, 359, 360, 361, 362]\n",
      "\n"
     ]
    }
   ],
   "source": [
    "## the range function simply returns a list of numbers in the specified range\n",
    "range_list=range(1,10)\n",
    "\n",
    "print\n",
    "print \"range_list is: \", range_list\n",
    "print\n",
    "\n",
    "range_list=range(354,363)\n",
    "\n",
    "print\n",
    "print \"the range_list is: \", range_list\n",
    "print"
   ]
  },
  {
   "cell_type": "code",
   "execution_count": 3,
   "metadata": {
    "collapsed": false
   },
   "outputs": [
    {
     "name": "stdout",
     "output_type": "stream",
     "text": [
      "Loop through integers between 1 and 5:\n",
      "i is:  1\n",
      "i is:  2\n",
      "i is:  3\n",
      "i is:  4\n",
      "Integers between 1 and 5:\n",
      "i is:  1\n",
      "i is:  2\n",
      "i is:  3\n",
      "i is:  4\n",
      "i is:  5\n"
     ]
    }
   ],
   "source": [
    "## the range function is useful for creating for loops\n",
    "print \"Loop through integers between 1 and 5:\"\n",
    "for i in range(1, 5):\n",
    "    print \"i is: \", i\n",
    "\n",
    "# is equivalent to\n",
    "\n",
    "print \"Integers between 1 and 5:\"\n",
    "for i in [1,2,3,4,5]:\n",
    "    print \"i is: \", i"
   ]
  },
  {
   "cell_type": "code",
   "execution_count": 1,
   "metadata": {
    "collapsed": false
   },
   "outputs": [
    {
     "name": "stdout",
     "output_type": "stream",
     "text": [
      "Loop through a list\n",
      "The team is:  Blue Jays\n",
      "The team is:  Yankees\n",
      "The team is:  Red Sox\n",
      "The team is:  Rays\n",
      "The team is:  Orioles\n"
     ]
    }
   ],
   "source": [
    "print \"Loop through a list\"\n",
    "\n",
    "team_list=[\"Blue Jays\", \"Yankees\", \"Red Sox\", \"Rays\", \"Orioles\"]\n",
    "\n",
    "for team in team_list:\n",
    "    print \"The team is: \", team"
   ]
  },
  {
   "cell_type": "code",
   "execution_count": 5,
   "metadata": {
    "collapsed": false
   },
   "outputs": [
    {
     "name": "stdout",
     "output_type": "stream",
     "text": [
      "[Line 09] Python PI= 3.14159265359\n",
      "A random team: Bills\n"
     ]
    }
   ],
   "source": [
    "# Importing a Python module:\n",
    "import math\n",
    "print \"[Line 09]\", \"Python PI=\", math.pi # https://docs.python.org/2/library/math.html\n",
    "\n",
    "\n",
    "# The import statement can occur anywhere in a script\n",
    "my_teams = [\"Blue Jays\", \"Oilers\", \"Raptors\", \"Bills\"]\n",
    "import random\n",
    "print \"A random team:\", random.choice(my_teams) # https://docs.python.org/2/library/random.html"
   ]
  },
  {
   "cell_type": "code",
   "execution_count": 6,
   "metadata": {
    "collapsed": true
   },
   "outputs": [],
   "source": [
    "# Functions are defined with <def>. Return values are\n",
    "# specified by a <return> statement. Here is a function\n",
    "# without arguments:\n",
    "def today():\n",
    "    \"\"\"This function returns a string of today's date\"\"\"\n",
    "    import datetime\t\t# https://docs.python.org/2/library/datetime.html\n",
    "    td = datetime.date.today()\n",
    "    return td"
   ]
  },
  {
   "cell_type": "code",
   "execution_count": 7,
   "metadata": {
    "collapsed": false
   },
   "outputs": [
    {
     "name": "stdout",
     "output_type": "stream",
     "text": [
      "today() returned 2015-11-02\n",
      "str(today()) returned 2015-11-02\n"
     ]
    }
   ],
   "source": [
    "print \"today() returned\", today()\n",
    "print  \"str(today()) returned\", str(today())\t"
   ]
  },
  {
   "cell_type": "code",
   "execution_count": null,
   "metadata": {
    "collapsed": true
   },
   "outputs": [],
   "source": []
  },
  {
   "cell_type": "code",
   "execution_count": 1,
   "metadata": {
    "collapsed": false
   },
   "outputs": [],
   "source": [
    "import numpy as np\n",
    "\n",
    "n=10\n",
    "a_list = range(n)\n",
    "a_array = np.arange(n)"
   ]
  },
  {
   "cell_type": "code",
   "execution_count": 2,
   "metadata": {
    "collapsed": false
   },
   "outputs": [
    {
     "name": "stdout",
     "output_type": "stream",
     "text": [
      "[0, 1, 2, 3, 4, 5, 6, 7, 8, 9]\n",
      "[0 1 2 3 4 5 6 7 8 9]\n"
     ]
    }
   ],
   "source": [
    "print a_list\n",
    "print a_array"
   ]
  },
  {
   "cell_type": "code",
   "execution_count": 3,
   "metadata": {
    "collapsed": false
   },
   "outputs": [
    {
     "name": "stdout",
     "output_type": "stream",
     "text": [
      "[0, 1, 2, 3, 4, 5, 6, 7, 8, 9, 0, 1, 2, 3, 4, 5, 6, 7, 8, 9]\n",
      "[ 0  2  4  6  8 10 12 14 16 18]\n"
     ]
    }
   ],
   "source": [
    "print a_list*2\n",
    "print a_array*2"
   ]
  },
  {
   "cell_type": "code",
   "execution_count": 4,
   "metadata": {
    "collapsed": false
   },
   "outputs": [
    {
     "name": "stdout",
     "output_type": "stream",
     "text": [
      "[0, 1, 2, 3, 4, 5, 6, 7, 8, 9, 'dog']\n"
     ]
    }
   ],
   "source": [
    "a_list.append(\"dog\")\n",
    "print a_list"
   ]
  },
  {
   "cell_type": "code",
   "execution_count": 5,
   "metadata": {
    "collapsed": false
   },
   "outputs": [
    {
     "ename": "AttributeError",
     "evalue": "'numpy.ndarray' object has no attribute 'append'",
     "output_type": "error",
     "traceback": [
      "\u001b[1;31m---------------------------------------------------------------------------\u001b[0m",
      "\u001b[1;31mAttributeError\u001b[0m                            Traceback (most recent call last)",
      "\u001b[1;32m<ipython-input-5-e9864960f5fa>\u001b[0m in \u001b[0;36m<module>\u001b[1;34m()\u001b[0m\n\u001b[1;32m----> 1\u001b[1;33m \u001b[0ma_array\u001b[0m\u001b[1;33m.\u001b[0m\u001b[0mappend\u001b[0m\u001b[1;33m(\u001b[0m\u001b[1;34m\"dog\"\u001b[0m\u001b[1;33m)\u001b[0m\u001b[1;33m\u001b[0m\u001b[0m\n\u001b[0m",
      "\u001b[1;31mAttributeError\u001b[0m: 'numpy.ndarray' object has no attribute 'append'"
     ]
    }
   ],
   "source": [
    "a_array.append(\"dog\")"
   ]
  },
  {
   "cell_type": "code",
   "execution_count": 10,
   "metadata": {
    "collapsed": false
   },
   "outputs": [
    {
     "name": "stdout",
     "output_type": "stream",
     "text": [
      "[0, 1, 2, 3, 4, 5, 6, 7, 8, 9, 'dog', 'dog', 0, 1, 2, 3, 4, 5, 6, 7, 8, 9, 'dog', 'dog', 0, 1, 2, 3, 4, 5, 6, 7, 8, 9, 'dog', 'dog']\n",
      "[ 0  3  6  9 12 15 18 21 24 27]\n"
     ]
    }
   ],
   "source": [
    "mul_list=a_list*3\n",
    "print mul_list\n",
    "mul_array=a_array*3\n",
    "print mul_array"
   ]
  },
  {
   "cell_type": "code",
   "execution_count": 7,
   "metadata": {
    "collapsed": false
   },
   "outputs": [
    {
     "name": "stdout",
     "output_type": "stream",
     "text": [
      "[4 5]\n"
     ]
    }
   ],
   "source": [
    "test=np.arange(4,6)\n",
    "print test"
   ]
  },
  {
   "cell_type": "code",
   "execution_count": 10,
   "metadata": {
    "collapsed": false
   },
   "outputs": [
    {
     "name": "stdout",
     "output_type": "stream",
     "text": [
      "[1 2 3]\n",
      "[4 5 6]\n",
      "[1, 2, 3, 4, 5, 6]\n",
      "[5 7 9]\n"
     ]
    }
   ],
   "source": [
    "list1=[1,2,3]\n",
    "list2=[4,5,6]\n",
    "array1=np.arange(1,4)\n",
    "array2=np.arange(4,7)\n",
    "\n",
    "print array1\n",
    "print array2\n",
    "\n",
    "list3=list1+list2\n",
    "array3=array1+array2\n",
    "\n",
    "print list3\n",
    "print array3"
   ]
  },
  {
   "cell_type": "code",
   "execution_count": 12,
   "metadata": {
    "collapsed": false
   },
   "outputs": [
    {
     "name": "stdout",
     "output_type": "stream",
     "text": [
      "[[20 40]\n",
      " [10 20]]\n",
      "(2, 2)\n"
     ]
    }
   ],
   "source": [
    "array_2d=np.array([[20, 40],[10,20]])\n",
    "print array_2d\n",
    "print array_2d.shape"
   ]
  },
  {
   "cell_type": "code",
   "execution_count": 2,
   "metadata": {
    "collapsed": false
   },
   "outputs": [
    {
     "name": "stdout",
     "output_type": "stream",
     "text": [
      "[233  12 100]\n",
      "(3,)\n"
     ]
    }
   ],
   "source": [
    "import numpy as np\n",
    "\n",
    "array_1d=np.array([233, 12, 100])\n",
    "print array_1d\n",
    "\n",
    "# the shape function show the size of the array\n",
    "print array_1d.shape"
   ]
  },
  {
   "cell_type": "code",
   "execution_count": 14,
   "metadata": {
    "collapsed": false
   },
   "outputs": [
    {
     "name": "stdout",
     "output_type": "stream",
     "text": [
      "[[20 40]\n",
      " [10 20]]\n",
      "(2, 2)\n"
     ]
    }
   ],
   "source": [
    "array_2d=np.array([[20, 40],[10,20]])\n",
    "print array_2d\n",
    "print array_2d.shape"
   ]
  },
  {
   "cell_type": "code",
   "execution_count": 15,
   "metadata": {
    "collapsed": false
   },
   "outputs": [
    {
     "name": "stdout",
     "output_type": "stream",
     "text": [
      "the numbers are 20 40 10 20\n"
     ]
    }
   ],
   "source": [
    "test1=array_2d[0,0]\n",
    "test2=array_2d[0,1]\n",
    "test3=array_2d[1,0]\n",
    "test4=array_2d[1,1]\n",
    "\t\t\t\t\n",
    "print \"the numbers are\",test1,test2,test3,test4"
   ]
  },
  {
   "cell_type": "code",
   "execution_count": 19,
   "metadata": {
    "collapsed": false
   },
   "outputs": [
    {
     "name": "stdout",
     "output_type": "stream",
     "text": [
      "[0 1 2 3]\n",
      "[ 0.  1.  2.  3.]\n"
     ]
    }
   ],
   "source": [
    "int_array=np.array([0,1,2,3], dtype=np.uint16)\n",
    "float32_array=np.array([0,1,2,3], dtype=np.float32)\n",
    "\n",
    "print int_array\n",
    "print float32_array"
   ]
  },
  {
   "cell_type": "code",
   "execution_count": 25,
   "metadata": {
    "collapsed": false
   },
   "outputs": [
    {
     "name": "stdout",
     "output_type": "stream",
     "text": [
      "[ 0  1  2  3  4  5  6  7  8  9 10 11 12 13 14]\n",
      "sliced 4:11 [ 4  5  6  7  8  9 10]\n",
      "sliced 2:12:3: [ 2  5  8 11]\n",
      "indexed -1: 14\n",
      "sliced 2:-10:-2 [8 7 6 5 4 3]\n"
     ]
    }
   ],
   "source": [
    "a=np.arange(15)\n",
    "print a\n",
    "\n",
    "b=a[4:11]\n",
    "print \"sliced 4:11\",b\n",
    "\n",
    "c=a[2:12:3]\n",
    "print \"sliced 2:12:3:\",c\n",
    "\n",
    "d=a[-1]\n",
    "print \"indexed -1:\",d\n",
    "\n",
    "e=a[8:2:-1]\n",
    "print \"sliced 2:-10:-2\",e"
   ]
  },
  {
   "cell_type": "code",
   "execution_count": 28,
   "metadata": {
    "collapsed": false
   },
   "outputs": [
    {
     "name": "stdout",
     "output_type": "stream",
     "text": [
      "before reshaping: \n",
      "[ 0  1  2  3  4  5  6  7  8  9 10 11 12 13 14]\n",
      "(15,)\n",
      "after reshaping: \n",
      "[[ 0  1  2]\n",
      " [ 3  4  5]\n",
      " [ 6  7  8]\n",
      " [ 9 10 11]\n",
      " [12 13 14]]\n",
      "(5, 3)\n"
     ]
    }
   ],
   "source": [
    "a=np.arange(15)\n",
    "\n",
    "print \"before reshaping: \"\n",
    "print a\n",
    "print a.shape\n",
    "\n",
    "a.shape=(5,3)\n",
    "\n",
    "print \"after reshaping: \"\n",
    "print a\n",
    "print a.shape"
   ]
  },
  {
   "cell_type": "code",
   "execution_count": 4,
   "metadata": {
    "collapsed": false
   },
   "outputs": [
    {
     "name": "stdout",
     "output_type": "stream",
     "text": [
      "[[ 0  1  2  3  4]\n",
      " [ 5  6  7  8  9]\n",
      " [10 11 12 13 14]\n",
      " [15 16 17 18 19]]\n",
      "2\n",
      "(4, 5)\n",
      "20\n"
     ]
    }
   ],
   "source": [
    "test_array=np.arange(20).reshape(4,5)\n",
    "print test_array\n",
    "\n",
    "print test_array.ndim\n",
    "print test_array.shape\n",
    "print test_array.size"
   ]
  },
  {
   "cell_type": "code",
   "execution_count": 6,
   "metadata": {
    "collapsed": false
   },
   "outputs": [
    {
     "name": "stdout",
     "output_type": "stream",
     "text": [
      "2\n",
      "(4, 5)\n",
      "20\n",
      "160\n",
      "8\n"
     ]
    }
   ],
   "source": [
    "print test_array.ndim\n",
    "print test_array.shape\n",
    "print test_array.size\n",
    "print test_array.nbytes\n",
    "print test_array.itemsize"
   ]
  },
  {
   "cell_type": "code",
   "execution_count": 7,
   "metadata": {
    "collapsed": false
   },
   "outputs": [
    {
     "name": "stdout",
     "output_type": "stream",
     "text": [
      "[[ 0  5 10 15]\n",
      " [ 1  6 11 16]\n",
      " [ 2  7 12 17]\n",
      " [ 3  8 13 18]\n",
      " [ 4  9 14 19]]\n"
     ]
    }
   ],
   "source": [
    "print test_array.T"
   ]
  },
  {
   "cell_type": "code",
   "execution_count": 8,
   "metadata": {
    "collapsed": false
   },
   "outputs": [
    {
     "name": "stdout",
     "output_type": "stream",
     "text": [
      "(512, 512)\n"
     ]
    }
   ],
   "source": [
    "import scipy.misc\n",
    "import matplotlib.pyplot as plt\n",
    "\n",
    "lena = scipy.misc.lena()\n",
    "print lena.shape\n",
    "\n",
    "plt.imshow(lena)\n",
    "plt.show()"
   ]
  },
  {
   "cell_type": "code",
   "execution_count": 10,
   "metadata": {
    "collapsed": false
   },
   "outputs": [
    {
     "name": "stdout",
     "output_type": "stream",
     "text": [
      "<type 'numpy.ndarray'>\n",
      "(512, 512)\n",
      "int64\n",
      "2\n"
     ]
    }
   ],
   "source": [
    "print type(lena)\n",
    "print lena.shape\n",
    "print lena.dtype\n",
    "print lena.ndim"
   ]
  },
  {
   "cell_type": "code",
   "execution_count": 11,
   "metadata": {
    "collapsed": true
   },
   "outputs": [],
   "source": [
    "test_array=np.arange(10)\n",
    "test_array[ (test_array>3) & (test_array<7)]=15"
   ]
  },
  {
   "cell_type": "code",
   "execution_count": 12,
   "metadata": {
    "collapsed": false
   },
   "outputs": [
    {
     "name": "stdout",
     "output_type": "stream",
     "text": [
      "[ 0  1  2  3 15 15 15  7  8  9]\n"
     ]
    }
   ],
   "source": [
    "print test_array"
   ]
  },
  {
   "cell_type": "code",
   "execution_count": 11,
   "metadata": {
    "collapsed": false
   },
   "outputs": [
    {
     "name": "stdout",
     "output_type": "stream",
     "text": [
      "Content-Type: audio/wav\r\n",
      "Last-Modified: Tue, 12 Aug 2014 15:53:38 GMT\r\n",
      "Accept-Ranges: bytes\r\n",
      "ETag: \"ac20ba9445b6cf1:0\"\r\n",
      "Server: Microsoft-IIS/7.5\r\n",
      "X-Powered-By: ASP.NET\r\n",
      "Date: Sat, 14 Nov 2015 16:43:42 GMT\r\n",
      "Connection: close\r\n",
      "Content-Length: 43642\r\n",
      "\n"
     ]
    }
   ],
   "source": [
    "import scipy.io.wavfile\n",
    "import matplotlib.pyplot as plt\n",
    "import urllib2\n",
    "import numpy as np\n",
    "\n",
    "response = urllib2.urlopen('http://www.thesoundarchive.com/austinpowers/smashingbaby.wav')\n",
    "print response.info()\n",
    "WAV_FILE = 'austin.wav'\n",
    "filehandle = open(WAV_FILE, 'w')\n",
    "filehandle.write(response.read())\n",
    "filehandle.close()"
   ]
  },
  {
   "cell_type": "code",
   "execution_count": 12,
   "metadata": {
    "collapsed": false
   },
   "outputs": [
    {
     "name": "stdout",
     "output_type": "stream",
     "text": [
      "austin.wav\n",
      "Data type uint8 Shape (43584,)\n"
     ]
    }
   ],
   "source": [
    "print WAV_FILE\n",
    "sample_rate, data = scipy.io.wavfile.read('vader.wav')\n",
    "print \"Data type\", data.dtype, \"Shape\", data.shape"
   ]
  },
  {
   "cell_type": "code",
   "execution_count": null,
   "metadata": {
    "collapsed": false
   },
   "outputs": [],
   "source": [
    "plt.title(\"Sound File\")\n",
    "plt.plot(data)\n",
    "plt.show()\n"
   ]
  },
  {
   "cell_type": "code",
   "execution_count": null,
   "metadata": {
    "collapsed": true
   },
   "outputs": [],
   "source": []
  }
 ],
 "metadata": {
  "kernelspec": {
   "display_name": "Python 2",
   "language": "python",
   "name": "python2"
  },
  "language_info": {
   "codemirror_mode": {
    "name": "ipython",
    "version": 2
   },
   "file_extension": ".py",
   "mimetype": "text/x-python",
   "name": "python",
   "nbconvert_exporter": "python",
   "pygments_lexer": "ipython2",
   "version": "2.7.10"
  }
 },
 "nbformat": 4,
 "nbformat_minor": 0
}

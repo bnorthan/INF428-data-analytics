{
 "cells": [
  {
   "cell_type": "code",
   "execution_count": 1,
   "metadata": {
    "collapsed": false
   },
   "outputs": [
    {
     "name": "stdout",
     "output_type": "stream",
     "text": [
      "Hello!\n",
      "\n"
     ]
    }
   ],
   "source": [
    "# This is a comment (typically single line)\n",
    "\"\"\"\n",
    "Triple quotes are used for large multi-line comments, and\n",
    "typically to document functions and modules (Docstrings)\n",
    "\"\"\"\n",
    "\n",
    "# here is how we print\n",
    "print \"Hello!\"\n",
    "print"
   ]
  },
  {
   "cell_type": "code",
   "execution_count": 2,
   "metadata": {
    "collapsed": false
   },
   "outputs": [
    {
     "name": "stdout",
     "output_type": "stream",
     "text": [
      "Print variables a, b, c 2 8 16\n",
      "\n"
     ]
    }
   ],
   "source": [
    "# here is some math:\n",
    "a = 1+1\t\t# Sum\n",
    "b = 2*4\t\t# Multiplication\n",
    "c = 2**4\t# Exponentiation (2^14 = 16)\n",
    "print \"Print variables a, b, c\", a, b, c\n",
    "print"
   ]
  },
  {
   "cell_type": "code",
   "execution_count": 13,
   "metadata": {
    "collapsed": false
   },
   "outputs": [
    {
     "name": "stdout",
     "output_type": "stream",
     "text": [
      "3 is in the list\n"
     ]
    }
   ],
   "source": [
    "a,b = 10,3\n",
    "my_list = [1, 2, 3, 4]\n",
    "\n",
    "# An if statement: Indentation is critical in python!\n",
    "if a in my_list and b not in my_list:\n",
    "\tprint a, \"is in the list\"\n",
    "elif b in my_list and a not in my_list:\n",
    "\tprint b, \"is in the list\"\n",
    "elif a in my_list and b in my_list:\n",
    "    print \"a \",a,\" and b \",b,\" are both in the list\"\n",
    "else:\n",
    "    print \"Neither\", a, \"or\", b, \"are in in the list\""
   ]
  },
  {
   "cell_type": "code",
   "execution_count": 14,
   "metadata": {
    "collapsed": false
   },
   "outputs": [
    {
     "name": "stdout",
     "output_type": "stream",
     "text": [
      "a  1  and b  3  are both in the list\n"
     ]
    }
   ],
   "source": [
    "a,b=1,3\n",
    "\n",
    "list = [1, 2, 3, 4]\n",
    "\t\t\t\t\t\n",
    "# An if statement: Indentation is critical in python!\n",
    "if a in my_list and b not in my_list:\n",
    "\tprint a, \"is in the list\"\n",
    "elif b in my_list and a not in my_list:\n",
    "\tprint b, \"is in the list\"\n",
    "elif a in my_list and b in my_list:\n",
    "\tprint \"a \",a,\" and b \",b,\" are both in the list\"\n",
    "else:\n",
    "\tprint \"Neither\", a, \"or\", b, \"are in in the list\""
   ]
  },
  {
   "cell_type": "code",
   "execution_count": null,
   "metadata": {
    "collapsed": true
   },
   "outputs": [],
   "source": []
  }
 ],
 "metadata": {
  "kernelspec": {
   "display_name": "Python 2",
   "language": "python",
   "name": "python2"
  },
  "language_info": {
   "codemirror_mode": {
    "name": "ipython",
    "version": 2
   },
   "file_extension": ".py",
   "mimetype": "text/x-python",
   "name": "python",
   "nbconvert_exporter": "python",
   "pygments_lexer": "ipython2",
   "version": "2.7.10"
  }
 },
 "nbformat": 4,
 "nbformat_minor": 0
}
